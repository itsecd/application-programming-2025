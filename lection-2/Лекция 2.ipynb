{
  "cells": [
    {
      "cell_type": "markdown",
      "metadata": {},
      "source": [
        "# Лекция 2. Коллекции, функции и исключения"
      ]
    },
    {
      "cell_type": "code",
      "execution_count": null,
      "metadata": {},
      "outputs": [],
      "source": [
        "!python -m venv .venv "
      ]
    },
    {
      "cell_type": "code",
      "execution_count": null,
      "metadata": {},
      "outputs": [],
      "source": [
        "!.venv\\Scripts\\activate"
      ]
    },
    {
      "cell_type": "code",
      "execution_count": null,
      "metadata": {},
      "outputs": [],
      "source": [
        "!.venv\\Scripts\\deactivate"
      ]
    },
    {
      "cell_type": "markdown",
      "metadata": {
        "id": "ROg2sYQohy7Q"
      },
      "source": [
        "## Коллекции"
      ]
    },
    {
      "cell_type": "markdown",
      "metadata": {
        "id": "WsFQrK8Z1kvJ"
      },
      "source": [
        "### **list** (cписок)"
      ]
    },
    {
      "cell_type": "markdown",
      "metadata": {},
      "source": [
        "`list` (список) — это изменяемая, упорядоченная последовательность элементов.\n",
        "\n",
        "Основные свойства:\n",
        "- Упорядоченность — элементы имеют определенный порядок, который сохраняется.\n",
        "- Изменяемость — список можно изменять после создания.\n",
        "- Гетерогенность — может содержать элементы разных типов.\n",
        "- Поддержка дубликатов — поскольку списки индексированы, они могут иметь элементы с одинаковым значением.\n",
        "- Индексирование — доступ к элементам осуществляется по индексу (начинается с 0)."
      ]
    },
    {
      "cell_type": "markdown",
      "metadata": {},
      "source": [
        "#### Создание списка"
      ]
    },
    {
      "cell_type": "markdown",
      "metadata": {},
      "source": [
        "Пустой список:"
      ]
    },
    {
      "cell_type": "code",
      "execution_count": 4,
      "metadata": {},
      "outputs": [
        {
          "data": {
            "text/plain": [
              "[]"
            ]
          },
          "execution_count": 4,
          "metadata": {},
          "output_type": "execute_result"
        }
      ],
      "source": [
        "lst = []\n",
        "lst = list()  # через явный вызов конструктора\n",
        "lst"
      ]
    },
    {
      "cell_type": "markdown",
      "metadata": {},
      "source": [
        "Список, содержащий элементы:"
      ]
    },
    {
      "cell_type": "code",
      "execution_count": 5,
      "metadata": {},
      "outputs": [
        {
          "data": {
            "text/plain": [
              "[1, 2, 3]"
            ]
          },
          "execution_count": 5,
          "metadata": {},
          "output_type": "execute_result"
        }
      ],
      "source": [
        "lst = [1, 2, 3]\n",
        "lst"
      ]
    },
    {
      "cell_type": "code",
      "execution_count": 6,
      "metadata": {},
      "outputs": [
        {
          "data": {
            "text/plain": [
              "['abc', 333, [5.5, 8]]"
            ]
          },
          "execution_count": 6,
          "metadata": {},
          "output_type": "execute_result"
        }
      ],
      "source": [
        "lst = [\"abc\", 333, [5.5, 8]]\n",
        "lst"
      ]
    },
    {
      "cell_type": "code",
      "execution_count": 7,
      "metadata": {},
      "outputs": [
        {
          "data": {
            "text/plain": [
              "['l', 'i', 's', 't']"
            ]
          },
          "execution_count": 7,
          "metadata": {},
          "output_type": "execute_result"
        }
      ],
      "source": [
        "lst = list(\"list\")  # список из строки\n",
        "lst"
      ]
    },
    {
      "cell_type": "markdown",
      "metadata": {},
      "source": [
        "Копирование списка:"
      ]
    },
    {
      "cell_type": "code",
      "execution_count": 8,
      "metadata": {},
      "outputs": [
        {
          "data": {
            "text/plain": [
              "(['l', 'i', 's', 't'], ['i', 's', 't'])"
            ]
          },
          "execution_count": 8,
          "metadata": {},
          "output_type": "execute_result"
        }
      ],
      "source": [
        "lst2 = lst.copy()  # копия списка\n",
        "del lst2[0]\n",
        "lst, lst2  # изменяется только копия"
      ]
    },
    {
      "cell_type": "code",
      "execution_count": 9,
      "metadata": {},
      "outputs": [
        {
          "data": {
            "text/plain": [
              "(['l', 'i', 's', 't'], ['i', 's', 't'])"
            ]
          },
          "execution_count": 9,
          "metadata": {},
          "output_type": "execute_result"
        }
      ],
      "source": [
        "lst2 = list(lst)  # копия списка\n",
        "del lst2[0]\n",
        "lst, lst2  # изменяется только копия"
      ]
    },
    {
      "cell_type": "code",
      "execution_count": 10,
      "metadata": {},
      "outputs": [
        {
          "data": {
            "text/plain": [
              "(['i', 's', 't'], ['i', 's', 't'])"
            ]
          },
          "execution_count": 10,
          "metadata": {},
          "output_type": "execute_result"
        }
      ],
      "source": [
        "lst2 = lst  # в этом случае копия не создаётся и мы ссылаемся на оригинал!\n",
        "del lst2[0]\n",
        "lst, lst2  # меняются и копия и оригинал"
      ]
    },
    {
      "cell_type": "markdown",
      "metadata": {},
      "source": [
        "Создание списка на основе другого списка:"
      ]
    },
    {
      "cell_type": "code",
      "execution_count": 11,
      "metadata": {},
      "outputs": [
        {
          "data": {
            "text/plain": [
              "[0, 1, 0, 1, 0, 1]"
            ]
          },
          "execution_count": 11,
          "metadata": {},
          "output_type": "execute_result"
        }
      ],
      "source": [
        "lst = [0, 1] * 3  # повторение списка\n",
        "lst"
      ]
    },
    {
      "cell_type": "code",
      "execution_count": 12,
      "metadata": {
        "colab": {
          "base_uri": "https://localhost:8080/"
        },
        "id": "VlQbz5iz22Kd",
        "outputId": "56617fbf-3b9b-4b90-b599-ad423d6e974d"
      },
      "outputs": [
        {
          "data": {
            "text/plain": [
              "[0, 1, 2, 3]"
            ]
          },
          "execution_count": 12,
          "metadata": {},
          "output_type": "execute_result"
        }
      ],
      "source": [
        "lst = [0, 1] + [2, 3]  # сложение списков\n",
        "lst"
      ]
    },
    {
      "cell_type": "markdown",
      "metadata": {},
      "source": [
        "Создание списков из других коллекций:"
      ]
    },
    {
      "cell_type": "markdown",
      "metadata": {},
      "source": [
        "Список из кортежа (`tuple`) - конвертируется напрямую без изменений:"
      ]
    },
    {
      "cell_type": "code",
      "execution_count": 13,
      "metadata": {},
      "outputs": [
        {
          "data": {
            "text/plain": [
              "[1, 2, 3]"
            ]
          },
          "execution_count": 13,
          "metadata": {},
          "output_type": "execute_result"
        }
      ],
      "source": [
        "tpl = (1, 2, 3)\n",
        "lst = list(tpl)\n",
        "lst"
      ]
    },
    {
      "cell_type": "markdown",
      "metadata": {},
      "source": [
        "Список из множества (`set`) - также конвертируется напрямую без изменений:"
      ]
    },
    {
      "cell_type": "code",
      "execution_count": 14,
      "metadata": {},
      "outputs": [
        {
          "data": {
            "text/plain": [
              "[1, 2, 3]"
            ]
          },
          "execution_count": 14,
          "metadata": {},
          "output_type": "execute_result"
        }
      ],
      "source": [
        "st = {1, 2, 3}\n",
        "lst = list(st)\n",
        "lst"
      ]
    },
    {
      "cell_type": "markdown",
      "metadata": {},
      "source": [
        "Список из словаря (`dict`) - в список преобразовываются только ключи."
      ]
    },
    {
      "cell_type": "code",
      "execution_count": 15,
      "metadata": {},
      "outputs": [
        {
          "data": {
            "text/plain": [
              "[1, 2]"
            ]
          },
          "execution_count": 15,
          "metadata": {},
          "output_type": "execute_result"
        }
      ],
      "source": [
        "dct = {1: 'a', 2: 'b'}\n",
        "lst = list(dct)\n",
        "lst"
      ]
    },
    {
      "cell_type": "markdown",
      "metadata": {},
      "source": [
        "Можно конвертировать в список кортежей с парами ключ-значение, если вызвать метод `items()`"
      ]
    },
    {
      "cell_type": "code",
      "execution_count": 16,
      "metadata": {},
      "outputs": [
        {
          "data": {
            "text/plain": [
              "[(1, 'a'), (2, 'b')]"
            ]
          },
          "execution_count": 16,
          "metadata": {},
          "output_type": "execute_result"
        }
      ],
      "source": [
        "dct = {1: 'a', 2: 'b'}\n",
        "lst = list(dct.items())\n",
        "lst"
      ]
    },
    {
      "cell_type": "markdown",
      "metadata": {},
      "source": [
        "#### Индексация списков"
      ]
    },
    {
      "cell_type": "code",
      "execution_count": 17,
      "metadata": {},
      "outputs": [],
      "source": [
        "lst = [0, 1, 2, 3, 4]"
      ]
    },
    {
      "cell_type": "code",
      "execution_count": 18,
      "metadata": {},
      "outputs": [
        {
          "data": {
            "text/plain": [
              "0"
            ]
          },
          "execution_count": 18,
          "metadata": {},
          "output_type": "execute_result"
        }
      ],
      "source": [
        "lst[0]  # прямая"
      ]
    },
    {
      "cell_type": "code",
      "execution_count": 19,
      "metadata": {},
      "outputs": [
        {
          "data": {
            "text/plain": [
              "4"
            ]
          },
          "execution_count": 19,
          "metadata": {},
          "output_type": "execute_result"
        }
      ],
      "source": [
        "lst[-1]  # обратная"
      ]
    },
    {
      "cell_type": "code",
      "execution_count": 20,
      "metadata": {},
      "outputs": [
        {
          "data": {
            "text/plain": [
              "[0, 1, 2]"
            ]
          },
          "execution_count": 20,
          "metadata": {},
          "output_type": "execute_result"
        }
      ],
      "source": [
        "lst[0:3]  # срез списка"
      ]
    },
    {
      "cell_type": "code",
      "execution_count": 21,
      "metadata": {},
      "outputs": [
        {
          "data": {
            "text/plain": [
              "[4, 3, 2, 1, 0]"
            ]
          },
          "execution_count": 21,
          "metadata": {},
          "output_type": "execute_result"
        }
      ],
      "source": [
        "lst[::-1]  # разворот списка с помощью среза"
      ]
    },
    {
      "cell_type": "markdown",
      "metadata": {},
      "source": [
        "Выход за допустимый диапазон индексов вызывает исключение `IndexError`:"
      ]
    },
    {
      "cell_type": "code",
      "execution_count": 22,
      "metadata": {},
      "outputs": [
        {
          "ename": "IndexError",
          "evalue": "list index out of range",
          "output_type": "error",
          "traceback": [
            "\u001b[31m---------------------------------------------------------------------------\u001b[39m",
            "\u001b[31mIndexError\u001b[39m                                Traceback (most recent call last)",
            "\u001b[36mCell\u001b[39m\u001b[36m \u001b[39m\u001b[32mIn[22]\u001b[39m\u001b[32m, line 1\u001b[39m\n\u001b[32m----> \u001b[39m\u001b[32m1\u001b[39m \u001b[43mlst\u001b[49m\u001b[43m[\u001b[49m\u001b[32;43m10\u001b[39;49m\u001b[43m]\u001b[49m\n",
            "\u001b[31mIndexError\u001b[39m: list index out of range"
          ]
        }
      ],
      "source": [
        "lst[10]"
      ]
    },
    {
      "cell_type": "markdown",
      "metadata": {},
      "source": [
        "Однако, в случае со срезами всё отработает корректно и ошибки не возникнет:"
      ]
    },
    {
      "cell_type": "code",
      "execution_count": 23,
      "metadata": {},
      "outputs": [
        {
          "data": {
            "text/plain": [
              "[0, 1, 2, 3, 4]"
            ]
          },
          "execution_count": 23,
          "metadata": {},
          "output_type": "execute_result"
        }
      ],
      "source": [
        "lst[:10]  # срез до последнего элемента"
      ]
    },
    {
      "cell_type": "code",
      "execution_count": 24,
      "metadata": {},
      "outputs": [
        {
          "data": {
            "text/plain": [
              "[]"
            ]
          },
          "execution_count": 24,
          "metadata": {},
          "output_type": "execute_result"
        }
      ],
      "source": [
        "lst[10:]  # пустой список, т.к. элементов меньше 10"
      ]
    },
    {
      "cell_type": "markdown",
      "metadata": {},
      "source": [
        "#### Операции со списками"
      ]
    },
    {
      "cell_type": "markdown",
      "metadata": {},
      "source": [
        "##### Разложение:"
      ]
    },
    {
      "cell_type": "code",
      "execution_count": 25,
      "metadata": {
        "colab": {
          "base_uri": "https://localhost:8080/"
        },
        "id": "0O424Wtk5iky",
        "outputId": "732b1298-2301-4753-dc50-9390298b7ebf"
      },
      "outputs": [
        {
          "data": {
            "text/plain": [
              "('Ivan', 20)"
            ]
          },
          "execution_count": 25,
          "metadata": {},
          "output_type": "execute_result"
        }
      ],
      "source": [
        "info = [\"Ivan\", 20]\n",
        "name, age = info  # записываем элементы списка в отдельные переменные\n",
        "name, age"
      ]
    },
    {
      "cell_type": "markdown",
      "metadata": {},
      "source": [
        "Если переменных больше, чем элементов списка, то возникнет исключение `ValueError`:"
      ]
    },
    {
      "cell_type": "code",
      "execution_count": 26,
      "metadata": {},
      "outputs": [
        {
          "ename": "ValueError",
          "evalue": "not enough values to unpack (expected 3, got 2)",
          "output_type": "error",
          "traceback": [
            "\u001b[31m---------------------------------------------------------------------------\u001b[39m",
            "\u001b[31mValueError\u001b[39m                                Traceback (most recent call last)",
            "\u001b[36mCell\u001b[39m\u001b[36m \u001b[39m\u001b[32mIn[26]\u001b[39m\u001b[32m, line 2\u001b[39m\n\u001b[32m      1\u001b[39m info = [\u001b[33m\"\u001b[39m\u001b[33mIvan\u001b[39m\u001b[33m\"\u001b[39m, \u001b[32m20\u001b[39m]\n\u001b[32m----> \u001b[39m\u001b[32m2\u001b[39m name, age, \u001b[38;5;28mid\u001b[39m = info\n\u001b[32m      3\u001b[39m name, age\n",
            "\u001b[31mValueError\u001b[39m: not enough values to unpack (expected 3, got 2)"
          ]
        }
      ],
      "source": [
        "info = [\"Ivan\", 20]\n",
        "name, age, id = info\n",
        "name, age"
      ]
    },
    {
      "cell_type": "markdown",
      "metadata": {},
      "source": [
        "Если переменных меньше, то возникнет аналогичное исключение:"
      ]
    },
    {
      "cell_type": "code",
      "execution_count": 27,
      "metadata": {},
      "outputs": [
        {
          "ename": "ValueError",
          "evalue": "too many values to unpack (expected 2)",
          "output_type": "error",
          "traceback": [
            "\u001b[31m---------------------------------------------------------------------------\u001b[39m",
            "\u001b[31mValueError\u001b[39m                                Traceback (most recent call last)",
            "\u001b[36mCell\u001b[39m\u001b[36m \u001b[39m\u001b[32mIn[27]\u001b[39m\u001b[32m, line 2\u001b[39m\n\u001b[32m      1\u001b[39m info = [\u001b[33m\"\u001b[39m\u001b[33mIvan\u001b[39m\u001b[33m\"\u001b[39m, \u001b[32m20\u001b[39m, \u001b[32m123\u001b[39m]\n\u001b[32m----> \u001b[39m\u001b[32m2\u001b[39m name, age = info\n\u001b[32m      3\u001b[39m name, age\n",
            "\u001b[31mValueError\u001b[39m: too many values to unpack (expected 2)"
          ]
        }
      ],
      "source": [
        "info = [\"Ivan\", 20, 123]\n",
        "name, age = info\n",
        "name, age"
      ]
    },
    {
      "cell_type": "markdown",
      "metadata": {},
      "source": [
        "Если нам нужны не все элементы списка, то нужно использовать заглушку `_`:"
      ]
    },
    {
      "cell_type": "code",
      "execution_count": 28,
      "metadata": {},
      "outputs": [
        {
          "data": {
            "text/plain": [
              "('Ivan', 20)"
            ]
          },
          "execution_count": 28,
          "metadata": {},
          "output_type": "execute_result"
        }
      ],
      "source": [
        "info = [\"Ivan\", 20, 123]\n",
        "name, age, _ = info\n",
        "name, age"
      ]
    },
    {
      "cell_type": "markdown",
      "metadata": {},
      "source": [
        "##### Сравнение:"
      ]
    },
    {
      "cell_type": "markdown",
      "metadata": {},
      "source": [
        "Списки сравниваются поэлементно, порядок элементов учитывается:"
      ]
    },
    {
      "cell_type": "code",
      "execution_count": 29,
      "metadata": {},
      "outputs": [
        {
          "data": {
            "text/plain": [
              "True"
            ]
          },
          "execution_count": 29,
          "metadata": {},
          "output_type": "execute_result"
        }
      ],
      "source": [
        "[0, 1, 2] == [0, 1, 2]"
      ]
    },
    {
      "cell_type": "code",
      "execution_count": 30,
      "metadata": {},
      "outputs": [
        {
          "data": {
            "text/plain": [
              "False"
            ]
          },
          "execution_count": 30,
          "metadata": {},
          "output_type": "execute_result"
        }
      ],
      "source": [
        "[0, 1, 2] == [2, 1, 0]"
      ]
    },
    {
      "cell_type": "markdown",
      "metadata": {},
      "source": [
        "При использовании операторов `>` или `<` списки сравниваются **лексикографически** (аналогично строкам):"
      ]
    },
    {
      "cell_type": "code",
      "execution_count": 31,
      "metadata": {},
      "outputs": [
        {
          "data": {
            "text/plain": [
              "True"
            ]
          },
          "execution_count": 31,
          "metadata": {},
          "output_type": "execute_result"
        }
      ],
      "source": [
        "[1, 2, 3] > [1, 1, 1]"
      ]
    },
    {
      "cell_type": "code",
      "execution_count": 32,
      "metadata": {},
      "outputs": [
        {
          "data": {
            "text/plain": [
              "True"
            ]
          },
          "execution_count": 32,
          "metadata": {},
          "output_type": "execute_result"
        }
      ],
      "source": [
        "[1, 2, 3] > [1, 2]"
      ]
    },
    {
      "cell_type": "markdown",
      "metadata": {},
      "source": [
        "Для вложенных списков сравнение работает **рекурсивно**:"
      ]
    },
    {
      "cell_type": "code",
      "execution_count": 33,
      "metadata": {},
      "outputs": [
        {
          "data": {
            "text/plain": [
              "True"
            ]
          },
          "execution_count": 33,
          "metadata": {},
          "output_type": "execute_result"
        }
      ],
      "source": [
        "[1, [2, 3], 4] < [1, [2, 4], 4]  # 3 < 4 во вложенном списке"
      ]
    },
    {
      "cell_type": "markdown",
      "metadata": {},
      "source": [
        "Сравнение списков с разными типами элементов может вызывать ошибку `TypeError`:"
      ]
    },
    {
      "cell_type": "code",
      "execution_count": 34,
      "metadata": {},
      "outputs": [
        {
          "ename": "TypeError",
          "evalue": "'>' not supported between instances of 'str' and 'int'",
          "output_type": "error",
          "traceback": [
            "\u001b[31m---------------------------------------------------------------------------\u001b[39m",
            "\u001b[31mTypeError\u001b[39m                                 Traceback (most recent call last)",
            "\u001b[36mCell\u001b[39m\u001b[36m \u001b[39m\u001b[32mIn[34]\u001b[39m\u001b[32m, line 1\u001b[39m\n\u001b[32m----> \u001b[39m\u001b[32m1\u001b[39m \u001b[43m[\u001b[49m\u001b[33;43m'\u001b[39;49m\u001b[33;43ma\u001b[39;49m\u001b[33;43m'\u001b[39;49m\u001b[43m,\u001b[49m\u001b[43m \u001b[49m\u001b[33;43m'\u001b[39;49m\u001b[33;43mb\u001b[39;49m\u001b[33;43m'\u001b[39;49m\u001b[43m]\u001b[49m\u001b[43m \u001b[49m\u001b[43m>\u001b[49m\u001b[43m \u001b[49m\u001b[43m[\u001b[49m\u001b[32;43m1\u001b[39;49m\u001b[43m,\u001b[49m\u001b[43m \u001b[49m\u001b[32;43m2\u001b[39;49m\u001b[43m]\u001b[49m  \u001b[38;5;66;03m# попытка лексикографического сравнения элементов\u001b[39;00m\n",
            "\u001b[31mTypeError\u001b[39m: '>' not supported between instances of 'str' and 'int'"
          ]
        }
      ],
      "source": [
        "['a', 'b'] > [1, 2]  # попытка лексикографического сравнения элементов"
      ]
    },
    {
      "cell_type": "code",
      "execution_count": 35,
      "metadata": {},
      "outputs": [
        {
          "data": {
            "text/plain": [
              "False"
            ]
          },
          "execution_count": 35,
          "metadata": {},
          "output_type": "execute_result"
        }
      ],
      "source": [
        "['a', 'b'] == [1, 2]  # ошибки нет, проверка на равенство"
      ]
    },
    {
      "cell_type": "markdown",
      "metadata": {},
      "source": [
        "#### Перебор списка"
      ]
    },
    {
      "cell_type": "code",
      "execution_count": 36,
      "metadata": {},
      "outputs": [],
      "source": [
        "lst = [1, 2, 3, 4, 5]"
      ]
    },
    {
      "cell_type": "markdown",
      "metadata": {},
      "source": [
        "Перебор по значениям:"
      ]
    },
    {
      "cell_type": "code",
      "execution_count": 37,
      "metadata": {},
      "outputs": [
        {
          "name": "stdout",
          "output_type": "stream",
          "text": [
            "1 2 3 4 5 "
          ]
        }
      ],
      "source": [
        "for item in lst:\n",
        "    print(item, end=\" \")  # item - копия элемента!"
      ]
    },
    {
      "cell_type": "markdown",
      "metadata": {},
      "source": [
        "Перебор через индексы:"
      ]
    },
    {
      "cell_type": "code",
      "execution_count": 38,
      "metadata": {},
      "outputs": [
        {
          "name": "stdout",
          "output_type": "stream",
          "text": [
            "1 2 3 4 5 "
          ]
        }
      ],
      "source": [
        "for i in range(len(lst)):\n",
        "    print(lst[i], end=\" \")"
      ]
    },
    {
      "cell_type": "markdown",
      "metadata": {},
      "source": [
        "#### Методы списка"
      ]
    },
    {
      "cell_type": "markdown",
      "metadata": {},
      "source": [
        "##### Добавление элемента"
      ]
    },
    {
      "cell_type": "markdown",
      "metadata": {},
      "source": [
        "`append(item: object)` - добавление элемента в конец"
      ]
    },
    {
      "cell_type": "code",
      "execution_count": 39,
      "metadata": {},
      "outputs": [
        {
          "data": {
            "text/plain": [
              "[0, 1, 2, 3, 4, 5]"
            ]
          },
          "execution_count": 39,
          "metadata": {},
          "output_type": "execute_result"
        }
      ],
      "source": [
        "lst = [0, 1, 2, 3, 4]\n",
        "\n",
        "lst.append(5)\n",
        "lst"
      ]
    },
    {
      "cell_type": "markdown",
      "metadata": {},
      "source": [
        "`insert(index: int, item: object)` - вставка элемент по индексу. Принимает два аргумента - позицию элемента (индекс) и сам элемент."
      ]
    },
    {
      "cell_type": "code",
      "execution_count": 40,
      "metadata": {},
      "outputs": [
        {
          "data": {
            "text/plain": [
              "[0, 1, 2, 3, 4, -1]"
            ]
          },
          "execution_count": 40,
          "metadata": {},
          "output_type": "execute_result"
        }
      ],
      "source": [
        "lst = [0, 1, 2, 3, 4]\n",
        "\n",
        "lst.insert(5, -1)\n",
        "lst"
      ]
    },
    {
      "cell_type": "markdown",
      "metadata": {},
      "source": [
        "`extend(iterable)` - расширение списка другим итерируемым объектом. Добавляет новые элементы в конец."
      ]
    },
    {
      "cell_type": "code",
      "execution_count": 41,
      "metadata": {
        "colab": {
          "base_uri": "https://localhost:8080/"
        },
        "id": "HYne5p9s6v-m",
        "outputId": "cb8e5e4f-c173-4d6a-9a74-040bec658151"
      },
      "outputs": [
        {
          "data": {
            "text/plain": [
              "[0, 1, 2, 3, 4, 5, 6]"
            ]
          },
          "execution_count": 41,
          "metadata": {},
          "output_type": "execute_result"
        }
      ],
      "source": [
        "lst = [0, 1, 2, 3, 4]\n",
        "\n",
        "lst.extend([5, 6])\n",
        "lst"
      ]
    },
    {
      "cell_type": "markdown",
      "metadata": {},
      "source": [
        "Отличия `extend` от `append` и `+`:"
      ]
    },
    {
      "cell_type": "code",
      "execution_count": 42,
      "metadata": {},
      "outputs": [
        {
          "data": {
            "text/plain": [
              "[0, 1, 2, 3, 4, [5, 6]]"
            ]
          },
          "execution_count": 42,
          "metadata": {},
          "output_type": "execute_result"
        }
      ],
      "source": [
        "lst = [0, 1, 2, 3, 4]\n",
        "\n",
        "# добавленный список становится последним элементом списка\n",
        "lst.append([5, 6])\n",
        "lst"
      ]
    },
    {
      "cell_type": "code",
      "execution_count": 43,
      "metadata": {},
      "outputs": [
        {
          "data": {
            "text/plain": [
              "([0, 1, 2, 3, 4], [0, 1, 2, 3, 4, 5, 6])"
            ]
          },
          "execution_count": 43,
          "metadata": {},
          "output_type": "execute_result"
        }
      ],
      "source": [
        "lst = [0, 1, 2, 3, 4]\n",
        "\n",
        "# создаётся новый список, при этом, старый список не меняется\n",
        "lst2 = lst + [5, 6]\n",
        "lst, lst2"
      ]
    },
    {
      "cell_type": "markdown",
      "metadata": {},
      "source": [
        "##### Удаление элементов"
      ]
    },
    {
      "cell_type": "markdown",
      "metadata": {},
      "source": [
        "`del` - удаление элемента по индексу."
      ]
    },
    {
      "cell_type": "code",
      "execution_count": 44,
      "metadata": {},
      "outputs": [
        {
          "data": {
            "text/plain": [
              "[1, 2, 3]"
            ]
          },
          "execution_count": 44,
          "metadata": {},
          "output_type": "execute_result"
        }
      ],
      "source": [
        "lst = [0, 1, 2, 3]\n",
        "\n",
        "del lst[0]\n",
        "lst"
      ]
    },
    {
      "cell_type": "markdown",
      "metadata": {},
      "source": [
        "`remove(item: object)` - удаление первого вхождения элемента."
      ]
    },
    {
      "cell_type": "code",
      "execution_count": 45,
      "metadata": {},
      "outputs": [
        {
          "data": {
            "text/plain": [
              "[0, 1, 3, 4, 2]"
            ]
          },
          "execution_count": 45,
          "metadata": {},
          "output_type": "execute_result"
        }
      ],
      "source": [
        "lst = [0, 1, 2, 3, 4, 2]\n",
        "\n",
        "lst.remove(2)\n",
        "lst"
      ]
    },
    {
      "cell_type": "markdown",
      "metadata": {},
      "source": [
        "Попытка удаления несуществующего элемента приведёт к ошибке `ValueError`:"
      ]
    },
    {
      "cell_type": "code",
      "execution_count": 46,
      "metadata": {},
      "outputs": [
        {
          "ename": "ValueError",
          "evalue": "list.remove(x): x not in list",
          "output_type": "error",
          "traceback": [
            "\u001b[31m---------------------------------------------------------------------------\u001b[39m",
            "\u001b[31mValueError\u001b[39m                                Traceback (most recent call last)",
            "\u001b[36mCell\u001b[39m\u001b[36m \u001b[39m\u001b[32mIn[46]\u001b[39m\u001b[32m, line 3\u001b[39m\n\u001b[32m      1\u001b[39m lst = [\u001b[32m0\u001b[39m, \u001b[32m1\u001b[39m, \u001b[32m2\u001b[39m, \u001b[32m3\u001b[39m, \u001b[32m4\u001b[39m, \u001b[32m2\u001b[39m]\n\u001b[32m----> \u001b[39m\u001b[32m3\u001b[39m \u001b[43mlst\u001b[49m\u001b[43m.\u001b[49m\u001b[43mremove\u001b[49m\u001b[43m(\u001b[49m\u001b[32;43m5\u001b[39;49m\u001b[43m)\u001b[49m\n\u001b[32m      4\u001b[39m lst\n",
            "\u001b[31mValueError\u001b[39m: list.remove(x): x not in list"
          ]
        }
      ],
      "source": [
        "lst = [0, 1, 2, 3, 4, 2]\n",
        "\n",
        "lst.remove(5)\n",
        "lst"
      ]
    },
    {
      "cell_type": "markdown",
      "metadata": {},
      "source": [
        "`pop([index: int])` - удаление элемента по индексу и возврат его значения. `index` - необязательный аргумент, если его не указывать, то удалится последний элемент."
      ]
    },
    {
      "cell_type": "code",
      "execution_count": 48,
      "metadata": {},
      "outputs": [
        {
          "data": {
            "text/plain": [
              "([2, 3], 1)"
            ]
          },
          "execution_count": 48,
          "metadata": {},
          "output_type": "execute_result"
        }
      ],
      "source": [
        "lst = [0, 1, 2, 3, 4]\n",
        "\n",
        "lst.pop()\n",
        "lst.pop(0)\n",
        "item = lst.pop(-3)\n",
        "lst, item"
      ]
    },
    {
      "cell_type": "markdown",
      "metadata": {},
      "source": [
        "Попытка удаления несуществующего элемента приведёт к ошибке `IndexError`:"
      ]
    },
    {
      "cell_type": "code",
      "execution_count": 49,
      "metadata": {},
      "outputs": [
        {
          "ename": "IndexError",
          "evalue": "pop index out of range",
          "output_type": "error",
          "traceback": [
            "\u001b[31m---------------------------------------------------------------------------\u001b[39m",
            "\u001b[31mIndexError\u001b[39m                                Traceback (most recent call last)",
            "\u001b[36mCell\u001b[39m\u001b[36m \u001b[39m\u001b[32mIn[49]\u001b[39m\u001b[32m, line 3\u001b[39m\n\u001b[32m      1\u001b[39m lst = [\u001b[32m0\u001b[39m, \u001b[32m1\u001b[39m, \u001b[32m2\u001b[39m, \u001b[32m3\u001b[39m, \u001b[32m4\u001b[39m]\n\u001b[32m----> \u001b[39m\u001b[32m3\u001b[39m \u001b[43mlst\u001b[49m\u001b[43m.\u001b[49m\u001b[43mpop\u001b[49m\u001b[43m(\u001b[49m\u001b[32;43m10\u001b[39;49m\u001b[43m)\u001b[49m\n\u001b[32m      4\u001b[39m lst\n",
            "\u001b[31mIndexError\u001b[39m: pop index out of range"
          ]
        }
      ],
      "source": [
        "lst = [0, 1, 2, 3, 4]\n",
        "\n",
        "lst.pop(10)\n",
        "lst"
      ]
    },
    {
      "cell_type": "markdown",
      "metadata": {},
      "source": [
        "`clear()` - очистка всего списка."
      ]
    },
    {
      "cell_type": "code",
      "execution_count": 50,
      "metadata": {},
      "outputs": [
        {
          "data": {
            "text/plain": [
              "[]"
            ]
          },
          "execution_count": 50,
          "metadata": {},
          "output_type": "execute_result"
        }
      ],
      "source": [
        "lst = [0, 1, 2, 3, 4]\n",
        "\n",
        "lst.clear()\n",
        "lst"
      ]
    },
    {
      "cell_type": "markdown",
      "metadata": {},
      "source": [
        "##### Поиск и подсчёт элементов"
      ]
    },
    {
      "cell_type": "markdown",
      "metadata": {},
      "source": [
        "`index(item: ibject [, start: int[, end: int]])` - поиск индекса элемента. Аргументы `start` и `end` необязательные и означают индекс, с которого нужно начинать поиск, и индекс, до которого нужно искать элемент."
      ]
    },
    {
      "cell_type": "code",
      "execution_count": 51,
      "metadata": {},
      "outputs": [
        {
          "data": {
            "text/plain": [
              "1"
            ]
          },
          "execution_count": 51,
          "metadata": {},
          "output_type": "execute_result"
        }
      ],
      "source": [
        "lst = [1, 2, 3, 4, 2, 6, 2]\n",
        "\n",
        "index = lst.index(2)\n",
        "index"
      ]
    },
    {
      "cell_type": "code",
      "execution_count": 52,
      "metadata": {},
      "outputs": [
        {
          "data": {
            "text/plain": [
              "4"
            ]
          },
          "execution_count": 52,
          "metadata": {},
          "output_type": "execute_result"
        }
      ],
      "source": [
        "lst = [1, 2, 3, 4, 2, 6, 2]\n",
        "\n",
        "index = lst.index(2, 2, 5)\n",
        "index"
      ]
    },
    {
      "cell_type": "markdown",
      "metadata": {},
      "source": [
        "Если элемент не найден, то метод вызовет исключение `ValueError`:"
      ]
    },
    {
      "cell_type": "code",
      "execution_count": 53,
      "metadata": {},
      "outputs": [
        {
          "ename": "ValueError",
          "evalue": "10 is not in list",
          "output_type": "error",
          "traceback": [
            "\u001b[31m---------------------------------------------------------------------------\u001b[39m",
            "\u001b[31mValueError\u001b[39m                                Traceback (most recent call last)",
            "\u001b[36mCell\u001b[39m\u001b[36m \u001b[39m\u001b[32mIn[53]\u001b[39m\u001b[32m, line 3\u001b[39m\n\u001b[32m      1\u001b[39m lst = [\u001b[32m1\u001b[39m, \u001b[32m2\u001b[39m, \u001b[32m3\u001b[39m, \u001b[32m4\u001b[39m, \u001b[32m2\u001b[39m, \u001b[32m6\u001b[39m, \u001b[32m2\u001b[39m]\n\u001b[32m----> \u001b[39m\u001b[32m3\u001b[39m index = \u001b[43mlst\u001b[49m\u001b[43m.\u001b[49m\u001b[43mindex\u001b[49m\u001b[43m(\u001b[49m\u001b[32;43m10\u001b[39;49m\u001b[43m)\u001b[49m\n\u001b[32m      4\u001b[39m index\n",
            "\u001b[31mValueError\u001b[39m: 10 is not in list"
          ]
        }
      ],
      "source": [
        "lst = [1, 2, 3, 4, 2, 6, 2]\n",
        "\n",
        "index = lst.index(10)\n",
        "index"
      ]
    },
    {
      "cell_type": "markdown",
      "metadata": {},
      "source": [
        "`count(item: object)` - подсчёт количества вхождений элемента."
      ]
    },
    {
      "cell_type": "code",
      "execution_count": 54,
      "metadata": {},
      "outputs": [
        {
          "data": {
            "text/plain": [
              "3"
            ]
          },
          "execution_count": 54,
          "metadata": {},
          "output_type": "execute_result"
        }
      ],
      "source": [
        "lst = [1, 2, 3, 4, 2, 6, 2]\n",
        "\n",
        "count = lst.count(2)\n",
        "count"
      ]
    },
    {
      "cell_type": "markdown",
      "metadata": {},
      "source": [
        "##### Сортировка и изменение порядка"
      ]
    },
    {
      "cell_type": "markdown",
      "metadata": {},
      "source": [
        "`sort(key=None, reverse=False)` - сортировка. По умолчанию список сортируется в порядке возрастания (лексикографически). `reverse` меняет порядок сортировки. `key` - функция с условием сортировки."
      ]
    },
    {
      "cell_type": "code",
      "execution_count": 55,
      "metadata": {},
      "outputs": [
        {
          "data": {
            "text/plain": [
              "[1, 1, 2, 3, 4, 5, 9]"
            ]
          },
          "execution_count": 55,
          "metadata": {},
          "output_type": "execute_result"
        }
      ],
      "source": [
        "lst = [3, 1, 4, 1, 5, 9, 2]\n",
        "\n",
        "lst.sort()\n",
        "lst"
      ]
    },
    {
      "cell_type": "code",
      "execution_count": 56,
      "metadata": {},
      "outputs": [
        {
          "data": {
            "text/plain": [
              "[9, 5, 4, 3, 2, 1, 1]"
            ]
          },
          "execution_count": 56,
          "metadata": {},
          "output_type": "execute_result"
        }
      ],
      "source": [
        "lst = [3, 1, 4, 1, 5, 9, 2]\n",
        "\n",
        "lst.sort(reverse=True)\n",
        "lst"
      ]
    },
    {
      "cell_type": "code",
      "execution_count": 57,
      "metadata": {},
      "outputs": [
        {
          "data": {
            "text/plain": [
              "['ffff', '12345', 'abcdde']"
            ]
          },
          "execution_count": 57,
          "metadata": {},
          "output_type": "execute_result"
        }
      ],
      "source": [
        "lst = ['abcdde', 'ffff', '12345']\n",
        "\n",
        "# сортировка с помощью функции len (по длине строки)\n",
        "lst.sort(key=len)\n",
        "lst"
      ]
    },
    {
      "cell_type": "markdown",
      "metadata": {},
      "source": [
        "`reverse()` - обратный порядок элементов."
      ]
    },
    {
      "cell_type": "code",
      "execution_count": 58,
      "metadata": {},
      "outputs": [
        {
          "data": {
            "text/plain": [
              "[3, 2, 1]"
            ]
          },
          "execution_count": 58,
          "metadata": {},
          "output_type": "execute_result"
        }
      ],
      "source": [
        "lst = [1, 2, 3]\n",
        "\n",
        "lst.reverse()\n",
        "lst"
      ]
    },
    {
      "cell_type": "markdown",
      "metadata": {
        "id": "KCl5u17UBKqr"
      },
      "source": [
        "### **tuple** (кортеж)"
      ]
    },
    {
      "cell_type": "markdown",
      "metadata": {},
      "source": [
        "`tuple` (кортеж) — это неизменяемая, упорядоченная последовательность элементов.\n",
        "Имеет смойства аналогичные списку, за исключением неизменяемости."
      ]
    },
    {
      "cell_type": "markdown",
      "metadata": {},
      "source": [
        "#### Создание кортежей"
      ]
    },
    {
      "cell_type": "markdown",
      "metadata": {},
      "source": [
        "Пустой кортеж:"
      ]
    },
    {
      "cell_type": "code",
      "execution_count": 59,
      "metadata": {},
      "outputs": [
        {
          "data": {
            "text/plain": [
              "()"
            ]
          },
          "execution_count": 59,
          "metadata": {},
          "output_type": "execute_result"
        }
      ],
      "source": [
        "tpl = ()\n",
        "tpl = tuple()  # через явный вызов конструктора\n",
        "\n",
        "tpl"
      ]
    },
    {
      "cell_type": "markdown",
      "metadata": {},
      "source": [
        "Кортеж, содержащий элементы:"
      ]
    },
    {
      "cell_type": "code",
      "execution_count": 60,
      "metadata": {},
      "outputs": [
        {
          "data": {
            "text/plain": [
              "(1, 2, 3)"
            ]
          },
          "execution_count": 60,
          "metadata": {},
          "output_type": "execute_result"
        }
      ],
      "source": [
        "tpl = (1, 2, 3)\n",
        "tpl"
      ]
    },
    {
      "cell_type": "code",
      "execution_count": 61,
      "metadata": {},
      "outputs": [
        {
          "data": {
            "text/plain": [
              "(1, 2, 3)"
            ]
          },
          "execution_count": 61,
          "metadata": {},
          "output_type": "execute_result"
        }
      ],
      "source": [
        "tpl = 1, 2, 3  # можно без скобок\n",
        "tpl"
      ]
    },
    {
      "cell_type": "markdown",
      "metadata": {},
      "source": [
        "Кортеж с одним элементом:"
      ]
    },
    {
      "cell_type": "code",
      "execution_count": 62,
      "metadata": {},
      "outputs": [
        {
          "data": {
            "text/plain": [
              "(tuple, int)"
            ]
          },
          "execution_count": 62,
          "metadata": {},
          "output_type": "execute_result"
        }
      ],
      "source": [
        "tpl1 = (1,)  # правильно\n",
        "tpl2 = (1)  # неправильно\n",
        "\n",
        "type(tpl1), type(tpl2)"
      ]
    },
    {
      "cell_type": "markdown",
      "metadata": {},
      "source": [
        "Копирование:"
      ]
    },
    {
      "cell_type": "code",
      "execution_count": 63,
      "metadata": {},
      "outputs": [
        {
          "data": {
            "text/plain": [
              "(2160995779992, 2160995779992)"
            ]
          },
          "execution_count": 63,
          "metadata": {},
          "output_type": "execute_result"
        }
      ],
      "source": [
        "tpl = (1, 2, 3)\n",
        "tpl2 = tuple(tpl)\n",
        "\n",
        "# проверяем адреса элементов\n",
        "import ctypes\n",
        "ctypes.addressof(ctypes.py_object(tpl)), ctypes.addressof(ctypes.py_object(tpl2))"
      ]
    },
    {
      "cell_type": "code",
      "execution_count": 64,
      "metadata": {},
      "outputs": [
        {
          "data": {
            "text/plain": [
              "(2160995374872, 2160995374872)"
            ]
          },
          "execution_count": 64,
          "metadata": {},
          "output_type": "execute_result"
        }
      ],
      "source": [
        "tpl = (1, 2, 3)\n",
        "tpl2 = tpl\n",
        "\n",
        "# проверяем адреса элементов\n",
        "import ctypes\n",
        "ctypes.addressof(ctypes.py_object(tpl)), ctypes.addressof(ctypes.py_object(tpl2))"
      ]
    },
    {
      "cell_type": "markdown",
      "metadata": {},
      "source": [
        "Из кода выше мы можем убедиться, что кортеж нельзя скопировать специально, тем не менее, оба способа допустимы, ведь кортеж неизменяемый."
      ]
    },
    {
      "cell_type": "markdown",
      "metadata": {},
      "source": [
        "**Конкатенация, дублирование, создание кортежей из других коллекций, индексация, сравнение, разложение и перебор кортежей аналогично спискам.**"
      ]
    },
    {
      "cell_type": "markdown",
      "metadata": {},
      "source": [
        "#### Методы кортежа"
      ]
    },
    {
      "cell_type": "markdown",
      "metadata": {},
      "source": [
        "`index` - поиск элемента по индексу."
      ]
    },
    {
      "cell_type": "code",
      "execution_count": 65,
      "metadata": {},
      "outputs": [
        {
          "data": {
            "text/plain": [
              "1"
            ]
          },
          "execution_count": 65,
          "metadata": {},
          "output_type": "execute_result"
        }
      ],
      "source": [
        "tpl = (1, 2, 3)\n",
        "\n",
        "index = tpl.index(2)\n",
        "index"
      ]
    },
    {
      "cell_type": "markdown",
      "metadata": {},
      "source": [
        "`count` - подсчёт вхождений элемента."
      ]
    },
    {
      "cell_type": "code",
      "execution_count": 66,
      "metadata": {
        "colab": {
          "base_uri": "https://localhost:8080/"
        },
        "id": "IIBDOdabC7-J",
        "outputId": "eab10552-6434-44e1-b624-c9ddb4a74ba6"
      },
      "outputs": [
        {
          "data": {
            "text/plain": [
              "2"
            ]
          },
          "execution_count": 66,
          "metadata": {},
          "output_type": "execute_result"
        }
      ],
      "source": [
        "tpl = (1, 2, 3, 4, 3)\n",
        "\n",
        "count = tpl.count(3)\n",
        "count"
      ]
    },
    {
      "cell_type": "markdown",
      "metadata": {
        "id": "L6lx5xZCFxvr"
      },
      "source": [
        "### **dict** (словарь)"
      ]
    },
    {
      "cell_type": "markdown",
      "metadata": {},
      "source": [
        "`dict` (словарь) — это неупорядоченная (до Python 3.7), изменяемая коллекция пар \"ключ-значение\".\n",
        "\n",
        "Основные характеристики:\n",
        "- Ключ-значение — данные хранятся в виде пар key: value\n",
        "- Уникальные ключи — ключи не могут повторяться\n",
        "- Изменяемость — можно добавлять, изменять, удалять элементы\n",
        "- Неупорядоченность — до Python 3.7 порядок не гарантировался (теперь сохраняется порядок добавления)\n",
        "- Гетерогенность — ключи и значения могут быть разных типов\n",
        "- Быстрый поиск — доступ по ключу происходит за O(1) время\n",
        "\n",
        "**Ключами могут быть только хешируемые (неизменяемые) объекты!**"
      ]
    },
    {
      "cell_type": "markdown",
      "metadata": {},
      "source": [
        "#### Создание словаря"
      ]
    },
    {
      "cell_type": "markdown",
      "metadata": {},
      "source": [
        "Пустой словарь:"
      ]
    },
    {
      "cell_type": "code",
      "execution_count": 67,
      "metadata": {},
      "outputs": [
        {
          "data": {
            "text/plain": [
              "{}"
            ]
          },
          "execution_count": 67,
          "metadata": {},
          "output_type": "execute_result"
        }
      ],
      "source": [
        "dct = {}\n",
        "dct = dict()  # через явный вызов конструктора\n",
        "dct"
      ]
    },
    {
      "cell_type": "markdown",
      "metadata": {},
      "source": [
        "Словарь, содержащий элементы:"
      ]
    },
    {
      "cell_type": "code",
      "execution_count": 68,
      "metadata": {},
      "outputs": [
        {
          "data": {
            "text/plain": [
              "{1: 'Cat', 2: 'Dog', 3: 'Mouse'}"
            ]
          },
          "execution_count": 68,
          "metadata": {},
          "output_type": "execute_result"
        }
      ],
      "source": [
        "dct = {1: \"Cat\", 2: \"Dog\", 3: \"Mouse\"}\n",
        "dct"
      ]
    },
    {
      "cell_type": "code",
      "execution_count": 69,
      "metadata": {},
      "outputs": [
        {
          "data": {
            "text/plain": [
              "{'Cat': 1, 'Dog': 2, 'Mouse': 3}"
            ]
          },
          "execution_count": 69,
          "metadata": {},
          "output_type": "execute_result"
        }
      ],
      "source": [
        "dct = dict(Cat=1, Dog=2, Mouse=3)  # ключи как аргументы (только строки)\n",
        "dct"
      ]
    },
    {
      "cell_type": "markdown",
      "metadata": {},
      "source": [
        "Словарь с одинаковым значением:"
      ]
    },
    {
      "cell_type": "code",
      "execution_count": 70,
      "metadata": {},
      "outputs": [
        {
          "data": {
            "text/plain": [
              "{'a': 0, 'b': 0, 'c': 0}"
            ]
          },
          "execution_count": 70,
          "metadata": {},
          "output_type": "execute_result"
        }
      ],
      "source": [
        "dct = dict.fromkeys([\"a\", \"b\", \"c\"], 0)\n",
        "dct"
      ]
    },
    {
      "cell_type": "markdown",
      "metadata": {},
      "source": [
        "Копирование словаря:"
      ]
    },
    {
      "cell_type": "code",
      "execution_count": 71,
      "metadata": {},
      "outputs": [
        {
          "data": {
            "text/plain": [
              "({1: 'Cat', 2: 'Dog', 3: 'Mouse'}, {1: 'Cat', 2: 'Dog', 3: 'Mouse'})"
            ]
          },
          "execution_count": 71,
          "metadata": {},
          "output_type": "execute_result"
        }
      ],
      "source": [
        "dct = {1: \"Cat\", 2: \"Dog\", 3: \"Mouse\"}\n",
        "dct2 = dct.copy()\n",
        "dct, dct2"
      ]
    },
    {
      "cell_type": "code",
      "execution_count": 72,
      "metadata": {},
      "outputs": [
        {
          "data": {
            "text/plain": [
              "({1: 'Cat', 2: 'Dog', 3: 'Mouse'}, {1: 'Cat', 2: 'Dog', 3: 'Mouse'})"
            ]
          },
          "execution_count": 72,
          "metadata": {},
          "output_type": "execute_result"
        }
      ],
      "source": [
        "dct = {1: \"Cat\", 2: \"Dog\", 3: \"Mouse\"}\n",
        "dct2 = dict(dct)\n",
        "dct, dct2"
      ]
    },
    {
      "cell_type": "markdown",
      "metadata": {},
      "source": [
        "Для создания словаря из других коллекций необходимо, чтобы коллекция **содержала в себе другие коллекции из 2 элементов**:"
      ]
    },
    {
      "cell_type": "markdown",
      "metadata": {},
      "source": [
        "Из списков и кортежей (можно смешивать):"
      ]
    },
    {
      "cell_type": "code",
      "execution_count": 73,
      "metadata": {},
      "outputs": [
        {
          "data": {
            "text/plain": [
              "{'key1': 'val1', 'key2': 'val2'}"
            ]
          },
          "execution_count": 73,
          "metadata": {},
          "output_type": "execute_result"
        }
      ],
      "source": [
        "dct = dict([['key1', 'val1'], ['key2', 'val2']])\n",
        "dct"
      ]
    },
    {
      "cell_type": "code",
      "execution_count": 74,
      "metadata": {},
      "outputs": [
        {
          "data": {
            "text/plain": [
              "{'key1': 'val1', 'key2': 'val2'}"
            ]
          },
          "execution_count": 74,
          "metadata": {},
          "output_type": "execute_result"
        }
      ],
      "source": [
        "dct = dict((('key1', 'val1'), ('key2', 'val2')))\n",
        "dct"
      ]
    },
    {
      "cell_type": "markdown",
      "metadata": {},
      "source": [
        "Из множеств (множество может содержать **только кортежи**):"
      ]
    },
    {
      "cell_type": "code",
      "execution_count": 75,
      "metadata": {},
      "outputs": [
        {
          "data": {
            "text/plain": [
              "{'key1': 'val1', 'key2': 'val2'}"
            ]
          },
          "execution_count": 75,
          "metadata": {},
          "output_type": "execute_result"
        }
      ],
      "source": [
        "dct = dict({('key1', 'val1'), ('key2', 'val2')})\n",
        "dct"
      ]
    },
    {
      "cell_type": "markdown",
      "metadata": {},
      "source": [
        "**Важное замечание**: кортежи могут быть ключами словарей, только если они содержат в себе другие неизменяемые элементы:"
      ]
    },
    {
      "cell_type": "code",
      "execution_count": 76,
      "metadata": {},
      "outputs": [
        {
          "ename": "TypeError",
          "evalue": "unhashable type: 'list'",
          "output_type": "error",
          "traceback": [
            "\u001b[31m---------------------------------------------------------------------------\u001b[39m",
            "\u001b[31mTypeError\u001b[39m                                 Traceback (most recent call last)",
            "\u001b[36mCell\u001b[39m\u001b[36m \u001b[39m\u001b[32mIn[76]\u001b[39m\u001b[32m, line 2\u001b[39m\n\u001b[32m      1\u001b[39m tpl = ([\u001b[32m1\u001b[39m, \u001b[32m2\u001b[39m, \u001b[32m3\u001b[39m], [])\n\u001b[32m----> \u001b[39m\u001b[32m2\u001b[39m dct = {tpl: \u001b[32m1\u001b[39m}\n",
            "\u001b[31mTypeError\u001b[39m: unhashable type: 'list'"
          ]
        }
      ],
      "source": [
        "tpl = ([1, 2, 3], [])\n",
        "dct = {tpl: 1}"
      ]
    },
    {
      "cell_type": "markdown",
      "metadata": {},
      "source": [
        "#### Доступ к элементам"
      ]
    },
    {
      "cell_type": "markdown",
      "metadata": {},
      "source": [
        "##### Получение значений"
      ]
    },
    {
      "cell_type": "code",
      "execution_count": 77,
      "metadata": {},
      "outputs": [
        {
          "data": {
            "text/plain": [
              "'val1'"
            ]
          },
          "execution_count": 77,
          "metadata": {},
          "output_type": "execute_result"
        }
      ],
      "source": [
        "dct = {'key1': 'val1', 'key2': 'val2'}\n",
        "\n",
        "dct['key1']  # вернёт значение по ключу"
      ]
    },
    {
      "cell_type": "markdown",
      "metadata": {},
      "source": [
        "Если ключа нет - вызовет исключение `KeyError`:"
      ]
    },
    {
      "cell_type": "code",
      "execution_count": 78,
      "metadata": {},
      "outputs": [
        {
          "ename": "KeyError",
          "evalue": "'key3'",
          "output_type": "error",
          "traceback": [
            "\u001b[31m---------------------------------------------------------------------------\u001b[39m",
            "\u001b[31mKeyError\u001b[39m                                  Traceback (most recent call last)",
            "\u001b[36mCell\u001b[39m\u001b[36m \u001b[39m\u001b[32mIn[78]\u001b[39m\u001b[32m, line 1\u001b[39m\n\u001b[32m----> \u001b[39m\u001b[32m1\u001b[39m \u001b[43mdct\u001b[49m\u001b[43m[\u001b[49m\u001b[33;43m'\u001b[39;49m\u001b[33;43mkey3\u001b[39;49m\u001b[33;43m'\u001b[39;49m\u001b[43m]\u001b[49m\n",
            "\u001b[31mKeyError\u001b[39m: 'key3'"
          ]
        }
      ],
      "source": [
        "dct['key3']"
      ]
    },
    {
      "cell_type": "markdown",
      "metadata": {},
      "source": [
        "Метод `get()` работает аналогично, но в случае отсутствия ключа возвращает `None`:"
      ]
    },
    {
      "cell_type": "code",
      "execution_count": 79,
      "metadata": {},
      "outputs": [
        {
          "data": {
            "text/plain": [
              "'val1'"
            ]
          },
          "execution_count": 79,
          "metadata": {},
          "output_type": "execute_result"
        }
      ],
      "source": [
        "dct.get('key1')"
      ]
    },
    {
      "cell_type": "code",
      "execution_count": 80,
      "metadata": {},
      "outputs": [
        {
          "name": "stdout",
          "output_type": "stream",
          "text": [
            "None\n"
          ]
        }
      ],
      "source": [
        "print(dct.get('key3'))"
      ]
    },
    {
      "cell_type": "markdown",
      "metadata": {},
      "source": [
        "Можно установить дефолтное значение вместо `None`:"
      ]
    },
    {
      "cell_type": "code",
      "execution_count": 81,
      "metadata": {},
      "outputs": [
        {
          "data": {
            "text/plain": [
              "'not found'"
            ]
          },
          "execution_count": 81,
          "metadata": {},
          "output_type": "execute_result"
        }
      ],
      "source": [
        "dct.get('key3', 'not found')"
      ]
    },
    {
      "cell_type": "markdown",
      "metadata": {},
      "source": [
        "##### Добавление и изменение значений"
      ]
    },
    {
      "cell_type": "code",
      "execution_count": 82,
      "metadata": {},
      "outputs": [
        {
          "data": {
            "text/plain": [
              "{'key1': 1, 'key2': 'val2', 'key3': 'val3'}"
            ]
          },
          "execution_count": 82,
          "metadata": {},
          "output_type": "execute_result"
        }
      ],
      "source": [
        "dct = {'key1': 'val1', 'key2': 'val2'}\n",
        "\n",
        "dct['key1'] = 1  # замена значения\n",
        "dct['key3'] = 'val3'  # добавление пары ключ-значение\n",
        "\n",
        "dct"
      ]
    },
    {
      "cell_type": "markdown",
      "metadata": {},
      "source": [
        "#### Операции со словарём"
      ]
    },
    {
      "cell_type": "markdown",
      "metadata": {},
      "source": [
        "##### Сравнение словарей"
      ]
    },
    {
      "cell_type": "code",
      "execution_count": 83,
      "metadata": {},
      "outputs": [
        {
          "data": {
            "text/plain": [
              "True"
            ]
          },
          "execution_count": 83,
          "metadata": {},
          "output_type": "execute_result"
        }
      ],
      "source": [
        "dct1 = {1: 2, 3: 4}\n",
        "dct2 = {3: 4, 1: 2}\n",
        "\n",
        "# сравнивает пары ключ-значение, их порядок не учитывается\n",
        "dct1 == dct2"
      ]
    },
    {
      "cell_type": "markdown",
      "metadata": {},
      "source": [
        "##### Перебор словарей"
      ]
    },
    {
      "cell_type": "markdown",
      "metadata": {},
      "source": [
        "По ключу:"
      ]
    },
    {
      "cell_type": "code",
      "execution_count": 84,
      "metadata": {},
      "outputs": [
        {
          "name": "stdout",
          "output_type": "stream",
          "text": [
            "1: Cat; 2: Dog; 3: Mouse; "
          ]
        }
      ],
      "source": [
        "dct = {1: \"Cat\", 2: \"Dog\", 3: \"Mouse\"}\n",
        "\n",
        "for key in dct:\n",
        "    print(f\"{key}: {dct[key]};\", end=\" \")"
      ]
    },
    {
      "cell_type": "markdown",
      "metadata": {},
      "source": [
        "По ключу с импользованием метода `keys()`:"
      ]
    },
    {
      "cell_type": "code",
      "execution_count": 85,
      "metadata": {},
      "outputs": [
        {
          "name": "stdout",
          "output_type": "stream",
          "text": [
            "1: Cat; 2: Dog; 3: Mouse; "
          ]
        }
      ],
      "source": [
        "for key in dct.keys():\n",
        "    print(f\"{key}: {dct[key]};\", end=\" \")"
      ]
    },
    {
      "cell_type": "markdown",
      "metadata": {},
      "source": [
        "Перебор значений с помощью метода `values()`:"
      ]
    },
    {
      "cell_type": "code",
      "execution_count": 86,
      "metadata": {},
      "outputs": [
        {
          "name": "stdout",
          "output_type": "stream",
          "text": [
            "Cat Dog Mouse "
          ]
        }
      ],
      "source": [
        "for val in dct.values():\n",
        "    print(val, end=\" \")"
      ]
    },
    {
      "cell_type": "markdown",
      "metadata": {},
      "source": [
        "Перебор пары ключ-значение с помощью метода `items()`:"
      ]
    },
    {
      "cell_type": "code",
      "execution_count": 87,
      "metadata": {
        "colab": {
          "base_uri": "https://localhost:8080/"
        },
        "id": "iS1hem-LLU78",
        "outputId": "a0fc5e00-3755-44a5-9697-ccd3d044f922"
      },
      "outputs": [
        {
          "name": "stdout",
          "output_type": "stream",
          "text": [
            "1: Cat; 2: Dog; 3: Mouse; "
          ]
        }
      ],
      "source": [
        "for key, val in dct.items():\n",
        "    print(f\"{key}: {val};\", end=\" \")"
      ]
    },
    {
      "cell_type": "markdown",
      "metadata": {},
      "source": [
        "#### Методы словаря"
      ]
    },
    {
      "cell_type": "markdown",
      "metadata": {},
      "source": [
        "##### Добавление и обновление"
      ]
    },
    {
      "cell_type": "markdown",
      "metadata": {},
      "source": [
        "`setdefault(key, default)` - получает значение по ключу `key` или установливает значение по умолчанию `default`."
      ]
    },
    {
      "cell_type": "code",
      "execution_count": 88,
      "metadata": {},
      "outputs": [
        {
          "data": {
            "text/plain": [
              "({1: 'Cat', 2: 'Dog', 3: 'Mouse', 4: 'default'}, 'Cat', 'default')"
            ]
          },
          "execution_count": 88,
          "metadata": {},
          "output_type": "execute_result"
        }
      ],
      "source": [
        "dct = {1: \"Cat\", 2: \"Dog\", 3: \"Mouse\"}\n",
        "\n",
        "a = dct.setdefault(1, \"default\")  # ключ есть - просто получаем значение\n",
        "b = dct.setdefault(4, \"default\")  # ключа нет - добавляем значение и получаем его\n",
        "\n",
        "dct, a, b"
      ]
    },
    {
      "cell_type": "markdown",
      "metadata": {},
      "source": [
        "`update()` - присоединяет другой словарь. Если ключ уже существует - заменяет его значение."
      ]
    },
    {
      "cell_type": "code",
      "execution_count": 89,
      "metadata": {},
      "outputs": [
        {
          "data": {
            "text/plain": [
              "{1: 'Cat', 2: 'Dog', 3: 'Rabbit', 4: 'Pig'}"
            ]
          },
          "execution_count": 89,
          "metadata": {},
          "output_type": "execute_result"
        }
      ],
      "source": [
        "dct = {1: \"Cat\", 2: \"Dog\", 3: \"Mouse\"}\n",
        "\n",
        "dct.update({3: 'Rabbit', 4: 'Pig'})\n",
        "\n",
        "dct"
      ]
    },
    {
      "cell_type": "markdown",
      "metadata": {},
      "source": [
        "##### Удаление элементов"
      ]
    },
    {
      "cell_type": "markdown",
      "metadata": {},
      "source": [
        "`del` - удаление элемента по ключу."
      ]
    },
    {
      "cell_type": "code",
      "execution_count": 90,
      "metadata": {},
      "outputs": [
        {
          "data": {
            "text/plain": [
              "{2: 'Dog', 3: 'Mouse'}"
            ]
          },
          "execution_count": 90,
          "metadata": {},
          "output_type": "execute_result"
        }
      ],
      "source": [
        "dct = {1: \"Cat\", 2: \"Dog\", 3: \"Mouse\"}\n",
        "\n",
        "del dct[1]\n",
        "\n",
        "dct"
      ]
    },
    {
      "cell_type": "markdown",
      "metadata": {},
      "source": [
        "`pop(key [, default])` - удаляет и возвращает значение по ключу `key` или возвращает `default`, если ключ не найден."
      ]
    },
    {
      "cell_type": "code",
      "execution_count": 91,
      "metadata": {},
      "outputs": [
        {
          "data": {
            "text/plain": [
              "('Cat', None, {2: 'Dog', 3: 'Mouse'})"
            ]
          },
          "execution_count": 91,
          "metadata": {},
          "output_type": "execute_result"
        }
      ],
      "source": [
        "dct = {1: \"Cat\", 2: \"Dog\", 3: \"Mouse\"}\n",
        "\n",
        "val1 = dct.pop(1)\n",
        "val2 = dct.pop(4, None)\n",
        "\n",
        "val1, val2, dct"
      ]
    },
    {
      "cell_type": "markdown",
      "metadata": {},
      "source": [
        "Если ключ не найден, а дефолтное значение не указано, то возникнет исключение:"
      ]
    },
    {
      "cell_type": "code",
      "execution_count": 92,
      "metadata": {},
      "outputs": [
        {
          "ename": "KeyError",
          "evalue": "4",
          "output_type": "error",
          "traceback": [
            "\u001b[31m---------------------------------------------------------------------------\u001b[39m",
            "\u001b[31mKeyError\u001b[39m                                  Traceback (most recent call last)",
            "\u001b[36mCell\u001b[39m\u001b[36m \u001b[39m\u001b[32mIn[92]\u001b[39m\u001b[32m, line 3\u001b[39m\n\u001b[32m      1\u001b[39m dct = {\u001b[32m1\u001b[39m: \u001b[33m\"\u001b[39m\u001b[33mCat\u001b[39m\u001b[33m\"\u001b[39m, \u001b[32m2\u001b[39m: \u001b[33m\"\u001b[39m\u001b[33mDog\u001b[39m\u001b[33m\"\u001b[39m, \u001b[32m3\u001b[39m: \u001b[33m\"\u001b[39m\u001b[33mMouse\u001b[39m\u001b[33m\"\u001b[39m}\n\u001b[32m----> \u001b[39m\u001b[32m3\u001b[39m val = \u001b[43mdct\u001b[49m\u001b[43m.\u001b[49m\u001b[43mpop\u001b[49m\u001b[43m(\u001b[49m\u001b[32;43m4\u001b[39;49m\u001b[43m)\u001b[49m\n\u001b[32m      5\u001b[39m val, dct\n",
            "\u001b[31mKeyError\u001b[39m: 4"
          ]
        }
      ],
      "source": [
        "dct = {1: \"Cat\", 2: \"Dog\", 3: \"Mouse\"}\n",
        "\n",
        "val = dct.pop(4)\n",
        "\n",
        "val, dct"
      ]
    },
    {
      "cell_type": "markdown",
      "metadata": {},
      "source": [
        "`popitem(key)` - удаляет и возвращает последнюю пару ключ-значение."
      ]
    },
    {
      "cell_type": "code",
      "execution_count": 93,
      "metadata": {},
      "outputs": [
        {
          "data": {
            "text/plain": [
              "((3, 'Mouse'), {1: 'Cat', 2: 'Dog'})"
            ]
          },
          "execution_count": 93,
          "metadata": {},
          "output_type": "execute_result"
        }
      ],
      "source": [
        "dct = {1: \"Cat\", 2: \"Dog\", 3: \"Mouse\"}\n",
        "\n",
        "val = dct.popitem()\n",
        "\n",
        "val, dct"
      ]
    },
    {
      "cell_type": "markdown",
      "metadata": {},
      "source": [
        "`clear()` - очищает словарь."
      ]
    },
    {
      "cell_type": "code",
      "execution_count": 94,
      "metadata": {},
      "outputs": [
        {
          "data": {
            "text/plain": [
              "{}"
            ]
          },
          "execution_count": 94,
          "metadata": {},
          "output_type": "execute_result"
        }
      ],
      "source": [
        "dct = {1: \"Cat\", 2: \"Dog\", 3: \"Mouse\"}\n",
        "\n",
        "dct.clear()\n",
        "\n",
        "dct"
      ]
    },
    {
      "cell_type": "markdown",
      "metadata": {
        "id": "3uOV3Fx8OqLt"
      },
      "source": [
        "### Множества"
      ]
    },
    {
      "cell_type": "markdown",
      "metadata": {},
      "source": [
        "`set` (множество) — это структура данных для работы с уникальными неупорядоченными коллекциями.\n",
        "\n",
        "Основные характеристики:\n",
        "- Уникальность — содержит только уникальные элементы (дубликаты игнорируются)\n",
        "- Неупорядоченность — порядок элементов не гарантируется\n",
        "- Изменяемость — можно добавлять и удалять элементы\n",
        "- Хешируемость элементов — элементы должны быть хешируемыми (неизменяемыми)\n",
        "- Математические операции — поддерживает операции теории множеств\n",
        "\n",
        "Множество похоже на словари без значений, однако, у них есть дополнительный функционал для математических операций."
      ]
    },
    {
      "cell_type": "markdown",
      "metadata": {},
      "source": [
        "#### Создание множеств"
      ]
    },
    {
      "cell_type": "markdown",
      "metadata": {},
      "source": [
        "Пустое множество:"
      ]
    },
    {
      "cell_type": "code",
      "execution_count": 95,
      "metadata": {},
      "outputs": [
        {
          "data": {
            "text/plain": [
              "set()"
            ]
          },
          "execution_count": 95,
          "metadata": {},
          "output_type": "execute_result"
        }
      ],
      "source": [
        "st = set()\n",
        "st"
      ]
    },
    {
      "cell_type": "markdown",
      "metadata": {},
      "source": [
        "Множество с элементами:"
      ]
    },
    {
      "cell_type": "code",
      "execution_count": 96,
      "metadata": {},
      "outputs": [
        {
          "data": {
            "text/plain": [
              "{1, 2, 3}"
            ]
          },
          "execution_count": 96,
          "metadata": {},
          "output_type": "execute_result"
        }
      ],
      "source": [
        "st = {1, 2, 3, 3}  # дубликаты удаляются\n",
        "st"
      ]
    },
    {
      "cell_type": "markdown",
      "metadata": {},
      "source": [
        "Копирование множества:"
      ]
    },
    {
      "cell_type": "code",
      "execution_count": 97,
      "metadata": {},
      "outputs": [
        {
          "data": {
            "text/plain": [
              "({1, 2, 3}, {1, 2, 3})"
            ]
          },
          "execution_count": 97,
          "metadata": {},
          "output_type": "execute_result"
        }
      ],
      "source": [
        "st = {1, 2, 3}\n",
        "st2 = st.copy()\n",
        "\n",
        "st, st2"
      ]
    },
    {
      "cell_type": "code",
      "execution_count": 98,
      "metadata": {},
      "outputs": [
        {
          "data": {
            "text/plain": [
              "({1, 2, 3}, {1, 2, 3})"
            ]
          },
          "execution_count": 98,
          "metadata": {},
          "output_type": "execute_result"
        }
      ],
      "source": [
        "st = {1, 2, 3}\n",
        "st2 = set(st)\n",
        "\n",
        "st, st2"
      ]
    },
    {
      "cell_type": "markdown",
      "metadata": {},
      "source": [
        "Создание множеств из списков и кортежей:"
      ]
    },
    {
      "cell_type": "code",
      "execution_count": 99,
      "metadata": {},
      "outputs": [
        {
          "data": {
            "text/plain": [
              "{1, 2, 3}"
            ]
          },
          "execution_count": 99,
          "metadata": {},
          "output_type": "execute_result"
        }
      ],
      "source": [
        "lst = [1, 1, 2, 2, 3, 3]\n",
        "st = set(lst)\n",
        "\n",
        "st"
      ]
    },
    {
      "cell_type": "markdown",
      "metadata": {},
      "source": [
        "`frozenset` - неизменяемое множество. Оно просто есть."
      ]
    },
    {
      "cell_type": "code",
      "execution_count": 100,
      "metadata": {},
      "outputs": [
        {
          "data": {
            "text/plain": [
              "frozenset({1, 2, 3})"
            ]
          },
          "execution_count": 100,
          "metadata": {},
          "output_type": "execute_result"
        }
      ],
      "source": [
        "fst = frozenset([1, 1, 2, 2, 3])\n",
        "fst"
      ]
    },
    {
      "cell_type": "markdown",
      "metadata": {},
      "source": [
        "#### Перебор множеств"
      ]
    },
    {
      "cell_type": "code",
      "execution_count": 101,
      "metadata": {
        "colab": {
          "base_uri": "https://localhost:8080/"
        },
        "id": "9weAvJJyQNjU",
        "outputId": "f2b3aba4-bba9-4074-ca9a-5308889e1dfa"
      },
      "outputs": [
        {
          "name": "stdout",
          "output_type": "stream",
          "text": [
            "1 2 3 "
          ]
        }
      ],
      "source": [
        "st = {1, 2, 3}\n",
        "\n",
        "for item in st:\n",
        "    print(item, end=\" \")"
      ]
    },
    {
      "cell_type": "markdown",
      "metadata": {},
      "source": [
        "Получить определённый элемент в множестве нельзя, но и смысла в этом нет :)"
      ]
    },
    {
      "cell_type": "markdown",
      "metadata": {},
      "source": [
        "#### Методы множеств"
      ]
    },
    {
      "cell_type": "markdown",
      "metadata": {},
      "source": [
        "##### Добавление элементов"
      ]
    },
    {
      "cell_type": "markdown",
      "metadata": {},
      "source": [
        "`add(item)` - добавление одного элемента."
      ]
    },
    {
      "cell_type": "code",
      "execution_count": 102,
      "metadata": {},
      "outputs": [
        {
          "data": {
            "text/plain": [
              "{1, 2, 3, 4}"
            ]
          },
          "execution_count": 102,
          "metadata": {},
          "output_type": "execute_result"
        }
      ],
      "source": [
        "st = {1, 2, 3}\n",
        "\n",
        "st.add(4)\n",
        "\n",
        "st"
      ]
    },
    {
      "cell_type": "markdown",
      "metadata": {},
      "source": [
        "`update()` - добавление нескольких элементов. Можно добавлять только коллекции."
      ]
    },
    {
      "cell_type": "code",
      "execution_count": 103,
      "metadata": {},
      "outputs": [
        {
          "data": {
            "text/plain": [
              "{1, 2, 3, 4, 5, 6, 7, 8, 9}"
            ]
          },
          "execution_count": 103,
          "metadata": {},
          "output_type": "execute_result"
        }
      ],
      "source": [
        "st = {1, 2, 3}\n",
        "\n",
        "st.update([4, 5, 6])\n",
        "st.update({7, 8}, {9})  # аргументов может быть несколько, но все должны быть коллекциями\n",
        "\n",
        "st"
      ]
    },
    {
      "cell_type": "markdown",
      "metadata": {},
      "source": [
        "##### Удаление элементов"
      ]
    },
    {
      "cell_type": "markdown",
      "metadata": {},
      "source": [
        "`remove(item)` - удаление элемента (если элемента нет, вызывает исключение)."
      ]
    },
    {
      "cell_type": "code",
      "execution_count": 104,
      "metadata": {},
      "outputs": [
        {
          "data": {
            "text/plain": [
              "{1, 2}"
            ]
          },
          "execution_count": 104,
          "metadata": {},
          "output_type": "execute_result"
        }
      ],
      "source": [
        "st = {1, 2, 3}\n",
        "\n",
        "st.remove(3)\n",
        "\n",
        "st"
      ]
    },
    {
      "cell_type": "code",
      "execution_count": 105,
      "metadata": {},
      "outputs": [
        {
          "ename": "KeyError",
          "evalue": "4",
          "output_type": "error",
          "traceback": [
            "\u001b[31m---------------------------------------------------------------------------\u001b[39m",
            "\u001b[31mKeyError\u001b[39m                                  Traceback (most recent call last)",
            "\u001b[36mCell\u001b[39m\u001b[36m \u001b[39m\u001b[32mIn[105]\u001b[39m\u001b[32m, line 1\u001b[39m\n\u001b[32m----> \u001b[39m\u001b[32m1\u001b[39m \u001b[43mst\u001b[49m\u001b[43m.\u001b[49m\u001b[43mremove\u001b[49m\u001b[43m(\u001b[49m\u001b[32;43m4\u001b[39;49m\u001b[43m)\u001b[49m\n",
            "\u001b[31mKeyError\u001b[39m: 4"
          ]
        }
      ],
      "source": [
        "st.remove(4)"
      ]
    },
    {
      "cell_type": "markdown",
      "metadata": {},
      "source": [
        "`discard(item)` - удаление элемена (не вызывает исключений)."
      ]
    },
    {
      "cell_type": "code",
      "execution_count": 106,
      "metadata": {},
      "outputs": [
        {
          "data": {
            "text/plain": [
              "{1, 2}"
            ]
          },
          "execution_count": 106,
          "metadata": {},
          "output_type": "execute_result"
        }
      ],
      "source": [
        "st = {1, 2, 3}\n",
        "\n",
        "st.discard(3)\n",
        "\n",
        "st"
      ]
    },
    {
      "cell_type": "markdown",
      "metadata": {},
      "source": [
        "`pop()` - удаление и возврат случайного элемента."
      ]
    },
    {
      "cell_type": "code",
      "execution_count": 107,
      "metadata": {},
      "outputs": [
        {
          "data": {
            "text/plain": [
              "({2, 3}, 1)"
            ]
          },
          "execution_count": 107,
          "metadata": {},
          "output_type": "execute_result"
        }
      ],
      "source": [
        "st = {1, 2, 3}\n",
        "\n",
        "a = st.pop()\n",
        "\n",
        "st, a"
      ]
    },
    {
      "cell_type": "markdown",
      "metadata": {},
      "source": [
        "`clear()` - очищает множество."
      ]
    },
    {
      "cell_type": "code",
      "execution_count": 108,
      "metadata": {},
      "outputs": [
        {
          "data": {
            "text/plain": [
              "set()"
            ]
          },
          "execution_count": 108,
          "metadata": {},
          "output_type": "execute_result"
        }
      ],
      "source": [
        "st = {1, 2, 3}\n",
        "\n",
        "st.clear()\n",
        "\n",
        "st"
      ]
    },
    {
      "cell_type": "markdown",
      "metadata": {},
      "source": [
        "##### Математические операции"
      ]
    },
    {
      "cell_type": "markdown",
      "metadata": {},
      "source": [
        "`union()` - объединение."
      ]
    },
    {
      "cell_type": "markdown",
      "metadata": {},
      "source": [
        "Через оператор `|`:"
      ]
    },
    {
      "cell_type": "code",
      "execution_count": 109,
      "metadata": {},
      "outputs": [
        {
          "data": {
            "text/plain": [
              "{1, 2, 3, 4, 5}"
            ]
          },
          "execution_count": 109,
          "metadata": {},
          "output_type": "execute_result"
        }
      ],
      "source": [
        "A = {1, 2, 3}\n",
        "B = {3, 4, 5}\n",
        "\n",
        "union_set = A | B\n",
        "\n",
        "union_set"
      ]
    },
    {
      "cell_type": "markdown",
      "metadata": {},
      "source": [
        "Через метод `union()`:"
      ]
    },
    {
      "cell_type": "code",
      "execution_count": 110,
      "metadata": {},
      "outputs": [
        {
          "data": {
            "text/plain": [
              "{1, 2, 3, 4, 5}"
            ]
          },
          "execution_count": 110,
          "metadata": {},
          "output_type": "execute_result"
        }
      ],
      "source": [
        "A = {1, 2, 3}\n",
        "B = {3, 4, 5}\n",
        "\n",
        "union_set = A.union(B)\n",
        "\n",
        "union_set"
      ]
    },
    {
      "cell_type": "markdown",
      "metadata": {},
      "source": [
        "`intersection()` - пересечение."
      ]
    },
    {
      "cell_type": "markdown",
      "metadata": {},
      "source": [
        "Через оператор `&`:"
      ]
    },
    {
      "cell_type": "code",
      "execution_count": 111,
      "metadata": {},
      "outputs": [
        {
          "data": {
            "text/plain": [
              "{3, 4}"
            ]
          },
          "execution_count": 111,
          "metadata": {},
          "output_type": "execute_result"
        }
      ],
      "source": [
        "A = {1, 2, 3, 4}\n",
        "B = {3, 4, 5, 6}\n",
        "\n",
        "intersection_set = A & B\n",
        "\n",
        "intersection_set"
      ]
    },
    {
      "cell_type": "markdown",
      "metadata": {},
      "source": [
        "Через метод `intersection()`:"
      ]
    },
    {
      "cell_type": "code",
      "execution_count": 115,
      "metadata": {},
      "outputs": [
        {
          "data": {
            "text/plain": [
              "{3, 4}"
            ]
          },
          "execution_count": 115,
          "metadata": {},
          "output_type": "execute_result"
        }
      ],
      "source": [
        "A = {1, 2, 3, 4}\n",
        "B = {3, 4, 5, 6}\n",
        "\n",
        "intersection_set = A.intersection(B)\n",
        "\n",
        "intersection_set"
      ]
    },
    {
      "cell_type": "markdown",
      "metadata": {},
      "source": [
        "`difference()` - разность."
      ]
    },
    {
      "cell_type": "markdown",
      "metadata": {},
      "source": [
        "Через оператор `-`:"
      ]
    },
    {
      "cell_type": "code",
      "execution_count": 116,
      "metadata": {},
      "outputs": [
        {
          "data": {
            "text/plain": [
              "({1, 2, 3}, {6, 7})"
            ]
          },
          "execution_count": 116,
          "metadata": {},
          "output_type": "execute_result"
        }
      ],
      "source": [
        "A = {1, 2, 3, 4, 5}\n",
        "B = {4, 5, 6, 7}\n",
        "\n",
        "difference_set = A - B\n",
        "difference_set2 = B - A\n",
        "\n",
        "difference_set, difference_set2"
      ]
    },
    {
      "cell_type": "markdown",
      "metadata": {},
      "source": [
        "Через метод `difference()`:"
      ]
    },
    {
      "cell_type": "code",
      "execution_count": 117,
      "metadata": {},
      "outputs": [
        {
          "data": {
            "text/plain": [
              "({1, 2, 3}, {6, 7})"
            ]
          },
          "execution_count": 117,
          "metadata": {},
          "output_type": "execute_result"
        }
      ],
      "source": [
        "A = {1, 2, 3, 4, 5}\n",
        "B = {4, 5, 6, 7}\n",
        "\n",
        "difference_set = A.difference(B)  # из A вычитаем B\n",
        "difference_set2 = B.difference(A)  # из B вычитаем A\n",
        "\n",
        "difference_set, difference_set2"
      ]
    },
    {
      "cell_type": "markdown",
      "metadata": {},
      "source": [
        "`symmetric_difference()` - симметрическая разность."
      ]
    },
    {
      "cell_type": "markdown",
      "metadata": {},
      "source": [
        "Через оператор `^`:"
      ]
    },
    {
      "cell_type": "code",
      "execution_count": 118,
      "metadata": {},
      "outputs": [
        {
          "data": {
            "text/plain": [
              "{1, 2, 5, 6}"
            ]
          },
          "execution_count": 118,
          "metadata": {},
          "output_type": "execute_result"
        }
      ],
      "source": [
        "A = {1, 2, 3, 4}\n",
        "B = {3, 4, 5, 6}\n",
        "\n",
        "sym_diff = A ^ B\n",
        "\n",
        "sym_diff"
      ]
    },
    {
      "cell_type": "markdown",
      "metadata": {},
      "source": [
        "Через метод `symmetric_difference()`:"
      ]
    },
    {
      "cell_type": "code",
      "execution_count": 119,
      "metadata": {},
      "outputs": [
        {
          "data": {
            "text/plain": [
              "{1, 2, 5, 6}"
            ]
          },
          "execution_count": 119,
          "metadata": {},
          "output_type": "execute_result"
        }
      ],
      "source": [
        "A = {1, 2, 3, 4}\n",
        "B = {3, 4, 5, 6}\n",
        "\n",
        "sym_diff = A.symmetric_difference(B)\n",
        "\n",
        "sym_diff"
      ]
    },
    {
      "cell_type": "markdown",
      "metadata": {},
      "source": [
        "##### Методы сравнения множеств"
      ]
    },
    {
      "cell_type": "markdown",
      "metadata": {},
      "source": [
        "Равенство:"
      ]
    },
    {
      "cell_type": "code",
      "execution_count": 120,
      "metadata": {},
      "outputs": [
        {
          "data": {
            "text/plain": [
              "True"
            ]
          },
          "execution_count": 120,
          "metadata": {},
          "output_type": "execute_result"
        }
      ],
      "source": [
        "A = {1, 2, 3}\n",
        "B = {3, 2, 1}\n",
        "\n",
        "A == B"
      ]
    },
    {
      "cell_type": "markdown",
      "metadata": {},
      "source": [
        "`issubset()` или `<=` - проверяет, является ли множество подмножеством другого (включая равенство)."
      ]
    },
    {
      "cell_type": "code",
      "execution_count": 121,
      "metadata": {},
      "outputs": [
        {
          "name": "stdout",
          "output_type": "stream",
          "text": [
            "True\n",
            "True\n",
            "True\n",
            "True\n"
          ]
        }
      ],
      "source": [
        "A = {1, 2}\n",
        "B = {1, 2, 3}\n",
        "C = {1, 2}\n",
        "\n",
        "print(A.issubset(B))\n",
        "print(A <= B)\n",
        "print(A.issubset(C))\n",
        "print(A <= C)"
      ]
    },
    {
      "cell_type": "markdown",
      "metadata": {},
      "source": [
        "`<` - проверяет, является ли множество собственным подмножеством (строго меньше)."
      ]
    },
    {
      "cell_type": "code",
      "execution_count": 122,
      "metadata": {},
      "outputs": [
        {
          "name": "stdout",
          "output_type": "stream",
          "text": [
            "True\n",
            "False\n"
          ]
        }
      ],
      "source": [
        "A = {1, 2}\n",
        "B = {1, 2, 3}\n",
        "C = {1, 2}\n",
        "\n",
        "print(A < B)\n",
        "print(A < C)"
      ]
    },
    {
      "cell_type": "markdown",
      "metadata": {},
      "source": [
        "`issuperset()` или `>=` - проверяет, является ли множество надмножеством другого (включая равенство)."
      ]
    },
    {
      "cell_type": "code",
      "execution_count": 123,
      "metadata": {},
      "outputs": [
        {
          "name": "stdout",
          "output_type": "stream",
          "text": [
            "True\n",
            "True\n",
            "True\n",
            "True\n"
          ]
        }
      ],
      "source": [
        "A = {1, 2, 3}\n",
        "B = {1, 2}\n",
        "C = {1, 2, 3}\n",
        "\n",
        "print(A.issuperset(B))\n",
        "print(A >= B)\n",
        "print(A.issuperset(C))\n",
        "print(A >= C)"
      ]
    },
    {
      "cell_type": "markdown",
      "metadata": {},
      "source": [
        "`>` - проверяет, является ли множество собственным надмножеством (строго больше)."
      ]
    },
    {
      "cell_type": "code",
      "execution_count": 124,
      "metadata": {},
      "outputs": [
        {
          "name": "stdout",
          "output_type": "stream",
          "text": [
            "True\n",
            "False\n"
          ]
        }
      ],
      "source": [
        "A = {1, 2, 3}\n",
        "B = {1, 2}\n",
        "C = {1, 2, 3}\n",
        "\n",
        "print(A > B)\n",
        "print(A > C)"
      ]
    },
    {
      "cell_type": "markdown",
      "metadata": {},
      "source": [
        "`isdisjoint()` - проверяет, нет ли общих элементов между множествами (непересекающиеся множества)."
      ]
    },
    {
      "cell_type": "code",
      "execution_count": 125,
      "metadata": {},
      "outputs": [
        {
          "name": "stdout",
          "output_type": "stream",
          "text": [
            "True\n",
            "False\n"
          ]
        }
      ],
      "source": [
        "A = {1, 2, 3}\n",
        "B = {4, 5, 6}\n",
        "C = {3, 4, 5}\n",
        "\n",
        "print(A.isdisjoint(B))\n",
        "print(A.isdisjoint(C))"
      ]
    },
    {
      "cell_type": "markdown",
      "metadata": {
        "id": "MFIN3Nh8YuAk"
      },
      "source": [
        "### Генераторы коллекций (comprehension)"
      ]
    },
    {
      "cell_type": "markdown",
      "metadata": {},
      "source": [
        "**Генераторы коллекций** — это компактный и эффективный синтаксис для создания коллекций данных. Они делают код более читаемым и производительным.\n",
        "\n",
        "Базовый синтаксис:\n",
        "`[выражение(ия) for элемент(ы) in итерируемый_объект]`"
      ]
    },
    {
      "cell_type": "markdown",
      "metadata": {},
      "source": [
        "#### List Comprehension - Генераторы списков"
      ]
    },
    {
      "cell_type": "code",
      "execution_count": 126,
      "metadata": {},
      "outputs": [
        {
          "data": {
            "text/plain": [
              "[1, 4, 9, 16, 25]"
            ]
          },
          "execution_count": 126,
          "metadata": {},
          "output_type": "execute_result"
        }
      ],
      "source": [
        "lst = [item ** 2 for item in [1, 2, 3, 4, 5]]\n",
        "\n",
        "lst"
      ]
    },
    {
      "cell_type": "markdown",
      "metadata": {},
      "source": [
        "Генерация списка с условием:"
      ]
    },
    {
      "cell_type": "code",
      "execution_count": 127,
      "metadata": {
        "colab": {
          "base_uri": "https://localhost:8080/"
        },
        "id": "_2nXDYaZYzsq",
        "outputId": "99d0adba-3e64-4b34-ce80-2bed5c626940"
      },
      "outputs": [
        {
          "data": {
            "text/plain": [
              "[1, 9, 25]"
            ]
          },
          "execution_count": 127,
          "metadata": {},
          "output_type": "execute_result"
        }
      ],
      "source": [
        "lst = [item ** 2 for item in [1, 2, 3, 4, 5] if item % 2 != 0]\n",
        "\n",
        "lst"
      ]
    },
    {
      "cell_type": "markdown",
      "metadata": {},
      "source": [
        "#### Set Comprehension - Генераторы множеств"
      ]
    },
    {
      "cell_type": "code",
      "execution_count": 128,
      "metadata": {},
      "outputs": [
        {
          "data": {
            "text/plain": [
              "{1, 4, 9}"
            ]
          },
          "execution_count": 128,
          "metadata": {},
          "output_type": "execute_result"
        }
      ],
      "source": [
        "st = {x**2 for x in [1, 2, 2, 3, 3, 3]}\n",
        "\n",
        "st"
      ]
    },
    {
      "cell_type": "markdown",
      "metadata": {},
      "source": [
        "Генерация множества с условием:"
      ]
    },
    {
      "cell_type": "code",
      "execution_count": 129,
      "metadata": {},
      "outputs": [
        {
          "data": {
            "text/plain": [
              "{36, 49, 64, 81}"
            ]
          },
          "execution_count": 129,
          "metadata": {},
          "output_type": "execute_result"
        }
      ],
      "source": [
        "st = {x**2 for x in range(10) if x > 5}\n",
        "\n",
        "st"
      ]
    },
    {
      "cell_type": "markdown",
      "metadata": {},
      "source": [
        "#### Dictionary Comprehension - Генераторы словарей"
      ]
    },
    {
      "cell_type": "code",
      "execution_count": 131,
      "metadata": {},
      "outputs": [
        {
          "data": {
            "text/plain": [
              "{0: 0, 1: 1, 2: 4, 3: 9, 4: 16}"
            ]
          },
          "execution_count": 131,
          "metadata": {},
          "output_type": "execute_result"
        }
      ],
      "source": [
        "dct = {x: x**2 for x in range(5)}\n",
        "\n",
        "dct"
      ]
    },
    {
      "cell_type": "markdown",
      "metadata": {},
      "source": [
        "Генерация словаря на основе другого словаря:"
      ]
    },
    {
      "cell_type": "code",
      "execution_count": 132,
      "metadata": {},
      "outputs": [
        {
          "data": {
            "text/plain": [
              "{1: 4, 3: 16, 5: 36}"
            ]
          },
          "execution_count": 132,
          "metadata": {},
          "output_type": "execute_result"
        }
      ],
      "source": [
        "dct = {1: 2, 3: 4, 5: 6}\n",
        "\n",
        "dct2 = {x: y**2 for x, y in dct.items()}\n",
        "\n",
        "dct2"
      ]
    },
    {
      "cell_type": "markdown",
      "metadata": {
        "id": "PhSgSxdmbzkn"
      },
      "source": [
        "## Функции для работы с коллекциями"
      ]
    },
    {
      "cell_type": "markdown",
      "metadata": {},
      "source": [
        "`len()` - длина коллекции."
      ]
    },
    {
      "cell_type": "code",
      "execution_count": 133,
      "metadata": {},
      "outputs": [
        {
          "data": {
            "text/plain": [
              "5"
            ]
          },
          "execution_count": 133,
          "metadata": {},
          "output_type": "execute_result"
        }
      ],
      "source": [
        "lst = [1, 2, 3, 4, 5]\n",
        "\n",
        "len(lst)"
      ]
    },
    {
      "cell_type": "markdown",
      "metadata": {},
      "source": [
        "`max()` - максимальный элемент."
      ]
    },
    {
      "cell_type": "code",
      "execution_count": 134,
      "metadata": {},
      "outputs": [
        {
          "data": {
            "text/plain": [
              "5"
            ]
          },
          "execution_count": 134,
          "metadata": {},
          "output_type": "execute_result"
        }
      ],
      "source": [
        "lst = [1, 2, 3, 4, 5]\n",
        "\n",
        "max(lst)"
      ]
    },
    {
      "cell_type": "code",
      "execution_count": 135,
      "metadata": {},
      "outputs": [
        {
          "data": {
            "text/plain": [
              "'bc'"
            ]
          },
          "execution_count": 135,
          "metadata": {},
          "output_type": "execute_result"
        }
      ],
      "source": [
        "lst = ['a', 'bc', 'ab']\n",
        "\n",
        "max(lst)"
      ]
    },
    {
      "cell_type": "markdown",
      "metadata": {},
      "source": [
        "`min()` - минимальный элемент."
      ]
    },
    {
      "cell_type": "code",
      "execution_count": 136,
      "metadata": {},
      "outputs": [
        {
          "data": {
            "text/plain": [
              "1"
            ]
          },
          "execution_count": 136,
          "metadata": {},
          "output_type": "execute_result"
        }
      ],
      "source": [
        "lst = [1, 2, 3, 4, 5]\n",
        "\n",
        "min(lst)"
      ]
    },
    {
      "cell_type": "markdown",
      "metadata": {},
      "source": [
        "`sum()` - сумма элементов (только для чисел и bool)."
      ]
    },
    {
      "cell_type": "code",
      "execution_count": 137,
      "metadata": {},
      "outputs": [
        {
          "data": {
            "text/plain": [
              "10"
            ]
          },
          "execution_count": 137,
          "metadata": {},
          "output_type": "execute_result"
        }
      ],
      "source": [
        "sum([1, 2, 3, 4])"
      ]
    },
    {
      "cell_type": "code",
      "execution_count": 138,
      "metadata": {},
      "outputs": [
        {
          "data": {
            "text/plain": [
              "2"
            ]
          },
          "execution_count": 138,
          "metadata": {},
          "output_type": "execute_result"
        }
      ],
      "source": [
        "sum([True, False, True])"
      ]
    },
    {
      "cell_type": "markdown",
      "metadata": {},
      "source": [
        "`sorted(iterable [,key [,reverse=False]])` - возвращает отсортированную копию. Работает аналогично методу `sort()`, но не изменяет исходный список, а возвращает новое значение. Может сортировать все виды коллекций, но возвращает всегда список."
      ]
    },
    {
      "cell_type": "code",
      "execution_count": 139,
      "metadata": {},
      "outputs": [
        {
          "data": {
            "text/plain": [
              "[1, 2, 3, 4]"
            ]
          },
          "execution_count": 139,
          "metadata": {},
          "output_type": "execute_result"
        }
      ],
      "source": [
        "sorted([3, 1, 4, 2])"
      ]
    },
    {
      "cell_type": "code",
      "execution_count": 140,
      "metadata": {},
      "outputs": [
        {
          "data": {
            "text/plain": [
              "[1, 2, 3, 4]"
            ]
          },
          "execution_count": 140,
          "metadata": {},
          "output_type": "execute_result"
        }
      ],
      "source": [
        "sorted({3, 1, 4, 2})"
      ]
    },
    {
      "cell_type": "markdown",
      "metadata": {},
      "source": [
        "`any()` - проверяет условие, что хотя бы один элемент равен `True`."
      ]
    },
    {
      "cell_type": "code",
      "execution_count": 141,
      "metadata": {},
      "outputs": [
        {
          "data": {
            "text/plain": [
              "True"
            ]
          },
          "execution_count": 141,
          "metadata": {},
          "output_type": "execute_result"
        }
      ],
      "source": [
        "any([False, True, False])"
      ]
    },
    {
      "cell_type": "markdown",
      "metadata": {},
      "source": [
        "`all()` - проверяет условие, что все элементы равны `True`."
      ]
    },
    {
      "cell_type": "code",
      "execution_count": 142,
      "metadata": {},
      "outputs": [
        {
          "data": {
            "text/plain": [
              "True"
            ]
          },
          "execution_count": 142,
          "metadata": {},
          "output_type": "execute_result"
        }
      ],
      "source": [
        "any([True, True, True])"
      ]
    },
    {
      "cell_type": "markdown",
      "metadata": {},
      "source": [
        "`enumerate()` - возвращает индекс и значение из коллекции. Используется в циклах `for`."
      ]
    },
    {
      "cell_type": "code",
      "execution_count": 143,
      "metadata": {},
      "outputs": [
        {
          "name": "stdout",
          "output_type": "stream",
          "text": [
            "0 a\n",
            "1 b\n",
            "2 c\n"
          ]
        }
      ],
      "source": [
        "for index, value in enumerate(['a', 'b', 'c']):\n",
        "    print(index, value)"
      ]
    },
    {
      "cell_type": "markdown",
      "metadata": {},
      "source": [
        "`zip()` - объединяет коллекции попарно. Коллекции должны быть **одного размера**, иначе возникнет исключение. Используется в циклах `for`."
      ]
    },
    {
      "cell_type": "code",
      "execution_count": 144,
      "metadata": {},
      "outputs": [
        {
          "name": "stdout",
          "output_type": "stream",
          "text": [
            "Anna: 25\n",
            "Nikita: 30\n"
          ]
        }
      ],
      "source": [
        "names = ['Anna', 'Nikita']\n",
        "ages = [25, 30]\n",
        "for name, age in zip(names, ages):\n",
        "    print(f\"{name}: {age}\")"
      ]
    },
    {
      "cell_type": "markdown",
      "metadata": {},
      "source": [
        "Может объединять более двух коллекций:"
      ]
    },
    {
      "cell_type": "code",
      "execution_count": 145,
      "metadata": {},
      "outputs": [
        {
          "name": "stdout",
          "output_type": "stream",
          "text": [
            "(1) Anna: 25\n",
            "(2) Nikita: 30\n"
          ]
        }
      ],
      "source": [
        "ids = [1, 2]\n",
        "for name, age, id in zip(names, ages, ids):\n",
        "    print(f\"({id}) {name}: {age}\")"
      ]
    },
    {
      "cell_type": "markdown",
      "metadata": {},
      "source": [
        "### Специальные функции для итераций"
      ]
    },
    {
      "cell_type": "markdown",
      "metadata": {},
      "source": [
        "`map(func, iterable)` - применение функции к каждому элементу."
      ]
    },
    {
      "cell_type": "code",
      "execution_count": 146,
      "metadata": {},
      "outputs": [
        {
          "data": {
            "text/plain": [
              "['1', '2', '3', '4']"
            ]
          },
          "execution_count": 146,
          "metadata": {},
          "output_type": "execute_result"
        }
      ],
      "source": [
        "numbers = [1, 2, 3, 4]\n",
        "\n",
        "# преобразование каждого элемента коллекции к str\n",
        "str_numbers = list(map(str, numbers))\n",
        "\n",
        "str_numbers"
      ]
    },
    {
      "cell_type": "markdown",
      "metadata": {},
      "source": [
        "**Важное замечание**: `map()` возвращает итерируемый объект типа `map`, поэтому для дальнейшей работы его обязательно нужно преобразовать к другой коллекции."
      ]
    },
    {
      "cell_type": "code",
      "execution_count": 147,
      "metadata": {},
      "outputs": [
        {
          "data": {
            "text/plain": [
              "map"
            ]
          },
          "execution_count": 147,
          "metadata": {},
          "output_type": "execute_result"
        }
      ],
      "source": [
        "type(map(str, numbers))"
      ]
    },
    {
      "cell_type": "markdown",
      "metadata": {},
      "source": [
        "`filter(func, iterable)` - фильтрация элементов по функции (должна возвращать `True` или `False`)."
      ]
    },
    {
      "cell_type": "code",
      "execution_count": 148,
      "metadata": {},
      "outputs": [
        {
          "data": {
            "text/plain": [
              "[2, 4, 6]"
            ]
          },
          "execution_count": 148,
          "metadata": {},
          "output_type": "execute_result"
        }
      ],
      "source": [
        "lst = [1, 2, 3, 4, 5, 6]\n",
        "\n",
        "# только чётные числа\n",
        "lst2 = list(filter(lambda x: x % 2 == 0, lst))\n",
        "\n",
        "lst2"
      ]
    },
    {
      "cell_type": "markdown",
      "metadata": {},
      "source": [
        "Если вместо функции указано `None`, то напрямую конвертирует элемент в `bool`:"
      ]
    },
    {
      "cell_type": "code",
      "execution_count": 149,
      "metadata": {},
      "outputs": [
        {
          "data": {
            "text/plain": [
              "[1, 2, 5]"
            ]
          },
          "execution_count": 149,
          "metadata": {},
          "output_type": "execute_result"
        }
      ],
      "source": [
        "lst = [1, 2, 0, 0, 5, 0]\n",
        "\n",
        "# числа, не равные 0\n",
        "lst2 = list(filter(None, lst))\n",
        "\n",
        "lst2"
      ]
    },
    {
      "cell_type": "markdown",
      "metadata": {},
      "source": [
        "## Функции"
      ]
    },
    {
      "cell_type": "markdown",
      "metadata": {},
      "source": [
        "Общий синтаксис:\n",
        "\n",
        "```py\n",
        "def имя_функции(параметры):\n",
        "    # Тело функции\n",
        "    return результат\n",
        "```"
      ]
    },
    {
      "cell_type": "markdown",
      "metadata": {},
      "source": [
        "Позиционные аргументы (обычные):"
      ]
    },
    {
      "cell_type": "code",
      "execution_count": 150,
      "metadata": {
        "colab": {
          "base_uri": "https://localhost:8080/"
        },
        "id": "gtPRpemCb1Se",
        "outputId": "c9189aa9-dde1-49e4-c789-dd54b5d0470f"
      },
      "outputs": [
        {
          "data": {
            "text/plain": [
              "3"
            ]
          },
          "execution_count": 150,
          "metadata": {},
          "output_type": "execute_result"
        }
      ],
      "source": [
        "def my_sum(a, b):\n",
        "    res = a + b\n",
        "    return res\n",
        "\n",
        "# вызов функции и запись результата в переменную\n",
        "res = my_sum(1, 2)\n",
        "res"
      ]
    },
    {
      "cell_type": "markdown",
      "metadata": {},
      "source": [
        "Параметры по умолчанию:"
      ]
    },
    {
      "cell_type": "code",
      "execution_count": 151,
      "metadata": {
        "colab": {
          "base_uri": "https://localhost:8080/"
        },
        "id": "gFZ1tdUSsuw2",
        "outputId": "edfeac92-054b-4e8e-f60f-904c8b08a8e8"
      },
      "outputs": [
        {
          "data": {
            "text/plain": [
              "1"
            ]
          },
          "execution_count": 151,
          "metadata": {},
          "output_type": "execute_result"
        }
      ],
      "source": [
        "def my_sum(a, b=0):\n",
        "    res = a + b\n",
        "    return res\n",
        "\n",
        "my_sum(1)"
      ]
    },
    {
      "cell_type": "markdown",
      "metadata": {},
      "source": [
        "Именованные аргументы:"
      ]
    },
    {
      "cell_type": "code",
      "execution_count": null,
      "metadata": {},
      "outputs": [],
      "source": [
        "def my_sum(a, b):\n",
        "    res = a + b\n",
        "    return res\n",
        "\n",
        "# если явно указывать имя аргумента, можно передавать их в любом порядке\n",
        "my_sum(b=10, a=15)"
      ]
    },
    {
      "cell_type": "markdown",
      "metadata": {},
      "source": [
        "Если `return` не используется, то функция по умолчанию возвращает `None`:"
      ]
    },
    {
      "cell_type": "code",
      "execution_count": 152,
      "metadata": {},
      "outputs": [
        {
          "name": "stdout",
          "output_type": "stream",
          "text": [
            "Hello!\n",
            "None\n"
          ]
        }
      ],
      "source": [
        "def print_hello():\n",
        "    print(f\"Hello!\")\n",
        "\n",
        "result = print_hello()\n",
        "print(result)"
      ]
    },
    {
      "cell_type": "markdown",
      "metadata": {},
      "source": [
        "Из функции можно вернуть несколько значений через кортеж:"
      ]
    },
    {
      "cell_type": "code",
      "execution_count": 153,
      "metadata": {},
      "outputs": [
        {
          "data": {
            "text/plain": [
              "'Min: 1, Max: 4'"
            ]
          },
          "execution_count": 153,
          "metadata": {},
          "output_type": "execute_result"
        }
      ],
      "source": [
        "def min_max(numbers):\n",
        "    return min(numbers), max(numbers)\n",
        "\n",
        "nums = [1, 2, 3, 4]\n",
        "minimum, maximum = min_max(nums)\n",
        "\n",
        "f\"Min: {minimum}, Max: {maximum}\""
      ]
    },
    {
      "cell_type": "markdown",
      "metadata": {},
      "source": [
        "Произвольное число аргументов (`*args`):"
      ]
    },
    {
      "cell_type": "code",
      "execution_count": 154,
      "metadata": {},
      "outputs": [
        {
          "data": {
            "text/plain": [
              "6"
            ]
          },
          "execution_count": 154,
          "metadata": {},
          "output_type": "execute_result"
        }
      ],
      "source": [
        "# аргументы будут преобразованы в список\n",
        "def sum_all(*numbers):\n",
        "    total = 0\n",
        "    for num in numbers:\n",
        "        total += num\n",
        "    return total\n",
        "\n",
        "sum_all(1, 2, 3)"
      ]
    },
    {
      "cell_type": "markdown",
      "metadata": {},
      "source": [
        "Произвольные именованные аргументы (`**kwargs`):"
      ]
    },
    {
      "cell_type": "code",
      "execution_count": 155,
      "metadata": {},
      "outputs": [
        {
          "name": "stdout",
          "output_type": "stream",
          "text": [
            "name: Alan\n",
            "age: 25\n",
            "city: Samara\n"
          ]
        }
      ],
      "source": [
        "# аргументы будут преобразованы в словарь\n",
        "def print_user_info(**user_data):\n",
        "    for key, value in user_data.items():\n",
        "        print(f\"{key}: {value}\")\n",
        "\n",
        "print_user_info(name=\"Alan\", age=25, city=\"Samara\")"
      ]
    },
    {
      "cell_type": "markdown",
      "metadata": {},
      "source": [
        "**Аннотации типов** (type-hinting) позволяют указывать типы данных аргементов и возвращаемых значений:"
      ]
    },
    {
      "cell_type": "code",
      "execution_count": 156,
      "metadata": {},
      "outputs": [
        {
          "data": {
            "text/plain": [
              "3"
            ]
          },
          "execution_count": 156,
          "metadata": {},
          "output_type": "execute_result"
        }
      ],
      "source": [
        "def my_sum(a: int, b: int) -> int:\n",
        "    res = a + b\n",
        "    return res\n",
        "\n",
        "my_sum(1, 2)"
      ]
    },
    {
      "cell_type": "markdown",
      "metadata": {},
      "source": [
        "Можно указывать типы данных внутри коллекций (с версии Python 3.9):"
      ]
    },
    {
      "cell_type": "code",
      "execution_count": 157,
      "metadata": {},
      "outputs": [],
      "source": [
        "def sum_list(lst: list[int]):\n",
        "    pass\n",
        "\n",
        "def sum_dict(dct: dict[int, str]):\n",
        "    pass"
      ]
    },
    {
      "cell_type": "markdown",
      "metadata": {},
      "source": [
        "Также можно указать несколько допустимых типов данных через `|` (с версии Python 3.10):"
      ]
    },
    {
      "cell_type": "code",
      "execution_count": null,
      "metadata": {},
      "outputs": [],
      "source": [
        "def my_sum(a: int | float, b: int | float) -> int | float:\n",
        "    pass"
      ]
    },
    {
      "cell_type": "markdown",
      "metadata": {},
      "source": [
        "**Docstring** (строка документации) — это строковый литерал, который находится сразу после определения функции, класса или модуля и служит для его документации."
      ]
    },
    {
      "cell_type": "code",
      "execution_count": 158,
      "metadata": {
        "id": "cFaldNn5vBD3"
      },
      "outputs": [],
      "source": [
        "def my_sum(a: int, b: int) -> int:\n",
        "    \"\"\"\n",
        "    Складывает два числа и возвращает результат.\n",
        "    Args:\n",
        "        a (int): Первое число\n",
        "        b (int): Второе число\n",
        "    Returns:\n",
        "        int: Сумма a и b\n",
        "    \"\"\"\n",
        "    return a + b"
      ]
    },
    {
      "cell_type": "markdown",
      "metadata": {},
      "source": [
        "Для простых функций можно обойтись однострочной документацией:"
      ]
    },
    {
      "cell_type": "code",
      "execution_count": 159,
      "metadata": {},
      "outputs": [],
      "source": [
        "def my_sum(a: int, b: int) -> int:\n",
        "    \"\"\"\n",
        "    Складывает два числа и возвращает результат.\n",
        "    \"\"\"\n",
        "    return a + b"
      ]
    },
    {
      "cell_type": "markdown",
      "metadata": {},
      "source": [
        "### Lambda-функции"
      ]
    },
    {
      "cell_type": "markdown",
      "metadata": {},
      "source": [
        "**Lambda-функция** — это анонимная функция, которая:\n",
        "\n",
        "- Не имеет имени (но может быть присвоена переменной)\n",
        "- Содержит только одно выражение\n",
        "- Автоматически возвращает результат выражения\n",
        "- Часто используется для коротких операций\n",
        "\n",
        "Общий синтаксис:\n",
        "```py\n",
        "lambda аргументы: выражение\n",
        "```"
      ]
    },
    {
      "cell_type": "code",
      "execution_count": 160,
      "metadata": {
        "colab": {
          "base_uri": "https://localhost:8080/"
        },
        "id": "71c4Ou5Ow8ul",
        "outputId": "acdaf0fb-6377-4b01-d88e-a0b90155945d"
      },
      "outputs": [
        {
          "data": {
            "text/plain": [
              "[[0, 1], [1, 2], [4, 5]]"
            ]
          },
          "execution_count": 160,
          "metadata": {},
          "output_type": "execute_result"
        }
      ],
      "source": [
        "lst = [[1, 2], [4, 5], [0, 1]]\n",
        "\n",
        "# сортировка по сумме элементов\n",
        "lst.sort(key=lambda x: x[0] + x[1])\n",
        "\n",
        "lst"
      ]
    },
    {
      "cell_type": "markdown",
      "metadata": {},
      "source": [
        "lambda-функцию можно сохранить в переменную для дальнейшего использования:"
      ]
    },
    {
      "cell_type": "code",
      "execution_count": 161,
      "metadata": {},
      "outputs": [
        {
          "data": {
            "text/plain": [
              "3"
            ]
          },
          "execution_count": 161,
          "metadata": {},
          "output_type": "execute_result"
        }
      ],
      "source": [
        "l_sum = lambda a, b: a + b\n",
        "\n",
        "l_sum(1, 2)"
      ]
    },
    {
      "cell_type": "markdown",
      "metadata": {},
      "source": [
        "### Декораторы"
      ]
    },
    {
      "cell_type": "markdown",
      "metadata": {},
      "source": [
        "**Декоратор** — это функция, которая принимает другую функцию и расширяет её поведение, не изменяя её код напрямую."
      ]
    },
    {
      "cell_type": "code",
      "execution_count": 162,
      "metadata": {},
      "outputs": [
        {
          "name": "stdout",
          "output_type": "stream",
          "text": [
            "До вызова функции\n",
            "Привет, мир!\n",
            "После вызова функции\n"
          ]
        }
      ],
      "source": [
        "# определение функции декоратора\n",
        "def simple_decorator(func):\n",
        "    # функция, которая будет выполняться вместо оригинальной\n",
        "    def wrapper():\n",
        "        print(\"До вызова функции\")\n",
        "        result = func()\n",
        "        print(\"После вызова функции\")\n",
        "        return result\n",
        "    return wrapper\n",
        "\n",
        "# использование декоратора\n",
        "@simple_decorator\n",
        "def say_hello():\n",
        "    print(\"Привет, мир!\")\n",
        "\n",
        "say_hello()"
      ]
    },
    {
      "cell_type": "markdown",
      "metadata": {},
      "source": [
        "Аргументы вызываемой функции можно получить с помощью `*args` и `**kwargs`:"
      ]
    },
    {
      "cell_type": "code",
      "execution_count": 163,
      "metadata": {},
      "outputs": [
        {
          "name": "stdout",
          "output_type": "stream",
          "text": [
            "******************\n",
            "Hello, Alan!\n",
            "******************\n"
          ]
        }
      ],
      "source": [
        "def simple_decorator(func):\n",
        "    # аргументы передаются во wrapper\n",
        "    def wrapper(*args):\n",
        "        print(\"******************\")\n",
        "        func(args[0])\n",
        "        print(\"******************\")\n",
        "    return wrapper\n",
        "\n",
        "@simple_decorator\n",
        "def say_hello(name):\n",
        "    print(f\"Hello, {name}!\")\n",
        "\n",
        "say_hello('Alan')"
      ]
    },
    {
      "cell_type": "markdown",
      "metadata": {},
      "source": [
        "На одной функции можно использовать несколько декораторов, однако, важно соблюдать порадок применения:"
      ]
    },
    {
      "cell_type": "code",
      "execution_count": 164,
      "metadata": {},
      "outputs": [
        {
          "name": "stdout",
          "output_type": "stream",
          "text": [
            "******************\n",
            "------------------\n",
            "Hello, Alan!\n",
            "------------------\n",
            "******************\n"
          ]
        }
      ],
      "source": [
        "def simple_decorator(func):\n",
        "    def wrapper(*args):\n",
        "        print(\"******************\")\n",
        "        func(args[0])\n",
        "        print(\"******************\")\n",
        "    return wrapper\n",
        "\n",
        "def simple_decorator2(func):\n",
        "    def wrapper(*args):\n",
        "        print(\"------------------\")\n",
        "        func(args[0])\n",
        "        print(\"------------------\")\n",
        "    return wrapper\n",
        "\n",
        "@simple_decorator\n",
        "@simple_decorator2\n",
        "def say_hello(name):\n",
        "    print(f\"Hello, {name}!\")\n",
        "\n",
        "say_hello('Alan')"
      ]
    },
    {
      "cell_type": "markdown",
      "metadata": {},
      "source": [
        "## Исключения"
      ]
    },
    {
      "cell_type": "markdown",
      "metadata": {},
      "source": [
        "**Исключения** — это механизм обработки ошибок во время выполнения программы. Они позволяют программе продолжить работу после обнаружения ошибки, а не завершаться аварийно.\n",
        "\n",
        "В python есть исключения почти для всех возможных ситуаций. Они все наследуются от класса `BaseException` и имеют следующую иерархию:\n",
        "\n",
        "**BaseException**:\n",
        "- `SystemExit` - исключение, вызванное функцией sys.exit(), указывает на выход из Python.\n",
        "- `KeyboardInterrupt` - вызывается при прерывании программы пользователем (обычно через сочетание клавиш Ctrl+C).\n",
        "- `GeneratorExit` - вызывается, когда генератор закрывается; это не ошибка, а уведомление о закрытии.\n",
        "- `Exception` - почти все встроенные исключения, с которыми сталкиваются разработчики в повседневной работе, являются производными от этого класса. Он служит базой для иерархии исключений, не связанных с системными событиями.\n",
        "\n",
        "\n",
        "Схема иерархии исключений:"
      ]
    },
    {
      "cell_type": "markdown",
      "metadata": {},
      "source": [
        "![](exceptions.png)"
      ]
    },
    {
      "cell_type": "markdown",
      "metadata": {},
      "source": [
        "Основной синтаксис:\n",
        "\n",
        "```py\n",
        "try:\n",
        "    # код, который может вызвать ошибку\n",
        "except тип_исключения:\n",
        "    # обработка исключения\n",
        "```"
      ]
    },
    {
      "cell_type": "markdown",
      "metadata": {},
      "source": [
        "Исключение без указания типа:"
      ]
    },
    {
      "cell_type": "code",
      "execution_count": 165,
      "metadata": {},
      "outputs": [
        {
          "name": "stdout",
          "output_type": "stream",
          "text": [
            "Ошибка: деление на 0!\n"
          ]
        }
      ],
      "source": [
        "try:\n",
        "    a = 1 / 0\n",
        "except:\n",
        "    print(\"Ошибка: деление на 0!\")"
      ]
    },
    {
      "cell_type": "markdown",
      "metadata": {},
      "source": [
        "Исключение с указанием типа:"
      ]
    },
    {
      "cell_type": "code",
      "execution_count": 166,
      "metadata": {},
      "outputs": [
        {
          "name": "stdout",
          "output_type": "stream",
          "text": [
            "Ошибка: деление на 0!\n"
          ]
        }
      ],
      "source": [
        "try:\n",
        "    a = 1 / 0\n",
        "except ZeroDivisionError:\n",
        "    print(\"Ошибка: деление на 0!\")"
      ]
    },
    {
      "cell_type": "markdown",
      "metadata": {},
      "source": [
        "Исключение можно записать в переменную для получения информации:"
      ]
    },
    {
      "cell_type": "code",
      "execution_count": 167,
      "metadata": {},
      "outputs": [
        {
          "name": "stdout",
          "output_type": "stream",
          "text": [
            "division by zero\n"
          ]
        }
      ],
      "source": [
        "try:\n",
        "    a = 1 / 0\n",
        "except ZeroDivisionError as exc:\n",
        "    print(exc)"
      ]
    },
    {
      "cell_type": "markdown",
      "metadata": {},
      "source": [
        "Несколько типов исключений:"
      ]
    },
    {
      "cell_type": "code",
      "execution_count": 168,
      "metadata": {},
      "outputs": [
        {
          "name": "stdout",
          "output_type": "stream",
          "text": [
            "division by zero\n"
          ]
        }
      ],
      "source": [
        "try:\n",
        "    a = 1 / 0\n",
        "except ZeroDivisionError as exc:\n",
        "    print(exc)\n",
        "except Exception as exc:\n",
        "    print(exc)"
      ]
    },
    {
      "cell_type": "markdown",
      "metadata": {},
      "source": [
        "Блок `else` выполняется, если исключение не возникло:"
      ]
    },
    {
      "cell_type": "code",
      "execution_count": 169,
      "metadata": {},
      "outputs": [
        {
          "name": "stdout",
          "output_type": "stream",
          "text": [
            "Программа отработала корректно\n"
          ]
        }
      ],
      "source": [
        "try:\n",
        "    a = 1 / 10\n",
        "except ZeroDivisionError as exc:\n",
        "    print(exc)\n",
        "else:\n",
        "    print(\"Программа отработала корректно\")"
      ]
    },
    {
      "cell_type": "markdown",
      "metadata": {},
      "source": [
        "Блок `finally` выполняется в любом случае:"
      ]
    },
    {
      "cell_type": "code",
      "execution_count": 170,
      "metadata": {},
      "outputs": [
        {
          "name": "stdout",
          "output_type": "stream",
          "text": [
            "division by zero\n",
            "В любом случае, работа окончена!\n"
          ]
        }
      ],
      "source": [
        "try:\n",
        "    a = 1 / 0\n",
        "except ZeroDivisionError as exc:\n",
        "    print(exc)\n",
        "else:\n",
        "    print(\"Программа отработала корректно\")\n",
        "finally:\n",
        "    print(\"В любом случае, работа окончена!\")"
      ]
    },
    {
      "cell_type": "markdown",
      "metadata": {},
      "source": [
        "Генерация исключения происходит с помощью ключевого слова `raise`:"
      ]
    },
    {
      "cell_type": "code",
      "execution_count": 171,
      "metadata": {},
      "outputs": [
        {
          "name": "stdout",
          "output_type": "stream",
          "text": [
            "Ошибка: деление на 0!\n"
          ]
        }
      ],
      "source": [
        "a, b = 1, 0\n",
        "try:\n",
        "    if b == 0:\n",
        "        # можно указать собственное сообщение об ошибке\n",
        "        raise ZeroDivisionError(\"Ошибка: деление на 0!\")\n",
        "    a / b\n",
        "except ZeroDivisionError as exc:\n",
        "    print(exc)"
      ]
    },
    {
      "cell_type": "markdown",
      "metadata": {},
      "source": [
        "Можно создавать собственные классы-исключения, но обычно в этом нет необходимости, ведь в python можно найти исключения на любой вкус и цвет :)"
      ]
    }
  ],
  "metadata": {
    "colab": {
      "provenance": []
    },
    "kernelspec": {
      "display_name": "Python 3",
      "name": "python3"
    },
    "language_info": {
      "codemirror_mode": {
        "name": "ipython",
        "version": 3
      },
      "file_extension": ".py",
      "mimetype": "text/x-python",
      "name": "python",
      "nbconvert_exporter": "python",
      "pygments_lexer": "ipython3",
      "version": "3.13.5"
    }
  },
  "nbformat": 4,
  "nbformat_minor": 0
}
