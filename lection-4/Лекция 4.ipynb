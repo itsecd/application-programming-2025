{
  "cells": [
    {
      "cell_type": "markdown",
      "metadata": {},
      "source": [
        "# Лекция 4. Модули и пакеты [2]"
      ]
    },
    {
      "cell_type": "code",
      "execution_count": null,
      "metadata": {},
      "outputs": [],
      "source": [
        "!python -m venv .venv "
      ]
    },
    {
      "cell_type": "code",
      "execution_count": 1,
      "metadata": {},
      "outputs": [],
      "source": [
        "!.venv\\Scripts\\activate"
      ]
    },
    {
      "cell_type": "code",
      "execution_count": null,
      "metadata": {},
      "outputs": [],
      "source": [
        "!.venv\\Scripts\\deactivate"
      ]
    },
    {
      "cell_type": "markdown",
      "metadata": {
        "id": "EguCTKBtWvrb"
      },
      "source": [
        "## Модуль math"
      ]
    },
    {
      "cell_type": "markdown",
      "metadata": {},
      "source": [
        "Модуль `math` предоставляет функции для работы с вещественными числами и математическими операциями."
      ]
    },
    {
      "cell_type": "code",
      "execution_count": 4,
      "metadata": {
        "id": "JqNnRrHQWm4-"
      },
      "outputs": [],
      "source": [
        "import math"
      ]
    },
    {
      "cell_type": "markdown",
      "metadata": {},
      "source": [
        "### Основные константы"
      ]
    },
    {
      "cell_type": "markdown",
      "metadata": {},
      "source": [
        "Число π:"
      ]
    },
    {
      "cell_type": "code",
      "execution_count": 5,
      "metadata": {},
      "outputs": [
        {
          "data": {
            "text/plain": [
              "3.141592653589793"
            ]
          },
          "execution_count": 5,
          "metadata": {},
          "output_type": "execute_result"
        }
      ],
      "source": [
        "math.pi"
      ]
    },
    {
      "cell_type": "markdown",
      "metadata": {},
      "source": [
        "Число e:"
      ]
    },
    {
      "cell_type": "code",
      "execution_count": 6,
      "metadata": {},
      "outputs": [
        {
          "data": {
            "text/plain": [
              "2.718281828459045"
            ]
          },
          "execution_count": 6,
          "metadata": {},
          "output_type": "execute_result"
        }
      ],
      "source": [
        "math.e"
      ]
    },
    {
      "cell_type": "markdown",
      "metadata": {},
      "source": [
        "2π (τ):"
      ]
    },
    {
      "cell_type": "code",
      "execution_count": 7,
      "metadata": {},
      "outputs": [
        {
          "data": {
            "text/plain": [
              "6.283185307179586"
            ]
          },
          "execution_count": 7,
          "metadata": {},
          "output_type": "execute_result"
        }
      ],
      "source": [
        "math.tau"
      ]
    },
    {
      "cell_type": "markdown",
      "metadata": {},
      "source": [
        "Бесконечность:"
      ]
    },
    {
      "cell_type": "code",
      "execution_count": 8,
      "metadata": {},
      "outputs": [
        {
          "data": {
            "text/plain": [
              "inf"
            ]
          },
          "execution_count": 8,
          "metadata": {},
          "output_type": "execute_result"
        }
      ],
      "source": [
        "math.inf"
      ]
    },
    {
      "cell_type": "markdown",
      "metadata": {},
      "source": [
        "Не число (Not a Number):"
      ]
    },
    {
      "cell_type": "code",
      "execution_count": 9,
      "metadata": {},
      "outputs": [
        {
          "data": {
            "text/plain": [
              "nan"
            ]
          },
          "execution_count": 9,
          "metadata": {},
          "output_type": "execute_result"
        }
      ],
      "source": [
        "math.nan"
      ]
    },
    {
      "cell_type": "markdown",
      "metadata": {},
      "source": [
        "### Тригонометрические функции"
      ]
    },
    {
      "cell_type": "markdown",
      "metadata": {},
      "source": [
        "Преобразование градусов в радианы:"
      ]
    },
    {
      "cell_type": "code",
      "execution_count": 10,
      "metadata": {},
      "outputs": [
        {
          "data": {
            "text/plain": [
              "0.7853981633974483"
            ]
          },
          "execution_count": 10,
          "metadata": {},
          "output_type": "execute_result"
        }
      ],
      "source": [
        "angle = math.radians(45)\n",
        "angle"
      ]
    },
    {
      "cell_type": "markdown",
      "metadata": {},
      "source": [
        "Преобразование радиан в градусы:"
      ]
    },
    {
      "cell_type": "code",
      "execution_count": 11,
      "metadata": {},
      "outputs": [
        {
          "data": {
            "text/plain": [
              "45.0"
            ]
          },
          "execution_count": 11,
          "metadata": {},
          "output_type": "execute_result"
        }
      ],
      "source": [
        "math.degrees(angle)"
      ]
    },
    {
      "cell_type": "markdown",
      "metadata": {},
      "source": [
        "Синус:"
      ]
    },
    {
      "cell_type": "code",
      "execution_count": 12,
      "metadata": {},
      "outputs": [
        {
          "data": {
            "text/plain": [
              "0.7071067811865476"
            ]
          },
          "execution_count": 12,
          "metadata": {},
          "output_type": "execute_result"
        }
      ],
      "source": [
        "math.sin(angle)"
      ]
    },
    {
      "cell_type": "markdown",
      "metadata": {},
      "source": [
        "Косинус:"
      ]
    },
    {
      "cell_type": "code",
      "execution_count": 13,
      "metadata": {},
      "outputs": [
        {
          "data": {
            "text/plain": [
              "0.7071067811865476"
            ]
          },
          "execution_count": 13,
          "metadata": {},
          "output_type": "execute_result"
        }
      ],
      "source": [
        "math.cos(angle)"
      ]
    },
    {
      "cell_type": "markdown",
      "metadata": {},
      "source": [
        "Тангенс:"
      ]
    },
    {
      "cell_type": "code",
      "execution_count": 14,
      "metadata": {},
      "outputs": [
        {
          "data": {
            "text/plain": [
              "0.9999999999999999"
            ]
          },
          "execution_count": 14,
          "metadata": {},
          "output_type": "execute_result"
        }
      ],
      "source": [
        "math.tan(angle)"
      ]
    },
    {
      "cell_type": "markdown",
      "metadata": {},
      "source": [
        "Арксинус:"
      ]
    },
    {
      "cell_type": "code",
      "execution_count": 15,
      "metadata": {},
      "outputs": [
        {
          "data": {
            "text/plain": [
              "0.7853981633974484"
            ]
          },
          "execution_count": 15,
          "metadata": {},
          "output_type": "execute_result"
        }
      ],
      "source": [
        "math.asin(math.sin(angle))"
      ]
    },
    {
      "cell_type": "markdown",
      "metadata": {},
      "source": [
        "### Экспоненциальные и логарифмические функции"
      ]
    },
    {
      "cell_type": "markdown",
      "metadata": {},
      "source": [
        "eˣ:"
      ]
    },
    {
      "cell_type": "code",
      "execution_count": 16,
      "metadata": {},
      "outputs": [
        {
          "data": {
            "text/plain": [
              "7.38905609893065"
            ]
          },
          "execution_count": 16,
          "metadata": {},
          "output_type": "execute_result"
        }
      ],
      "source": [
        "math.exp(2)"
      ]
    },
    {
      "cell_type": "markdown",
      "metadata": {},
      "source": [
        "Натуральный логарифм:"
      ]
    },
    {
      "cell_type": "code",
      "execution_count": 17,
      "metadata": {},
      "outputs": [
        {
          "data": {
            "text/plain": [
              "4.605170185988092"
            ]
          },
          "execution_count": 17,
          "metadata": {},
          "output_type": "execute_result"
        }
      ],
      "source": [
        "math.log(100)"
      ]
    },
    {
      "cell_type": "markdown",
      "metadata": {},
      "source": [
        "Логарифм с основанием x:"
      ]
    },
    {
      "cell_type": "code",
      "execution_count": 18,
      "metadata": {},
      "outputs": [
        {
          "data": {
            "text/plain": [
              "2.0"
            ]
          },
          "execution_count": 18,
          "metadata": {},
          "output_type": "execute_result"
        }
      ],
      "source": [
        "math.log(100, 10)"
      ]
    },
    {
      "cell_type": "markdown",
      "metadata": {},
      "source": [
        "Логарифм по основанию 10:"
      ]
    },
    {
      "cell_type": "code",
      "execution_count": 19,
      "metadata": {},
      "outputs": [
        {
          "data": {
            "text/plain": [
              "2.0"
            ]
          },
          "execution_count": 19,
          "metadata": {},
          "output_type": "execute_result"
        }
      ],
      "source": [
        "math.log10(100)"
      ]
    },
    {
      "cell_type": "markdown",
      "metadata": {},
      "source": [
        "Логарифм по основанию 2:"
      ]
    },
    {
      "cell_type": "code",
      "execution_count": 20,
      "metadata": {},
      "outputs": [
        {
          "data": {
            "text/plain": [
              "3.0"
            ]
          },
          "execution_count": 20,
          "metadata": {},
          "output_type": "execute_result"
        }
      ],
      "source": [
        "math.log2(8)"
      ]
    },
    {
      "cell_type": "markdown",
      "metadata": {},
      "source": [
        "Возведение в степень:"
      ]
    },
    {
      "cell_type": "code",
      "execution_count": 21,
      "metadata": {},
      "outputs": [
        {
          "data": {
            "text/plain": [
              "8.0"
            ]
          },
          "execution_count": 21,
          "metadata": {},
          "output_type": "execute_result"
        }
      ],
      "source": [
        "math.pow(2, 3)"
      ]
    },
    {
      "cell_type": "markdown",
      "metadata": {},
      "source": [
        "### Округление и целые числа"
      ]
    },
    {
      "cell_type": "markdown",
      "metadata": {},
      "source": [
        "Округление вверх:"
      ]
    },
    {
      "cell_type": "code",
      "execution_count": 22,
      "metadata": {},
      "outputs": [
        {
          "data": {
            "text/plain": [
              "4"
            ]
          },
          "execution_count": 22,
          "metadata": {},
          "output_type": "execute_result"
        }
      ],
      "source": [
        "math.ceil(3.4)"
      ]
    },
    {
      "cell_type": "code",
      "execution_count": 23,
      "metadata": {},
      "outputs": [
        {
          "data": {
            "text/plain": [
              "-3"
            ]
          },
          "execution_count": 23,
          "metadata": {},
          "output_type": "execute_result"
        }
      ],
      "source": [
        "math.ceil(-3.4)"
      ]
    },
    {
      "cell_type": "markdown",
      "metadata": {},
      "source": [
        "Округление вниз:"
      ]
    },
    {
      "cell_type": "code",
      "execution_count": 24,
      "metadata": {},
      "outputs": [
        {
          "data": {
            "text/plain": [
              "3"
            ]
          },
          "execution_count": 24,
          "metadata": {},
          "output_type": "execute_result"
        }
      ],
      "source": [
        "math.floor(3.7)"
      ]
    },
    {
      "cell_type": "code",
      "execution_count": 25,
      "metadata": {},
      "outputs": [
        {
          "data": {
            "text/plain": [
              "-4"
            ]
          },
          "execution_count": 25,
          "metadata": {},
          "output_type": "execute_result"
        }
      ],
      "source": [
        "math.floor(-3.7)"
      ]
    },
    {
      "cell_type": "markdown",
      "metadata": {},
      "source": [
        "Отбрасывание дробной части:"
      ]
    },
    {
      "cell_type": "code",
      "execution_count": 26,
      "metadata": {},
      "outputs": [
        {
          "data": {
            "text/plain": [
              "3"
            ]
          },
          "execution_count": 26,
          "metadata": {},
          "output_type": "execute_result"
        }
      ],
      "source": [
        "math.trunc(3.7)"
      ]
    },
    {
      "cell_type": "code",
      "execution_count": 27,
      "metadata": {},
      "outputs": [
        {
          "data": {
            "text/plain": [
              "-3"
            ]
          },
          "execution_count": 27,
          "metadata": {},
          "output_type": "execute_result"
        }
      ],
      "source": [
        "math.trunc(-3.7)"
      ]
    },
    {
      "cell_type": "markdown",
      "metadata": {},
      "source": [
        "Безопасное сравнение float.\n",
        "\n",
        "Дополнительные аргументы:\n",
        "- `rel_tol` (relative tolerance) — относительная погрешность (по умолчанию 1e-09)\n",
        "- `abs_tol` (absolute tolerance) — абсолютная погрешность (по умолчанию 0.0)"
      ]
    },
    {
      "cell_type": "code",
      "execution_count": 28,
      "metadata": {},
      "outputs": [
        {
          "data": {
            "text/plain": [
              "True"
            ]
          },
          "execution_count": 28,
          "metadata": {},
          "output_type": "execute_result"
        }
      ],
      "source": [
        "math.isclose(0.100001 + 0.2, 0.3, abs_tol=0.0001)"
      ]
    },
    {
      "cell_type": "code",
      "execution_count": 29,
      "metadata": {},
      "outputs": [
        {
          "data": {
            "text/plain": [
              "False"
            ]
          },
          "execution_count": 29,
          "metadata": {},
          "output_type": "execute_result"
        }
      ],
      "source": [
        "math.isclose(0.100001 + 0.2, 0.3, abs_tol=0.000001)"
      ]
    },
    {
      "cell_type": "markdown",
      "metadata": {},
      "source": [
        "### Специальные функции"
      ]
    },
    {
      "cell_type": "markdown",
      "metadata": {},
      "source": [
        "Квадратный корень:"
      ]
    },
    {
      "cell_type": "code",
      "execution_count": 30,
      "metadata": {},
      "outputs": [
        {
          "data": {
            "text/plain": [
              "4.0"
            ]
          },
          "execution_count": 30,
          "metadata": {},
          "output_type": "execute_result"
        }
      ],
      "source": [
        "math.sqrt(16)"
      ]
    },
    {
      "cell_type": "markdown",
      "metadata": {},
      "source": [
        "Целочисленный квадратный корень:"
      ]
    },
    {
      "cell_type": "code",
      "execution_count": 31,
      "metadata": {},
      "outputs": [
        {
          "data": {
            "text/plain": [
              "3"
            ]
          },
          "execution_count": 31,
          "metadata": {},
          "output_type": "execute_result"
        }
      ],
      "source": [
        "math.isqrt(15)"
      ]
    },
    {
      "cell_type": "markdown",
      "metadata": {},
      "source": [
        "Факториал:"
      ]
    },
    {
      "cell_type": "code",
      "execution_count": 32,
      "metadata": {},
      "outputs": [
        {
          "data": {
            "text/plain": [
              "120"
            ]
          },
          "execution_count": 32,
          "metadata": {},
          "output_type": "execute_result"
        }
      ],
      "source": [
        "math.factorial(5)"
      ]
    },
    {
      "cell_type": "markdown",
      "metadata": {},
      "source": [
        "НОД (наибольший общий делитель):"
      ]
    },
    {
      "cell_type": "code",
      "execution_count": 33,
      "metadata": {},
      "outputs": [
        {
          "data": {
            "text/plain": [
              "6"
            ]
          },
          "execution_count": 33,
          "metadata": {},
          "output_type": "execute_result"
        }
      ],
      "source": [
        "math.gcd(48, 18)"
      ]
    },
    {
      "cell_type": "markdown",
      "metadata": {},
      "source": [
        "НОК (наименьшее общее кратное). Доступно с версии Python 3.9+"
      ]
    },
    {
      "cell_type": "code",
      "execution_count": 34,
      "metadata": {},
      "outputs": [
        {
          "data": {
            "text/plain": [
              "36"
            ]
          },
          "execution_count": 34,
          "metadata": {},
          "output_type": "execute_result"
        }
      ],
      "source": [
        "math.lcm(12, 18)"
      ]
    },
    {
      "cell_type": "markdown",
      "metadata": {},
      "source": [
        "Абсолютное значение:"
      ]
    },
    {
      "cell_type": "code",
      "execution_count": 35,
      "metadata": {},
      "outputs": [
        {
          "data": {
            "text/plain": [
              "5.5"
            ]
          },
          "execution_count": 35,
          "metadata": {},
          "output_type": "execute_result"
        }
      ],
      "source": [
        "math.fabs(-5.5)"
      ]
    },
    {
      "cell_type": "markdown",
      "metadata": {},
      "source": [
        "Остаток от деления (сохраняет знак делимого):"
      ]
    },
    {
      "cell_type": "code",
      "execution_count": 36,
      "metadata": {},
      "outputs": [
        {
          "data": {
            "text/plain": [
              "1.0"
            ]
          },
          "execution_count": 36,
          "metadata": {},
          "output_type": "execute_result"
        }
      ],
      "source": [
        "math.fmod(10, 3)"
      ]
    },
    {
      "cell_type": "code",
      "execution_count": 37,
      "metadata": {},
      "outputs": [
        {
          "data": {
            "text/plain": [
              "0.5"
            ]
          },
          "execution_count": 37,
          "metadata": {},
          "output_type": "execute_result"
        }
      ],
      "source": [
        "math.fmod(3.5, 1)"
      ]
    },
    {
      "cell_type": "markdown",
      "metadata": {},
      "source": [
        "Остаток от деления (возвращает результат с минимальным абсолютным значением). Доступно с версии Python 3.7"
      ]
    },
    {
      "cell_type": "code",
      "execution_count": 38,
      "metadata": {},
      "outputs": [
        {
          "data": {
            "text/plain": [
              "1.0"
            ]
          },
          "execution_count": 38,
          "metadata": {},
          "output_type": "execute_result"
        }
      ],
      "source": [
        "math.remainder(10, 3)"
      ]
    },
    {
      "cell_type": "code",
      "execution_count": 39,
      "metadata": {},
      "outputs": [
        {
          "data": {
            "text/plain": [
              "-0.5"
            ]
          },
          "execution_count": 39,
          "metadata": {},
          "output_type": "execute_result"
        }
      ],
      "source": [
        "math.remainder(3.5, 1)"
      ]
    },
    {
      "cell_type": "markdown",
      "metadata": {},
      "source": [
        "Сумма чисел:"
      ]
    },
    {
      "cell_type": "code",
      "execution_count": 40,
      "metadata": {},
      "outputs": [
        {
          "data": {
            "text/plain": [
              "0.6"
            ]
          },
          "execution_count": 40,
          "metadata": {},
          "output_type": "execute_result"
        }
      ],
      "source": [
        "math.fsum([0.1, 0.2, 0.3])"
      ]
    },
    {
      "cell_type": "markdown",
      "metadata": {},
      "source": [
        "### Гиперболические функции"
      ]
    },
    {
      "cell_type": "markdown",
      "metadata": {},
      "source": [
        "Гиперболический синус:"
      ]
    },
    {
      "cell_type": "code",
      "execution_count": 41,
      "metadata": {},
      "outputs": [
        {
          "data": {
            "text/plain": [
              "1.1752011936438014"
            ]
          },
          "execution_count": 41,
          "metadata": {},
          "output_type": "execute_result"
        }
      ],
      "source": [
        "math.sinh(1)"
      ]
    },
    {
      "cell_type": "markdown",
      "metadata": {},
      "source": [
        "Гиперболический косинус:"
      ]
    },
    {
      "cell_type": "code",
      "execution_count": 42,
      "metadata": {},
      "outputs": [
        {
          "data": {
            "text/plain": [
              "1.5430806348152437"
            ]
          },
          "execution_count": 42,
          "metadata": {},
          "output_type": "execute_result"
        }
      ],
      "source": [
        "math.cosh(1)"
      ]
    },
    {
      "cell_type": "markdown",
      "metadata": {},
      "source": [
        "Гиперболический тангенс:"
      ]
    },
    {
      "cell_type": "code",
      "execution_count": 43,
      "metadata": {},
      "outputs": [
        {
          "data": {
            "text/plain": [
              "0.7615941559557649"
            ]
          },
          "execution_count": 43,
          "metadata": {},
          "output_type": "execute_result"
        }
      ],
      "source": [
        "math.tanh(1)"
      ]
    },
    {
      "cell_type": "markdown",
      "metadata": {},
      "source": [
        "### Работа с углами"
      ]
    },
    {
      "cell_type": "markdown",
      "metadata": {},
      "source": [
        "Расстояние между точками (работает для N-мерного пространства):"
      ]
    },
    {
      "cell_type": "code",
      "execution_count": 44,
      "metadata": {},
      "outputs": [
        {
          "data": {
            "text/plain": [
              "5.0"
            ]
          },
          "execution_count": 44,
          "metadata": {},
          "output_type": "execute_result"
        }
      ],
      "source": [
        "math.dist([0, 0], [3, 4])"
      ]
    },
    {
      "cell_type": "markdown",
      "metadata": {},
      "source": [
        "Гипотенуза (расстояние до точки от начала координат):"
      ]
    },
    {
      "cell_type": "code",
      "execution_count": 45,
      "metadata": {},
      "outputs": [
        {
          "data": {
            "text/plain": [
              "5.0"
            ]
          },
          "execution_count": 45,
          "metadata": {},
          "output_type": "execute_result"
        }
      ],
      "source": [
        "math.hypot(3, 4)"
      ]
    },
    {
      "cell_type": "markdown",
      "metadata": {},
      "source": [
        "### Проверки"
      ]
    },
    {
      "cell_type": "markdown",
      "metadata": {},
      "source": [
        "Проверка на NaN:"
      ]
    },
    {
      "cell_type": "code",
      "execution_count": 46,
      "metadata": {},
      "outputs": [
        {
          "data": {
            "text/plain": [
              "True"
            ]
          },
          "execution_count": 46,
          "metadata": {},
          "output_type": "execute_result"
        }
      ],
      "source": [
        "math.isnan(math.nan)"
      ]
    },
    {
      "cell_type": "markdown",
      "metadata": {},
      "source": [
        "Проверка на конечное число:"
      ]
    },
    {
      "cell_type": "code",
      "execution_count": 47,
      "metadata": {},
      "outputs": [
        {
          "data": {
            "text/plain": [
              "True"
            ]
          },
          "execution_count": 47,
          "metadata": {},
          "output_type": "execute_result"
        }
      ],
      "source": [
        "math.isfinite(10)"
      ]
    },
    {
      "cell_type": "code",
      "execution_count": 48,
      "metadata": {},
      "outputs": [
        {
          "data": {
            "text/plain": [
              "False"
            ]
          },
          "execution_count": 48,
          "metadata": {},
          "output_type": "execute_result"
        }
      ],
      "source": [
        "math.isfinite(math.inf)"
      ]
    },
    {
      "cell_type": "markdown",
      "metadata": {},
      "source": [
        "Проверка на бесконечность:"
      ]
    },
    {
      "cell_type": "code",
      "execution_count": 49,
      "metadata": {},
      "outputs": [
        {
          "data": {
            "text/plain": [
              "True"
            ]
          },
          "execution_count": 49,
          "metadata": {},
          "output_type": "execute_result"
        }
      ],
      "source": [
        "math.isinf(math.inf)"
      ]
    },
    {
      "cell_type": "markdown",
      "metadata": {
        "id": "Wk4PnBvjW2oc"
      },
      "source": [
        "## Модуль datetime"
      ]
    },
    {
      "cell_type": "markdown",
      "metadata": {},
      "source": [
        "`datetime` — модуль для работы с датами и временем."
      ]
    },
    {
      "cell_type": "code",
      "execution_count": 66,
      "metadata": {
        "id": "GWJAFIM5W5Ex"
      },
      "outputs": [],
      "source": [
        "import datetime as dt"
      ]
    },
    {
      "cell_type": "markdown",
      "metadata": {},
      "source": [
        "Модуль `datetime` содержит несколько классов:\n",
        "\n",
        "- `date` - работа с датами\n",
        "- `time` - работа с временем\n",
        "- `datetime` - работа с датами и временем\n",
        "- `timedelta` - разница между датами\n",
        "- `timezone` - временные зоны (доступно с Python 3.2+)"
      ]
    },
    {
      "cell_type": "markdown",
      "metadata": {
        "id": "Io-V7ybvXN_U"
      },
      "source": [
        "### Класс `date`"
      ]
    },
    {
      "cell_type": "markdown",
      "metadata": {},
      "source": [
        "#### Создание дат"
      ]
    },
    {
      "cell_type": "markdown",
      "metadata": {},
      "source": [
        "Через конструктор (обязательные аргументы - год, месяц и день):"
      ]
    },
    {
      "cell_type": "code",
      "execution_count": 51,
      "metadata": {},
      "outputs": [
        {
          "name": "stdout",
          "output_type": "stream",
          "text": [
            "2025-09-22\n"
          ]
        }
      ],
      "source": [
        "d = dt.date(year=2025, month=9, day=22)\n",
        "print(d)"
      ]
    },
    {
      "cell_type": "markdown",
      "metadata": {},
      "source": [
        "Текущая дата:"
      ]
    },
    {
      "cell_type": "code",
      "execution_count": 52,
      "metadata": {},
      "outputs": [
        {
          "name": "stdout",
          "output_type": "stream",
          "text": [
            "2025-09-22\n"
          ]
        }
      ],
      "source": [
        "d = dt.date.today()\n",
        "print(d)"
      ]
    },
    {
      "cell_type": "markdown",
      "metadata": {},
      "source": [
        "Из timestamp:"
      ]
    },
    {
      "cell_type": "code",
      "execution_count": 53,
      "metadata": {},
      "outputs": [
        {
          "name": "stdout",
          "output_type": "stream",
          "text": [
            "2025-09-22\n"
          ]
        }
      ],
      "source": [
        "d = dt.date.fromtimestamp(1758490000)\n",
        "print(d)"
      ]
    },
    {
      "cell_type": "markdown",
      "metadata": {},
      "source": [
        "#### Атрибуты и методы"
      ]
    },
    {
      "cell_type": "markdown",
      "metadata": {},
      "source": [
        "Атрибуты:"
      ]
    },
    {
      "cell_type": "code",
      "execution_count": 54,
      "metadata": {},
      "outputs": [
        {
          "name": "stdout",
          "output_type": "stream",
          "text": [
            "2025\n",
            "9\n",
            "22\n",
            "0\n",
            "1\n"
          ]
        }
      ],
      "source": [
        "print(d.year)    # год\n",
        "print(d.month)   # месяц\n",
        "print(d.day)     # день\n",
        "print(d.weekday())  # день недели (от 0 до 6)\n",
        "print(d.isoweekday())  # день недели (от 1 до 7)"
      ]
    },
    {
      "cell_type": "markdown",
      "metadata": {},
      "source": [
        "Форматирование:"
      ]
    },
    {
      "cell_type": "code",
      "execution_count": 55,
      "metadata": {},
      "outputs": [
        {
          "data": {
            "text/plain": [
              "'22.09.2025'"
            ]
          },
          "execution_count": 55,
          "metadata": {},
          "output_type": "execute_result"
        }
      ],
      "source": [
        "d.strftime(\"%d.%m.%Y\")"
      ]
    },
    {
      "cell_type": "code",
      "execution_count": 56,
      "metadata": {},
      "outputs": [
        {
          "data": {
            "text/plain": [
              "'2025-09-22'"
            ]
          },
          "execution_count": 56,
          "metadata": {},
          "output_type": "execute_result"
        }
      ],
      "source": [
        "d.isoformat()"
      ]
    },
    {
      "cell_type": "code",
      "execution_count": 57,
      "metadata": {
        "colab": {
          "base_uri": "https://localhost:8080/",
          "height": 35
        },
        "id": "5VWZS5qwal-s",
        "outputId": "a0ebce08-3ca0-45df-c73b-0c065291f1f7"
      },
      "outputs": [
        {
          "data": {
            "text/plain": [
              "'Mon Sep 22 00:00:00 2025'"
            ]
          },
          "execution_count": 57,
          "metadata": {},
          "output_type": "execute_result"
        }
      ],
      "source": [
        "d.ctime()"
      ]
    },
    {
      "cell_type": "markdown",
      "metadata": {},
      "source": [
        "Замена значения (любого поля):"
      ]
    },
    {
      "cell_type": "code",
      "execution_count": 58,
      "metadata": {
        "colab": {
          "base_uri": "https://localhost:8080/"
        },
        "id": "OUEbh3uibPu3",
        "outputId": "fed90344-5e8e-483b-a251-989b30a0214d"
      },
      "outputs": [
        {
          "data": {
            "text/plain": [
              "datetime.date(2025, 9, 23)"
            ]
          },
          "execution_count": 58,
          "metadata": {},
          "output_type": "execute_result"
        }
      ],
      "source": [
        "d = d.replace(day=23)\n",
        "d"
      ]
    },
    {
      "cell_type": "markdown",
      "metadata": {
        "id": "fxxoSrrzYxWP"
      },
      "source": [
        "### Класс `time`"
      ]
    },
    {
      "cell_type": "markdown",
      "metadata": {},
      "source": [
        "#### Создание времени"
      ]
    },
    {
      "cell_type": "markdown",
      "metadata": {},
      "source": [
        "Конструктор принимает 4 необязательных параметра - часы, минуты, секунды и милисекунды."
      ]
    },
    {
      "cell_type": "code",
      "execution_count": 59,
      "metadata": {
        "colab": {
          "base_uri": "https://localhost:8080/"
        },
        "id": "HI8R8vS1YzlD",
        "outputId": "eae2c530-db4c-40e5-91a2-a2487be0ef21"
      },
      "outputs": [
        {
          "name": "stdout",
          "output_type": "stream",
          "text": [
            "00:00:00\n",
            "11:00:00\n",
            "11:30:00\n",
            "11:30:01\n",
            "11:30:01.100000\n"
          ]
        }
      ],
      "source": [
        "t = dt.time()\n",
        "print(t)\n",
        "t = dt.time(hour=11)\n",
        "print(t)\n",
        "t = dt.time(hour=11, minute=30)\n",
        "print(t)\n",
        "t = dt.time(hour=11, minute=30, second=1)\n",
        "print(t)\n",
        "t = dt.time(hour=11, minute=30, second=1, microsecond=100000)\n",
        "print(t)"
      ]
    },
    {
      "cell_type": "markdown",
      "metadata": {},
      "source": [
        "#### Атрибуты и методы"
      ]
    },
    {
      "cell_type": "markdown",
      "metadata": {},
      "source": [
        "Атрибуты:"
      ]
    },
    {
      "cell_type": "code",
      "execution_count": 60,
      "metadata": {},
      "outputs": [
        {
          "name": "stdout",
          "output_type": "stream",
          "text": [
            "11\n",
            "30\n",
            "1\n",
            "100000\n"
          ]
        }
      ],
      "source": [
        "print(t.hour)          # час\n",
        "print(t.minute)        # минута\n",
        "print(t.second)        # секунда\n",
        "print(t.microsecond)   # милисекунда"
      ]
    },
    {
      "cell_type": "markdown",
      "metadata": {},
      "source": [
        "Форматирование:"
      ]
    },
    {
      "cell_type": "code",
      "execution_count": 61,
      "metadata": {},
      "outputs": [
        {
          "data": {
            "text/plain": [
              "'11:30:01'"
            ]
          },
          "execution_count": 61,
          "metadata": {},
          "output_type": "execute_result"
        }
      ],
      "source": [
        "t.strftime(\"%H:%M:%S\")"
      ]
    },
    {
      "cell_type": "code",
      "execution_count": 62,
      "metadata": {},
      "outputs": [
        {
          "data": {
            "text/plain": [
              "'11:30:01.100000'"
            ]
          },
          "execution_count": 62,
          "metadata": {},
          "output_type": "execute_result"
        }
      ],
      "source": [
        "t.isoformat()"
      ]
    },
    {
      "cell_type": "markdown",
      "metadata": {},
      "source": [
        "Замена значения:"
      ]
    },
    {
      "cell_type": "code",
      "execution_count": 63,
      "metadata": {},
      "outputs": [
        {
          "data": {
            "text/plain": [
              "datetime.time(12, 30, 1, 100000)"
            ]
          },
          "execution_count": 63,
          "metadata": {},
          "output_type": "execute_result"
        }
      ],
      "source": [
        "t = t.replace(hour=12)\n",
        "t"
      ]
    },
    {
      "cell_type": "markdown",
      "metadata": {
        "id": "eThCqJOZcFa-"
      },
      "source": [
        "### Класс `datetime`"
      ]
    },
    {
      "cell_type": "markdown",
      "metadata": {},
      "source": [
        "#### Создание datetime"
      ]
    },
    {
      "cell_type": "markdown",
      "metadata": {},
      "source": [
        "Конструктор класса принимает 3 обязательных аргумента - год, месяц и день, и 4 необязательных - часы, минуты, секунды и милисекунды."
      ]
    },
    {
      "cell_type": "code",
      "execution_count": 67,
      "metadata": {
        "colab": {
          "base_uri": "https://localhost:8080/"
        },
        "id": "9rr29RVRcHyi",
        "outputId": "d2b0c6e9-02cc-4bdf-fef6-27cc8e215f6b"
      },
      "outputs": [
        {
          "name": "stdout",
          "output_type": "stream",
          "text": [
            "2025-09-22 11:30:00\n"
          ]
        }
      ],
      "source": [
        "d = dt.datetime(year=2025, month=9, day=22, hour=11, minute=30)\n",
        "print(d)"
      ]
    },
    {
      "cell_type": "markdown",
      "metadata": {},
      "source": [
        "Текущие дата и время:"
      ]
    },
    {
      "cell_type": "code",
      "execution_count": 68,
      "metadata": {
        "colab": {
          "base_uri": "https://localhost:8080/"
        },
        "id": "nI01klPCcf6A",
        "outputId": "9270f827-6f33-49a8-d41e-5be035f9bc8b"
      },
      "outputs": [
        {
          "name": "stdout",
          "output_type": "stream",
          "text": [
            "2025-09-22 11:46:12.837634\n"
          ]
        }
      ],
      "source": [
        "d = dt.datetime.now()\n",
        "print(d)"
      ]
    },
    {
      "cell_type": "markdown",
      "metadata": {},
      "source": [
        "UTC время:"
      ]
    },
    {
      "cell_type": "code",
      "execution_count": 69,
      "metadata": {},
      "outputs": [
        {
          "name": "stdout",
          "output_type": "stream",
          "text": [
            "2025-09-22 07:46:18.799591\n"
          ]
        },
        {
          "name": "stderr",
          "output_type": "stream",
          "text": [
            "C:\\Users\\user\\AppData\\Local\\Temp\\ipykernel_54348\\3677784414.py:1: DeprecationWarning: datetime.datetime.utcnow() is deprecated and scheduled for removal in a future version. Use timezone-aware objects to represent datetimes in UTC: datetime.datetime.now(datetime.UTC).\n",
            "  d = dt.datetime.utcnow()\n"
          ]
        }
      ],
      "source": [
        "d = dt.datetime.utcnow()\n",
        "print(d)"
      ]
    },
    {
      "cell_type": "code",
      "execution_count": 70,
      "metadata": {},
      "outputs": [
        {
          "name": "stdout",
          "output_type": "stream",
          "text": [
            "2025-09-22 07:46:36.845925+00:00\n"
          ]
        }
      ],
      "source": [
        "d = dt.datetime.now(dt.UTC)\n",
        "print(d)"
      ]
    },
    {
      "cell_type": "markdown",
      "metadata": {
        "id": "-cuLtmFgn2On"
      },
      "source": [
        "Создание datetime из строки:\n",
        "\n",
        "Метод strptime() позволяет распарсить строку и преобразовать ее в дату.\n",
        "`strptime(str, format)`\n",
        "\n",
        "**str** - строковое определение даты и времени, **format** - определяет, как различные части даты и времени расположены в этой строке.\n",
        "\n",
        "Коды для определения формата:\n",
        "\n",
        "- `%d` - день месяца в виде числа\n",
        "\n",
        "- `%m` - порядковый номер месяца\n",
        "\n",
        "- `%y` - год в виде 2-х чисел\n",
        "\n",
        "- `%Y` - год в виде 4-х чисел\n",
        "\n",
        "- `%H` - час в 24-х часовом формате\n",
        "\n",
        "- `%M` - минута\n",
        "\n",
        "- `%S` - секунда"
      ]
    },
    {
      "cell_type": "code",
      "execution_count": 71,
      "metadata": {
        "colab": {
          "base_uri": "https://localhost:8080/"
        },
        "id": "hr35-9synpQF",
        "outputId": "0c60b6d8-39f8-4f54-ee06-4eea2f802168"
      },
      "outputs": [
        {
          "name": "stdout",
          "output_type": "stream",
          "text": [
            "2025-09-22 00:00:00\n",
            "2025-09-22 11:30:00\n",
            "2025-09-22 11:30:00\n"
          ]
        }
      ],
      "source": [
        "d = dt.datetime.strptime(\"22/09/2025\", \"%d/%m/%Y\")\n",
        "print(d)\n",
        "\n",
        "d = dt.datetime.strptime(\"22/09/2025 11:30\", \"%d/%m/%Y %H:%M\")\n",
        "print(d)\n",
        "\n",
        "d = dt.datetime.strptime(\"09-22-25 11:30\", \"%m-%d-%y %H:%M\")\n",
        "print(d)"
      ]
    },
    {
      "cell_type": "markdown",
      "metadata": {},
      "source": [
        "#### Атрибуты и методы"
      ]
    },
    {
      "cell_type": "markdown",
      "metadata": {},
      "source": [
        "Атрибуты аналогичны атрибутам классов `date` и `time`."
      ]
    },
    {
      "cell_type": "markdown",
      "metadata": {},
      "source": [
        "Получение даты и времени отдельно:"
      ]
    },
    {
      "cell_type": "code",
      "execution_count": 72,
      "metadata": {},
      "outputs": [
        {
          "name": "stdout",
          "output_type": "stream",
          "text": [
            "2025-09-22\n",
            "11:30:00\n"
          ]
        }
      ],
      "source": [
        "print(d.date())\n",
        "print(d.time())"
      ]
    },
    {
      "cell_type": "markdown",
      "metadata": {},
      "source": [
        "timestamp:"
      ]
    },
    {
      "cell_type": "code",
      "execution_count": 73,
      "metadata": {},
      "outputs": [
        {
          "data": {
            "text/plain": [
              "1758526200.0"
            ]
          },
          "execution_count": 73,
          "metadata": {},
          "output_type": "execute_result"
        }
      ],
      "source": [
        "d.timestamp()"
      ]
    },
    {
      "cell_type": "markdown",
      "metadata": {},
      "source": [
        "Замена значения:"
      ]
    },
    {
      "cell_type": "code",
      "execution_count": 74,
      "metadata": {},
      "outputs": [
        {
          "name": "stdout",
          "output_type": "stream",
          "text": [
            "2025-09-23 15:30:00\n"
          ]
        }
      ],
      "source": [
        "d = d.replace(day=23, hour=15)\n",
        "print(d)"
      ]
    },
    {
      "cell_type": "markdown",
      "metadata": {
        "id": "Ga22mTwli0Wz"
      },
      "source": [
        "### Класс `timedelta`"
      ]
    },
    {
      "cell_type": "markdown",
      "metadata": {},
      "source": [
        "Конструктор принимает на вход необязательные параметры: день, часы, минуты, секунды и милисекунды"
      ]
    },
    {
      "cell_type": "code",
      "execution_count": 75,
      "metadata": {
        "colab": {
          "base_uri": "https://localhost:8080/"
        },
        "id": "tou5-Qsri5lX",
        "outputId": "78848d44-bf4c-4497-c673-94b87f1828b6"
      },
      "outputs": [
        {
          "name": "stdout",
          "output_type": "stream",
          "text": [
            "500 days, 5:00:00\n"
          ]
        }
      ],
      "source": [
        "td = dt.timedelta(days=500, hours=5)\n",
        "print(td)"
      ]
    },
    {
      "cell_type": "markdown",
      "metadata": {},
      "source": [
        "#### Операции с датами"
      ]
    },
    {
      "cell_type": "markdown",
      "metadata": {},
      "source": [
        "Сложение и вычитание datetime с timedelta - получение нового datetime:"
      ]
    },
    {
      "cell_type": "code",
      "execution_count": 77,
      "metadata": {},
      "outputs": [
        {
          "data": {
            "text/plain": [
              "datetime.datetime(2025, 9, 22, 11, 49, 0, 714388)"
            ]
          },
          "execution_count": 77,
          "metadata": {},
          "output_type": "execute_result"
        }
      ],
      "source": [
        "now = dt.datetime.now()\n",
        "now"
      ]
    },
    {
      "cell_type": "code",
      "execution_count": 78,
      "metadata": {},
      "outputs": [
        {
          "data": {
            "text/plain": [
              "datetime.datetime(2025, 9, 29, 11, 49, 0, 714388)"
            ]
          },
          "execution_count": 78,
          "metadata": {},
          "output_type": "execute_result"
        }
      ],
      "source": [
        "future = now + dt.timedelta(days=7)\n",
        "future"
      ]
    },
    {
      "cell_type": "code",
      "execution_count": 79,
      "metadata": {},
      "outputs": [
        {
          "data": {
            "text/plain": [
              "datetime.datetime(2025, 9, 21, 11, 49, 0, 714388)"
            ]
          },
          "execution_count": 79,
          "metadata": {},
          "output_type": "execute_result"
        }
      ],
      "source": [
        "past = now - dt.timedelta(hours=24)\n",
        "past"
      ]
    },
    {
      "cell_type": "markdown",
      "metadata": {},
      "source": [
        "Разница между datetime - получение timedelta:"
      ]
    },
    {
      "cell_type": "code",
      "execution_count": 80,
      "metadata": {},
      "outputs": [
        {
          "data": {
            "text/plain": [
              "datetime.timedelta(days=8)"
            ]
          },
          "execution_count": 80,
          "metadata": {},
          "output_type": "execute_result"
        }
      ],
      "source": [
        "diff = future - past\n",
        "diff"
      ]
    },
    {
      "cell_type": "markdown",
      "metadata": {},
      "source": [
        "Умножение и деление timedelta:"
      ]
    },
    {
      "cell_type": "code",
      "execution_count": 81,
      "metadata": {
        "colab": {
          "base_uri": "https://localhost:8080/"
        },
        "id": "07FqeStzeiZ4",
        "outputId": "8bca5012-0048-4b2d-b357-e254b5482ed5"
      },
      "outputs": [
        {
          "name": "stdout",
          "output_type": "stream",
          "text": [
            "500 days, 0:00:00\n",
            "20 days, 0:00:00\n"
          ]
        }
      ],
      "source": [
        "# умножение на число\n",
        "td = dt.timedelta(days=100) * 5\n",
        "print(td)\n",
        "\n",
        "# деление на число\n",
        "td = dt.timedelta(days=100) / 5\n",
        "print(td)"
      ]
    },
    {
      "cell_type": "markdown",
      "metadata": {},
      "source": [
        "### Класс timezone"
      ]
    },
    {
      "cell_type": "markdown",
      "metadata": {},
      "source": [
        "UTC временная зона:"
      ]
    },
    {
      "cell_type": "code",
      "execution_count": 82,
      "metadata": {},
      "outputs": [
        {
          "name": "stdout",
          "output_type": "stream",
          "text": [
            "2025-09-22 07:50:00.345388+00:00\n"
          ]
        }
      ],
      "source": [
        "d = dt.datetime.now(dt.timezone.utc)\n",
        "print(d)"
      ]
    },
    {
      "cell_type": "markdown",
      "metadata": {},
      "source": [
        "Создание своей временной зоны:"
      ]
    },
    {
      "cell_type": "code",
      "execution_count": 83,
      "metadata": {},
      "outputs": [
        {
          "name": "stdout",
          "output_type": "stream",
          "text": [
            "2025-09-22 11:50:16.171760+04:00\n"
          ]
        }
      ],
      "source": [
        "tz = dt.timezone(dt.timedelta(hours=4))\n",
        "d = dt.datetime.now(tz)\n",
        "print(d)"
      ]
    },
    {
      "cell_type": "markdown",
      "metadata": {},
      "source": [
        "Конвертация между временными зонами:"
      ]
    },
    {
      "cell_type": "code",
      "execution_count": 84,
      "metadata": {},
      "outputs": [
        {
          "name": "stdout",
          "output_type": "stream",
          "text": [
            "2025-09-22 07:50:16.171760+00:00\n"
          ]
        }
      ],
      "source": [
        "d = d.astimezone(dt.timezone.utc)\n",
        "print(d)"
      ]
    },
    {
      "cell_type": "markdown",
      "metadata": {
        "id": "-79dPwmrk5ef"
      },
      "source": [
        "## Модуль time"
      ]
    },
    {
      "cell_type": "markdown",
      "metadata": {},
      "source": [
        "`time` — это низкоуровневый модуль для работы со временем и временными операциями."
      ]
    },
    {
      "cell_type": "code",
      "execution_count": 85,
      "metadata": {
        "id": "N3Ne5YzPlLRU"
      },
      "outputs": [],
      "source": [
        "import time"
      ]
    },
    {
      "cell_type": "markdown",
      "metadata": {},
      "source": [
        "### Класс `struct_time`"
      ]
    },
    {
      "cell_type": "markdown",
      "metadata": {},
      "source": [
        "Атрибуты:"
      ]
    },
    {
      "cell_type": "code",
      "execution_count": 86,
      "metadata": {},
      "outputs": [
        {
          "name": "stdout",
          "output_type": "stream",
          "text": [
            "Год: 2025\n",
            "Месяц: 9\n",
            "День: 22\n",
            "Час: 11\n",
            "Минуты: 52\n",
            "Секунды: 6\n",
            "День недели: 0\n",
            "День года: 265\n",
            "Летнее время: 0\n"
          ]
        }
      ],
      "source": [
        "now = time.localtime()\n",
        "\n",
        "print(f\"Год: {now.tm_year}\")\n",
        "print(f\"Месяц: {now.tm_mon}\")\n",
        "print(f\"День: {now.tm_mday}\")\n",
        "print(f\"Час: {now.tm_hour}\")\n",
        "print(f\"Минуты: {now.tm_min}\")\n",
        "print(f\"Секунды: {now.tm_sec}\")\n",
        "print(f\"День недели: {now.tm_wday}\") # (0-6)\n",
        "print(f\"День года: {now.tm_yday}\")\n",
        "print(f\"Летнее время: {now.tm_isdst}\") # 0 (нет), 1 (да), -1 (неизвестно)"
      ]
    },
    {
      "cell_type": "markdown",
      "metadata": {},
      "source": [
        "### Основные функции"
      ]
    },
    {
      "cell_type": "markdown",
      "metadata": {},
      "source": [
        "#### Измерение времени"
      ]
    },
    {
      "cell_type": "markdown",
      "metadata": {},
      "source": [
        "`time()` возвращает число секунд, прошедших с начала эпохи (для операционных систем Unix 1 января 1970, 00:00:00)."
      ]
    },
    {
      "cell_type": "code",
      "execution_count": 87,
      "metadata": {
        "colab": {
          "base_uri": "https://localhost:8080/"
        },
        "id": "HFRx44ssk7vu",
        "outputId": "dab5fb83-b0f8-4587-d0d1-6c3074a08eef"
      },
      "outputs": [
        {
          "name": "stdout",
          "output_type": "stream",
          "text": [
            "1758527554.483589\n"
          ]
        }
      ],
      "source": [
        "t = time.time()\n",
        "print(t)"
      ]
    },
    {
      "cell_type": "markdown",
      "metadata": {},
      "source": [
        "`monotonic()` — монотонное время (никогда не уменьшается, не подвержено корректировкам системного времени и переходам на летнее время, не зависит от часовых поясов)"
      ]
    },
    {
      "cell_type": "code",
      "execution_count": 88,
      "metadata": {},
      "outputs": [
        {
          "data": {
            "text/plain": [
              "923251.0687207"
            ]
          },
          "execution_count": 88,
          "metadata": {},
          "output_type": "execute_result"
        }
      ],
      "source": [
        "time.monotonic()"
      ]
    },
    {
      "cell_type": "code",
      "execution_count": 89,
      "metadata": {},
      "outputs": [
        {
          "name": "stdout",
          "output_type": "stream",
          "text": [
            "1.0006051999516785\n"
          ]
        }
      ],
      "source": [
        "start = time.monotonic()\n",
        "time.sleep(1)  # ждем 1 секунду\n",
        "end = time.monotonic()\n",
        "print(end - start)"
      ]
    },
    {
      "cell_type": "markdown",
      "metadata": {},
      "source": [
        "`perf_counter()` — высокоточное время (наиболее точное время для измерений производительности)"
      ]
    },
    {
      "cell_type": "code",
      "execution_count": 91,
      "metadata": {},
      "outputs": [
        {
          "name": "stdout",
          "output_type": "stream",
          "text": [
            "0.028589399997144938\n"
          ]
        }
      ],
      "source": [
        "start = time.perf_counter()\n",
        "# Какая-то операция\n",
        "result = sum(range(1000000))\n",
        "end = time.perf_counter()\n",
        "print(end - start)"
      ]
    },
    {
      "cell_type": "markdown",
      "metadata": {},
      "source": [
        "`process_time()` — время процессора (без учета sleep)"
      ]
    },
    {
      "cell_type": "code",
      "execution_count": 92,
      "metadata": {},
      "outputs": [
        {
          "name": "stdout",
          "output_type": "stream",
          "text": [
            "0.046875\n"
          ]
        }
      ],
      "source": [
        "start = time.process_time()\n",
        "time.sleep(1)  # Не учитывается в process_time!\n",
        "# Вычисления учитываются\n",
        "result = sum(range(1000000))\n",
        "end = time.process_time()\n",
        "print(end - start)"
      ]
    },
    {
      "cell_type": "markdown",
      "metadata": {},
      "source": [
        "#### Преобразование времени"
      ]
    },
    {
      "cell_type": "markdown",
      "metadata": {},
      "source": [
        "`gmtime()` — UTC время (возвращает `time.struct_time`)"
      ]
    },
    {
      "cell_type": "code",
      "execution_count": 93,
      "metadata": {},
      "outputs": [
        {
          "data": {
            "text/plain": [
              "time.struct_time(tm_year=2025, tm_mon=9, tm_mday=22, tm_hour=7, tm_min=54, tm_sec=48, tm_wday=0, tm_yday=265, tm_isdst=0)"
            ]
          },
          "execution_count": 93,
          "metadata": {},
          "output_type": "execute_result"
        }
      ],
      "source": [
        "utc_time = time.gmtime()\n",
        "utc_time"
      ]
    },
    {
      "cell_type": "markdown",
      "metadata": {},
      "source": [
        "`localtime()` — локальное время (возвращает `time.struct_time`)"
      ]
    },
    {
      "cell_type": "code",
      "execution_count": 94,
      "metadata": {},
      "outputs": [
        {
          "data": {
            "text/plain": [
              "time.struct_time(tm_year=2025, tm_mon=9, tm_mday=22, tm_hour=11, tm_min=55, tm_sec=4, tm_wday=0, tm_yday=265, tm_isdst=0)"
            ]
          },
          "execution_count": 94,
          "metadata": {},
          "output_type": "execute_result"
        }
      ],
      "source": [
        "local_time = time.localtime()\n",
        "local_time"
      ]
    },
    {
      "cell_type": "markdown",
      "metadata": {},
      "source": [
        "`mktime()` — из `time.struct_time` в секунды"
      ]
    },
    {
      "cell_type": "code",
      "execution_count": 95,
      "metadata": {},
      "outputs": [
        {
          "data": {
            "text/plain": [
              "1758527721.0"
            ]
          },
          "execution_count": 95,
          "metadata": {},
          "output_type": "execute_result"
        }
      ],
      "source": [
        "struct_time = time.localtime()\n",
        "seconds = time.mktime(struct_time)\n",
        "seconds"
      ]
    },
    {
      "cell_type": "markdown",
      "metadata": {},
      "source": [
        "`ctime()` — читаемое представление (из секунд в `time.struct_time`)"
      ]
    },
    {
      "cell_type": "code",
      "execution_count": 96,
      "metadata": {},
      "outputs": [
        {
          "name": "stdout",
          "output_type": "stream",
          "text": [
            "Mon Sep 22 11:55:26 2025\n",
            "Mon Sep 22 04:13:20 2025\n"
          ]
        }
      ],
      "source": [
        "# текущее время\n",
        "readable_time = time.ctime()\n",
        "print(readable_time)\n",
        "\n",
        "# преобразование времени из секунд\n",
        "specific_time = time.ctime(1758500000)\n",
        "print(specific_time)"
      ]
    },
    {
      "cell_type": "markdown",
      "metadata": {},
      "source": [
        "#### Задержки и ожидание"
      ]
    },
    {
      "cell_type": "markdown",
      "metadata": {},
      "source": [
        "`sleep()` — приостановка выполнения (аргумент - секунды)"
      ]
    },
    {
      "cell_type": "code",
      "execution_count": 97,
      "metadata": {},
      "outputs": [
        {
          "name": "stdout",
          "output_type": "stream",
          "text": [
            "Начало\n",
            "Прошло 2.5 секунды\n"
          ]
        }
      ],
      "source": [
        "print(\"Начало\")\n",
        "time.sleep(2.5)\n",
        "print(\"Прошло 2.5 секунды\")"
      ]
    },
    {
      "cell_type": "markdown",
      "metadata": {},
      "source": [
        "#### Форматирование времени"
      ]
    },
    {
      "cell_type": "markdown",
      "metadata": {},
      "source": [
        "- `strftime()` — форматирование в строку\n",
        "- `strptime()` — парсинг из строки\n",
        "\n",
        "Функции работают аналогично функциям из `datetime`."
      ]
    },
    {
      "cell_type": "markdown",
      "metadata": {},
      "source": [
        "## Модуль calendar"
      ]
    },
    {
      "cell_type": "markdown",
      "metadata": {},
      "source": [
        "`calendar` — модуль для работы с календарями, датами и выводом календарей в различном формате."
      ]
    },
    {
      "cell_type": "code",
      "execution_count": 98,
      "metadata": {},
      "outputs": [],
      "source": [
        "import calendar"
      ]
    },
    {
      "cell_type": "markdown",
      "metadata": {},
      "source": [
        "### Вывод календарей"
      ]
    },
    {
      "cell_type": "markdown",
      "metadata": {},
      "source": [
        "`month()` — календарь на месяц"
      ]
    },
    {
      "cell_type": "code",
      "execution_count": 99,
      "metadata": {},
      "outputs": [
        {
          "name": "stdout",
          "output_type": "stream",
          "text": [
            "   September 2025\n",
            "Mo Tu We Th Fr Sa Su\n",
            " 1  2  3  4  5  6  7\n",
            " 8  9 10 11 12 13 14\n",
            "15 16 17 18 19 20 21\n",
            "22 23 24 25 26 27 28\n",
            "29 30\n",
            "\n"
          ]
        }
      ],
      "source": [
        "cal = calendar.month(2025, 9)\n",
        "print(cal)"
      ]
    },
    {
      "cell_type": "code",
      "execution_count": 100,
      "metadata": {},
      "outputs": [
        {
          "name": "stdout",
          "output_type": "stream",
          "text": [
            "       September 2025\n",
            "\n",
            "Mon Tue Wed Thu Fri Sat Sun\n",
            "\n",
            "  1   2   3   4   5   6   7\n",
            "\n",
            "  8   9  10  11  12  13  14\n",
            "\n",
            " 15  16  17  18  19  20  21\n",
            "\n",
            " 22  23  24  25  26  27  28\n",
            "\n",
            " 29  30\n",
            "\n",
            "\n"
          ]
        }
      ],
      "source": [
        "# Календарь с шириной и высотой ячеек\n",
        "cal = calendar.month(2025, 9, w=3, l=2)\n",
        "print(cal)"
      ]
    },
    {
      "cell_type": "markdown",
      "metadata": {},
      "source": [
        "`year()` — календарь на год"
      ]
    },
    {
      "cell_type": "code",
      "execution_count": 101,
      "metadata": {},
      "outputs": [
        {
          "name": "stdout",
          "output_type": "stream",
          "text": [
            "                                  2025\n",
            "\n",
            "      January                   February                   March\n",
            "Mo Tu We Th Fr Sa Su      Mo Tu We Th Fr Sa Su      Mo Tu We Th Fr Sa Su\n",
            "       1  2  3  4  5                      1  2                      1  2\n",
            " 6  7  8  9 10 11 12       3  4  5  6  7  8  9       3  4  5  6  7  8  9\n",
            "13 14 15 16 17 18 19      10 11 12 13 14 15 16      10 11 12 13 14 15 16\n",
            "20 21 22 23 24 25 26      17 18 19 20 21 22 23      17 18 19 20 21 22 23\n",
            "27 28 29 30 31            24 25 26 27 28            24 25 26 27 28 29 30\n",
            "                                                    31\n",
            "\n",
            "       April                      May                       June\n",
            "Mo Tu We Th Fr Sa Su      Mo Tu We Th Fr Sa Su      Mo Tu We Th Fr Sa Su\n",
            "    1  2  3  4  5  6                1  2  3  4                         1\n",
            " 7  8  9 10 11 12 13       5  6  7  8  9 10 11       2  3  4  5  6  7  8\n",
            "14 15 16 17 18 19 20      12 13 14 15 16 17 18       9 10 11 12 13 14 15\n",
            "21 22 23 24 25 26 27      19 20 21 22 23 24 25      16 17 18 19 20 21 22\n",
            "28 29 30                  26 27 28 29 30 31         23 24 25 26 27 28 29\n",
            "                                                    30\n",
            "\n",
            "        July                     August                  September\n",
            "Mo Tu We Th Fr Sa Su      Mo Tu We Th Fr Sa Su      Mo Tu We Th Fr Sa Su\n",
            "    1  2  3  4  5  6                   1  2  3       1  2  3  4  5  6  7\n",
            " 7  8  9 10 11 12 13       4  5  6  7  8  9 10       8  9 10 11 12 13 14\n",
            "14 15 16 17 18 19 20      11 12 13 14 15 16 17      15 16 17 18 19 20 21\n",
            "21 22 23 24 25 26 27      18 19 20 21 22 23 24      22 23 24 25 26 27 28\n",
            "28 29 30 31               25 26 27 28 29 30 31      29 30\n",
            "\n",
            "      October                   November                  December\n",
            "Mo Tu We Th Fr Sa Su      Mo Tu We Th Fr Sa Su      Mo Tu We Th Fr Sa Su\n",
            "       1  2  3  4  5                      1  2       1  2  3  4  5  6  7\n",
            " 6  7  8  9 10 11 12       3  4  5  6  7  8  9       8  9 10 11 12 13 14\n",
            "13 14 15 16 17 18 19      10 11 12 13 14 15 16      15 16 17 18 19 20 21\n",
            "20 21 22 23 24 25 26      17 18 19 20 21 22 23      22 23 24 25 26 27 28\n",
            "27 28 29 30 31            24 25 26 27 28 29 30      29 30 31\n",
            "\n"
          ]
        }
      ],
      "source": [
        "cal = calendar.calendar(2025)\n",
        "print(cal)"
      ]
    },
    {
      "cell_type": "code",
      "execution_count": 102,
      "metadata": {},
      "outputs": [
        {
          "name": "stdout",
          "output_type": "stream",
          "text": [
            "                                      2025\n",
            "\n",
            "      January                       February                       March\n",
            "Mo Tu We Th Fr Sa Su          Mo Tu We Th Fr Sa Su          Mo Tu We Th Fr Sa Su\n",
            "       1  2  3  4  5                          1  2                          1  2\n",
            " 6  7  8  9 10 11 12           3  4  5  6  7  8  9           3  4  5  6  7  8  9\n",
            "13 14 15 16 17 18 19          10 11 12 13 14 15 16          10 11 12 13 14 15 16\n",
            "20 21 22 23 24 25 26          17 18 19 20 21 22 23          17 18 19 20 21 22 23\n",
            "27 28 29 30 31                24 25 26 27 28                24 25 26 27 28 29 30\n",
            "                                                            31\n",
            "\n",
            "       April                          May                           June\n",
            "Mo Tu We Th Fr Sa Su          Mo Tu We Th Fr Sa Su          Mo Tu We Th Fr Sa Su\n",
            "    1  2  3  4  5  6                    1  2  3  4                             1\n",
            " 7  8  9 10 11 12 13           5  6  7  8  9 10 11           2  3  4  5  6  7  8\n",
            "14 15 16 17 18 19 20          12 13 14 15 16 17 18           9 10 11 12 13 14 15\n",
            "21 22 23 24 25 26 27          19 20 21 22 23 24 25          16 17 18 19 20 21 22\n",
            "28 29 30                      26 27 28 29 30 31             23 24 25 26 27 28 29\n",
            "                                                            30\n",
            "\n",
            "        July                         August                      September\n",
            "Mo Tu We Th Fr Sa Su          Mo Tu We Th Fr Sa Su          Mo Tu We Th Fr Sa Su\n",
            "    1  2  3  4  5  6                       1  2  3           1  2  3  4  5  6  7\n",
            " 7  8  9 10 11 12 13           4  5  6  7  8  9 10           8  9 10 11 12 13 14\n",
            "14 15 16 17 18 19 20          11 12 13 14 15 16 17          15 16 17 18 19 20 21\n",
            "21 22 23 24 25 26 27          18 19 20 21 22 23 24          22 23 24 25 26 27 28\n",
            "28 29 30 31                   25 26 27 28 29 30 31          29 30\n",
            "\n",
            "      October                       November                      December\n",
            "Mo Tu We Th Fr Sa Su          Mo Tu We Th Fr Sa Su          Mo Tu We Th Fr Sa Su\n",
            "       1  2  3  4  5                          1  2           1  2  3  4  5  6  7\n",
            " 6  7  8  9 10 11 12           3  4  5  6  7  8  9           8  9 10 11 12 13 14\n",
            "13 14 15 16 17 18 19          10 11 12 13 14 15 16          15 16 17 18 19 20 21\n",
            "20 21 22 23 24 25 26          17 18 19 20 21 22 23          22 23 24 25 26 27 28\n",
            "27 28 29 30 31                24 25 26 27 28 29 30          29 30 31\n",
            "\n"
          ]
        }
      ],
      "source": [
        "# С параметрами\n",
        "cal = calendar.calendar(2025, w=2, l=1, c=10)\n",
        "print(cal)"
      ]
    },
    {
      "cell_type": "markdown",
      "metadata": {},
      "source": [
        "`monthcalendar()` — месяц в виде матрицы"
      ]
    },
    {
      "cell_type": "code",
      "execution_count": 103,
      "metadata": {},
      "outputs": [
        {
          "name": "stdout",
          "output_type": "stream",
          "text": [
            "[[1, 2, 3, 4, 5, 6, 7], [8, 9, 10, 11, 12, 13, 14], [15, 16, 17, 18, 19, 20, 21], [22, 23, 24, 25, 26, 27, 28], [29, 30, 0, 0, 0, 0, 0]]\n"
          ]
        }
      ],
      "source": [
        "# Месяц в виде матрицы (списка недель)\n",
        "matrix = calendar.monthcalendar(2025, 9)\n",
        "print(matrix)"
      ]
    },
    {
      "cell_type": "markdown",
      "metadata": {},
      "source": [
        "### Информация о датах"
      ]
    },
    {
      "cell_type": "markdown",
      "metadata": {},
      "source": [
        "`weekday()` — день недели"
      ]
    },
    {
      "cell_type": "code",
      "execution_count": 104,
      "metadata": {},
      "outputs": [
        {
          "name": "stdout",
          "output_type": "stream",
          "text": [
            "0\n"
          ]
        },
        {
          "data": {
            "text/plain": [
              "calendar.MONDAY"
            ]
          },
          "execution_count": 104,
          "metadata": {},
          "output_type": "execute_result"
        }
      ],
      "source": [
        "day_of_week = calendar.weekday(2025, 9, 22)\n",
        "print(day_of_week)  # (0-6)\n",
        "day_of_week"
      ]
    },
    {
      "cell_type": "markdown",
      "metadata": {},
      "source": [
        "`monthrange()` — информация о месяце (возвращает первый день недели и количество_дней)"
      ]
    },
    {
      "cell_type": "code",
      "execution_count": 105,
      "metadata": {},
      "outputs": [
        {
          "data": {
            "text/plain": [
              "(calendar.SATURDAY, 28)"
            ]
          },
          "execution_count": 105,
          "metadata": {},
          "output_type": "execute_result"
        }
      ],
      "source": [
        "first_day, days_in_month = calendar.monthrange(2025, 2)\n",
        "first_day, days_in_month"
      ]
    },
    {
      "cell_type": "markdown",
      "metadata": {},
      "source": [
        "`isleap()` — проверка високосного года"
      ]
    },
    {
      "cell_type": "code",
      "execution_count": 106,
      "metadata": {},
      "outputs": [
        {
          "name": "stdout",
          "output_type": "stream",
          "text": [
            "True\n",
            "False\n"
          ]
        }
      ],
      "source": [
        "print(calendar.isleap(2024))\n",
        "print(calendar.isleap(2025))"
      ]
    },
    {
      "cell_type": "markdown",
      "metadata": {},
      "source": [
        "`leapdays()` - количество високосных лет в диапазоне"
      ]
    },
    {
      "cell_type": "code",
      "execution_count": 107,
      "metadata": {},
      "outputs": [
        {
          "data": {
            "text/plain": [
              "7"
            ]
          },
          "execution_count": 107,
          "metadata": {},
          "output_type": "execute_result"
        }
      ],
      "source": [
        "leap_count = calendar.leapdays(2000, 2025)\n",
        "leap_count"
      ]
    },
    {
      "cell_type": "markdown",
      "metadata": {},
      "source": [
        "### Работа с неделями"
      ]
    },
    {
      "cell_type": "markdown",
      "metadata": {},
      "source": [
        "`firstweekday()` — первый день недели"
      ]
    },
    {
      "cell_type": "code",
      "execution_count": 108,
      "metadata": {},
      "outputs": [
        {
          "data": {
            "text/plain": [
              "0"
            ]
          },
          "execution_count": 108,
          "metadata": {},
          "output_type": "execute_result"
        }
      ],
      "source": [
        "calendar.firstweekday()"
      ]
    },
    {
      "cell_type": "markdown",
      "metadata": {},
      "source": [
        "`setfirstweekday()` - установка первого дня недели"
      ]
    },
    {
      "cell_type": "code",
      "execution_count": 109,
      "metadata": {},
      "outputs": [
        {
          "name": "stdout",
          "output_type": "stream",
          "text": [
            "   September 2025\n",
            "Su Mo Tu We Th Fr Sa\n",
            "    1  2  3  4  5  6\n",
            " 7  8  9 10 11 12 13\n",
            "14 15 16 17 18 19 20\n",
            "21 22 23 24 25 26 27\n",
            "28 29 30\n",
            "\n"
          ]
        }
      ],
      "source": [
        "calendar.setfirstweekday(6)\n",
        "print(calendar.month(2025, 9))\n",
        "calendar.setfirstweekday(0)"
      ]
    },
    {
      "cell_type": "markdown",
      "metadata": {},
      "source": [
        "`weekheader()` — заголовок дней недели"
      ]
    },
    {
      "cell_type": "code",
      "execution_count": 110,
      "metadata": {},
      "outputs": [
        {
          "name": "stdout",
          "output_type": "stream",
          "text": [
            "Mon Tue Wed Thu Fri Sat Sun\n",
            "Mo Tu We Th Fr Sa Su\n"
          ]
        }
      ],
      "source": [
        "header = calendar.weekheader(3)  # 3 символа на день\n",
        "print(header)\n",
        "\n",
        "header_ru = calendar.weekheader(2)  # 2 символа на день\n",
        "print(header_ru)"
      ]
    },
    {
      "cell_type": "markdown",
      "metadata": {},
      "source": [
        "### Текстовый календарь"
      ]
    },
    {
      "cell_type": "markdown",
      "metadata": {},
      "source": [
        "`TextCalendar` — текстовый календарь"
      ]
    },
    {
      "cell_type": "code",
      "execution_count": 111,
      "metadata": {},
      "outputs": [],
      "source": [
        "# Создание календаря с настройками\n",
        "cal = calendar.TextCalendar(firstweekday=calendar.MONDAY)  # Пн как первый день"
      ]
    },
    {
      "cell_type": "code",
      "execution_count": 112,
      "metadata": {},
      "outputs": [
        {
          "name": "stdout",
          "output_type": "stream",
          "text": [
            "   September 2025\n",
            "Mo Tu We Th Fr Sa Su\n",
            " 1  2  3  4  5  6  7\n",
            " 8  9 10 11 12 13 14\n",
            "15 16 17 18 19 20 21\n",
            "22 23 24 25 26 27 28\n",
            "29 30\n",
            "\n"
          ]
        }
      ],
      "source": [
        "print(cal.formatmonth(2025, 9))"
      ]
    },
    {
      "cell_type": "code",
      "execution_count": 113,
      "metadata": {},
      "outputs": [
        {
          "name": "stdout",
          "output_type": "stream",
          "text": [
            "                                  2025\n",
            "\n",
            "      January                   February                   March\n",
            "Mo Tu We Th Fr Sa Su      Mo Tu We Th Fr Sa Su      Mo Tu We Th Fr Sa Su\n",
            "       1  2  3  4  5                      1  2                      1  2\n",
            " 6  7  8  9 10 11 12       3  4  5  6  7  8  9       3  4  5  6  7  8  9\n",
            "13 14 15 16 17 18 19      10 11 12 13 14 15 16      10 11 12 13 14 15 16\n",
            "20 21 22 23 24 25 26      17 18 19 20 21 22 23      17 18 19 20 21 22 23\n",
            "27 28 29 30 31            24 25 26 27 28            24 25 26 27 28 29 30\n",
            "                                                    31\n",
            "\n",
            "       April                      May                       June\n",
            "Mo Tu We Th Fr Sa Su      Mo Tu We Th Fr Sa Su      Mo Tu We Th Fr Sa Su\n",
            "    1  2  3  4  5  6                1  2  3  4                         1\n",
            " 7  8  9 10 11 12 13       5  6  7  8  9 10 11       2  3  4  5  6  7  8\n",
            "14 15 16 17 18 19 20      12 13 14 15 16 17 18       9 10 11 12 13 14 15\n",
            "21 22 23 24 25 26 27      19 20 21 22 23 24 25      16 17 18 19 20 21 22\n",
            "28 29 30                  26 27 28 29 30 31         23 24 25 26 27 28 29\n",
            "                                                    30\n",
            "\n",
            "        July                     August                  September\n",
            "Mo Tu We Th Fr Sa Su      Mo Tu We Th Fr Sa Su      Mo Tu We Th Fr Sa Su\n",
            "    1  2  3  4  5  6                   1  2  3       1  2  3  4  5  6  7\n",
            " 7  8  9 10 11 12 13       4  5  6  7  8  9 10       8  9 10 11 12 13 14\n",
            "14 15 16 17 18 19 20      11 12 13 14 15 16 17      15 16 17 18 19 20 21\n",
            "21 22 23 24 25 26 27      18 19 20 21 22 23 24      22 23 24 25 26 27 28\n",
            "28 29 30 31               25 26 27 28 29 30 31      29 30\n",
            "\n",
            "      October                   November                  December\n",
            "Mo Tu We Th Fr Sa Su      Mo Tu We Th Fr Sa Su      Mo Tu We Th Fr Sa Su\n",
            "       1  2  3  4  5                      1  2       1  2  3  4  5  6  7\n",
            " 6  7  8  9 10 11 12       3  4  5  6  7  8  9       8  9 10 11 12 13 14\n",
            "13 14 15 16 17 18 19      10 11 12 13 14 15 16      15 16 17 18 19 20 21\n",
            "20 21 22 23 24 25 26      17 18 19 20 21 22 23      22 23 24 25 26 27 28\n",
            "27 28 29 30 31            24 25 26 27 28 29 30      29 30 31\n",
            "\n"
          ]
        }
      ],
      "source": [
        "print(cal.formatyear(2025, w=2, l=1, c=6, m=3))  # 3 месяца в строке"
      ]
    },
    {
      "cell_type": "code",
      "execution_count": 114,
      "metadata": {},
      "outputs": [
        {
          "data": {
            "text/plain": [
              "[[1, 2, 3, 4, 5, 6, 7],\n",
              " [8, 9, 10, 11, 12, 13, 14],\n",
              " [15, 16, 17, 18, 19, 20, 21],\n",
              " [22, 23, 24, 25, 26, 27, 28],\n",
              " [29, 30, 0, 0, 0, 0, 0]]"
            ]
          },
          "execution_count": 114,
          "metadata": {},
          "output_type": "execute_result"
        }
      ],
      "source": [
        "cal.monthdayscalendar(2025, 9)"
      ]
    },
    {
      "cell_type": "markdown",
      "metadata": {},
      "source": [
        "`HTMLCalendar` — HTML календарь"
      ]
    },
    {
      "cell_type": "code",
      "execution_count": 115,
      "metadata": {},
      "outputs": [],
      "source": [
        "# Генерация HTML календаря\n",
        "html_cal = calendar.HTMLCalendar(calendar.MONDAY)"
      ]
    },
    {
      "cell_type": "code",
      "execution_count": 116,
      "metadata": {},
      "outputs": [
        {
          "name": "stdout",
          "output_type": "stream",
          "text": [
            "<table border=\"0\" cellpadding=\"0\" cellspacing=\"0\" class=\"month\">\n",
            "<tr><th colspan=\"7\" class=\"month\">September 2025</th></tr>\n",
            "<tr><th class=\"mon\">Mon</th><th class=\"tue\">Tue</th><th class=\"wed\">Wed</th><th class=\"thu\">Thu</th><th class=\"fri\">Fri</th><th class=\"sat\">Sat</th><th class=\"sun\">Sun</th></tr>\n",
            "<tr><td class=\"mon\">1</td><td class=\"tue\">2</td><td class=\"wed\">3</td><td class=\"thu\">4</td><td class=\"fri\">5</td><td class=\"sat\">6</td><td class=\"sun\">7</td></tr>\n",
            "<tr><td class=\"mon\">8</td><td class=\"tue\">9</td><td class=\"wed\">10</td><td class=\"thu\">11</td><td class=\"fri\">12</td><td class=\"sat\">13</td><td class=\"sun\">14</td></tr>\n",
            "<tr><td class=\"mon\">15</td><td class=\"tue\">16</td><td class=\"wed\">17</td><td class=\"thu\">18</td><td class=\"fri\">19</td><td class=\"sat\">20</td><td class=\"sun\">21</td></tr>\n",
            "<tr><td class=\"mon\">22</td><td class=\"tue\">23</td><td class=\"wed\">24</td><td class=\"thu\">25</td><td class=\"fri\">26</td><td class=\"sat\">27</td><td class=\"sun\">28</td></tr>\n",
            "<tr><td class=\"mon\">29</td><td class=\"tue\">30</td><td class=\"noday\">&nbsp;</td><td class=\"noday\">&nbsp;</td><td class=\"noday\">&nbsp;</td><td class=\"noday\">&nbsp;</td><td class=\"noday\">&nbsp;</td></tr>\n",
            "</table>\n",
            "\n"
          ]
        }
      ],
      "source": [
        "html_month = html_cal.formatmonth(2025, 9)\n",
        "print(html_month)\n",
        "with open(\"month_calendar.html\", \"w\") as file:\n",
        "    file.write(html_month)"
      ]
    },
    {
      "cell_type": "code",
      "execution_count": 117,
      "metadata": {},
      "outputs": [
        {
          "name": "stdout",
          "output_type": "stream",
          "text": [
            "<table border=\"0\" cellpadding=\"0\" cellspacing=\"0\" class=\"year\">\n",
            "<tr><th colspan=\"3\" class=\"year\">2025</th></tr><tr><td><table border=\"0\" cellpadding=\"0\" cellspacing=\"0\" class=\"month\">\n",
            "<tr><th colspan=\"7\" class=\"month\">January</th></tr>\n",
            "<tr><th class=\"mon\">Mon</th><th class=\"tue\">Tue</th><th class=\"wed\">Wed</th><th class=\"thu\">Thu</th><th class=\"fri\">Fri</th><th class=\"sat\">Sat</th><th class=\"sun\">Sun</th></tr>\n",
            "<tr><td class=\"noday\">&nbsp;</td><td class=\"noday\">&nbsp;</td><td class=\"wed\">1</td><td class=\"thu\">2</td><td class=\"fri\">3</td><td class=\"sat\">4</td><td class=\"sun\">5</td></tr>\n",
            "<tr><td class=\"mon\">6</td><td class=\"tue\">7</td><td class=\"wed\">8</td><td class=\"thu\">9</td><td class=\"fri\">10</td><td class=\"sat\">11</td><td class=\"sun\">12</td></tr>\n",
            "<tr><td class=\"mon\">13</td><td class=\"tue\">14</td><td class=\"wed\">15</td><td class=\"thu\">16</td><td class=\"fri\">17</td><td class=\"sat\">18</td><td class=\"sun\">19</td></tr>\n",
            "<tr><td class=\"mon\">20</td><td class=\"tue\">21</td><td class=\"wed\">22</td><td class=\"thu\">23</td><td class=\"fri\">24</td><td class=\"sat\">25</td><td class=\"sun\">26</td></tr>\n",
            "<tr><td class=\"mon\">27</td><td class=\"tue\">28</td><td class=\"wed\">29</td><td class=\"thu\">30</td><td class=\"fri\">31</td><td class=\"noday\">&nbsp;</td><td class=\"noday\">&nbsp;</td></tr>\n",
            "</table>\n",
            "</td><td><table border=\"0\" cellpadding=\"0\" cellspacing=\"0\" class=\"month\">\n",
            "<tr><th colspan=\"7\" class=\"month\">February</th></tr>\n",
            "<tr><th class=\"mon\">Mon</th><th class=\"tue\">Tue</th><th class=\"wed\">Wed</th><th class=\"thu\">Thu</th><th class=\"fri\">Fri</th><th class=\"sat\">Sat</th><th class=\"sun\">Sun</th></tr>\n",
            "<tr><td class=\"noday\">&nbsp;</td><td class=\"noday\">&nbsp;</td><td class=\"noday\">&nbsp;</td><td class=\"noday\">&nbsp;</td><td class=\"noday\">&nbsp;</td><td class=\"sat\">1</td><td class=\"sun\">2</td></tr>\n",
            "<tr><td class=\"mon\">3</td><td class=\"tue\">4</td><td class=\"wed\">5</td><td class=\"thu\">6</td><td class=\"fri\">7</td><td class=\"sat\">8</td><td class=\"sun\">9</td></tr>\n",
            "<tr><td class=\"mon\">10</td><td class=\"tue\">11</td><td class=\"wed\">12</td><td class=\"thu\">13</td><td class=\"fri\">14</td><td class=\"sat\">15</td><td class=\"sun\">16</td></tr>\n",
            "<tr><td class=\"mon\">17</td><td class=\"tue\">18</td><td class=\"wed\">19</td><td class=\"thu\">20</td><td class=\"fri\">21</td><td class=\"sat\">22</td><td class=\"sun\">23</td></tr>\n",
            "<tr><td class=\"mon\">24</td><td class=\"tue\">25</td><td class=\"wed\">26</td><td class=\"thu\">27</td><td class=\"fri\">28</td><td class=\"noday\">&nbsp;</td><td class=\"noday\">&nbsp;</td></tr>\n",
            "</table>\n",
            "</td><td><table border=\"0\" cellpadding=\"0\" cellspacing=\"0\" class=\"month\">\n",
            "<tr><th colspan=\"7\" class=\"month\">March</th></tr>\n",
            "<tr><th class=\"mon\">Mon</th><th class=\"tue\">Tue</th><th class=\"wed\">Wed</th><th class=\"thu\">Thu</th><th class=\"fri\">Fri</th><th class=\"sat\">Sat</th><th class=\"sun\">Sun</th></tr>\n",
            "<tr><td class=\"noday\">&nbsp;</td><td class=\"noday\">&nbsp;</td><td class=\"noday\">&nbsp;</td><td class=\"noday\">&nbsp;</td><td class=\"noday\">&nbsp;</td><td class=\"sat\">1</td><td class=\"sun\">2</td></tr>\n",
            "<tr><td class=\"mon\">3</td><td class=\"tue\">4</td><td class=\"wed\">5</td><td class=\"thu\">6</td><td class=\"fri\">7</td><td class=\"sat\">8</td><td class=\"sun\">9</td></tr>\n",
            "<tr><td class=\"mon\">10</td><td class=\"tue\">11</td><td class=\"wed\">12</td><td class=\"thu\">13</td><td class=\"fri\">14</td><td class=\"sat\">15</td><td class=\"sun\">16</td></tr>\n",
            "<tr><td class=\"mon\">17</td><td class=\"tue\">18</td><td class=\"wed\">19</td><td class=\"thu\">20</td><td class=\"fri\">21</td><td class=\"sat\">22</td><td class=\"sun\">23</td></tr>\n",
            "<tr><td class=\"mon\">24</td><td class=\"tue\">25</td><td class=\"wed\">26</td><td class=\"thu\">27</td><td class=\"fri\">28</td><td class=\"sat\">29</td><td class=\"sun\">30</td></tr>\n",
            "<tr><td class=\"mon\">31</td><td class=\"noday\">&nbsp;</td><td class=\"noday\">&nbsp;</td><td class=\"noday\">&nbsp;</td><td class=\"noday\">&nbsp;</td><td class=\"noday\">&nbsp;</td><td class=\"noday\">&nbsp;</td></tr>\n",
            "</table>\n",
            "</td></tr><tr><td><table border=\"0\" cellpadding=\"0\" cellspacing=\"0\" class=\"month\">\n",
            "<tr><th colspan=\"7\" class=\"month\">April</th></tr>\n",
            "<tr><th class=\"mon\">Mon</th><th class=\"tue\">Tue</th><th class=\"wed\">Wed</th><th class=\"thu\">Thu</th><th class=\"fri\">Fri</th><th class=\"sat\">Sat</th><th class=\"sun\">Sun</th></tr>\n",
            "<tr><td class=\"noday\">&nbsp;</td><td class=\"tue\">1</td><td class=\"wed\">2</td><td class=\"thu\">3</td><td class=\"fri\">4</td><td class=\"sat\">5</td><td class=\"sun\">6</td></tr>\n",
            "<tr><td class=\"mon\">7</td><td class=\"tue\">8</td><td class=\"wed\">9</td><td class=\"thu\">10</td><td class=\"fri\">11</td><td class=\"sat\">12</td><td class=\"sun\">13</td></tr>\n",
            "<tr><td class=\"mon\">14</td><td class=\"tue\">15</td><td class=\"wed\">16</td><td class=\"thu\">17</td><td class=\"fri\">18</td><td class=\"sat\">19</td><td class=\"sun\">20</td></tr>\n",
            "<tr><td class=\"mon\">21</td><td class=\"tue\">22</td><td class=\"wed\">23</td><td class=\"thu\">24</td><td class=\"fri\">25</td><td class=\"sat\">26</td><td class=\"sun\">27</td></tr>\n",
            "<tr><td class=\"mon\">28</td><td class=\"tue\">29</td><td class=\"wed\">30</td><td class=\"noday\">&nbsp;</td><td class=\"noday\">&nbsp;</td><td class=\"noday\">&nbsp;</td><td class=\"noday\">&nbsp;</td></tr>\n",
            "</table>\n",
            "</td><td><table border=\"0\" cellpadding=\"0\" cellspacing=\"0\" class=\"month\">\n",
            "<tr><th colspan=\"7\" class=\"month\">May</th></tr>\n",
            "<tr><th class=\"mon\">Mon</th><th class=\"tue\">Tue</th><th class=\"wed\">Wed</th><th class=\"thu\">Thu</th><th class=\"fri\">Fri</th><th class=\"sat\">Sat</th><th class=\"sun\">Sun</th></tr>\n",
            "<tr><td class=\"noday\">&nbsp;</td><td class=\"noday\">&nbsp;</td><td class=\"noday\">&nbsp;</td><td class=\"thu\">1</td><td class=\"fri\">2</td><td class=\"sat\">3</td><td class=\"sun\">4</td></tr>\n",
            "<tr><td class=\"mon\">5</td><td class=\"tue\">6</td><td class=\"wed\">7</td><td class=\"thu\">8</td><td class=\"fri\">9</td><td class=\"sat\">10</td><td class=\"sun\">11</td></tr>\n",
            "<tr><td class=\"mon\">12</td><td class=\"tue\">13</td><td class=\"wed\">14</td><td class=\"thu\">15</td><td class=\"fri\">16</td><td class=\"sat\">17</td><td class=\"sun\">18</td></tr>\n",
            "<tr><td class=\"mon\">19</td><td class=\"tue\">20</td><td class=\"wed\">21</td><td class=\"thu\">22</td><td class=\"fri\">23</td><td class=\"sat\">24</td><td class=\"sun\">25</td></tr>\n",
            "<tr><td class=\"mon\">26</td><td class=\"tue\">27</td><td class=\"wed\">28</td><td class=\"thu\">29</td><td class=\"fri\">30</td><td class=\"sat\">31</td><td class=\"noday\">&nbsp;</td></tr>\n",
            "</table>\n",
            "</td><td><table border=\"0\" cellpadding=\"0\" cellspacing=\"0\" class=\"month\">\n",
            "<tr><th colspan=\"7\" class=\"month\">June</th></tr>\n",
            "<tr><th class=\"mon\">Mon</th><th class=\"tue\">Tue</th><th class=\"wed\">Wed</th><th class=\"thu\">Thu</th><th class=\"fri\">Fri</th><th class=\"sat\">Sat</th><th class=\"sun\">Sun</th></tr>\n",
            "<tr><td class=\"noday\">&nbsp;</td><td class=\"noday\">&nbsp;</td><td class=\"noday\">&nbsp;</td><td class=\"noday\">&nbsp;</td><td class=\"noday\">&nbsp;</td><td class=\"noday\">&nbsp;</td><td class=\"sun\">1</td></tr>\n",
            "<tr><td class=\"mon\">2</td><td class=\"tue\">3</td><td class=\"wed\">4</td><td class=\"thu\">5</td><td class=\"fri\">6</td><td class=\"sat\">7</td><td class=\"sun\">8</td></tr>\n",
            "<tr><td class=\"mon\">9</td><td class=\"tue\">10</td><td class=\"wed\">11</td><td class=\"thu\">12</td><td class=\"fri\">13</td><td class=\"sat\">14</td><td class=\"sun\">15</td></tr>\n",
            "<tr><td class=\"mon\">16</td><td class=\"tue\">17</td><td class=\"wed\">18</td><td class=\"thu\">19</td><td class=\"fri\">20</td><td class=\"sat\">21</td><td class=\"sun\">22</td></tr>\n",
            "<tr><td class=\"mon\">23</td><td class=\"tue\">24</td><td class=\"wed\">25</td><td class=\"thu\">26</td><td class=\"fri\">27</td><td class=\"sat\">28</td><td class=\"sun\">29</td></tr>\n",
            "<tr><td class=\"mon\">30</td><td class=\"noday\">&nbsp;</td><td class=\"noday\">&nbsp;</td><td class=\"noday\">&nbsp;</td><td class=\"noday\">&nbsp;</td><td class=\"noday\">&nbsp;</td><td class=\"noday\">&nbsp;</td></tr>\n",
            "</table>\n",
            "</td></tr><tr><td><table border=\"0\" cellpadding=\"0\" cellspacing=\"0\" class=\"month\">\n",
            "<tr><th colspan=\"7\" class=\"month\">July</th></tr>\n",
            "<tr><th class=\"mon\">Mon</th><th class=\"tue\">Tue</th><th class=\"wed\">Wed</th><th class=\"thu\">Thu</th><th class=\"fri\">Fri</th><th class=\"sat\">Sat</th><th class=\"sun\">Sun</th></tr>\n",
            "<tr><td class=\"noday\">&nbsp;</td><td class=\"tue\">1</td><td class=\"wed\">2</td><td class=\"thu\">3</td><td class=\"fri\">4</td><td class=\"sat\">5</td><td class=\"sun\">6</td></tr>\n",
            "<tr><td class=\"mon\">7</td><td class=\"tue\">8</td><td class=\"wed\">9</td><td class=\"thu\">10</td><td class=\"fri\">11</td><td class=\"sat\">12</td><td class=\"sun\">13</td></tr>\n",
            "<tr><td class=\"mon\">14</td><td class=\"tue\">15</td><td class=\"wed\">16</td><td class=\"thu\">17</td><td class=\"fri\">18</td><td class=\"sat\">19</td><td class=\"sun\">20</td></tr>\n",
            "<tr><td class=\"mon\">21</td><td class=\"tue\">22</td><td class=\"wed\">23</td><td class=\"thu\">24</td><td class=\"fri\">25</td><td class=\"sat\">26</td><td class=\"sun\">27</td></tr>\n",
            "<tr><td class=\"mon\">28</td><td class=\"tue\">29</td><td class=\"wed\">30</td><td class=\"thu\">31</td><td class=\"noday\">&nbsp;</td><td class=\"noday\">&nbsp;</td><td class=\"noday\">&nbsp;</td></tr>\n",
            "</table>\n",
            "</td><td><table border=\"0\" cellpadding=\"0\" cellspacing=\"0\" class=\"month\">\n",
            "<tr><th colspan=\"7\" class=\"month\">August</th></tr>\n",
            "<tr><th class=\"mon\">Mon</th><th class=\"tue\">Tue</th><th class=\"wed\">Wed</th><th class=\"thu\">Thu</th><th class=\"fri\">Fri</th><th class=\"sat\">Sat</th><th class=\"sun\">Sun</th></tr>\n",
            "<tr><td class=\"noday\">&nbsp;</td><td class=\"noday\">&nbsp;</td><td class=\"noday\">&nbsp;</td><td class=\"noday\">&nbsp;</td><td class=\"fri\">1</td><td class=\"sat\">2</td><td class=\"sun\">3</td></tr>\n",
            "<tr><td class=\"mon\">4</td><td class=\"tue\">5</td><td class=\"wed\">6</td><td class=\"thu\">7</td><td class=\"fri\">8</td><td class=\"sat\">9</td><td class=\"sun\">10</td></tr>\n",
            "<tr><td class=\"mon\">11</td><td class=\"tue\">12</td><td class=\"wed\">13</td><td class=\"thu\">14</td><td class=\"fri\">15</td><td class=\"sat\">16</td><td class=\"sun\">17</td></tr>\n",
            "<tr><td class=\"mon\">18</td><td class=\"tue\">19</td><td class=\"wed\">20</td><td class=\"thu\">21</td><td class=\"fri\">22</td><td class=\"sat\">23</td><td class=\"sun\">24</td></tr>\n",
            "<tr><td class=\"mon\">25</td><td class=\"tue\">26</td><td class=\"wed\">27</td><td class=\"thu\">28</td><td class=\"fri\">29</td><td class=\"sat\">30</td><td class=\"sun\">31</td></tr>\n",
            "</table>\n",
            "</td><td><table border=\"0\" cellpadding=\"0\" cellspacing=\"0\" class=\"month\">\n",
            "<tr><th colspan=\"7\" class=\"month\">September</th></tr>\n",
            "<tr><th class=\"mon\">Mon</th><th class=\"tue\">Tue</th><th class=\"wed\">Wed</th><th class=\"thu\">Thu</th><th class=\"fri\">Fri</th><th class=\"sat\">Sat</th><th class=\"sun\">Sun</th></tr>\n",
            "<tr><td class=\"mon\">1</td><td class=\"tue\">2</td><td class=\"wed\">3</td><td class=\"thu\">4</td><td class=\"fri\">5</td><td class=\"sat\">6</td><td class=\"sun\">7</td></tr>\n",
            "<tr><td class=\"mon\">8</td><td class=\"tue\">9</td><td class=\"wed\">10</td><td class=\"thu\">11</td><td class=\"fri\">12</td><td class=\"sat\">13</td><td class=\"sun\">14</td></tr>\n",
            "<tr><td class=\"mon\">15</td><td class=\"tue\">16</td><td class=\"wed\">17</td><td class=\"thu\">18</td><td class=\"fri\">19</td><td class=\"sat\">20</td><td class=\"sun\">21</td></tr>\n",
            "<tr><td class=\"mon\">22</td><td class=\"tue\">23</td><td class=\"wed\">24</td><td class=\"thu\">25</td><td class=\"fri\">26</td><td class=\"sat\">27</td><td class=\"sun\">28</td></tr>\n",
            "<tr><td class=\"mon\">29</td><td class=\"tue\">30</td><td class=\"noday\">&nbsp;</td><td class=\"noday\">&nbsp;</td><td class=\"noday\">&nbsp;</td><td class=\"noday\">&nbsp;</td><td class=\"noday\">&nbsp;</td></tr>\n",
            "</table>\n",
            "</td></tr><tr><td><table border=\"0\" cellpadding=\"0\" cellspacing=\"0\" class=\"month\">\n",
            "<tr><th colspan=\"7\" class=\"month\">October</th></tr>\n",
            "<tr><th class=\"mon\">Mon</th><th class=\"tue\">Tue</th><th class=\"wed\">Wed</th><th class=\"thu\">Thu</th><th class=\"fri\">Fri</th><th class=\"sat\">Sat</th><th class=\"sun\">Sun</th></tr>\n",
            "<tr><td class=\"noday\">&nbsp;</td><td class=\"noday\">&nbsp;</td><td class=\"wed\">1</td><td class=\"thu\">2</td><td class=\"fri\">3</td><td class=\"sat\">4</td><td class=\"sun\">5</td></tr>\n",
            "<tr><td class=\"mon\">6</td><td class=\"tue\">7</td><td class=\"wed\">8</td><td class=\"thu\">9</td><td class=\"fri\">10</td><td class=\"sat\">11</td><td class=\"sun\">12</td></tr>\n",
            "<tr><td class=\"mon\">13</td><td class=\"tue\">14</td><td class=\"wed\">15</td><td class=\"thu\">16</td><td class=\"fri\">17</td><td class=\"sat\">18</td><td class=\"sun\">19</td></tr>\n",
            "<tr><td class=\"mon\">20</td><td class=\"tue\">21</td><td class=\"wed\">22</td><td class=\"thu\">23</td><td class=\"fri\">24</td><td class=\"sat\">25</td><td class=\"sun\">26</td></tr>\n",
            "<tr><td class=\"mon\">27</td><td class=\"tue\">28</td><td class=\"wed\">29</td><td class=\"thu\">30</td><td class=\"fri\">31</td><td class=\"noday\">&nbsp;</td><td class=\"noday\">&nbsp;</td></tr>\n",
            "</table>\n",
            "</td><td><table border=\"0\" cellpadding=\"0\" cellspacing=\"0\" class=\"month\">\n",
            "<tr><th colspan=\"7\" class=\"month\">November</th></tr>\n",
            "<tr><th class=\"mon\">Mon</th><th class=\"tue\">Tue</th><th class=\"wed\">Wed</th><th class=\"thu\">Thu</th><th class=\"fri\">Fri</th><th class=\"sat\">Sat</th><th class=\"sun\">Sun</th></tr>\n",
            "<tr><td class=\"noday\">&nbsp;</td><td class=\"noday\">&nbsp;</td><td class=\"noday\">&nbsp;</td><td class=\"noday\">&nbsp;</td><td class=\"noday\">&nbsp;</td><td class=\"sat\">1</td><td class=\"sun\">2</td></tr>\n",
            "<tr><td class=\"mon\">3</td><td class=\"tue\">4</td><td class=\"wed\">5</td><td class=\"thu\">6</td><td class=\"fri\">7</td><td class=\"sat\">8</td><td class=\"sun\">9</td></tr>\n",
            "<tr><td class=\"mon\">10</td><td class=\"tue\">11</td><td class=\"wed\">12</td><td class=\"thu\">13</td><td class=\"fri\">14</td><td class=\"sat\">15</td><td class=\"sun\">16</td></tr>\n",
            "<tr><td class=\"mon\">17</td><td class=\"tue\">18</td><td class=\"wed\">19</td><td class=\"thu\">20</td><td class=\"fri\">21</td><td class=\"sat\">22</td><td class=\"sun\">23</td></tr>\n",
            "<tr><td class=\"mon\">24</td><td class=\"tue\">25</td><td class=\"wed\">26</td><td class=\"thu\">27</td><td class=\"fri\">28</td><td class=\"sat\">29</td><td class=\"sun\">30</td></tr>\n",
            "</table>\n",
            "</td><td><table border=\"0\" cellpadding=\"0\" cellspacing=\"0\" class=\"month\">\n",
            "<tr><th colspan=\"7\" class=\"month\">December</th></tr>\n",
            "<tr><th class=\"mon\">Mon</th><th class=\"tue\">Tue</th><th class=\"wed\">Wed</th><th class=\"thu\">Thu</th><th class=\"fri\">Fri</th><th class=\"sat\">Sat</th><th class=\"sun\">Sun</th></tr>\n",
            "<tr><td class=\"mon\">1</td><td class=\"tue\">2</td><td class=\"wed\">3</td><td class=\"thu\">4</td><td class=\"fri\">5</td><td class=\"sat\">6</td><td class=\"sun\">7</td></tr>\n",
            "<tr><td class=\"mon\">8</td><td class=\"tue\">9</td><td class=\"wed\">10</td><td class=\"thu\">11</td><td class=\"fri\">12</td><td class=\"sat\">13</td><td class=\"sun\">14</td></tr>\n",
            "<tr><td class=\"mon\">15</td><td class=\"tue\">16</td><td class=\"wed\">17</td><td class=\"thu\">18</td><td class=\"fri\">19</td><td class=\"sat\">20</td><td class=\"sun\">21</td></tr>\n",
            "<tr><td class=\"mon\">22</td><td class=\"tue\">23</td><td class=\"wed\">24</td><td class=\"thu\">25</td><td class=\"fri\">26</td><td class=\"sat\">27</td><td class=\"sun\">28</td></tr>\n",
            "<tr><td class=\"mon\">29</td><td class=\"tue\">30</td><td class=\"wed\">31</td><td class=\"noday\">&nbsp;</td><td class=\"noday\">&nbsp;</td><td class=\"noday\">&nbsp;</td><td class=\"noday\">&nbsp;</td></tr>\n",
            "</table>\n",
            "</td></tr></table>\n"
          ]
        }
      ],
      "source": [
        "html_year = html_cal.formatyear(2025)\n",
        "print(html_year)\n",
        "with open(\"year_calendar.html\", \"w\") as file:\n",
        "    file.write(html_year)"
      ]
    },
    {
      "cell_type": "markdown",
      "metadata": {},
      "source": [
        "### Работа с датами"
      ]
    },
    {
      "cell_type": "markdown",
      "metadata": {},
      "source": [
        "`day_name` — полные названия дней"
      ]
    },
    {
      "cell_type": "code",
      "execution_count": 118,
      "metadata": {},
      "outputs": [
        {
          "data": {
            "text/plain": [
              "['Monday', 'Tuesday', 'Wednesday', 'Thursday', 'Friday', 'Saturday', 'Sunday']"
            ]
          },
          "execution_count": 118,
          "metadata": {},
          "output_type": "execute_result"
        }
      ],
      "source": [
        "list(calendar.day_name)"
      ]
    },
    {
      "cell_type": "markdown",
      "metadata": {},
      "source": [
        "`day_abbr` — сокращённые названия дней"
      ]
    },
    {
      "cell_type": "code",
      "execution_count": 119,
      "metadata": {},
      "outputs": [
        {
          "data": {
            "text/plain": [
              "['Mon', 'Tue', 'Wed', 'Thu', 'Fri', 'Sat', 'Sun']"
            ]
          },
          "execution_count": 119,
          "metadata": {},
          "output_type": "execute_result"
        }
      ],
      "source": [
        "list(calendar.day_abbr)"
      ]
    },
    {
      "cell_type": "markdown",
      "metadata": {},
      "source": [
        "## Модуль collections"
      ]
    },
    {
      "cell_type": "markdown",
      "metadata": {},
      "source": [
        "`collections` — это коллекция специализированных контейнерных типов данных, которые расширяют возможности стандартных структур.\n",
        "\n",
        "Основные классы collections:\n",
        "- `defaultdict` - словарь со значением по умолчанию\n",
        "- `Counter` - подсчет элементов\n",
        "- `deque` - двусторонняя очередь\n",
        "- `namedtuple` - именованный кортеж\n",
        "- `OrderedDict` - упорядоченный словарь\n",
        "- `ChainMap` - цепочка словарей\n",
        "- `UserDict`, `UserList`, `UserString` - классы для наследования и создания собственных реализаций словарей, списков и строк"
      ]
    },
    {
      "cell_type": "markdown",
      "metadata": {},
      "source": [
        "### Класс defaultdict"
      ]
    },
    {
      "cell_type": "code",
      "execution_count": 120,
      "metadata": {},
      "outputs": [],
      "source": [
        "from collections import defaultdict"
      ]
    },
    {
      "cell_type": "markdown",
      "metadata": {},
      "source": [
        "`defaultdict` автоматически создает значения на основе функции"
      ]
    },
    {
      "cell_type": "code",
      "execution_count": 121,
      "metadata": {},
      "outputs": [
        {
          "name": "stdout",
          "output_type": "stream",
          "text": [
            "0\n"
          ]
        }
      ],
      "source": [
        "def_dict = defaultdict(int)\n",
        "print(def_dict['key'])"
      ]
    },
    {
      "cell_type": "code",
      "execution_count": 122,
      "metadata": {},
      "outputs": [
        {
          "data": {
            "text/plain": [
              "defaultdict(list, {'fruits': ['apple', 'banana']})"
            ]
          },
          "execution_count": 122,
          "metadata": {},
          "output_type": "execute_result"
        }
      ],
      "source": [
        "list_dict = defaultdict(list)\n",
        "list_dict['fruits'].append('apple')\n",
        "list_dict['fruits'].append('banana')\n",
        "list_dict"
      ]
    },
    {
      "cell_type": "code",
      "execution_count": 123,
      "metadata": {},
      "outputs": [
        {
          "name": "stdout",
          "output_type": "stream",
          "text": [
            "['value1']\n"
          ]
        }
      ],
      "source": [
        "# кастомная функция\n",
        "def default_value():\n",
        "    return ['value1']\n",
        "\n",
        "custom_dict = defaultdict(default_value)\n",
        "print(custom_dict['key1'])"
      ]
    },
    {
      "cell_type": "markdown",
      "metadata": {},
      "source": [
        "### Класс Counter"
      ]
    },
    {
      "cell_type": "code",
      "execution_count": 124,
      "metadata": {},
      "outputs": [],
      "source": [
        "from collections import Counter"
      ]
    },
    {
      "cell_type": "markdown",
      "metadata": {},
      "source": [
        "#### Создание"
      ]
    },
    {
      "cell_type": "code",
      "execution_count": 125,
      "metadata": {},
      "outputs": [
        {
          "data": {
            "text/plain": [
              "Counter({'a': 5, 'b': 3, 'c': 1})"
            ]
          },
          "execution_count": 125,
          "metadata": {},
          "output_type": "execute_result"
        }
      ],
      "source": [
        "text = \"abcabbaaa\"\n",
        "char_count = Counter(text)\n",
        "char_count"
      ]
    },
    {
      "cell_type": "markdown",
      "metadata": {},
      "source": [
        "#### Методы"
      ]
    },
    {
      "cell_type": "code",
      "execution_count": 126,
      "metadata": {},
      "outputs": [],
      "source": [
        "c = Counter(['a', 'b', 'c', 'a', 'b', 'a'])"
      ]
    },
    {
      "cell_type": "markdown",
      "metadata": {},
      "source": [
        "`most_common()` - самые частые элементы (аргумент - количество элементов)"
      ]
    },
    {
      "cell_type": "code",
      "execution_count": 127,
      "metadata": {},
      "outputs": [
        {
          "data": {
            "text/plain": [
              "[('a', 3), ('b', 2)]"
            ]
          },
          "execution_count": 127,
          "metadata": {},
          "output_type": "execute_result"
        }
      ],
      "source": [
        "c.most_common(2)"
      ]
    },
    {
      "cell_type": "markdown",
      "metadata": {},
      "source": [
        "`total()` - общее количество элементов (доступно с версии Python 3.10)"
      ]
    },
    {
      "cell_type": "code",
      "execution_count": 128,
      "metadata": {},
      "outputs": [
        {
          "data": {
            "text/plain": [
              "6"
            ]
          },
          "execution_count": 128,
          "metadata": {},
          "output_type": "execute_result"
        }
      ],
      "source": [
        "c.total()"
      ]
    },
    {
      "cell_type": "markdown",
      "metadata": {},
      "source": [
        "Арифметические операции"
      ]
    },
    {
      "cell_type": "code",
      "execution_count": 129,
      "metadata": {},
      "outputs": [
        {
          "name": "stdout",
          "output_type": "stream",
          "text": [
            "Counter({'a': 4, 'b': 3})\n",
            "Counter({'a': 2})\n",
            "Counter({'a': 1, 'b': 1})\n",
            "Counter({'a': 3, 'b': 2})\n"
          ]
        }
      ],
      "source": [
        "c1 = Counter(a=3, b=1)\n",
        "c2 = Counter(a=1, b=2)\n",
        "\n",
        "print(c1 + c2)  # сумма\n",
        "print(c1 - c2)  # разность\n",
        "print(c1 & c2)  # пересечение (минимум)\n",
        "print(c1 | c2)  # объединение (максимум)"
      ]
    },
    {
      "cell_type": "markdown",
      "metadata": {},
      "source": [
        "### Класс deque"
      ]
    },
    {
      "cell_type": "code",
      "execution_count": 130,
      "metadata": {},
      "outputs": [],
      "source": [
        "from collections import deque"
      ]
    },
    {
      "cell_type": "markdown",
      "metadata": {},
      "source": [
        "Создание:"
      ]
    },
    {
      "cell_type": "code",
      "execution_count": 131,
      "metadata": {},
      "outputs": [
        {
          "name": "stdout",
          "output_type": "stream",
          "text": [
            "deque([1, 2, 3])\n"
          ]
        }
      ],
      "source": [
        "d = deque([1, 2, 3])\n",
        "print(d)"
      ]
    },
    {
      "cell_type": "markdown",
      "metadata": {},
      "source": [
        "Ограничение размера:"
      ]
    },
    {
      "cell_type": "code",
      "execution_count": 132,
      "metadata": {},
      "outputs": [
        {
          "name": "stdout",
          "output_type": "stream",
          "text": [
            "deque([1, 2, 3], maxlen=5)\n"
          ]
        }
      ],
      "source": [
        "d = deque([1, 2, 3], maxlen=5)\n",
        "print(d)"
      ]
    },
    {
      "cell_type": "markdown",
      "metadata": {},
      "source": [
        "Добавление элементов:"
      ]
    },
    {
      "cell_type": "code",
      "execution_count": 133,
      "metadata": {},
      "outputs": [
        {
          "data": {
            "text/plain": [
              "deque([0, 1, 2, 3, 4], maxlen=5)"
            ]
          },
          "execution_count": 133,
          "metadata": {},
          "output_type": "execute_result"
        }
      ],
      "source": [
        "d.append(4)\n",
        "d.appendleft(0)\n",
        "d"
      ]
    },
    {
      "cell_type": "markdown",
      "metadata": {},
      "source": [
        "Удаление и возврат значения элементов:"
      ]
    },
    {
      "cell_type": "code",
      "execution_count": 134,
      "metadata": {},
      "outputs": [
        {
          "name": "stdout",
          "output_type": "stream",
          "text": [
            "4 0\n"
          ]
        },
        {
          "data": {
            "text/plain": [
              "deque([1, 2, 3], maxlen=5)"
            ]
          },
          "execution_count": 134,
          "metadata": {},
          "output_type": "execute_result"
        }
      ],
      "source": [
        "right = d.pop()      # 4\n",
        "left = d.popleft()   # 0\n",
        "\n",
        "print(right, left)\n",
        "d"
      ]
    },
    {
      "cell_type": "markdown",
      "metadata": {},
      "source": [
        "Добавление нескольких элементов:"
      ]
    },
    {
      "cell_type": "code",
      "execution_count": 138,
      "metadata": {},
      "outputs": [
        {
          "name": "stdout",
          "output_type": "stream",
          "text": [
            "deque([2, 3, 4, 5, 6], maxlen=5)\n",
            "deque([0, 1, 2, 3, 4], maxlen=5)\n"
          ]
        }
      ],
      "source": [
        "d = deque([1, 2, 3], maxlen=5)\n",
        "\n",
        "d.extend([4, 5, 6])\n",
        "print(d)\n",
        "\n",
        "d.extendleft([1, 0])\n",
        "print(d)"
      ]
    },
    {
      "cell_type": "markdown",
      "metadata": {},
      "source": [
        "Сдвиг:"
      ]
    },
    {
      "cell_type": "code",
      "execution_count": 136,
      "metadata": {},
      "outputs": [
        {
          "name": "stdout",
          "output_type": "stream",
          "text": [
            "deque([3, 4, 0, 1, 2], maxlen=5)\n",
            "deque([4, 0, 1, 2, 3], maxlen=5)\n"
          ]
        }
      ],
      "source": [
        "d.rotate(2)   # сдвиг вправо\n",
        "print(d)\n",
        "\n",
        "d.rotate(-1)  # сдвиг влево\n",
        "print(d)"
      ]
    },
    {
      "cell_type": "markdown",
      "metadata": {},
      "source": [
        "## Модуль glob"
      ]
    },
    {
      "cell_type": "markdown",
      "metadata": {},
      "source": [
        "Модуль `glob` используется для поиска файлов и каталогов, соответствующих определённым шаблонам имен файлов. Он позволяет удобно работать с файловой системой, находя файлы по заданной маске.\n",
        "\n",
        "`glob.glob(pattern)` - возвращает список путей к файлам, соответствующим заданному шаблону.\n",
        "\n",
        "Шаблон может содержать специальные символы:\n",
        "\n",
        "- `*` - соответствует любому количеству символов.\n",
        "- `?` - соответствует любому одному символу.\n",
        "- `[a-c]` - соответствует любому одному символу из указанного набора."
      ]
    },
    {
      "cell_type": "code",
      "execution_count": 139,
      "metadata": {},
      "outputs": [],
      "source": [
        "import glob"
      ]
    },
    {
      "cell_type": "markdown",
      "metadata": {},
      "source": [
        "Список всех html файлов в текущем каталоге:"
      ]
    },
    {
      "cell_type": "code",
      "execution_count": 140,
      "metadata": {},
      "outputs": [
        {
          "name": "stdout",
          "output_type": "stream",
          "text": [
            "['month_calendar.html', 'year_calendar.html']\n"
          ]
        }
      ],
      "source": [
        "files = glob.glob('*.html')\n",
        "print(files)"
      ]
    },
    {
      "cell_type": "markdown",
      "metadata": {},
      "source": [
        "Список всех файлов в подкаталоге:"
      ]
    },
    {
      "cell_type": "code",
      "execution_count": 141,
      "metadata": {},
      "outputs": [
        {
          "name": "stdout",
          "output_type": "stream",
          "text": [
            "['.venv\\\\Include', '.venv\\\\Lib', '.venv\\\\pyvenv.cfg', '.venv\\\\Scripts']\n"
          ]
        }
      ],
      "source": [
        "files = glob.glob('.venv/*')\n",
        "print(files)"
      ]
    },
    {
      "cell_type": "markdown",
      "metadata": {},
      "source": [
        "Список всех файлов в текущем каталоге и подкаталогах (рекурсивный поиск):"
      ]
    },
    {
      "cell_type": "code",
      "execution_count": 142,
      "metadata": {},
      "outputs": [
        {
          "name": "stdout",
          "output_type": "stream",
          "text": [
            "['month_calendar.html', 'tmp', 'year_calendar.html', 'Лекция 4.ipynb', 'tmp\\\\file.txt']\n"
          ]
        }
      ],
      "source": [
        "py_files = glob.glob('**/*', recursive=True)\n",
        "print(py_files)"
      ]
    },
    {
      "cell_type": "markdown",
      "metadata": {},
      "source": [
        "## Модуль logging"
      ]
    },
    {
      "cell_type": "markdown",
      "metadata": {},
      "source": [
        "`logging` — это система логирования для отслеживания событий в приложениях.\n",
        "\n",
        "Уровни логирования:\n",
        "- CRITICAL - Критическая ошибка (50)\n",
        "- ERROR - Ошибка (40)\n",
        "- WARNING - Предупреждение (30)\n",
        "- INFO - Информация (20)\n",
        "- DEBUG - Отладочная информация (10)\n",
        "- NOTSET - Все сообщения (0)\n",
        "\n",
        "Уровень логирования определяет **минимальный уровень сообщений**, которые он будет обрабатывать. Например, уровень логирования info будет обрабатывать сообщения critical, error, warning и info."
      ]
    },
    {
      "cell_type": "code",
      "execution_count": 143,
      "metadata": {},
      "outputs": [],
      "source": [
        "import logging"
      ]
    },
    {
      "cell_type": "markdown",
      "metadata": {},
      "source": [
        "`basicConfig()` — настройка логирования"
      ]
    },
    {
      "cell_type": "code",
      "execution_count": 144,
      "metadata": {},
      "outputs": [],
      "source": [
        "# Настройка\n",
        "logging.basicConfig(\n",
        "    level=logging.DEBUG,\n",
        "    filename='app.log',\n",
        "    filemode='a',  # 'a' - append, 'w' - overwrite\n",
        "    format='%(asctime)s - %(name)s - %(levelname)s - %(message)s',\n",
        "    datefmt='%Y-%m-%d %H:%M:%S'\n",
        ")\n",
        "\n",
        "logging.info(\"Write to log file\")\n",
        "logging.warning(\"Warning message\")"
      ]
    },
    {
      "cell_type": "markdown",
      "metadata": {},
      "source": [
        "Создание нескольких логгеров:"
      ]
    },
    {
      "cell_type": "code",
      "execution_count": 145,
      "metadata": {},
      "outputs": [],
      "source": [
        "# Создание логгеров для разных модулей\n",
        "logger = logging.getLogger(__name__)  # Логгер с именем модуля\n",
        "\n",
        "# Настройка каждого логгера\n",
        "logger.setLevel(logging.DEBUG)"
      ]
    },
    {
      "cell_type": "markdown",
      "metadata": {},
      "source": [
        "Обработчики (Handlers):"
      ]
    },
    {
      "cell_type": "code",
      "execution_count": 146,
      "metadata": {},
      "outputs": [
        {
          "name": "stderr",
          "output_type": "stream",
          "text": [
            "2025-09-22 12:15:50,355 - __main__ - INFO - Some message\n"
          ]
        }
      ],
      "source": [
        "# Создание логгера\n",
        "logger = logging.getLogger(__name__)\n",
        "logger.setLevel(logging.DEBUG)\n",
        "\n",
        "# Обработчик для файла\n",
        "file_handler = logging.FileHandler('main_log.log')\n",
        "file_handler.setLevel(logging.INFO)\n",
        "\n",
        "# Обработчик для консоли\n",
        "console_handler = logging.StreamHandler()\n",
        "console_handler.setLevel(logging.DEBUG)\n",
        "\n",
        "# Форматирование\n",
        "formatter = logging.Formatter('%(asctime)s - %(name)s - %(levelname)s - %(message)s')\n",
        "file_handler.setFormatter(formatter)\n",
        "console_handler.setFormatter(formatter)\n",
        "\n",
        "# Добавление обработчиков\n",
        "logger.addHandler(file_handler)\n",
        "logger.addHandler(console_handler)\n",
        "\n",
        "# Использование\n",
        "logger.info(\"Some message\")"
      ]
    },
    {
      "cell_type": "markdown",
      "metadata": {},
      "source": [
        "`disabled` — временное отключение логгера"
      ]
    },
    {
      "cell_type": "code",
      "execution_count": 147,
      "metadata": {},
      "outputs": [],
      "source": [
        "logger.disabled = True  # отключить\n",
        "logger.disabled = False  # включить"
      ]
    },
    {
      "cell_type": "markdown",
      "metadata": {},
      "source": [
        "`removeHandler()` — удаление обработчика"
      ]
    },
    {
      "cell_type": "code",
      "execution_count": 148,
      "metadata": {},
      "outputs": [],
      "source": [
        "logger.removeHandler(file_handler)"
      ]
    },
    {
      "cell_type": "markdown",
      "metadata": {},
      "source": [
        "`handlers.clear()` — удаление всех обработчиков"
      ]
    },
    {
      "cell_type": "code",
      "execution_count": 149,
      "metadata": {},
      "outputs": [],
      "source": [
        "logger.handlers.clear()"
      ]
    },
    {
      "cell_type": "markdown",
      "metadata": {},
      "source": [
        "`shutdown()` - полная остановка всей системы логирования"
      ]
    },
    {
      "cell_type": "code",
      "execution_count": 150,
      "metadata": {},
      "outputs": [],
      "source": [
        "logging.shutdown()"
      ]
    },
    {
      "cell_type": "markdown",
      "metadata": {
        "id": "gFEsl8tczgG4"
      },
      "source": [
        "## Модуль tqdm"
      ]
    },
    {
      "cell_type": "markdown",
      "metadata": {
        "id": "jz6UOws34TJA"
      },
      "source": [
        "Модуль `tqdm` предназначен для быстрого и расширяемого внедрения индикаторов выполнения (progressbar) во внешние интерфейсы программ на Python, предоставляя конечным пользователям визуальную индикацию хода вычислений или передачи данных."
      ]
    },
    {
      "cell_type": "code",
      "execution_count": 151,
      "metadata": {},
      "outputs": [
        {
          "name": "stdout",
          "output_type": "stream",
          "text": [
            "Requirement already satisfied: tqdm in c:\\users\\user\\appdata\\local\\programs\\python\\python313\\lib\\site-packages (4.67.1)\n",
            "Requirement already satisfied: colorama in c:\\users\\user\\appdata\\roaming\\python\\python313\\site-packages (from tqdm) (0.4.6)\n"
          ]
        },
        {
          "name": "stderr",
          "output_type": "stream",
          "text": [
            "\n",
            "[notice] A new release of pip is available: 25.1.1 -> 25.2\n",
            "[notice] To update, run: python.exe -m pip install --upgrade pip\n"
          ]
        }
      ],
      "source": [
        "!pip install tqdm"
      ]
    },
    {
      "cell_type": "code",
      "execution_count": 152,
      "metadata": {
        "colab": {
          "base_uri": "https://localhost:8080/"
        },
        "id": "usuZiJ3oziJH",
        "outputId": "23315696-9548-417e-bd64-3c6e76f74b60"
      },
      "outputs": [],
      "source": [
        "from tqdm import tqdm"
      ]
    },
    {
      "cell_type": "markdown",
      "metadata": {},
      "source": [
        "Запуск:"
      ]
    },
    {
      "cell_type": "code",
      "execution_count": 153,
      "metadata": {
        "colab": {
          "base_uri": "https://localhost:8080/"
        },
        "id": "lxGoNKhGzpEk",
        "outputId": "a5b4411a-ab63-4bf7-db5d-2729edd5b70f"
      },
      "outputs": [
        {
          "name": "stderr",
          "output_type": "stream",
          "text": [
            "100%|██████████| 100/100 [00:10<00:00,  9.72it/s]\n"
          ]
        }
      ],
      "source": [
        "for i in tqdm(range(100)):\n",
        "    time.sleep(0.1)"
      ]
    },
    {
      "cell_type": "markdown",
      "metadata": {},
      "source": [
        "Модификация progressbar:"
      ]
    },
    {
      "cell_type": "code",
      "execution_count": 154,
      "metadata": {
        "colab": {
          "base_uri": "https://localhost:8080/"
        },
        "id": "xpu4pueQ5e_2",
        "outputId": "10b35899-39ab-4e78-8248-d9f453719bb9"
      },
      "outputs": [
        {
          "name": "stderr",
          "output_type": "stream",
          "text": [
            "Загрузка: file_99: 100%|██████████| 100/100 [00:10<00:00,  9.53it/s]\n"
          ]
        }
      ],
      "source": [
        "pbar = tqdm(range(100), ascii=False)\n",
        "for num in pbar:\n",
        "    time.sleep(0.1)\n",
        "    # добавление префикса и элементов итерации к прогресс бару\n",
        "    pbar.set_description(f\"Загрузка: file_{num}\")"
      ]
    }
  ],
  "metadata": {
    "colab": {
      "provenance": []
    },
    "kernelspec": {
      "display_name": "Python 3",
      "name": "python3"
    },
    "language_info": {
      "codemirror_mode": {
        "name": "ipython",
        "version": 3
      },
      "file_extension": ".py",
      "mimetype": "text/x-python",
      "name": "python",
      "nbconvert_exporter": "python",
      "pygments_lexer": "ipython3",
      "version": "3.13.5"
    }
  },
  "nbformat": 4,
  "nbformat_minor": 0
}
