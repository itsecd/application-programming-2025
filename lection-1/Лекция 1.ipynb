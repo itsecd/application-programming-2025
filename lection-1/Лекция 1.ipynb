{
  "cells": [
    {
      "cell_type": "markdown",
      "metadata": {},
      "source": [
        "# Лекция 1. Знакомство с языком Python"
      ]
    },
    {
      "cell_type": "markdown",
      "metadata": {},
      "source": [
        "**Python** — высокоуровневый интерпретируемый язык программирования общего назначения, ориентированный на повышение производительности разработчика и читаемости кода.\n",
        "\n",
        "Особенности языка:\n",
        "- динамическая типизация\n",
        "- автоматическое управление памятью\n",
        "- встроенный механизм обработки исключений\n",
        "- поддержка многопоточных вычислений\n",
        "- высокоуровневые структуры данных\n",
        "- модульность"
      ]
    },
    {
      "cell_type": "markdown",
      "metadata": {},
      "source": [
        "## Виртуальное окружение"
      ]
    },
    {
      "cell_type": "markdown",
      "metadata": {},
      "source": [
        "**Виртуальное окружение** в Python — это независимая среда, в которой можно установить библиотеки и зависимости, необходимые для конкретного проекта, без влияния на другие проекты и на глобальную установку Python на вашем компьютере. Это позволяет избежать конфликтов между версиями библиотек и обеспечивает более управляемую разработку."
      ]
    },
    {
      "cell_type": "markdown",
      "metadata": {},
      "source": [
        "Команда для создания виртуального окружения:"
      ]
    },
    {
      "cell_type": "code",
      "execution_count": 1,
      "metadata": {},
      "outputs": [],
      "source": [
        "!python -m venv .venv \n",
        "# .venv — название виртуального окружения\n",
        "# когда пишете в консоли, то ! не нужен"
      ]
    },
    {
      "cell_type": "markdown",
      "metadata": {},
      "source": [
        "Команда для активации виртуального окружения на Windows:"
      ]
    },
    {
      "cell_type": "code",
      "execution_count": 2,
      "metadata": {},
      "outputs": [],
      "source": [
        "!.venv\\Scripts\\activate"
      ]
    },
    {
      "cell_type": "markdown",
      "metadata": {},
      "source": [
        "На Linux и macOS:"
      ]
    },
    {
      "cell_type": "code",
      "execution_count": null,
      "metadata": {},
      "outputs": [],
      "source": [
        "!source .venv/bin/activate"
      ]
    },
    {
      "cell_type": "markdown",
      "metadata": {},
      "source": [
        "Деактивация виртуального окружения:"
      ]
    },
    {
      "cell_type": "code",
      "execution_count": 7,
      "metadata": {},
      "outputs": [],
      "source": [
        "!.venv\\Scripts\\deactivate"
      ]
    },
    {
      "cell_type": "markdown",
      "metadata": {},
      "source": [
        "## Синтаксис"
      ]
    },
    {
      "cell_type": "markdown",
      "metadata": {},
      "source": [
        "В языке python каждая команда пишется **с новой строки**, без завершающих символов:"
      ]
    },
    {
      "cell_type": "code",
      "execution_count": 10,
      "metadata": {},
      "outputs": [
        {
          "data": {
            "text/plain": [
              "3"
            ]
          },
          "execution_count": 10,
          "metadata": {},
          "output_type": "execute_result"
        }
      ],
      "source": [
        "a = 1\n",
        "b = 2\n",
        "c = a + b\n",
        "c"
      ]
    },
    {
      "cell_type": "markdown",
      "metadata": {},
      "source": [
        "Для вложенных блоков кода используются **отступы** в 4 пробела:"
      ]
    },
    {
      "cell_type": "code",
      "execution_count": 11,
      "metadata": {},
      "outputs": [
        {
          "name": "stdout",
          "output_type": "stream",
          "text": [
            "1\n",
            "2\n"
          ]
        }
      ],
      "source": [
        "if c > b:\n",
        "    c = c - b\n",
        "    print(c)\n",
        "    if b > c:\n",
        "        print(b)\n"
      ]
    },
    {
      "cell_type": "markdown",
      "metadata": {},
      "source": [
        "Рекомендуемая длина строки - **до 80 символов**, иногда может увеличиваться до 100. Если ваша строка кода длиннее, то стоит задуматься над упрощением, изменением названий переменных или над переносом, если другие варианты невозможны.\n",
        "\n",
        "Для переноса строки используется `\\`:"
      ]
    },
    {
      "cell_type": "code",
      "execution_count": 12,
      "metadata": {},
      "outputs": [],
      "source": [
        "long_long_variable = 1\n",
        "\n",
        "long_long_variable = long_long_variable + long_long_variable + long_long_variable + \\\n",
        "    long_long_variable + long_long_variable"
      ]
    },
    {
      "cell_type": "markdown",
      "metadata": {},
      "source": [
        "## Переменные"
      ]
    },
    {
      "cell_type": "markdown",
      "metadata": {},
      "source": [
        "Переменные в Python представляют собой идентификаторы, которые ссылаются на объекты в памяти. В отличие от статически типизированных языков, Python использует динамическую типизацию, что означает возможность изменения типа объекта в ходе выполнения программы.\n",
        "\n",
        "Правила именования:\n",
        "- Могут состоять только из букв, цифр и подчёркиваний\n",
        "- Не могут начинаться с цифры\n",
        "- Регистрозависимые\n",
        "- Названия не должны совпадать с встроенными командами python (но это физически возможно)\n",
        "\n",
        "Для объявления переменной достаточно написать её название и через знак `=` задать значение:"
      ]
    },
    {
      "cell_type": "code",
      "execution_count": 13,
      "metadata": {},
      "outputs": [],
      "source": [
        "x = 1\n",
        "y = 'a'\n",
        "z = [1, 2, 3]"
      ]
    },
    {
      "cell_type": "markdown",
      "metadata": {
        "id": "GQo-25LWbgAI"
      },
      "source": [
        "## Консольный ввод-вывод"
      ]
    },
    {
      "cell_type": "markdown",
      "metadata": {},
      "source": [
        "Для вывода значения используется команда `print`. Вывести в консоль можно любую переменню, имеющую строковое представление:"
      ]
    },
    {
      "cell_type": "code",
      "execution_count": 14,
      "metadata": {},
      "outputs": [
        {
          "name": "stdout",
          "output_type": "stream",
          "text": [
            "\n",
            "5\n",
            "0.999\n",
            "My string\n",
            "[1, 2, 3]\n"
          ]
        }
      ],
      "source": [
        "print()\n",
        "print(5)\n",
        "print(0.999)\n",
        "print(\"My string\")\n",
        "print([1, 2, 3])"
      ]
    },
    {
      "cell_type": "markdown",
      "metadata": {},
      "source": [
        "Если мы хотим вывести несколько значений через разделитель (стандартный разделитель - пробел), то нужно передать значения через запятую:"
      ]
    },
    {
      "cell_type": "code",
      "execution_count": 15,
      "metadata": {},
      "outputs": [
        {
          "name": "stdout",
          "output_type": "stream",
          "text": [
            "1 2 3\n"
          ]
        }
      ],
      "source": [
        "print(1, 2, 3)"
      ]
    },
    {
      "cell_type": "markdown",
      "metadata": {},
      "source": [
        "Для изменения разделителя нужно указать значение необязательного аргумента `sep`:"
      ]
    },
    {
      "cell_type": "code",
      "execution_count": 16,
      "metadata": {},
      "outputs": [
        {
          "name": "stdout",
          "output_type": "stream",
          "text": [
            "1-2-3\n"
          ]
        }
      ],
      "source": [
        "print(1, 2, 3, sep='-')"
      ]
    },
    {
      "cell_type": "markdown",
      "metadata": {},
      "source": [
        "По умолчанию символ завершения строки - `\\n`. Для его изменения нужно указать значение для необязательного аргумента `end`:"
      ]
    },
    {
      "cell_type": "code",
      "execution_count": 17,
      "metadata": {},
      "outputs": [
        {
          "name": "stdout",
          "output_type": "stream",
          "text": [
            "1 2 3\n"
          ]
        }
      ],
      "source": [
        "print(1, end=' ')\n",
        "print(2, end=' ')\n",
        "print(3)"
      ]
    },
    {
      "cell_type": "markdown",
      "metadata": {},
      "source": [
        "Для ввода данных с консоли используется команда `input`. Она принимает один необязательный параметр - строку с подсказкой и возвращает строковое значение."
      ]
    },
    {
      "cell_type": "code",
      "execution_count": 18,
      "metadata": {},
      "outputs": [
        {
          "name": "stdout",
          "output_type": "stream",
          "text": [
            "Hello, Alan\n"
          ]
        }
      ],
      "source": [
        "name = input(\"Enter name: \")\n",
        "print(\"Hello,\", name)"
      ]
    },
    {
      "cell_type": "markdown",
      "metadata": {},
      "source": [
        "Для того, чтобы получить значение другого типа, строку необходимо преобразовать в нужный нам тип данных:"
      ]
    },
    {
      "cell_type": "code",
      "execution_count": 21,
      "metadata": {},
      "outputs": [
        {
          "name": "stdout",
          "output_type": "stream",
          "text": [
            "You're about 5 years older than your students!\n"
          ]
        }
      ],
      "source": [
        "age = input(\"Enter age: \")\n",
        "age = int(age)\n",
        "print(\"You're about\", age - 19, \"years older than your students!\")"
      ]
    },
    {
      "cell_type": "markdown",
      "metadata": {},
      "source": [
        "#### <span style=\"color:RoyalBlue\">Задание 1</span>"
      ]
    },
    {
      "cell_type": "markdown",
      "metadata": {},
      "source": [
        "Что выведет следущая команда?"
      ]
    },
    {
      "cell_type": "code",
      "execution_count": 22,
      "metadata": {},
      "outputs": [
        {
          "name": "stdout",
          "output_type": "stream",
          "text": [
            "100503D"
          ]
        }
      ],
      "source": [
        "print(10, '03', end='D', sep='05')"
      ]
    },
    {
      "cell_type": "markdown",
      "metadata": {},
      "source": [
        "## Встроенные типы данных"
      ]
    },
    {
      "cell_type": "markdown",
      "metadata": {},
      "source": [
        "`int` - целые числа"
      ]
    },
    {
      "cell_type": "code",
      "execution_count": 23,
      "metadata": {},
      "outputs": [
        {
          "name": "stdout",
          "output_type": "stream",
          "text": [
            "<class 'int'>\n"
          ]
        }
      ],
      "source": [
        "x = 10\n",
        "x = -10\n",
        "x = 1_000_000  # для удобства чтения можно добавлять разделитель _\n",
        "print(type(x))"
      ]
    },
    {
      "cell_type": "markdown",
      "metadata": {},
      "source": [
        "`float` - числа с плавающей точкой"
      ]
    },
    {
      "cell_type": "code",
      "execution_count": 24,
      "metadata": {},
      "outputs": [
        {
          "name": "stdout",
          "output_type": "stream",
          "text": [
            "<class 'float'>\n"
          ]
        }
      ],
      "source": [
        "x = 3.14\n",
        "x = -2.5\n",
        "x = 4.0  # для задания типа float необходимо поставить .\n",
        "print(type(x))"
      ]
    },
    {
      "cell_type": "markdown",
      "metadata": {},
      "source": [
        "`complex` - комплексные числа"
      ]
    },
    {
      "cell_type": "code",
      "execution_count": 25,
      "metadata": {},
      "outputs": [
        {
          "name": "stdout",
          "output_type": "stream",
          "text": [
            "3.0\n",
            "4.0\n",
            "<class 'complex'>\n"
          ]
        }
      ],
      "source": [
        "x = 3 + 4j\n",
        "print(x.real)  # действительная часть\n",
        "print(x.imag)  # мнимая часть\n",
        "print(type(x))"
      ]
    },
    {
      "cell_type": "markdown",
      "metadata": {},
      "source": [
        "`bool` - логический тип"
      ]
    },
    {
      "cell_type": "code",
      "execution_count": 26,
      "metadata": {},
      "outputs": [
        {
          "name": "stdout",
          "output_type": "stream",
          "text": [
            "<class 'bool'>\n"
          ]
        }
      ],
      "source": [
        "x = True\n",
        "x = False\n",
        "print(type(x))"
      ]
    },
    {
      "cell_type": "markdown",
      "metadata": {},
      "source": [
        "`str` - строковые данные. Строки можно писать в одинарных и двойных кавычках."
      ]
    },
    {
      "cell_type": "code",
      "execution_count": 27,
      "metadata": {},
      "outputs": [
        {
          "name": "stdout",
          "output_type": "stream",
          "text": [
            "<class 'str'>\n"
          ]
        }
      ],
      "source": [
        "x = \"Hello\"\n",
        "x = 'World'\n",
        "x = \"\"\"Многострочная\n",
        "строка\"\"\"\n",
        "print(type(x))"
      ]
    },
    {
      "cell_type": "markdown",
      "metadata": {},
      "source": [
        "`NoneType` - отсутствие значения"
      ]
    },
    {
      "cell_type": "code",
      "execution_count": 28,
      "metadata": {},
      "outputs": [
        {
          "name": "stdout",
          "output_type": "stream",
          "text": [
            "<class 'NoneType'>\n"
          ]
        }
      ],
      "source": [
        "x = None\n",
        "print(type(x))"
      ]
    },
    {
      "cell_type": "markdown",
      "metadata": {},
      "source": [
        "`list` - список"
      ]
    },
    {
      "cell_type": "code",
      "execution_count": 29,
      "metadata": {},
      "outputs": [
        {
          "name": "stdout",
          "output_type": "stream",
          "text": [
            "<class 'list'>\n"
          ]
        }
      ],
      "source": [
        "x = []\n",
        "x = list()\n",
        "x = [1, 2, 3]\n",
        "print(type(x))"
      ]
    },
    {
      "cell_type": "markdown",
      "metadata": {},
      "source": [
        "`tuple` - кортеж"
      ]
    },
    {
      "cell_type": "code",
      "execution_count": 30,
      "metadata": {},
      "outputs": [
        {
          "name": "stdout",
          "output_type": "stream",
          "text": [
            "<class 'tuple'>\n"
          ]
        }
      ],
      "source": [
        "x = ()\n",
        "x = tuple()\n",
        "x = (1, 2, 3)\n",
        "print(type(x))"
      ]
    },
    {
      "cell_type": "markdown",
      "metadata": {},
      "source": [
        "`dict` - словарь"
      ]
    },
    {
      "cell_type": "code",
      "execution_count": null,
      "metadata": {},
      "outputs": [],
      "source": [
        "x = dict()\n",
        "x = {'a': 1, 'b': 2, 'c': 3}\n",
        "print(type(x))"
      ]
    },
    {
      "cell_type": "markdown",
      "metadata": {},
      "source": [
        "`set` - множество"
      ]
    },
    {
      "cell_type": "code",
      "execution_count": 31,
      "metadata": {},
      "outputs": [
        {
          "name": "stdout",
          "output_type": "stream",
          "text": [
            "<class 'set'>\n"
          ]
        }
      ],
      "source": [
        "x = set()\n",
        "x = {1, 2, 3}\n",
        "print(type(x))"
      ]
    },
    {
      "cell_type": "markdown",
      "metadata": {},
      "source": [
        "## Арифметические операторы"
      ]
    },
    {
      "cell_type": "markdown",
      "metadata": {},
      "source": [
        "Сложение:"
      ]
    },
    {
      "cell_type": "code",
      "execution_count": 32,
      "metadata": {},
      "outputs": [
        {
          "data": {
            "text/plain": [
              "15.5"
            ]
          },
          "execution_count": 32,
          "metadata": {},
          "output_type": "execute_result"
        }
      ],
      "source": [
        "x = 10 + 5.5\n",
        "x"
      ]
    },
    {
      "cell_type": "markdown",
      "metadata": {},
      "source": [
        "Вычитание:"
      ]
    },
    {
      "cell_type": "code",
      "execution_count": 33,
      "metadata": {},
      "outputs": [
        {
          "data": {
            "text/plain": [
              "4.5"
            ]
          },
          "execution_count": 33,
          "metadata": {},
          "output_type": "execute_result"
        }
      ],
      "source": [
        "x = 10 - 5.5\n",
        "x"
      ]
    },
    {
      "cell_type": "markdown",
      "metadata": {},
      "source": [
        "Умножение:"
      ]
    },
    {
      "cell_type": "code",
      "execution_count": 34,
      "metadata": {},
      "outputs": [
        {
          "data": {
            "text/plain": [
              "55.0"
            ]
          },
          "execution_count": 34,
          "metadata": {},
          "output_type": "execute_result"
        }
      ],
      "source": [
        "x = 10 * 5.5\n",
        "x"
      ]
    },
    {
      "cell_type": "markdown",
      "metadata": {},
      "source": [
        "Деление с остатком:"
      ]
    },
    {
      "cell_type": "code",
      "execution_count": 35,
      "metadata": {},
      "outputs": [
        {
          "data": {
            "text/plain": [
              "3.3333333333333335"
            ]
          },
          "execution_count": 35,
          "metadata": {},
          "output_type": "execute_result"
        }
      ],
      "source": [
        "x = 10 / 3\n",
        "x"
      ]
    },
    {
      "cell_type": "markdown",
      "metadata": {},
      "source": [
        "Целочисленное деление:"
      ]
    },
    {
      "cell_type": "code",
      "execution_count": 36,
      "metadata": {},
      "outputs": [
        {
          "data": {
            "text/plain": [
              "3"
            ]
          },
          "execution_count": 36,
          "metadata": {},
          "output_type": "execute_result"
        }
      ],
      "source": [
        "x = 10 // 3\n",
        "x"
      ]
    },
    {
      "cell_type": "markdown",
      "metadata": {},
      "source": [
        "Остаток от деления:"
      ]
    },
    {
      "cell_type": "code",
      "execution_count": 37,
      "metadata": {},
      "outputs": [
        {
          "data": {
            "text/plain": [
              "1"
            ]
          },
          "execution_count": 37,
          "metadata": {},
          "output_type": "execute_result"
        }
      ],
      "source": [
        "x = 10 % 3\n",
        "x"
      ]
    },
    {
      "cell_type": "code",
      "execution_count": 38,
      "metadata": {},
      "outputs": [
        {
          "data": {
            "text/plain": [
              "3.0"
            ]
          },
          "execution_count": 38,
          "metadata": {},
          "output_type": "execute_result"
        }
      ],
      "source": [
        "x = 10 % 3.5  # возможен остаток от деления на числа с плавающей точкой\n",
        "x"
      ]
    },
    {
      "cell_type": "markdown",
      "metadata": {},
      "source": [
        "Возведение в степень:"
      ]
    },
    {
      "cell_type": "code",
      "execution_count": 39,
      "metadata": {},
      "outputs": [
        {
          "data": {
            "text/plain": [
              "100000"
            ]
          },
          "execution_count": 39,
          "metadata": {},
          "output_type": "execute_result"
        }
      ],
      "source": [
        "x = 10 ** 5\n",
        "x"
      ]
    },
    {
      "cell_type": "code",
      "execution_count": 40,
      "metadata": {},
      "outputs": [
        {
          "data": {
            "text/plain": [
              "3.1622776601683795"
            ]
          },
          "execution_count": 40,
          "metadata": {},
          "output_type": "execute_result"
        }
      ],
      "source": [
        "x = 10 ** 0.5  # с помощью операции возведения в степень можно получить корень числа\n",
        "x"
      ]
    },
    {
      "cell_type": "markdown",
      "metadata": {},
      "source": [
        "Составные операторы:"
      ]
    },
    {
      "cell_type": "code",
      "execution_count": 41,
      "metadata": {},
      "outputs": [],
      "source": [
        "x = 10\n",
        "x += 5\n",
        "x -= 3\n",
        "x *= 2\n",
        "x /= 4\n",
        "x //= 2\n",
        "x %= 2\n",
        "x **= 3"
      ]
    },
    {
      "cell_type": "markdown",
      "metadata": {},
      "source": [
        "А инкремента и декремента в питоне нет, так что нужно писать `x+=1` и `x-=1` :("
      ]
    },
    {
      "cell_type": "markdown",
      "metadata": {},
      "source": [
        "Обмен значениями:"
      ]
    },
    {
      "cell_type": "code",
      "execution_count": 42,
      "metadata": {},
      "outputs": [
        {
          "data": {
            "text/plain": [
              "(5, 10)"
            ]
          },
          "execution_count": 42,
          "metadata": {},
          "output_type": "execute_result"
        }
      ],
      "source": [
        "a = 10\n",
        "b = 5\n",
        "a, b = b, a\n",
        "a, b"
      ]
    },
    {
      "cell_type": "markdown",
      "metadata": {},
      "source": [
        "Обмен нескольких значений:"
      ]
    },
    {
      "cell_type": "code",
      "execution_count": 43,
      "metadata": {},
      "outputs": [
        {
          "data": {
            "text/plain": [
              "(15, 5, 10)"
            ]
          },
          "execution_count": 43,
          "metadata": {},
          "output_type": "execute_result"
        }
      ],
      "source": [
        "a, b, c = 5, 10, 15\n",
        "a, b, c = c, a, b\n",
        "a, b, c"
      ]
    },
    {
      "cell_type": "markdown",
      "metadata": {},
      "source": [
        "## Преобразование типов"
      ]
    },
    {
      "cell_type": "markdown",
      "metadata": {},
      "source": [
        "`int()` - к целому числу"
      ]
    },
    {
      "cell_type": "code",
      "execution_count": 44,
      "metadata": {},
      "outputs": [
        {
          "data": {
            "text/plain": [
              "(11, 3, 1)"
            ]
          },
          "execution_count": 44,
          "metadata": {},
          "output_type": "execute_result"
        }
      ],
      "source": [
        "x = int(\"11\")\n",
        "y = int(3.14)\n",
        "z = int(True)\n",
        "x, y, z"
      ]
    },
    {
      "cell_type": "markdown",
      "metadata": {},
      "source": [
        "К `int` можно преобразовывать только float, bool и строковые значения, с подходящим форматом. Другие преобразования вызовут ошибки:"
      ]
    },
    {
      "cell_type": "code",
      "execution_count": 45,
      "metadata": {},
      "outputs": [
        {
          "ename": "ValueError",
          "evalue": "invalid literal for int() with base 10: 'number'",
          "output_type": "error",
          "traceback": [
            "\u001b[31m---------------------------------------------------------------------------\u001b[39m",
            "\u001b[31mValueError\u001b[39m                                Traceback (most recent call last)",
            "\u001b[36mCell\u001b[39m\u001b[36m \u001b[39m\u001b[32mIn[45]\u001b[39m\u001b[32m, line 1\u001b[39m\n\u001b[32m----> \u001b[39m\u001b[32m1\u001b[39m x = \u001b[38;5;28;43mint\u001b[39;49m\u001b[43m(\u001b[49m\u001b[33;43m\"\u001b[39;49m\u001b[33;43mnumber\u001b[39;49m\u001b[33;43m\"\u001b[39;49m\u001b[43m)\u001b[49m\n\u001b[32m      2\u001b[39m x\n",
            "\u001b[31mValueError\u001b[39m: invalid literal for int() with base 10: 'number'"
          ]
        }
      ],
      "source": [
        "x = int(\"number\")\n",
        "x"
      ]
    },
    {
      "cell_type": "code",
      "execution_count": 46,
      "metadata": {},
      "outputs": [
        {
          "ename": "TypeError",
          "evalue": "int() argument must be a string, a bytes-like object or a real number, not 'complex'",
          "output_type": "error",
          "traceback": [
            "\u001b[31m---------------------------------------------------------------------------\u001b[39m",
            "\u001b[31mTypeError\u001b[39m                                 Traceback (most recent call last)",
            "\u001b[36mCell\u001b[39m\u001b[36m \u001b[39m\u001b[32mIn[46]\u001b[39m\u001b[32m, line 1\u001b[39m\n\u001b[32m----> \u001b[39m\u001b[32m1\u001b[39m x = \u001b[38;5;28;43mint\u001b[39;49m\u001b[43m(\u001b[49m\u001b[32;43m1\u001b[39;49m\u001b[43m \u001b[49m\u001b[43m+\u001b[49m\u001b[43m \u001b[49m\u001b[32;43m0\u001b[39;49m\u001b[43mj\u001b[49m\u001b[43m)\u001b[49m\n\u001b[32m      2\u001b[39m x\n",
            "\u001b[31mTypeError\u001b[39m: int() argument must be a string, a bytes-like object or a real number, not 'complex'"
          ]
        }
      ],
      "source": [
        "x = int(1 + 0j)\n",
        "x"
      ]
    },
    {
      "cell_type": "markdown",
      "metadata": {},
      "source": [
        "С помощью необязательного аргумента `base` можно преобразовывать к `int` строковые значения с разными системами счисления:"
      ]
    },
    {
      "cell_type": "code",
      "execution_count": 47,
      "metadata": {},
      "outputs": [
        {
          "data": {
            "text/plain": [
              "10"
            ]
          },
          "execution_count": 47,
          "metadata": {},
          "output_type": "execute_result"
        }
      ],
      "source": [
        "x = int(\"1010\", base=2)  # двоичная\n",
        "x"
      ]
    },
    {
      "cell_type": "code",
      "execution_count": 48,
      "metadata": {},
      "outputs": [
        {
          "data": {
            "text/plain": [
              "2576"
            ]
          },
          "execution_count": 48,
          "metadata": {},
          "output_type": "execute_result"
        }
      ],
      "source": [
        "x = int(\"a10\", 16)  # шестнадцатеричная\n",
        "x"
      ]
    },
    {
      "cell_type": "markdown",
      "metadata": {},
      "source": [
        "`float()` - к числу с плавающей точкой"
      ]
    },
    {
      "cell_type": "code",
      "execution_count": 49,
      "metadata": {},
      "outputs": [
        {
          "data": {
            "text/plain": [
              "(3.14, 11.0, 0.0)"
            ]
          },
          "execution_count": 49,
          "metadata": {},
          "output_type": "execute_result"
        }
      ],
      "source": [
        "x = float(\"3.14\")\n",
        "y = float(11)\n",
        "z = float(False)\n",
        "x, y, z"
      ]
    },
    {
      "cell_type": "markdown",
      "metadata": {},
      "source": [
        "`bool()` - к логическому значению"
      ]
    },
    {
      "cell_type": "code",
      "execution_count": 50,
      "metadata": {},
      "outputs": [
        {
          "data": {
            "text/plain": [
              "(True, False, True, False, True, False, True)"
            ]
          },
          "execution_count": 50,
          "metadata": {},
          "output_type": "execute_result"
        }
      ],
      "source": [
        "b1 = bool(1)\n",
        "b2 = bool(0)\n",
        "b3 = bool(11)\n",
        "b4 = bool(\"\")\n",
        "b5 = bool(\"text\")\n",
        "b6 = bool([])\n",
        "b7 = bool([1, 2, 3])\n",
        "b1, b2, b3, b4, b5, b6, b7"
      ]
    },
    {
      "cell_type": "markdown",
      "metadata": {},
      "source": [
        "`str()` - к строке"
      ]
    },
    {
      "cell_type": "code",
      "execution_count": 51,
      "metadata": {},
      "outputs": [
        {
          "data": {
            "text/plain": [
              "('11', '3.14', 'True', '[1, 2, 3]')"
            ]
          },
          "execution_count": 51,
          "metadata": {},
          "output_type": "execute_result"
        }
      ],
      "source": [
        "s1 = str(11)\n",
        "s2 = str(3.14)\n",
        "s3 = str(True)\n",
        "s4 = str([1,2,3])\n",
        "s1, s2, s3, s4"
      ]
    },
    {
      "cell_type": "markdown",
      "metadata": {},
      "source": [
        "К строке можно преобразовывать всё, для чего задано правило преобразования в строку:"
      ]
    },
    {
      "cell_type": "code",
      "execution_count": 52,
      "metadata": {},
      "outputs": [
        {
          "data": {
            "text/plain": [
              "('<built-in function abs>', \"<class 'int'>\", \"<module 'math' (built-in)>\")"
            ]
          },
          "execution_count": 52,
          "metadata": {},
          "output_type": "execute_result"
        }
      ],
      "source": [
        "s1 = str(abs)\n",
        "\n",
        "s2 = str(int)\n",
        "\n",
        "import math\n",
        "s3 = str(math)\n",
        "\n",
        "s1, s2, s3"
      ]
    },
    {
      "cell_type": "markdown",
      "metadata": {},
      "source": [
        "Функция `print` преобразует объект в строку автоматически:"
      ]
    },
    {
      "cell_type": "code",
      "execution_count": 53,
      "metadata": {},
      "outputs": [
        {
          "name": "stdout",
          "output_type": "stream",
          "text": [
            "<built-in function abs> <class 'int'> <module 'math' (built-in)>\n"
          ]
        }
      ],
      "source": [
        "print(abs, int, math)"
      ]
    },
    {
      "cell_type": "markdown",
      "metadata": {},
      "source": [
        "#### <span style=\"color:RoyalBlue\">Задание 2</span>"
      ]
    },
    {
      "cell_type": "markdown",
      "metadata": {},
      "source": [
        "Чему равен `x`?"
      ]
    },
    {
      "cell_type": "code",
      "execution_count": 54,
      "metadata": {},
      "outputs": [
        {
          "data": {
            "text/plain": [
              "46.0"
            ]
          },
          "execution_count": 54,
          "metadata": {},
          "output_type": "execute_result"
        }
      ],
      "source": [
        "x = 10 * float(5.5) - int(str(1) + '0') + int(bool(54))\n",
        "x"
      ]
    },
    {
      "cell_type": "code",
      "execution_count": 55,
      "metadata": {},
      "outputs": [
        {
          "ename": "ValueError",
          "evalue": "invalid literal for int() with base 10: '1.5'",
          "output_type": "error",
          "traceback": [
            "\u001b[31m---------------------------------------------------------------------------\u001b[39m",
            "\u001b[31mValueError\u001b[39m                                Traceback (most recent call last)",
            "\u001b[36mCell\u001b[39m\u001b[36m \u001b[39m\u001b[32mIn[55]\u001b[39m\u001b[32m, line 1\u001b[39m\n\u001b[32m----> \u001b[39m\u001b[32m1\u001b[39m x = \u001b[32m5\u001b[39m * \u001b[38;5;28mfloat\u001b[39m(\u001b[32m7\u001b[39m) // \u001b[38;5;28;43mint\u001b[39;49m\u001b[43m(\u001b[49m\u001b[33;43m'\u001b[39;49m\u001b[33;43m1.5\u001b[39;49m\u001b[33;43m'\u001b[39;49m\u001b[43m)\u001b[49m - \u001b[38;5;28mfloat\u001b[39m(\u001b[38;5;28;01mTrue\u001b[39;00m)\n\u001b[32m      2\u001b[39m x\n",
            "\u001b[31mValueError\u001b[39m: invalid literal for int() with base 10: '1.5'"
          ]
        }
      ],
      "source": [
        "x = 5 * float(7) // int('1.5') - float(True)\n",
        "x"
      ]
    },
    {
      "cell_type": "markdown",
      "metadata": {
        "id": "M7LH-CE2urYI"
      },
      "source": [
        "## Комментарии"
      ]
    },
    {
      "cell_type": "code",
      "execution_count": null,
      "metadata": {
        "id": "Kbsi46iHutjP"
      },
      "outputs": [],
      "source": [
        "# однострочный комментарий к коду пишется сверху через один пробел после решётки\n",
        "a = 5\n",
        "\n",
        "a = 10  # либо сбоку через два пробела после кода\n",
        "\n",
        "\n",
        "\"\"\"\n",
        "Многострочные комментарии, например, для описания функции,\n",
        "пишутся в тройных двойных кавычках\n",
        "\"\"\"\n",
        "\n",
        "'''\n",
        "Либо в тройных одинарных кавычках\n",
        "'''\n",
        "\n",
        "def func():\n",
        "    \"\"\"\n",
        "    Описания функций пишутся под заголовком\n",
        "    \"\"\"\n",
        "    print(\"my function\")"
      ]
    },
    {
      "cell_type": "markdown",
      "metadata": {
        "id": "WW6YrOuuFc2m"
      },
      "source": [
        "## Условные выражения"
      ]
    },
    {
      "cell_type": "markdown",
      "metadata": {},
      "source": [
        "#### Операторы сравнения:"
      ]
    },
    {
      "cell_type": "code",
      "execution_count": 56,
      "metadata": {
        "colab": {
          "base_uri": "https://localhost:8080/"
        },
        "id": "M5IBTpceFhKo",
        "outputId": "a594ab55-7adf-403e-a483-517140ed9259"
      },
      "outputs": [
        {
          "name": "stdout",
          "output_type": "stream",
          "text": [
            "False\n",
            "True\n",
            "True\n",
            "False\n",
            "True\n",
            "False\n"
          ]
        }
      ],
      "source": [
        "a, b = 10, 5\n",
        "\n",
        "print(a == b)\n",
        "print(a != b)\n",
        "print(a > b)\n",
        "print(a < b)\n",
        "print(a >= b)\n",
        "print(a <= b)"
      ]
    },
    {
      "cell_type": "markdown",
      "metadata": {},
      "source": [
        "Можно сравнивать разные типы данных:"
      ]
    },
    {
      "cell_type": "code",
      "execution_count": 57,
      "metadata": {},
      "outputs": [
        {
          "data": {
            "text/plain": [
              "True"
            ]
          },
          "execution_count": 57,
          "metadata": {},
          "output_type": "execute_result"
        }
      ],
      "source": [
        "1 == 1.0"
      ]
    },
    {
      "cell_type": "code",
      "execution_count": 58,
      "metadata": {},
      "outputs": [
        {
          "data": {
            "text/plain": [
              "False"
            ]
          },
          "execution_count": 58,
          "metadata": {},
          "output_type": "execute_result"
        }
      ],
      "source": [
        "[1, 2, 3] == (1, 2, 3)"
      ]
    },
    {
      "cell_type": "markdown",
      "metadata": {},
      "source": [
        "#### Логические операторы:"
      ]
    },
    {
      "cell_type": "markdown",
      "metadata": {},
      "source": [
        "`and` - логическое **И** (&&)"
      ]
    },
    {
      "cell_type": "code",
      "execution_count": 59,
      "metadata": {},
      "outputs": [
        {
          "data": {
            "text/plain": [
              "False"
            ]
          },
          "execution_count": 59,
          "metadata": {},
          "output_type": "execute_result"
        }
      ],
      "source": [
        "a = 5\n",
        "b = 2\n",
        "\n",
        "a == 0 and b == 2"
      ]
    },
    {
      "cell_type": "markdown",
      "metadata": {},
      "source": [
        "`or` - логическое **ИЛИ** (||)"
      ]
    },
    {
      "cell_type": "code",
      "execution_count": 60,
      "metadata": {},
      "outputs": [
        {
          "data": {
            "text/plain": [
              "True"
            ]
          },
          "execution_count": 60,
          "metadata": {},
          "output_type": "execute_result"
        }
      ],
      "source": [
        "a == 0 or b == 2"
      ]
    },
    {
      "cell_type": "markdown",
      "metadata": {},
      "source": [
        "`not` - логическое **НЕ** (!)"
      ]
    },
    {
      "cell_type": "code",
      "execution_count": 61,
      "metadata": {
        "colab": {
          "base_uri": "https://localhost:8080/"
        },
        "id": "UfMNV798GrYR",
        "outputId": "d0880837-d803-48ff-f57e-a25b7a420b40"
      },
      "outputs": [
        {
          "data": {
            "text/plain": [
              "True"
            ]
          },
          "execution_count": 61,
          "metadata": {},
          "output_type": "execute_result"
        }
      ],
      "source": [
        "not a == 0"
      ]
    },
    {
      "cell_type": "markdown",
      "metadata": {},
      "source": [
        "#### Оператор `in`"
      ]
    },
    {
      "cell_type": "markdown",
      "metadata": {},
      "source": [
        "Оператор `in` преверяет, содержится ли элемент в коллекции:"
      ]
    },
    {
      "cell_type": "code",
      "execution_count": 62,
      "metadata": {},
      "outputs": [
        {
          "data": {
            "text/plain": [
              "True"
            ]
          },
          "execution_count": 62,
          "metadata": {},
          "output_type": "execute_result"
        }
      ],
      "source": [
        "1 in [1, 2, 3]"
      ]
    },
    {
      "cell_type": "markdown",
      "metadata": {},
      "source": [
        "Также может работать со строками:"
      ]
    },
    {
      "cell_type": "code",
      "execution_count": 63,
      "metadata": {
        "colab": {
          "base_uri": "https://localhost:8080/"
        },
        "id": "KVGITXm-IHCt",
        "outputId": "9f974193-183c-4b6e-a970-78bfebed0db1"
      },
      "outputs": [
        {
          "data": {
            "text/plain": [
              "True"
            ]
          },
          "execution_count": 63,
          "metadata": {},
          "output_type": "execute_result"
        }
      ],
      "source": [
        "\"h\" in \"hello\""
      ]
    },
    {
      "cell_type": "markdown",
      "metadata": {},
      "source": [
        "Может проверять наличие подстроки в строке (с коллекциями это не работает):"
      ]
    },
    {
      "cell_type": "code",
      "execution_count": 64,
      "metadata": {},
      "outputs": [
        {
          "data": {
            "text/plain": [
              "True"
            ]
          },
          "execution_count": 64,
          "metadata": {},
          "output_type": "execute_result"
        }
      ],
      "source": [
        "\"llo\" in \"hello\""
      ]
    },
    {
      "cell_type": "markdown",
      "metadata": {},
      "source": [
        "#### Опреатор `is`"
      ]
    },
    {
      "cell_type": "markdown",
      "metadata": {},
      "source": [
        "Оператор `is` проверяет, ссылаются ли две переменные на один и тот же объект в памяти. В отличие от оператора `==`, который проверяет равенство значений, `is` проверяет идентичность объектов.\n",
        "\n",
        "`is` рекомендуется использовать только для проверки на ссылку на один и тот же объект или для проверки на `None`, поскольку в остальных случаях результат может зависеть от вашей системы или специфичных условий."
      ]
    },
    {
      "cell_type": "code",
      "execution_count": 65,
      "metadata": {},
      "outputs": [
        {
          "name": "stdout",
          "output_type": "stream",
          "text": [
            "[1, 2, 3]\n"
          ]
        }
      ],
      "source": [
        "l = [1, 2, 3]\n",
        "\n",
        "if l is not None:\n",
        "    print(l)"
      ]
    },
    {
      "cell_type": "code",
      "execution_count": 66,
      "metadata": {},
      "outputs": [
        {
          "data": {
            "text/plain": [
              "True"
            ]
          },
          "execution_count": 66,
          "metadata": {},
          "output_type": "execute_result"
        }
      ],
      "source": [
        "a = [1, 2, 3]\n",
        "b = a\n",
        "\n",
        "a is b"
      ]
    },
    {
      "cell_type": "code",
      "execution_count": 67,
      "metadata": {},
      "outputs": [
        {
          "data": {
            "text/plain": [
              "False"
            ]
          },
          "execution_count": 67,
          "metadata": {},
          "output_type": "execute_result"
        }
      ],
      "source": [
        "a = [1, 2, 3]\n",
        "b = [1, 2, 3]\n",
        "\n",
        "a is b"
      ]
    },
    {
      "cell_type": "code",
      "execution_count": 68,
      "metadata": {},
      "outputs": [
        {
          "name": "stdout",
          "output_type": "stream",
          "text": [
            "True\n",
            "False\n",
            "True\n"
          ]
        }
      ],
      "source": [
        "s1 = \"hello\"\n",
        "s2 = \"hello\"\n",
        "print(s1 is s2)\n",
        "\n",
        "s1 = \"hello world\"\n",
        "s2 = \"hello world\"\n",
        "print(s1 is s2)\n",
        "\n",
        "s1 = \"hellomyworld\"\n",
        "s2 = \"hellomyworld\"\n",
        "print(s1 is s2)"
      ]
    },
    {
      "cell_type": "markdown",
      "metadata": {
        "id": "C2jT_aPMIuti"
      },
      "source": [
        "## Условный оператор if"
      ]
    },
    {
      "cell_type": "markdown",
      "metadata": {},
      "source": [
        "Условный опреатор имеет следующую структуру:\n",
        "\n",
        "```py\n",
        "if условие1:\n",
        "    действие1()\n",
        "elif условие2:\n",
        "    действие2()\n",
        "else:\n",
        "    действие3()\n",
        "```\n",
        "\n",
        "- Обязательным является только оператор `if`\n",
        "- Количество операторов `elif` неограничено\n",
        "- Оператор `else` может находиться только в конце конструкции\n",
        "\n"
      ]
    },
    {
      "cell_type": "code",
      "execution_count": 69,
      "metadata": {
        "colab": {
          "base_uri": "https://localhost:8080/"
        },
        "id": "Vg35Fq5HIz61",
        "outputId": "3ed4dc6c-d4d9-48cf-ac8d-5b2774110d56"
      },
      "outputs": [
        {
          "name": "stdout",
          "output_type": "stream",
          "text": [
            "Really? Wow\n"
          ]
        }
      ],
      "source": [
        "age = input(\"Enter your age: \")\n",
        "age = int(age)\n",
        "\n",
        "if age < 16:\n",
        "    print(\"You're so young :3\")\n",
        "elif age < 100:\n",
        "    print(\"It's a good age to start programming!\")\n",
        "else:\n",
        "    print(\"Really? Wow\")"
      ]
    },
    {
      "cell_type": "markdown",
      "metadata": {},
      "source": [
        "Пример со вложенными условиями:"
      ]
    },
    {
      "cell_type": "code",
      "execution_count": null,
      "metadata": {},
      "outputs": [],
      "source": [
        "x, y = 10, 20\n",
        "\n",
        "if x > 5:\n",
        "    if y > 10:\n",
        "        pass\n",
        "    else:\n",
        "        pass\n",
        "else:\n",
        "    if y > 10:\n",
        "        pass\n",
        "    else:\n",
        "        pass"
      ]
    },
    {
      "cell_type": "markdown",
      "metadata": {},
      "source": [
        "В теле конструкции `if-else` можно создавать переменные, однако, с этим следует быть аккуратным:"
      ]
    },
    {
      "cell_type": "code",
      "execution_count": 70,
      "metadata": {
        "colab": {
          "base_uri": "https://localhost:8080/"
        },
        "id": "oyrNuengR9PT",
        "outputId": "51733ff4-c0e1-41e5-cf67-985fb7924d95"
      },
      "outputs": [
        {
          "data": {
            "text/plain": [
              "10"
            ]
          },
          "execution_count": 70,
          "metadata": {},
          "output_type": "execute_result"
        }
      ],
      "source": [
        "a = 10\n",
        "\n",
        "# в данном примере переменная создаётся в любом случае\n",
        "if a > 5:\n",
        "    var = 10\n",
        "else:\n",
        "    var = 100\n",
        "\n",
        "var"
      ]
    },
    {
      "cell_type": "code",
      "execution_count": 71,
      "metadata": {},
      "outputs": [
        {
          "ename": "NameError",
          "evalue": "name 'new_var' is not defined",
          "output_type": "error",
          "traceback": [
            "\u001b[31m---------------------------------------------------------------------------\u001b[39m",
            "\u001b[31mNameError\u001b[39m                                 Traceback (most recent call last)",
            "\u001b[36mCell\u001b[39m\u001b[36m \u001b[39m\u001b[32mIn[71]\u001b[39m\u001b[32m, line 7\u001b[39m\n\u001b[32m      4\u001b[39m \u001b[38;5;28;01mif\u001b[39;00m a < \u001b[32m5\u001b[39m:\n\u001b[32m      5\u001b[39m     new_var = \u001b[32m10\u001b[39m\n\u001b[32m----> \u001b[39m\u001b[32m7\u001b[39m \u001b[43mnew_var\u001b[49m\n",
            "\u001b[31mNameError\u001b[39m: name 'new_var' is not defined"
          ]
        }
      ],
      "source": [
        "a = 10\n",
        "\n",
        "# здесь переменная создаётся только в случае выполнения условия, что может привести к ошибкам\n",
        "if a < 5:\n",
        "    new_var = 10\n",
        "\n",
        "new_var"
      ]
    },
    {
      "cell_type": "code",
      "execution_count": 72,
      "metadata": {},
      "outputs": [
        {
          "data": {
            "text/plain": [
              "10"
            ]
          },
          "execution_count": 72,
          "metadata": {},
          "output_type": "execute_result"
        }
      ],
      "source": [
        "a = 10\n",
        "\n",
        "# переменная будет существовать, даже если создаётся во вложенном условии,\n",
        "# однако, это плохая практика, поскольку негативно сказывается на читаемости кода\n",
        "if a > 5:\n",
        "    if a > 9:\n",
        "        new_new_var = 10\n",
        "\n",
        "new_new_var"
      ]
    },
    {
      "cell_type": "markdown",
      "metadata": {},
      "source": [
        "#### Теранарный оператор"
      ]
    },
    {
      "cell_type": "markdown",
      "metadata": {},
      "source": [
        "Тернарный оператор имеет следующую структуру:\n",
        "\n",
        "```py\n",
        "действие1 if условие else действие2\n",
        "```"
      ]
    },
    {
      "cell_type": "code",
      "execution_count": 73,
      "metadata": {
        "colab": {
          "base_uri": "https://localhost:8080/"
        },
        "id": "ijkqqkZnTo7j",
        "outputId": "aee053aa-2468-422c-d8d6-580db280dd8e"
      },
      "outputs": [
        {
          "data": {
            "text/plain": [
              "False"
            ]
          },
          "execution_count": 73,
          "metadata": {},
          "output_type": "execute_result"
        }
      ],
      "source": [
        "age = 10\n",
        "\n",
        "access = True if a >= 18 else False\n",
        "\n",
        "access"
      ]
    },
    {
      "cell_type": "markdown",
      "metadata": {
        "id": "vF-KBzq1NkRG"
      },
      "source": [
        "## Циклы"
      ]
    },
    {
      "cell_type": "markdown",
      "metadata": {},
      "source": [
        "#### Цикл `while`"
      ]
    },
    {
      "cell_type": "markdown",
      "metadata": {},
      "source": [
        "Цикл `while` имеет следующую структуру:\n",
        "\n",
        "```py\n",
        "while условие:\n",
        "    действие\n",
        "```"
      ]
    },
    {
      "cell_type": "code",
      "execution_count": 74,
      "metadata": {
        "colab": {
          "base_uri": "https://localhost:8080/"
        },
        "id": "YiSEsanYNp3i",
        "outputId": "ba01ef3b-db63-417e-92a4-27af529d40b3"
      },
      "outputs": [
        {
          "name": "stdout",
          "output_type": "stream",
          "text": [
            "0 1 2 "
          ]
        }
      ],
      "source": [
        "count = 0\n",
        "\n",
        "while count < 3:\n",
        "    print(count, end=\" \")\n",
        "    count += 1"
      ]
    },
    {
      "cell_type": "markdown",
      "metadata": {},
      "source": [
        "Аналога цикла `do-while` в python нет!"
      ]
    },
    {
      "cell_type": "markdown",
      "metadata": {},
      "source": [
        "#### Цикл `for`"
      ]
    },
    {
      "cell_type": "markdown",
      "metadata": {},
      "source": [
        "Структура цикла `for`:\n",
        "\n",
        "```py\n",
        "for элемент in последовательность:\n",
        "    действие\n",
        "```"
      ]
    },
    {
      "cell_type": "code",
      "execution_count": 75,
      "metadata": {
        "colab": {
          "base_uri": "https://localhost:8080/"
        },
        "id": "RJjD2Ox1QAEi",
        "outputId": "c894b12e-8126-4f18-c3b4-4e4da1c662be"
      },
      "outputs": [
        {
          "name": "stdout",
          "output_type": "stream",
          "text": [
            "1 2 3 "
          ]
        }
      ],
      "source": [
        "numbers = [1, 2, 3]\n",
        "\n",
        "for num in numbers:\n",
        "    print(num, end=\" \")"
      ]
    },
    {
      "cell_type": "markdown",
      "metadata": {},
      "source": [
        "Поскольку цикл `for` работает только с последовательностями, то для перебора диапазона чисел необходимо использовать функцию `range`:"
      ]
    },
    {
      "cell_type": "code",
      "execution_count": 76,
      "metadata": {
        "colab": {
          "base_uri": "https://localhost:8080/"
        },
        "id": "q8NusBcRQiGH",
        "outputId": "a10de568-f8a7-412a-a142-7db324b99bcf"
      },
      "outputs": [
        {
          "name": "stdout",
          "output_type": "stream",
          "text": [
            "2 3 4 "
          ]
        }
      ],
      "source": [
        "# цикл от 2 до 5\n",
        "for i in range(2, 5):\n",
        "    print(i, end=\" \")"
      ]
    },
    {
      "cell_type": "markdown",
      "metadata": {},
      "source": [
        "#### Операторы `break`, `continue` и `else`"
      ]
    },
    {
      "cell_type": "markdown",
      "metadata": {},
      "source": [
        "Оператор `break` используется для выхода из цикла"
      ]
    },
    {
      "cell_type": "code",
      "execution_count": 77,
      "metadata": {},
      "outputs": [
        {
          "name": "stdout",
          "output_type": "stream",
          "text": [
            "0 1 2 3 4 5 6 7 8 9 "
          ]
        }
      ],
      "source": [
        "count = 0\n",
        "\n",
        "while True:\n",
        "    print(count, end=' ')\n",
        "    count += 1\n",
        "    if count >= 10:\n",
        "        break"
      ]
    },
    {
      "cell_type": "markdown",
      "metadata": {},
      "source": [
        "Оператор `continue` используется для перехода к следующей итерации цикла"
      ]
    },
    {
      "cell_type": "code",
      "execution_count": 78,
      "metadata": {},
      "outputs": [
        {
          "name": "stdout",
          "output_type": "stream",
          "text": [
            "1 2 4 5 "
          ]
        }
      ],
      "source": [
        "for i in range(1, 6):\n",
        "    if i == 3:\n",
        "        continue\n",
        "    print(i, end=' ')"
      ]
    },
    {
      "cell_type": "markdown",
      "metadata": {},
      "source": [
        "Блок `else` может завершать конструкцию цикла `while` или `for` и выполняется в случае нормального завершения работы цикла, без использования `break`."
      ]
    },
    {
      "cell_type": "code",
      "execution_count": 79,
      "metadata": {},
      "outputs": [
        {
          "name": "stdout",
          "output_type": "stream",
          "text": [
            "1\n",
            "2\n",
            "3\n",
            "4\n",
            "5\n",
            "Все числа напечатаны\n"
          ]
        }
      ],
      "source": [
        "count = 0\n",
        "\n",
        "while count < 5:\n",
        "    count +=1\n",
        "    print(count)\n",
        "else:\n",
        "    print(\"Все числа напечатаны\")"
      ]
    },
    {
      "cell_type": "code",
      "execution_count": 81,
      "metadata": {},
      "outputs": [
        {
          "name": "stdout",
          "output_type": "stream",
          "text": [
            "Найдено четное число\n"
          ]
        }
      ],
      "source": [
        "numbers = [1, 3, 5, 7, 9, 4]\n",
        "for num in numbers:\n",
        "    if num % 2 == 0:\n",
        "        print(\"Найдено четное число\")\n",
        "        break\n",
        "else:\n",
        "    print(\"Четных чисел не найдено\")"
      ]
    },
    {
      "cell_type": "markdown",
      "metadata": {},
      "source": [
        "#### <span style=\"color:RoyalBlue\">Задание 3</span>"
      ]
    },
    {
      "cell_type": "markdown",
      "metadata": {},
      "source": [
        "Что выведет следующий код?"
      ]
    },
    {
      "cell_type": "code",
      "execution_count": 82,
      "metadata": {},
      "outputs": [
        {
          "name": "stdout",
          "output_type": "stream",
          "text": [
            "easy\n"
          ]
        }
      ],
      "source": [
        "letters = ['f', 'e', 'a', 'g', 's']\n",
        "\n",
        "for i in range(1, 5):\n",
        "    if letters[i] == 'g':\n",
        "        continue\n",
        "    if letters[i] == 'c':\n",
        "        break\n",
        "    print(letters[i], end='')\n",
        "else:\n",
        "    print('y')"
      ]
    },
    {
      "cell_type": "markdown",
      "metadata": {
        "id": "WKbUkKKJy5EK"
      },
      "source": [
        "## Строки"
      ]
    },
    {
      "cell_type": "markdown",
      "metadata": {},
      "source": [
        "**Строки** — это **неизменяемые** последовательности символов."
      ]
    },
    {
      "cell_type": "markdown",
      "metadata": {},
      "source": [
        "Специальные символы (экранирование):"
      ]
    },
    {
      "cell_type": "code",
      "execution_count": 83,
      "metadata": {},
      "outputs": [
        {
          "name": "stdout",
          "output_type": "stream",
          "text": [
            "First string\n",
            "Second string\n",
            "Name:\tAlan\n",
            "C:\\Users\\UserName\n",
            "\"-Hello\"\n"
          ]
        }
      ],
      "source": [
        "# \\n - новая строка\n",
        "text = \"First string\\nSecond string\"\n",
        "print(text)\n",
        "\n",
        "# \\t - табуляция\n",
        "text = \"Name:\\tAlan\"\n",
        "print(text)\n",
        "\n",
        "# \\\\ - обратный слеш\n",
        "text = \"C:\\\\Users\\\\UserName\"\n",
        "print(text)\n",
        "\n",
        "# \\' и \\\" - кавычки\n",
        "text = \"\\\"-Hello\\\"\"\n",
        "print(text)"
      ]
    },
    {
      "cell_type": "markdown",
      "metadata": {},
      "source": [
        "Для отключения экранирования перед строкой нужно поставить символ `r`"
      ]
    },
    {
      "cell_type": "code",
      "execution_count": 84,
      "metadata": {},
      "outputs": [
        {
          "name": "stdout",
          "output_type": "stream",
          "text": [
            "C:\\Users\\UserName\n"
          ]
        }
      ],
      "source": [
        "path = r\"C:\\Users\\UserName\"\n",
        "print(path)"
      ]
    },
    {
      "cell_type": "markdown",
      "metadata": {},
      "source": [
        "Для того, чтобы вставить значение переменной в строку, нужно поставить перед ней символ `f`, а саму переменную поместить в фигурные скобки `{}`:"
      ]
    },
    {
      "cell_type": "code",
      "execution_count": 85,
      "metadata": {
        "colab": {
          "base_uri": "https://localhost:8080/"
        },
        "id": "Nxz9zIG30493",
        "outputId": "0cf555de-9963-4a6d-cf1f-229ee6ff17a2"
      },
      "outputs": [
        {
          "data": {
            "text/plain": [
              "'Name: Alan, age: 24'"
            ]
          },
          "execution_count": 85,
          "metadata": {},
          "output_type": "execute_result"
        }
      ],
      "source": [
        "name, age = \"Alan\", 24\n",
        "\n",
        "user = f\"Name: {name}, age: {age}\"\n",
        "\n",
        "user"
      ]
    },
    {
      "cell_type": "markdown",
      "metadata": {},
      "source": [
        "С помощью функции `len(str)` можно получить длину строки:"
      ]
    },
    {
      "cell_type": "code",
      "execution_count": 86,
      "metadata": {},
      "outputs": [
        {
          "data": {
            "text/plain": [
              "5"
            ]
          },
          "execution_count": 86,
          "metadata": {},
          "output_type": "execute_result"
        }
      ],
      "source": [
        "len(\"Hello\")"
      ]
    },
    {
      "cell_type": "markdown",
      "metadata": {},
      "source": [
        "**Конкатенация** (сложение) строк:"
      ]
    },
    {
      "cell_type": "code",
      "execution_count": 87,
      "metadata": {},
      "outputs": [
        {
          "data": {
            "text/plain": [
              "'Hello world'"
            ]
          },
          "execution_count": 87,
          "metadata": {},
          "output_type": "execute_result"
        }
      ],
      "source": [
        "str1 = \"Hello\"\n",
        "str2 = \"world\"\n",
        "\n",
        "str1 + \" \" + str2"
      ]
    },
    {
      "cell_type": "markdown",
      "metadata": {},
      "source": [
        "**Повторение** строки:"
      ]
    },
    {
      "cell_type": "code",
      "execution_count": 88,
      "metadata": {},
      "outputs": [
        {
          "data": {
            "text/plain": [
              "'mewmewmew'"
            ]
          },
          "execution_count": 88,
          "metadata": {},
          "output_type": "execute_result"
        }
      ],
      "source": [
        "\"mew\" * 3"
      ]
    },
    {
      "cell_type": "markdown",
      "metadata": {},
      "source": [
        "**Лексикографическое сравнение** строк:"
      ]
    },
    {
      "cell_type": "code",
      "execution_count": 89,
      "metadata": {
        "colab": {
          "base_uri": "https://localhost:8080/"
        },
        "id": "6v-ZbtX7RIvi",
        "outputId": "7c733aa1-c470-4427-b43c-76ecf1594421"
      },
      "outputs": [
        {
          "name": "stdout",
          "output_type": "stream",
          "text": [
            "False\n",
            "False\n",
            "True\n"
          ]
        }
      ],
      "source": [
        "str1 = \"abc\"\n",
        "str2 = \"acb\"\n",
        "\n",
        "print(str1 == str2)\n",
        "print(str1 > str2)\n",
        "print(str1 < str2)"
      ]
    },
    {
      "cell_type": "markdown",
      "metadata": {},
      "source": [
        "#### Индексация и срезы"
      ]
    },
    {
      "cell_type": "markdown",
      "metadata": {},
      "source": [
        "Получение первого элемента:"
      ]
    },
    {
      "cell_type": "code",
      "execution_count": 90,
      "metadata": {},
      "outputs": [
        {
          "data": {
            "text/plain": [
              "'H'"
            ]
          },
          "execution_count": 90,
          "metadata": {},
          "output_type": "execute_result"
        }
      ],
      "source": [
        "s = \"Hello world\"\n",
        "s[0]"
      ]
    },
    {
      "cell_type": "markdown",
      "metadata": {},
      "source": [
        "Получение последнего элемента:"
      ]
    },
    {
      "cell_type": "code",
      "execution_count": 91,
      "metadata": {},
      "outputs": [
        {
          "data": {
            "text/plain": [
              "'d'"
            ]
          },
          "execution_count": 91,
          "metadata": {},
          "output_type": "execute_result"
        }
      ],
      "source": [
        "s = \"Hello world\"\n",
        "s[len(s)-1]"
      ]
    },
    {
      "cell_type": "code",
      "execution_count": 92,
      "metadata": {},
      "outputs": [
        {
          "data": {
            "text/plain": [
              "'d'"
            ]
          },
          "execution_count": 92,
          "metadata": {},
          "output_type": "execute_result"
        }
      ],
      "source": [
        "s = \"Hello world\"\n",
        "s[-1]  # обратная индексация"
      ]
    },
    {
      "cell_type": "markdown",
      "metadata": {},
      "source": [
        "Срез с 1 по 6 символ невключительно:"
      ]
    },
    {
      "cell_type": "code",
      "execution_count": 93,
      "metadata": {},
      "outputs": [
        {
          "data": {
            "text/plain": [
              "'Hello'"
            ]
          },
          "execution_count": 93,
          "metadata": {},
          "output_type": "execute_result"
        }
      ],
      "source": [
        "s = \"Hello world\"\n",
        "s[0:5]"
      ]
    },
    {
      "cell_type": "code",
      "execution_count": 94,
      "metadata": {},
      "outputs": [
        {
          "data": {
            "text/plain": [
              "'Hello'"
            ]
          },
          "execution_count": 94,
          "metadata": {},
          "output_type": "execute_result"
        }
      ],
      "source": [
        "s = \"Hello world\"\n",
        "s[:5]"
      ]
    },
    {
      "cell_type": "markdown",
      "metadata": {},
      "source": [
        "Срез с 7 по последний символ:"
      ]
    },
    {
      "cell_type": "code",
      "execution_count": 95,
      "metadata": {},
      "outputs": [
        {
          "data": {
            "text/plain": [
              "'world'"
            ]
          },
          "execution_count": 95,
          "metadata": {},
          "output_type": "execute_result"
        }
      ],
      "source": [
        "s = \"Hello world\"\n",
        "s[6:len(s)]"
      ]
    },
    {
      "cell_type": "code",
      "execution_count": 96,
      "metadata": {},
      "outputs": [
        {
          "data": {
            "text/plain": [
              "'world'"
            ]
          },
          "execution_count": 96,
          "metadata": {},
          "output_type": "execute_result"
        }
      ],
      "source": [
        "s = \"Hello world\"\n",
        "s[6:]"
      ]
    },
    {
      "cell_type": "markdown",
      "metadata": {},
      "source": [
        "Срез от начала до конца строки с шагом 2:"
      ]
    },
    {
      "cell_type": "code",
      "execution_count": 97,
      "metadata": {},
      "outputs": [
        {
          "data": {
            "text/plain": [
              "'Hlowrd'"
            ]
          },
          "execution_count": 97,
          "metadata": {},
          "output_type": "execute_result"
        }
      ],
      "source": [
        "s = \"Hello world\"\n",
        "s[::2]"
      ]
    },
    {
      "cell_type": "markdown",
      "metadata": {},
      "source": [
        "Разворот строки:"
      ]
    },
    {
      "cell_type": "code",
      "execution_count": 98,
      "metadata": {},
      "outputs": [
        {
          "data": {
            "text/plain": [
              "'dlrow olleH'"
            ]
          },
          "execution_count": 98,
          "metadata": {},
          "output_type": "execute_result"
        }
      ],
      "source": [
        "s = \"Hello world\"\n",
        "s[::-1]"
      ]
    },
    {
      "cell_type": "markdown",
      "metadata": {},
      "source": [
        "#### <span style=\"color:RoyalBlue\">Задание 4</span>"
      ]
    },
    {
      "cell_type": "markdown",
      "metadata": {},
      "source": [
        "Чему равен `result`?"
      ]
    },
    {
      "cell_type": "code",
      "execution_count": 99,
      "metadata": {
        "id": "HvghCDQn-2bh"
      },
      "outputs": [
        {
          "data": {
            "text/plain": [
              "'moon'"
            ]
          },
          "execution_count": 99,
          "metadata": {},
          "output_type": "execute_result"
        }
      ],
      "source": [
        "string = \"hello, my friend\"\n",
        "\n",
        "result = string[7:8] + string[4] * 2 + string[-2]\n",
        "result"
      ]
    },
    {
      "cell_type": "markdown",
      "metadata": {},
      "source": [
        "#### Основные методы строк"
      ]
    },
    {
      "cell_type": "markdown",
      "metadata": {},
      "source": [
        "Изменение регистра символов:"
      ]
    },
    {
      "cell_type": "code",
      "execution_count": 101,
      "metadata": {},
      "outputs": [
        {
          "name": "stdout",
          "output_type": "stream",
          "text": [
            "HELLO WORLD\n",
            "hello world\n",
            "Hello World\n",
            "Hello world\n",
            "hELLO wORLD\n"
          ]
        }
      ],
      "source": [
        "text = \"Hello World\"\n",
        "\n",
        "print(text.upper())       # Все символы заглавные\n",
        "print(text.lower())       # Все символы строчные \n",
        "print(text.title())       # Все слова с заглавной буквы\n",
        "print(text.capitalize())  # Заглавная только первая буква строки\n",
        "print(text.swapcase())    # Изменить регистр на противоположный"
      ]
    },
    {
      "cell_type": "markdown",
      "metadata": {},
      "source": [
        "Проверка содержимого строк:"
      ]
    },
    {
      "cell_type": "code",
      "execution_count": 102,
      "metadata": {},
      "outputs": [
        {
          "name": "stdout",
          "output_type": "stream",
          "text": [
            "False\n",
            "False\n",
            "False\n",
            "False\n",
            "True\n",
            "True\n",
            "False\n",
            "False\n"
          ]
        }
      ],
      "source": [
        "text = \"hello123\"\n",
        "\n",
        "print(text.isalpha())    # только буквы?\n",
        "print(text.isdecimal())  # только десятичные цифры?\n",
        "print(text.isdigit())    # только цифры?\n",
        "print(text.isnumeric())  # только числовые символы?\n",
        "print(text.isalnum())    # только буквы и/или цифры?\n",
        "print(text.islower())    # все в нижнем регистре?\n",
        "print(text.isupper())    # все в верхнем регистре?\n",
        "print(text.isspace())    # только пробельные символы?"
      ]
    },
    {
      "cell_type": "markdown",
      "metadata": {},
      "source": [
        "К сожалению, в `str` нет методов, которые проверяли бы строку на корректное написание `int` или `float`, поэтому такие проверки нужно реализовывать самостоятельно:"
      ]
    },
    {
      "cell_type": "code",
      "execution_count": 104,
      "metadata": {},
      "outputs": [
        {
          "name": "stdout",
          "output_type": "stream",
          "text": [
            "1.5\n",
            "-100.0\n"
          ]
        }
      ],
      "source": [
        "def str_to_float(s):\n",
        "    try:\n",
        "        return float(s)\n",
        "    except ValueError:\n",
        "        return None\n",
        "\n",
        "print(str_to_float(\"1.5\"))\n",
        "print(str_to_float(\"-100\"))"
      ]
    },
    {
      "cell_type": "markdown",
      "metadata": {},
      "source": [
        "Проверка начала и окончания строки\n",
        "- `startswith(str)` - проверяет, начинается ли строка с подстроки, возвращает `True/False`.\n",
        "- `endswith(str)` - проверяет, заканчивается ли строка подстрокой, возвращает `True/False`."
      ]
    },
    {
      "cell_type": "code",
      "execution_count": 105,
      "metadata": {},
      "outputs": [
        {
          "name": "stdout",
          "output_type": "stream",
          "text": [
            "True\n",
            "True\n"
          ]
        }
      ],
      "source": [
        "text = \"Hello world\"\n",
        "print(text.startswith(\"Hello\"))\n",
        "print(text.endswith(\"world\"))"
      ]
    },
    {
      "cell_type": "markdown",
      "metadata": {},
      "source": [
        "Удаление пробельных символов\n",
        "- `strip()` - удаление в начале и конце.\n",
        "- `lstrip()` - удаление в начале.\n",
        "- `rstrip()` - удаление в конце."
      ]
    },
    {
      "cell_type": "code",
      "execution_count": 106,
      "metadata": {},
      "outputs": [
        {
          "name": "stdout",
          "output_type": "stream",
          "text": [
            "Hello World\n",
            "Hello World\t\n",
            "    \n",
            "Hello World\n"
          ]
        }
      ],
      "source": [
        "text = \"    \\nHello World\\t\"\n",
        "print(text.strip())\n",
        "print(text.lstrip())\n",
        "print(text.rstrip())"
      ]
    },
    {
      "cell_type": "markdown",
      "metadata": {},
      "source": [
        "Поиск подстроки в строке\n",
        "\n",
        "- `find(str)` - принимает строку, возвращает индекс первого вхождения, либо -1.\n",
        "- `rfind(str)` - принимает строку, возвращает индекс последнего вхождения, либо -1.\n",
        "- `index(str)` - принимает строку, возвращает индекс первого вхождения, либо **вызывает исключение** `ValueError`."
      ]
    },
    {
      "cell_type": "code",
      "execution_count": 107,
      "metadata": {},
      "outputs": [
        {
          "name": "stdout",
          "output_type": "stream",
          "text": [
            "0\n",
            "4\n",
            "2\n"
          ]
        }
      ],
      "source": [
        "s = \"abccba\"\n",
        "\n",
        "print(s.find(\"a\"))\n",
        "print(s.rfind(\"b\"))\n",
        "print(s.index(\"c\"))"
      ]
    },
    {
      "cell_type": "markdown",
      "metadata": {},
      "source": [
        "Замена подстроки на другую строку\n",
        "\n",
        "- `replace(str, str, int)` - принимает строку, которую необходимо заменить, новую строку и количество замен (необязательный аргумент, по умолчанию заменяет все). В случае, если подстрока не найдена, исходная строка не меняется."
      ]
    },
    {
      "cell_type": "code",
      "execution_count": 108,
      "metadata": {},
      "outputs": [
        {
          "name": "stdout",
          "output_type": "stream",
          "text": [
            "AbccbA\n",
            "Abccba\n",
            "abccba\n"
          ]
        }
      ],
      "source": [
        "s = \"abccba\"\n",
        "\n",
        "print(s.replace(\"a\", \"A\"))  # замена всех подстрок\n",
        "print(s.replace(\"a\", \"A\", 1))  # замена первой подстроки\n",
        "\n",
        "s = \"a b c c b a\"\n",
        "\n",
        "print(s.replace(\" \", \"\"))  # удаление пробелов"
      ]
    },
    {
      "cell_type": "markdown",
      "metadata": {},
      "source": [
        "Разделение строк\n",
        "\n",
        "- `split(str)` - принимает строку - разделитель, возвращает список строк (`list`). Если разделители отсутствуют, то возвращает список из одного элемента.\n",
        "- `splitlines()` - делит строку по символу новой строки."
      ]
    },
    {
      "cell_type": "code",
      "execution_count": 109,
      "metadata": {},
      "outputs": [
        {
          "data": {
            "text/plain": [
              "['apple', 'orange', 'banana']"
            ]
          },
          "execution_count": 109,
          "metadata": {},
          "output_type": "execute_result"
        }
      ],
      "source": [
        "text = \"apple orange banana\"\n",
        "result = text.split(\" \")\n",
        "result"
      ]
    },
    {
      "cell_type": "code",
      "execution_count": 110,
      "metadata": {},
      "outputs": [
        {
          "data": {
            "text/plain": [
              "['apple orange banana']"
            ]
          },
          "execution_count": 110,
          "metadata": {},
          "output_type": "execute_result"
        }
      ],
      "source": [
        "text = \"apple orange banana\"\n",
        "result = text.split(\",\")\n",
        "result"
      ]
    },
    {
      "cell_type": "code",
      "execution_count": 111,
      "metadata": {},
      "outputs": [
        {
          "data": {
            "text/plain": [
              "['apple', 'orange', 'banana']"
            ]
          },
          "execution_count": 111,
          "metadata": {},
          "output_type": "execute_result"
        }
      ],
      "source": [
        "text = \"\"\"apple\n",
        "orange\n",
        "banana\n",
        "\"\"\"\n",
        "result = text.splitlines()\n",
        "result"
      ]
    },
    {
      "cell_type": "markdown",
      "metadata": {},
      "source": [
        "Соединение строк\n",
        "- `join(list)` - принимает список строк, которые будут объединены. Метод вызывается у **разделителя**."
      ]
    },
    {
      "cell_type": "code",
      "execution_count": 112,
      "metadata": {},
      "outputs": [
        {
          "data": {
            "text/plain": [
              "'apple orange banana'"
            ]
          },
          "execution_count": 112,
          "metadata": {},
          "output_type": "execute_result"
        }
      ],
      "source": [
        "fruits = ['apple', 'orange', 'banana']\n",
        "text = \" \".join(fruits)  # пробел - разделитель\n",
        "text"
      ]
    },
    {
      "cell_type": "code",
      "execution_count": 113,
      "metadata": {},
      "outputs": [
        {
          "data": {
            "text/plain": [
              "''"
            ]
          },
          "execution_count": 113,
          "metadata": {},
          "output_type": "execute_result"
        }
      ],
      "source": [
        "text = \" \".join([])  # пустой список даст пустую строку\n",
        "text"
      ]
    },
    {
      "cell_type": "markdown",
      "metadata": {},
      "source": [
        "#### <span style=\"color:RoyalBlue\">Задание 5</span>"
      ]
    },
    {
      "cell_type": "markdown",
      "metadata": {},
      "source": [
        "Чему равен `result`?"
      ]
    },
    {
      "cell_type": "code",
      "execution_count": 114,
      "metadata": {
        "id": "pdWYsXgpYzFA"
      },
      "outputs": [
        {
          "data": {
            "text/plain": [
              "'And it is cool.'"
            ]
          },
          "execution_count": 114,
          "metadata": {},
          "output_type": "execute_result"
        }
      ],
      "source": [
        "string = \"The Python programming language is now taught even in school.\"\n",
        "\n",
        "lst = string.split(\" \")\n",
        "\n",
        "result = \" \".join([lst[3][1:4].replace('g', 'd').title(), lst[-2][0] + lst[-4][0], lst[4], lst[-1][1:].replace('h', '')])\n",
        "result"
      ]
    },
    {
      "cell_type": "markdown",
      "metadata": {},
      "source": [
        "## Встроенные функции"
      ]
    },
    {
      "cell_type": "markdown",
      "metadata": {},
      "source": [
        "`abs` - модуль числа. Работает с `int` и `float`."
      ]
    },
    {
      "cell_type": "code",
      "execution_count": 115,
      "metadata": {},
      "outputs": [
        {
          "data": {
            "text/plain": [
              "(5, 5.5)"
            ]
          },
          "execution_count": 115,
          "metadata": {},
          "output_type": "execute_result"
        }
      ],
      "source": [
        "abs(-5), abs(-5.5)"
      ]
    },
    {
      "cell_type": "markdown",
      "metadata": {},
      "source": [
        "`round` - округление. Аргументы - округляемое число и количество знаков после запятой (по умолчанию - 0)."
      ]
    },
    {
      "cell_type": "code",
      "execution_count": 116,
      "metadata": {},
      "outputs": [
        {
          "data": {
            "text/plain": [
              "(3.14, 3)"
            ]
          },
          "execution_count": 116,
          "metadata": {},
          "output_type": "execute_result"
        }
      ],
      "source": [
        "round(3.14159, 2), round(3.14159)"
      ]
    },
    {
      "cell_type": "markdown",
      "metadata": {},
      "source": [
        "`divmod` - деление по модулю. Аргументы - число и делитель, возвращает частное и остаток. Работает с `int` и `float`."
      ]
    },
    {
      "cell_type": "code",
      "execution_count": 117,
      "metadata": {},
      "outputs": [
        {
          "data": {
            "text/plain": [
              "((3, 1), (2.0, 3.0))"
            ]
          },
          "execution_count": 117,
          "metadata": {},
          "output_type": "execute_result"
        }
      ],
      "source": [
        "divmod(10, 3), divmod(10, 3.5)"
      ]
    },
    {
      "cell_type": "markdown",
      "metadata": {},
      "source": [
        "`pow` - возведение в степень. Работает с `int` и `float`."
      ]
    },
    {
      "cell_type": "code",
      "execution_count": 120,
      "metadata": {},
      "outputs": [
        {
          "data": {
            "text/plain": [
              "(8, 1.4142135623730951)"
            ]
          },
          "execution_count": 120,
          "metadata": {},
          "output_type": "execute_result"
        }
      ],
      "source": [
        "pow(2, 3), pow(2, 0.5)"
      ]
    },
    {
      "cell_type": "markdown",
      "metadata": {},
      "source": [
        "`min` - минимальное значение, `max` - максимальное значение. \n",
        "Обе функции принимают множество аргументов."
      ]
    },
    {
      "cell_type": "code",
      "execution_count": 121,
      "metadata": {},
      "outputs": [
        {
          "data": {
            "text/plain": [
              "(1, 3)"
            ]
          },
          "execution_count": 121,
          "metadata": {},
          "output_type": "execute_result"
        }
      ],
      "source": [
        "min(1, 2, 3), max(1, 2, 3)"
      ]
    },
    {
      "cell_type": "markdown",
      "metadata": {},
      "source": [
        "`range(start, end, step)` - генератор последовательностей.\n",
        "\n",
        "Аргументы:\n",
        "- `start` - начальное значение (необязательный, по умолчанию 0)\n",
        "- `end` - конечное значение (невключительно)\n",
        "- `step` - шаг (необязательный, по умолчанию 1)\n",
        "\n",
        "Возвращает объект типа `range`"
      ]
    },
    {
      "cell_type": "code",
      "execution_count": 122,
      "metadata": {},
      "outputs": [
        {
          "data": {
            "text/plain": [
              "range(1, 10, 2)"
            ]
          },
          "execution_count": 122,
          "metadata": {},
          "output_type": "execute_result"
        }
      ],
      "source": [
        "range(1, 10, 2)"
      ]
    },
    {
      "cell_type": "markdown",
      "metadata": {},
      "source": [
        "Для получения списка элементов необходимо преобразовать к коллекции (например, к `list`)"
      ]
    },
    {
      "cell_type": "code",
      "execution_count": 123,
      "metadata": {},
      "outputs": [
        {
          "data": {
            "text/plain": [
              "[1, 3, 5, 7, 9]"
            ]
          },
          "execution_count": 123,
          "metadata": {},
          "output_type": "execute_result"
        }
      ],
      "source": [
        "list(range(1, 10, 2))"
      ]
    },
    {
      "cell_type": "markdown",
      "metadata": {},
      "source": [
        "Наиболее частое использование `range` - для перебора индексов коллекций:"
      ]
    },
    {
      "cell_type": "code",
      "execution_count": 124,
      "metadata": {},
      "outputs": [
        {
          "name": "stdout",
          "output_type": "stream",
          "text": [
            "list[0] = a\n",
            "list[1] = b\n",
            "list[2] = c\n",
            "list[3] = d\n",
            "list[4] = e\n"
          ]
        }
      ],
      "source": [
        "lst = ['a', 'b', 'c', 'd', 'e']\n",
        "for i in range(len(lst)):\n",
        "    print(f'list[{i}] = {lst[i]}')"
      ]
    },
    {
      "cell_type": "markdown",
      "metadata": {},
      "source": [
        "`type` - возвращает тип данных объекта."
      ]
    },
    {
      "cell_type": "code",
      "execution_count": 125,
      "metadata": {},
      "outputs": [
        {
          "data": {
            "text/plain": [
              "(int, type, type)"
            ]
          },
          "execution_count": 125,
          "metadata": {},
          "output_type": "execute_result"
        }
      ],
      "source": [
        "type(5), type(int), type(type)"
      ]
    },
    {
      "cell_type": "markdown",
      "metadata": {},
      "source": [
        "`type` может использоваться для проверки типа простых объектов, однако, он не учитывает наследование.\n",
        "Если нам нужно проверить более сложные типы данных, то лучше использовать `isinstance`."
      ]
    },
    {
      "cell_type": "code",
      "execution_count": 126,
      "metadata": {},
      "outputs": [
        {
          "name": "stdout",
          "output_type": "stream",
          "text": [
            "True\n",
            "True\n",
            "False\n",
            "True\n",
            "True\n",
            "True\n"
          ]
        }
      ],
      "source": [
        "# родительский класс\n",
        "class A:\n",
        "    pass\n",
        "\n",
        "# класс наследник A\n",
        "class B(A):\n",
        "    pass\n",
        "\n",
        "a = A()\n",
        "b = B()\n",
        "\n",
        "print(type(a) == A)\n",
        "print(type(b) == B)\n",
        "print(type(b) == A)  # не учитывается иерархия классов\n",
        "\n",
        "print(isinstance(a, A))\n",
        "print(isinstance(b, B))\n",
        "print(isinstance(b, A))  # учитывается иерархия"
      ]
    }
  ],
  "metadata": {
    "colab": {
      "provenance": []
    },
    "kernelspec": {
      "display_name": "Python 3",
      "name": "python3"
    },
    "language_info": {
      "codemirror_mode": {
        "name": "ipython",
        "version": 3
      },
      "file_extension": ".py",
      "mimetype": "text/x-python",
      "name": "python",
      "nbconvert_exporter": "python",
      "pygments_lexer": "ipython3",
      "version": "3.13.5"
    }
  },
  "nbformat": 4,
  "nbformat_minor": 0
}
