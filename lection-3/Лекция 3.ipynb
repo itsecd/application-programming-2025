{
  "cells": [
    {
      "cell_type": "markdown",
      "metadata": {
        "id": "foLgtdBR8Np0"
      },
      "source": [
        "# Лекция 3. Работа с файлами. Модули и пакеты."
      ]
    },
    {
      "cell_type": "code",
      "execution_count": null,
      "metadata": {},
      "outputs": [],
      "source": [
        "!python -m venv .venv "
      ]
    },
    {
      "cell_type": "code",
      "execution_count": 4,
      "metadata": {},
      "outputs": [],
      "source": [
        "!.venv\\Scripts\\activate"
      ]
    },
    {
      "cell_type": "code",
      "execution_count": null,
      "metadata": {},
      "outputs": [],
      "source": [
        "!.venv\\Scripts\\deactivate"
      ]
    },
    {
      "cell_type": "markdown",
      "metadata": {},
      "source": [
        "## Работа с файлами"
      ]
    },
    {
      "cell_type": "markdown",
      "metadata": {},
      "source": [
        "### Режимы работы с файлом"
      ]
    },
    {
      "cell_type": "markdown",
      "metadata": {},
      "source": [
        "**r** - чтение; указатель на начале файла; вызывается по умолчанию,\n",
        "\n",
        "**r+** - одновременные чтение и запись; указатель на начале файла,\n",
        "\n",
        "**rb** - чтение в бинарном формате; указатель на начале файла,\n",
        "\n",
        "**rb+** - одновременные чтение и запись в бинарном формате; указатель на начале файла,\n",
        "\n",
        "**w** - запись; перезаписывает файл, если он есть; создает новый файл, если его нет,\n",
        "\n",
        "**wb** - запись в бинарном формате; перезаписывает файл, если он есть; создает новый файл, если его нет,\n",
        "\n",
        "**w+** - одновременные чтение и запись; перезаписывает файл, если он есть; создает новый файл, если его нет,\n",
        "\n",
        "**a** - добавление; указатель на конце файла, если файл есть; создает новый файл, если его нет,\n",
        "\n",
        "**ab** - добавление в бинарном формате; указатель на конце файла, если файл есть; создает новый файл, если его нет,\n",
        "\n",
        "**a+** - одновременные чтение и добавление; указатель на конце файла, если файл есть, создает новый файл, если его нет,\n",
        "\n",
        "**ab+** - одновременные чтение и добавление в бинарном формате; указатель на конце файла, если файл есть; создает новый файл, если его нет."
      ]
    },
    {
      "cell_type": "markdown",
      "metadata": {},
      "source": [
        "### Открытие файлов"
      ]
    },
    {
      "cell_type": "markdown",
      "metadata": {},
      "source": [
        "Для работы с файлом используется встроенная функция `open()`. Основные аргументы:\n",
        "1. `file` - путь к файлу (обязательный)\n",
        "2. `mode` - режим работы (по умолчанию `'r'`)\n",
        "\n",
        "Также часто используется именованный параметр `encoding`, позволяющий указать кодировку."
      ]
    },
    {
      "cell_type": "markdown",
      "metadata": {},
      "source": [
        "Классический способ (требует закрытия):"
      ]
    },
    {
      "cell_type": "code",
      "execution_count": 5,
      "metadata": {},
      "outputs": [],
      "source": [
        "file = open('file.txt', 'a+', encoding='utf-8')\n",
        "try:\n",
        "    content = file.read()\n",
        "finally:\n",
        "    file.close()"
      ]
    },
    {
      "cell_type": "markdown",
      "metadata": {},
      "source": [
        "Современный способ с автоматическим закрытием файла (рекомендуется):"
      ]
    },
    {
      "cell_type": "code",
      "execution_count": 6,
      "metadata": {},
      "outputs": [],
      "source": [
        "with open('file.txt', 'a+', encoding='utf-8') as file:\n",
        "    content = file.read()"
      ]
    },
    {
      "cell_type": "markdown",
      "metadata": {},
      "source": [
        "### Чтение файлов"
      ]
    },
    {
      "cell_type": "markdown",
      "metadata": {},
      "source": [
        "Чтение всего файла:"
      ]
    },
    {
      "cell_type": "code",
      "execution_count": 7,
      "metadata": {},
      "outputs": [
        {
          "name": "stdout",
          "output_type": "stream",
          "text": [
            "numpy>=1.20.0\n",
            "pandas==2.3.2\n",
            "\n"
          ]
        }
      ],
      "source": [
        "with open('requirements.txt', 'r', encoding='utf-8') as file:\n",
        "    content = file.read()\n",
        "print(content)"
      ]
    },
    {
      "cell_type": "markdown",
      "metadata": {},
      "source": [
        "Получение списка всех строк:"
      ]
    },
    {
      "cell_type": "code",
      "execution_count": 8,
      "metadata": {},
      "outputs": [
        {
          "name": "stdout",
          "output_type": "stream",
          "text": [
            "['numpy>=1.20.0\\n', 'pandas==2.3.2\\n']\n"
          ]
        }
      ],
      "source": [
        "with open('requirements.txt', 'r', encoding='utf-8') as file:\n",
        "    lines = file.readlines()\n",
        "print(lines)"
      ]
    },
    {
      "cell_type": "markdown",
      "metadata": {},
      "source": [
        "Итерация по строкам:"
      ]
    },
    {
      "cell_type": "code",
      "execution_count": 9,
      "metadata": {},
      "outputs": [
        {
          "name": "stdout",
          "output_type": "stream",
          "text": [
            "numpy>=1.20.0\n",
            "pandas==2.3.2\n"
          ]
        }
      ],
      "source": [
        "with open('requirements.txt', 'r') as file:\n",
        "    for line in file:\n",
        "        print(line.strip())"
      ]
    },
    {
      "cell_type": "markdown",
      "metadata": {},
      "source": [
        "Чтение определенного количества символов:"
      ]
    },
    {
      "cell_type": "code",
      "execution_count": 10,
      "metadata": {},
      "outputs": [
        {
          "data": {
            "text/plain": [
              "('numpy>=1.20.0\\n', 'pandas==2.3.2\\n')"
            ]
          },
          "execution_count": 10,
          "metadata": {},
          "output_type": "execute_result"
        }
      ],
      "source": [
        "with open('requirements.txt', 'r') as file:\n",
        "    first = file.read(14)  # Первые 14 символов\n",
        "    second = file.read(14)  # Следующие 14 символов\n",
        "first, second"
      ]
    },
    {
      "cell_type": "markdown",
      "metadata": {},
      "source": [
        "### Запись в файлы"
      ]
    },
    {
      "cell_type": "markdown",
      "metadata": {},
      "source": [
        "Запись всего текста:"
      ]
    },
    {
      "cell_type": "code",
      "execution_count": 11,
      "metadata": {},
      "outputs": [],
      "source": [
        "with open('file.txt', 'w', encoding='utf-8') as file:\n",
        "    file.write('Это первая строка\\nЭто вторая строка')"
      ]
    },
    {
      "cell_type": "markdown",
      "metadata": {},
      "source": [
        "Запись нескольких строк:"
      ]
    },
    {
      "cell_type": "code",
      "execution_count": 12,
      "metadata": {},
      "outputs": [],
      "source": [
        "with open('file.txt', 'w', encoding='utf-8') as file:\n",
        "    file.writelines(['Строка 1\\n', 'Строка 2\\n', 'Строка 3\\n'])"
      ]
    },
    {
      "cell_type": "markdown",
      "metadata": {},
      "source": [
        "### Позиционирование в файле"
      ]
    },
    {
      "cell_type": "markdown",
      "metadata": {},
      "source": [
        "`tell()` - текущая позиция в файле:"
      ]
    },
    {
      "cell_type": "code",
      "execution_count": 15,
      "metadata": {},
      "outputs": [
        {
          "name": "stdout",
          "output_type": "stream",
          "text": [
            "0\n",
            "10\n"
          ]
        }
      ],
      "source": [
        "with open('file.txt', 'r') as file:\n",
        "    print(file.tell())\n",
        "    file.read(10)\n",
        "    print(file.tell())"
      ]
    },
    {
      "cell_type": "markdown",
      "metadata": {},
      "source": [
        "`seek()` - перемещает позицию на указанный символ:"
      ]
    },
    {
      "cell_type": "code",
      "execution_count": 16,
      "metadata": {},
      "outputs": [
        {
          "name": "stdout",
          "output_type": "stream",
          "text": [
            "0\n",
            "10\n"
          ]
        }
      ],
      "source": [
        "with open('file.txt', 'r') as file:\n",
        "    print(file.tell())\n",
        "    file.seek(10)\n",
        "    print(file.tell())"
      ]
    },
    {
      "cell_type": "markdown",
      "metadata": {},
      "source": [
        "## Модули и пакеты"
      ]
    },
    {
      "cell_type": "markdown",
      "metadata": {},
      "source": [
        "**Модуль** - это файл с расширением `.py`, содержащий python-код (функции, классы, переменные). Модули позволяют организовывать код логически и повторно использовать его. Встроенные модули изначально написаны на С и встроены непосредственно в интерпретатор.\n",
        "\n",
        "**Пакет** – это каталог, который может включать другие каталоги или модули."
      ]
    },
    {
      "cell_type": "markdown",
      "metadata": {},
      "source": [
        "### Создание модулей"
      ]
    },
    {
      "cell_type": "markdown",
      "metadata": {},
      "source": [
        "Создадим для примера модуль и сохраним его в файл `area.py`:"
      ]
    },
    {
      "cell_type": "code",
      "execution_count": 17,
      "metadata": {},
      "outputs": [
        {
          "name": "stdout",
          "output_type": "stream",
          "text": [
            "Writing area.py\n"
          ]
        }
      ],
      "source": [
        "%%writefile area.py\n",
        "pi = 3.14159\n",
        "\n",
        "def rectangle_area(a, b):\n",
        "    return a * b\n",
        "\n",
        "def triangle_area(a, h):\n",
        "    return 0.5 * a * h\n",
        "\n",
        "def circle_area(r):\n",
        "    return pi * r ** 2"
      ]
    },
    {
      "cell_type": "markdown",
      "metadata": {},
      "source": [
        "### Импорт модулей"
      ]
    },
    {
      "cell_type": "markdown",
      "metadata": {},
      "source": [
        "Импорт модуля выполняется с помощью команды `import`. При импорте модуля интерпретатор выполняет весь код в нем.\n",
        "\n",
        "Процесс поиска модуля командой `import`:\n",
        "\n",
        "1. среди встроенных модулей;\n",
        "1. в директории с исполняемым скриптом;\n",
        "1. в директории по умолчанию дистрибутива python;\n",
        "1. в PYTHONPATH."
      ]
    },
    {
      "cell_type": "markdown",
      "metadata": {},
      "source": [
        "Импорт всего модуля:"
      ]
    },
    {
      "cell_type": "code",
      "execution_count": 18,
      "metadata": {},
      "outputs": [
        {
          "name": "stdout",
          "output_type": "stream",
          "text": [
            "3.14159\n",
            "50\n",
            "8.0\n",
            "78.53975\n"
          ]
        }
      ],
      "source": [
        "import area\n",
        "\n",
        "print(area.pi)\n",
        "print(area.rectangle_area(10, 5))\n",
        "print(area.triangle_area(4, 4))\n",
        "print(area.circle_area(5))"
      ]
    },
    {
      "cell_type": "markdown",
      "metadata": {},
      "source": [
        "Импорт с псевдонимом:"
      ]
    },
    {
      "cell_type": "code",
      "execution_count": 19,
      "metadata": {},
      "outputs": [
        {
          "name": "stdout",
          "output_type": "stream",
          "text": [
            "78.53975\n"
          ]
        }
      ],
      "source": [
        "import area as a\n",
        "\n",
        "print(a.circle_area(5))"
      ]
    },
    {
      "cell_type": "markdown",
      "metadata": {},
      "source": [
        "Импорт конкретных элементов:"
      ]
    },
    {
      "cell_type": "code",
      "execution_count": 20,
      "metadata": {},
      "outputs": [
        {
          "name": "stdout",
          "output_type": "stream",
          "text": [
            "78.53975\n"
          ]
        }
      ],
      "source": [
        "from area import circle_area\n",
        "\n",
        "print(circle_area(5))"
      ]
    },
    {
      "cell_type": "markdown",
      "metadata": {},
      "source": [
        "Импорт всех элементов (не рекомендуется):"
      ]
    },
    {
      "cell_type": "code",
      "execution_count": 21,
      "metadata": {},
      "outputs": [
        {
          "name": "stdout",
          "output_type": "stream",
          "text": [
            "3.14159\n",
            "50\n",
            "8.0\n",
            "78.53975\n"
          ]
        }
      ],
      "source": [
        "from area import *\n",
        "\n",
        "print(pi)\n",
        "print(rectangle_area(10, 5))\n",
        "print(triangle_area(4, 4))\n",
        "print(circle_area(5))"
      ]
    },
    {
      "cell_type": "markdown",
      "metadata": {},
      "source": [
        "### Создание пакетов"
      ]
    },
    {
      "cell_type": "markdown",
      "metadata": {},
      "source": [
        "Создание директории для пакета:"
      ]
    },
    {
      "cell_type": "code",
      "execution_count": 22,
      "metadata": {},
      "outputs": [],
      "source": [
        "!mkdir samplepackage"
      ]
    },
    {
      "cell_type": "markdown",
      "metadata": {},
      "source": [
        "Создание модулей для пакета:"
      ]
    },
    {
      "cell_type": "code",
      "execution_count": 23,
      "metadata": {},
      "outputs": [
        {
          "name": "stdout",
          "output_type": "stream",
          "text": [
            "Writing samplepackage/constants.py\n"
          ]
        }
      ],
      "source": [
        "%%writefile samplepackage/constants.py\n",
        "\n",
        "# выносим константы в отдельный файл\n",
        "pi = 3.14159"
      ]
    },
    {
      "cell_type": "code",
      "execution_count": 24,
      "metadata": {},
      "outputs": [
        {
          "name": "stdout",
          "output_type": "stream",
          "text": [
            "Writing samplepackage/area.py\n"
          ]
        }
      ],
      "source": [
        "%%writefile samplepackage/area.py\n",
        "from samplepackage.constants import pi\n",
        "\n",
        "def rectangle_area(a, b):\n",
        "    return a * b\n",
        "\n",
        "def triangle_area(a, h):\n",
        "    return 0.5 * a * h\n",
        "\n",
        "def circle_area(r):\n",
        "    return pi * r ** 2"
      ]
    },
    {
      "cell_type": "code",
      "execution_count": 25,
      "metadata": {},
      "outputs": [
        {
          "name": "stdout",
          "output_type": "stream",
          "text": [
            "Writing samplepackage/perimeter.py\n"
          ]
        }
      ],
      "source": [
        "%%writefile samplepackage/perimeter.py\n",
        "from samplepackage.constants import pi\n",
        "\n",
        "def rectangle_perimeter(a, b):\n",
        "    return 2 * (a + b)\n",
        "\n",
        "def triangle_perimeter(a, b,c):\n",
        "    return a + b + c\n",
        "\n",
        "def circle_perimeter(r):\n",
        "    return pi * 2 * r"
      ]
    },
    {
      "cell_type": "markdown",
      "metadata": {},
      "source": [
        "Создание `__init__.py` делает директорию пакетом (можно оставить пустым):"
      ]
    },
    {
      "cell_type": "code",
      "execution_count": 26,
      "metadata": {},
      "outputs": [
        {
          "name": "stdout",
          "output_type": "stream",
          "text": [
            "Writing samplepackage/__init__.py\n"
          ]
        }
      ],
      "source": [
        "%%writefile samplepackage/__init__.py\n",
        "\n",
        "# указываем, что будет импортировано командой from samplepackage import *\n",
        "__all__ = ['constants', 'area', 'perimeter']"
      ]
    },
    {
      "cell_type": "markdown",
      "metadata": {},
      "source": [
        "### Импорт пакетов"
      ]
    },
    {
      "cell_type": "markdown",
      "metadata": {},
      "source": [
        "Импорт модуля из пакета:"
      ]
    },
    {
      "cell_type": "code",
      "execution_count": 27,
      "metadata": {},
      "outputs": [
        {
          "name": "stdout",
          "output_type": "stream",
          "text": [
            "78.53975\n"
          ]
        }
      ],
      "source": [
        "import samplepackage.area\n",
        "\n",
        "print(samplepackage.area.circle_area(5))"
      ]
    },
    {
      "cell_type": "code",
      "execution_count": 28,
      "metadata": {},
      "outputs": [
        {
          "name": "stdout",
          "output_type": "stream",
          "text": [
            "78.53975\n"
          ]
        }
      ],
      "source": [
        "from samplepackage import area\n",
        "\n",
        "print(area.circle_area(5))"
      ]
    },
    {
      "cell_type": "markdown",
      "metadata": {},
      "source": [
        "### Установка внешнего модуля"
      ]
    },
    {
      "cell_type": "markdown",
      "metadata": {},
      "source": [
        "`pip (Package Installer for Python)` - стандартный менеджер пакетов Python."
      ]
    },
    {
      "cell_type": "markdown",
      "metadata": {},
      "source": [
        "Установка модуля происходит с помощью команды `pip install`:"
      ]
    },
    {
      "cell_type": "code",
      "execution_count": null,
      "metadata": {},
      "outputs": [],
      "source": [
        "!pip install numpy"
      ]
    },
    {
      "cell_type": "markdown",
      "metadata": {},
      "source": [
        "Установка конкретной версии модуля:"
      ]
    },
    {
      "cell_type": "code",
      "execution_count": null,
      "metadata": {},
      "outputs": [],
      "source": [
        "!pip install pandas==2.3.2"
      ]
    },
    {
      "cell_type": "markdown",
      "metadata": {},
      "source": [
        "Обновление модулей:"
      ]
    },
    {
      "cell_type": "code",
      "execution_count": null,
      "metadata": {},
      "outputs": [],
      "source": [
        "!pip install --upgrade numpy"
      ]
    },
    {
      "cell_type": "markdown",
      "metadata": {},
      "source": [
        "Удаление модулей:"
      ]
    },
    {
      "cell_type": "code",
      "execution_count": null,
      "metadata": {},
      "outputs": [],
      "source": [
        "!pip uninstall pandas"
      ]
    },
    {
      "cell_type": "markdown",
      "metadata": {},
      "source": [
        "С помощью файла `requirements.txt` можно сохранять и устанавливать все нужные для вашего проекта модули и пакеты:"
      ]
    },
    {
      "cell_type": "code",
      "execution_count": 29,
      "metadata": {},
      "outputs": [
        {
          "name": "stdout",
          "output_type": "stream",
          "text": [
            "Overwriting requirements.txt\n"
          ]
        }
      ],
      "source": [
        "%%writefile requirements.txt\n",
        "numpy>=1.20.0\n",
        "pandas==2.3.2"
      ]
    },
    {
      "cell_type": "markdown",
      "metadata": {},
      "source": [
        "Создание файла со списком модулей из установленных модулей окружения:"
      ]
    },
    {
      "cell_type": "code",
      "execution_count": null,
      "metadata": {},
      "outputs": [],
      "source": [
        "!pip freeze > requirements.txt"
      ]
    },
    {
      "cell_type": "markdown",
      "metadata": {},
      "source": [
        "Установка модулей из `requirements.txt`:"
      ]
    },
    {
      "cell_type": "code",
      "execution_count": null,
      "metadata": {},
      "outputs": [],
      "source": [
        "!pip install -r requirements.txt"
      ]
    },
    {
      "cell_type": "markdown",
      "metadata": {},
      "source": [
        "## Встроенные модули в языке Python"
      ]
    },
    {
      "cell_type": "markdown",
      "metadata": {},
      "source": [
        "### csv"
      ]
    },
    {
      "cell_type": "markdown",
      "metadata": {},
      "source": [
        "**CSV** (Comma-Separated Values) - текстовый формат для представления табличных данных. Каждая строка - это запись, поля разделены разделителями (обычно запятыми)."
      ]
    },
    {
      "cell_type": "code",
      "execution_count": 30,
      "metadata": {},
      "outputs": [],
      "source": [
        "import csv"
      ]
    },
    {
      "cell_type": "markdown",
      "metadata": {},
      "source": [
        "#### Запись данных в csv файл"
      ]
    },
    {
      "cell_type": "markdown",
      "metadata": {},
      "source": [
        "Создание нового файла и запись всех данных:"
      ]
    },
    {
      "cell_type": "code",
      "execution_count": 31,
      "metadata": {},
      "outputs": [],
      "source": [
        "# данные для записи (список списков)\n",
        "data = [\n",
        "    [\"Имя\", \"Возраст\", \"Город\"],  # Заголовки\n",
        "    [\"Алексей\", 30, \"Москва\"],\n",
        "    [\"Мария\", 25, \"Санкт-Петербург\"],\n",
        "    [\"Иван\", 22, \"Екатеринбург\"]\n",
        "]\n",
        "\n",
        "# запись данных в CSV файл\n",
        "with open('data.csv', mode='w', newline='', encoding='utf-8') as file:\n",
        "    writer = csv.writer(file)\n",
        "    writer.writerows(data) # запись всех строк"
      ]
    },
    {
      "cell_type": "markdown",
      "metadata": {},
      "source": [
        "Дозапись в файл:"
      ]
    },
    {
      "cell_type": "code",
      "execution_count": 32,
      "metadata": {},
      "outputs": [],
      "source": [
        "with open('data.csv', mode='a', newline='', encoding='utf-8') as file:\n",
        "    writer = csv.writer(file)\n",
        "    writer.writerow([\"Ирина\", 33, \"Сочи\"])"
      ]
    },
    {
      "cell_type": "markdown",
      "metadata": {},
      "source": [
        "#### Чтение данных из csv файла"
      ]
    },
    {
      "cell_type": "code",
      "execution_count": 33,
      "metadata": {},
      "outputs": [
        {
          "name": "stdout",
          "output_type": "stream",
          "text": [
            "['Имя', 'Возраст', 'Город']\n",
            "['Алексей', '30', 'Москва']\n",
            "['Мария', '25', 'Санкт-Петербург']\n",
            "['Иван', '22', 'Екатеринбург']\n",
            "['Ирина', '33', 'Сочи']\n"
          ]
        }
      ],
      "source": [
        "with open('data.csv', \"r\", newline=\"\", encoding='utf-8') as file:\n",
        "    reader = csv.reader(file)\n",
        "    for row in reader:\n",
        "        print(row)  # получаем список элементов строки"
      ]
    },
    {
      "cell_type": "markdown",
      "metadata": {},
      "source": [
        "#### Работа со словарями"
      ]
    },
    {
      "cell_type": "markdown",
      "metadata": {},
      "source": [
        "Запись в файл:"
      ]
    },
    {
      "cell_type": "code",
      "execution_count": 34,
      "metadata": {},
      "outputs": [],
      "source": [
        "# данные для записи в виде списка словарей\n",
        "# ключи словаря - названия колонок\n",
        "data = [\n",
        "    {\"Имя\": \"Алексей\", \"Возраст\": 30},\n",
        "    {\"Имя\": \"Мария\", \"Возраст\": 25},\n",
        "    {\"Имя\": \"Иван\", \"Возраст\": 22}\n",
        "]\n",
        "\n",
        "with open('data2.csv', \"w\", newline=\"\", encoding='utf-8') as file:\n",
        "    columns = [\"Имя\", \"Возраст\"]\n",
        "    writer = csv.DictWriter(file, fieldnames=columns)\n",
        "    writer.writeheader()\n",
        "    writer.writerows(data)"
      ]
    },
    {
      "cell_type": "markdown",
      "metadata": {},
      "source": [
        "Чтение из файла:"
      ]
    },
    {
      "cell_type": "code",
      "execution_count": 35,
      "metadata": {},
      "outputs": [
        {
          "name": "stdout",
          "output_type": "stream",
          "text": [
            "Имя Возраст\n",
            "Имя: Алексей Возраст: 30\n",
            "Имя: Мария Возраст: 25\n",
            "Имя: Иван Возраст: 22\n"
          ]
        }
      ],
      "source": [
        "with open('data2.csv', \"r\", newline=\"\", encoding='utf-8') as file:\n",
        "    reader = csv.DictReader(file)\n",
        "    name, age = reader.fieldnames  # получаем названия колонок\n",
        "    print(name, age)\n",
        "    for row in reader:\n",
        "        # теперь можно обращаться к колонкам по ключу\n",
        "        print(\"Имя:\", row[name], \"Возраст:\", row[age])"
      ]
    },
    {
      "cell_type": "markdown",
      "metadata": {},
      "source": [
        "### json"
      ]
    },
    {
      "cell_type": "markdown",
      "metadata": {},
      "source": [
        "**JSON** - текстовый формат обмена данными, основанный на синтаксисе JavaScript. Имеет структуру, напоминающую словарь.\n",
        "\n",
        "Основные структуры:\n",
        "- Объекты: {\"key\": \"value\"}\n",
        "- Массивы: [\"item1\", \"item2\"]\n",
        "- Значения: строки, числа, boolean, null\n",
        "\n",
        "json не привязан к типам данных. Типы данных python конвертируются в json следующим образом:\n",
        "- `dict` - object\n",
        "- `list`, `tuple` - array\n",
        "- `str` - string\n",
        "- `int`, `long`, `float` - number\n",
        "- `True` - true\n",
        "- `False` - false\n",
        "- `None` - null\n",
        "\n",
        "Пример json файла:\n",
        "```\n",
        "{\n",
        "  \"store\": {\n",
        "    \"name\": \"Магазин электроники\",\n",
        "    \"location\": \"Москва\",\n",
        "    \"products\": [\n",
        "      {\n",
        "        \"id\": 1,\n",
        "        \"name\": \"Телевизор\",\n",
        "        \"price\": 30000\n",
        "      },\n",
        "      {\n",
        "        \"id\": 2,\n",
        "        \"name\": \"Смартфон\",\n",
        "        \"price\": 20000\n",
        "      }\n",
        "    ]\n",
        "  }\n",
        "}\n",
        "```"
      ]
    },
    {
      "cell_type": "code",
      "execution_count": 36,
      "metadata": {},
      "outputs": [],
      "source": [
        "import json"
      ]
    },
    {
      "cell_type": "markdown",
      "metadata": {},
      "source": [
        "#### Запись в json файл"
      ]
    },
    {
      "cell_type": "code",
      "execution_count": 37,
      "metadata": {},
      "outputs": [],
      "source": [
        "# данные для записи\n",
        "data = {\n",
        "  \"store\": {\n",
        "    \"name\": \"Магазин электроники\",\n",
        "    \"location\": \"Москва\",\n",
        "    \"products\": [\n",
        "      {\n",
        "        \"id\": 1,\n",
        "        \"name\": \"Телевизор\",\n",
        "        \"price\": 30000\n",
        "      },\n",
        "      {\n",
        "        \"id\": 2,\n",
        "        \"name\": \"Смартфон\",\n",
        "        \"price\": 20000\n",
        "      }\n",
        "    ]\n",
        "  }\n",
        "}\n",
        "\n",
        "# запись в файл (сериализация)\n",
        "with open(\"data.json\", \"w\", encoding='utf-8') as file:\n",
        "    json.dump(data, file)"
      ]
    },
    {
      "cell_type": "markdown",
      "metadata": {},
      "source": [
        "#### Чтение из файла"
      ]
    },
    {
      "cell_type": "code",
      "execution_count": 38,
      "metadata": {},
      "outputs": [
        {
          "name": "stdout",
          "output_type": "stream",
          "text": [
            "{'store': {'name': 'Магазин электроники', 'location': 'Москва', 'products': [{'id': 1, 'name': 'Телевизор', 'price': 30000}, {'id': 2, 'name': 'Смартфон', 'price': 20000}]}}\n"
          ]
        }
      ],
      "source": [
        "# чтение файла (десериализация)\n",
        "with open(\"data.json\", \"r\") as file:\n",
        "    data = json.load(file)\n",
        "print(data)"
      ]
    },
    {
      "cell_type": "markdown",
      "metadata": {},
      "source": [
        "### pickle"
      ]
    },
    {
      "cell_type": "markdown",
      "metadata": {},
      "source": [
        "**pickle** - модуль для сериализации и десериализации объектов Python.\n",
        "\n",
        "pickle может сериализовать:\n",
        "- Все встроенные типы\n",
        "- Функции и классы (по имени)\n",
        "- Экземпляры классов\n",
        "- Сложные структуры данных"
      ]
    },
    {
      "cell_type": "code",
      "execution_count": 39,
      "metadata": {},
      "outputs": [],
      "source": [
        "import pickle"
      ]
    },
    {
      "cell_type": "markdown",
      "metadata": {},
      "source": [
        "Сериализация и сохранение в файл:"
      ]
    },
    {
      "cell_type": "code",
      "execution_count": 41,
      "metadata": {},
      "outputs": [],
      "source": [
        "# создаём класс\n",
        "class MyClass:\n",
        "    def __init__(self, data):\n",
        "        # поле класса\n",
        "        self.data = data\n",
        "\n",
        "    def print_data(self):\n",
        "        print(self.data)\n",
        "\n",
        "# создаём два экземпляра класса\n",
        "c1 = MyClass(10)\n",
        "c2 = MyClass('AAA')\n",
        "\n",
        "# сериализация в файл\n",
        "with open('data.pkl', 'wb') as file:\n",
        "    pickle.dump([c1, c2], file)"
      ]
    },
    {
      "cell_type": "markdown",
      "metadata": {},
      "source": [
        "Десериализация из файла:"
      ]
    },
    {
      "cell_type": "code",
      "execution_count": 42,
      "metadata": {},
      "outputs": [
        {
          "name": "stdout",
          "output_type": "stream",
          "text": [
            "10\n",
            "AAA\n"
          ]
        },
        {
          "data": {
            "text/plain": [
              "__main__.MyClass"
            ]
          },
          "execution_count": 42,
          "metadata": {},
          "output_type": "execute_result"
        }
      ],
      "source": [
        "# десериализация из файла\n",
        "with open('data.pkl', 'rb') as file:\n",
        "    loaded_data = pickle.load(file)\n",
        "\n",
        "loaded_data[0].print_data()\n",
        "loaded_data[1].print_data()\n",
        "type(loaded_data[0])"
      ]
    },
    {
      "cell_type": "markdown",
      "metadata": {},
      "source": [
        "### os"
      ]
    },
    {
      "cell_type": "markdown",
      "metadata": {},
      "source": [
        "Модуль `os` предоставляет интерфейс для взаимодействия с операционной системой. Он позволяет работать с файловой системой, процессами, переменными окружения и другими системными функциями."
      ]
    },
    {
      "cell_type": "code",
      "execution_count": 43,
      "metadata": {},
      "outputs": [],
      "source": [
        "import os"
      ]
    },
    {
      "cell_type": "markdown",
      "metadata": {},
      "source": [
        "Исполнение строки как системной команды и возврат кода её завершения:"
      ]
    },
    {
      "cell_type": "code",
      "execution_count": 44,
      "metadata": {},
      "outputs": [
        {
          "data": {
            "text/plain": [
              "0"
            ]
          },
          "execution_count": 44,
          "metadata": {},
          "output_type": "execute_result"
        }
      ],
      "source": [
        "os.system(\"mkdir new_dir\")"
      ]
    },
    {
      "cell_type": "markdown",
      "metadata": {},
      "source": [
        "#### Получение информации о системе"
      ]
    },
    {
      "cell_type": "markdown",
      "metadata": {},
      "source": [
        "Текущая рабочая директория:"
      ]
    },
    {
      "cell_type": "code",
      "execution_count": 45,
      "metadata": {},
      "outputs": [
        {
          "data": {
            "text/plain": [
              "'d:\\\\Преподавание\\\\python\\\\2025\\\\lections\\\\lection-3'"
            ]
          },
          "execution_count": 45,
          "metadata": {},
          "output_type": "execute_result"
        }
      ],
      "source": [
        "os.getcwd()"
      ]
    },
    {
      "cell_type": "markdown",
      "metadata": {},
      "source": [
        "Имя операционной системы:"
      ]
    },
    {
      "cell_type": "code",
      "execution_count": 46,
      "metadata": {},
      "outputs": [
        {
          "data": {
            "text/plain": [
              "'nt'"
            ]
          },
          "execution_count": 46,
          "metadata": {},
          "output_type": "execute_result"
        }
      ],
      "source": [
        "os.name"
      ]
    },
    {
      "cell_type": "markdown",
      "metadata": {},
      "source": [
        "Разделитель путей:"
      ]
    },
    {
      "cell_type": "code",
      "execution_count": 47,
      "metadata": {},
      "outputs": [
        {
          "data": {
            "text/plain": [
              "'\\\\'"
            ]
          },
          "execution_count": 47,
          "metadata": {},
          "output_type": "execute_result"
        }
      ],
      "source": [
        "os.sep"
      ]
    },
    {
      "cell_type": "markdown",
      "metadata": {},
      "source": [
        "#### Навигация по директориям"
      ]
    },
    {
      "cell_type": "markdown",
      "metadata": {},
      "source": [
        "Смена текущей директории:"
      ]
    },
    {
      "cell_type": "code",
      "execution_count": 48,
      "metadata": {},
      "outputs": [
        {
          "name": "stdout",
          "output_type": "stream",
          "text": [
            "d:\\Преподавание\\python\\2025\\lections\\lection-3\\samplepackage\n",
            "d:\\Преподавание\\python\\2025\\lections\\lection-3\n"
          ]
        }
      ],
      "source": [
        "os.chdir('samplepackage')\n",
        "print(os.getcwd())\n",
        "os.chdir('../')\n",
        "print(os.getcwd())"
      ]
    },
    {
      "cell_type": "markdown",
      "metadata": {},
      "source": [
        "Список фалов и папок:"
      ]
    },
    {
      "cell_type": "code",
      "execution_count": 49,
      "metadata": {},
      "outputs": [
        {
          "data": {
            "text/plain": [
              "['.venv',\n",
              " 'area.py',\n",
              " 'data.csv',\n",
              " 'data.json',\n",
              " 'data.pkl',\n",
              " 'data2.csv',\n",
              " 'file.txt',\n",
              " 'new_dir',\n",
              " 'requirements.txt',\n",
              " 'samplepackage',\n",
              " '__pycache__',\n",
              " 'Лекция 3.ipynb']"
            ]
          },
          "execution_count": 49,
          "metadata": {},
          "output_type": "execute_result"
        }
      ],
      "source": [
        "os.listdir()  # текущая директория"
      ]
    },
    {
      "cell_type": "code",
      "execution_count": 50,
      "metadata": {},
      "outputs": [
        {
          "data": {
            "text/plain": [
              "['area.py', 'constants.py', 'perimeter.py', '__init__.py', '__pycache__']"
            ]
          },
          "execution_count": 50,
          "metadata": {},
          "output_type": "execute_result"
        }
      ],
      "source": [
        "os.listdir('samplepackage')"
      ]
    },
    {
      "cell_type": "markdown",
      "metadata": {},
      "source": [
        "Рекурсивный обход (доступен с версии Python 3.5):"
      ]
    },
    {
      "cell_type": "code",
      "execution_count": 51,
      "metadata": {},
      "outputs": [
        {
          "name": "stdout",
          "output_type": "stream",
          "text": [
            "Директория: samplepackage\n",
            "Поддиректории: ['__pycache__']\n",
            "Файлы: ['area.py', 'constants.py', 'perimeter.py', '__init__.py']\n",
            "Директория: samplepackage\\__pycache__\n",
            "Поддиректории: []\n",
            "Файлы: ['area.cpython-313.pyc', 'constants.cpython-313.pyc', '__init__.cpython-313.pyc']\n"
          ]
        }
      ],
      "source": [
        "for root, dirs, files in os.walk('samplepackage'):\n",
        "    print(f\"Директория: {root}\")\n",
        "    print(f\"Поддиректории: {dirs}\")\n",
        "    print(f\"Файлы: {files}\")"
      ]
    },
    {
      "cell_type": "markdown",
      "metadata": {},
      "source": [
        "#### Создание и удаление директорий"
      ]
    },
    {
      "cell_type": "markdown",
      "metadata": {},
      "source": [
        "Создание одной директории:"
      ]
    },
    {
      "cell_type": "code",
      "execution_count": 54,
      "metadata": {},
      "outputs": [],
      "source": [
        "# может вызвать исключение, если директория уже существует\n",
        "os.mkdir('new_folder')"
      ]
    },
    {
      "cell_type": "markdown",
      "metadata": {},
      "source": [
        "Создание цепочки директорий:"
      ]
    },
    {
      "cell_type": "code",
      "execution_count": 55,
      "metadata": {},
      "outputs": [],
      "source": [
        "# параметр exist_ok=True не вызывает исключений, если директория уже существует\n",
        "os.makedirs('path/to/new/folder', exist_ok=True)"
      ]
    },
    {
      "cell_type": "markdown",
      "metadata": {},
      "source": [
        "Удаление директории:"
      ]
    },
    {
      "cell_type": "code",
      "execution_count": 56,
      "metadata": {},
      "outputs": [],
      "source": [
        "# вызывает исключение, если папки не существует или в ней находятся файлы\n",
        "os.rmdir('path/to/new/folder')"
      ]
    },
    {
      "cell_type": "markdown",
      "metadata": {},
      "source": [
        "Рекурсивное удаление:"
      ]
    },
    {
      "cell_type": "code",
      "execution_count": 57,
      "metadata": {},
      "outputs": [],
      "source": [
        "import shutil\n",
        "\n",
        "# удаляет папку, даже если она не пустая\n",
        "shutil.rmtree('path')"
      ]
    },
    {
      "cell_type": "markdown",
      "metadata": {},
      "source": [
        "Переименование папки или файла:"
      ]
    },
    {
      "cell_type": "code",
      "execution_count": null,
      "metadata": {},
      "outputs": [],
      "source": [
        "os.rename(\"new_folder\", \"new_folder2\")"
      ]
    },
    {
      "cell_type": "markdown",
      "metadata": {},
      "source": [
        "#### Информация о файлах"
      ]
    },
    {
      "cell_type": "markdown",
      "metadata": {},
      "source": [
        "Размер файла (в байтах):"
      ]
    },
    {
      "cell_type": "code",
      "execution_count": 59,
      "metadata": {},
      "outputs": [
        {
          "data": {
            "text/plain": [
              "160"
            ]
          },
          "execution_count": 59,
          "metadata": {},
          "output_type": "execute_result"
        }
      ],
      "source": [
        "os.path.getsize('area.py')"
      ]
    },
    {
      "cell_type": "markdown",
      "metadata": {},
      "source": [
        "Время модификации (в миллисекнудах с 1 января 1970 года):"
      ]
    },
    {
      "cell_type": "code",
      "execution_count": 60,
      "metadata": {},
      "outputs": [
        {
          "data": {
            "text/plain": [
              "1757922157.0521333"
            ]
          },
          "execution_count": 60,
          "metadata": {},
          "output_type": "execute_result"
        }
      ],
      "source": [
        "os.path.getmtime('area.py')"
      ]
    },
    {
      "cell_type": "markdown",
      "metadata": {},
      "source": [
        "#### **os.path** - Работа с путями"
      ]
    },
    {
      "cell_type": "markdown",
      "metadata": {},
      "source": [
        "Объединение путей:"
      ]
    },
    {
      "cell_type": "code",
      "execution_count": 61,
      "metadata": {},
      "outputs": [
        {
          "data": {
            "text/plain": [
              "'folder\\\\subfolder\\\\file.txt'"
            ]
          },
          "execution_count": 61,
          "metadata": {},
          "output_type": "execute_result"
        }
      ],
      "source": [
        "os.path.join('folder', 'subfolder', 'file.txt')"
      ]
    },
    {
      "cell_type": "markdown",
      "metadata": {},
      "source": [
        "Разделение пути на директорию и файл (на самом деле просто отделяет конец пути):"
      ]
    },
    {
      "cell_type": "code",
      "execution_count": 62,
      "metadata": {},
      "outputs": [
        {
          "data": {
            "text/plain": [
              "'Директория: /path/to, Файл: file.txt'"
            ]
          },
          "execution_count": 62,
          "metadata": {},
          "output_type": "execute_result"
        }
      ],
      "source": [
        "dirname, filename = os.path.split('/path/to/file.txt')\n",
        "f\"Директория: {dirname}, Файл: {filename}\""
      ]
    },
    {
      "cell_type": "markdown",
      "metadata": {},
      "source": [
        "Расширение файла:"
      ]
    },
    {
      "cell_type": "code",
      "execution_count": 63,
      "metadata": {},
      "outputs": [
        {
          "data": {
            "text/plain": [
              "'Имя: document, Расширение: .pdf'"
            ]
          },
          "execution_count": 63,
          "metadata": {},
          "output_type": "execute_result"
        }
      ],
      "source": [
        "name, ext = os.path.splitext('document.pdf')\n",
        "f\"Имя: {name}, Расширение: {ext}\""
      ]
    },
    {
      "cell_type": "markdown",
      "metadata": {},
      "source": [
        "Абсолютный путь (**не проверяет существует ли путь**, а просто присоединяет путь к рабочей директории к указанному пути!):"
      ]
    },
    {
      "cell_type": "code",
      "execution_count": 64,
      "metadata": {},
      "outputs": [
        {
          "data": {
            "text/plain": [
              "'d:\\\\Преподавание\\\\python\\\\2025\\\\lections\\\\lection-3\\\\my\\\\path'"
            ]
          },
          "execution_count": 64,
          "metadata": {},
          "output_type": "execute_result"
        }
      ],
      "source": [
        "os.path.abspath('my/path')"
      ]
    },
    {
      "cell_type": "markdown",
      "metadata": {},
      "source": [
        "Проверка существовния пути:"
      ]
    },
    {
      "cell_type": "code",
      "execution_count": 65,
      "metadata": {},
      "outputs": [
        {
          "data": {
            "text/plain": [
              "True"
            ]
          },
          "execution_count": 65,
          "metadata": {},
          "output_type": "execute_result"
        }
      ],
      "source": [
        "os.path.exists('area.py')"
      ]
    },
    {
      "cell_type": "markdown",
      "metadata": {},
      "source": [
        "Проверка указывает путь на файл или на директорию (проверяет наличие файла):"
      ]
    },
    {
      "cell_type": "code",
      "execution_count": 66,
      "metadata": {},
      "outputs": [
        {
          "data": {
            "text/plain": [
              "True"
            ]
          },
          "execution_count": 66,
          "metadata": {},
          "output_type": "execute_result"
        }
      ],
      "source": [
        "os.path.isfile('samplepackage/area.py')"
      ]
    },
    {
      "cell_type": "code",
      "execution_count": 67,
      "metadata": {},
      "outputs": [
        {
          "data": {
            "text/plain": [
              "True"
            ]
          },
          "execution_count": 67,
          "metadata": {},
          "output_type": "execute_result"
        }
      ],
      "source": [
        "os.path.isdir('samplepackage')"
      ]
    },
    {
      "cell_type": "markdown",
      "metadata": {
        "id": "9K1k_hUMcn84"
      },
      "source": [
        "### **argparse** - аргументы командной строки"
      ]
    },
    {
      "cell_type": "markdown",
      "metadata": {},
      "source": [
        "`argparse` - это модуль для создания пользовательских интерфейсов командной строки."
      ]
    },
    {
      "cell_type": "markdown",
      "metadata": {},
      "source": [
        "Пример использования:"
      ]
    },
    {
      "cell_type": "code",
      "execution_count": 68,
      "metadata": {},
      "outputs": [
        {
          "name": "stdout",
          "output_type": "stream",
          "text": [
            "Writing argparse_example.py\n"
          ]
        }
      ],
      "source": [
        "%%writefile argparse_example.py\n",
        "import argparse\n",
        "\n",
        "# Создание парсера\n",
        "parser = argparse.ArgumentParser(description='Описание программы')\n",
        "\n",
        "# Добавление аргументов\n",
        "parser.add_argument('filename', help='Имя файла для обработки')\n",
        "parser.add_argument('--output', '-o', help='Выходной файл')\n",
        "\n",
        "# Парсинг аргументов\n",
        "args = parser.parse_args()\n",
        "\n",
        "# Использование аргументов\n",
        "print(f\"Обрабатываем файл: {args.filename}\")\n",
        "# Проверка, что аргумент указан\n",
        "if args.output:\n",
        "    print(f\"Сохраняем в: {args.output}\")"
      ]
    },
    {
      "cell_type": "code",
      "execution_count": 69,
      "metadata": {},
      "outputs": [
        {
          "name": "stdout",
          "output_type": "stream",
          "text": [
            "Обрабатываем файл: input.txt\n"
          ]
        }
      ],
      "source": [
        "!python argparse_example.py input.txt"
      ]
    },
    {
      "cell_type": "code",
      "execution_count": 70,
      "metadata": {},
      "outputs": [
        {
          "name": "stdout",
          "output_type": "stream",
          "text": [
            "Обрабатываем файл: input.txt\n",
            "Сохраняем в: output.txt\n"
          ]
        }
      ],
      "source": [
        "!python argparse_example.py input.txt -o output.txt"
      ]
    },
    {
      "cell_type": "markdown",
      "metadata": {},
      "source": [
        "Информация об аргументах:"
      ]
    },
    {
      "cell_type": "code",
      "execution_count": 71,
      "metadata": {},
      "outputs": [
        {
          "name": "stdout",
          "output_type": "stream",
          "text": [
            "usage: argparse_example.py [-h] [--output OUTPUT] filename\n",
            "\n",
            "Описание программы\n",
            "\n",
            "positional arguments:\n",
            "  filename             Имя файла для обработки\n",
            "\n",
            "options:\n",
            "  -h, --help           show this help message and exit\n",
            "  --output, -o OUTPUT  Выходной файл\n"
          ]
        }
      ],
      "source": [
        "!python argparse_example.py --help"
      ]
    },
    {
      "cell_type": "markdown",
      "metadata": {},
      "source": [
        "#### Типы аргументов"
      ]
    },
    {
      "cell_type": "markdown",
      "metadata": {},
      "source": [
        "Позиционные аргументы (обязательные) - указываются в порядке добавления."
      ]
    },
    {
      "cell_type": "code",
      "execution_count": 72,
      "metadata": {},
      "outputs": [
        {
          "data": {
            "text/plain": [
              "_StoreAction(option_strings=[], dest='output_file', nargs=None, const=None, default=None, type=None, choices=None, required=True, help='Выходной файл', metavar=None, deprecated=False)"
            ]
          },
          "execution_count": 72,
          "metadata": {},
          "output_type": "execute_result"
        }
      ],
      "source": [
        "import argparse\n",
        "parser = argparse.ArgumentParser(description='Описание программы')\n",
        "\n",
        "parser.add_argument('input_file', help='Входной файл')\n",
        "parser.add_argument('output_file', help='Выходной файл')"
      ]
    },
    {
      "cell_type": "markdown",
      "metadata": {},
      "source": [
        "Опциональные аргументы - указываются после флага в любом порядке (`--output` или `-o` в примере)."
      ]
    },
    {
      "cell_type": "code",
      "execution_count": 73,
      "metadata": {},
      "outputs": [
        {
          "data": {
            "text/plain": [
              "_StoreAction(option_strings=['--output', '-o'], dest='output', nargs=None, const=None, default=None, type=None, choices=None, required=False, help='Выходной файл', metavar=None, deprecated=False)"
            ]
          },
          "execution_count": 73,
          "metadata": {},
          "output_type": "execute_result"
        }
      ],
      "source": [
        "parser.add_argument('--output', '-o', help='Выходной файл')"
      ]
    },
    {
      "cell_type": "markdown",
      "metadata": {},
      "source": [
        "#### Основные параметры `add_argument()`"
      ]
    },
    {
      "cell_type": "markdown",
      "metadata": {},
      "source": [
        "`action` - действие при встрече аргумента."
      ]
    },
    {
      "cell_type": "code",
      "execution_count": 74,
      "metadata": {},
      "outputs": [
        {
          "data": {
            "text/plain": [
              "_AppendAction(option_strings=['--append'], dest='append', nargs=None, const=None, default=None, type=None, choices=None, required=False, help=None, metavar=None, deprecated=False)"
            ]
          },
          "execution_count": 74,
          "metadata": {},
          "output_type": "execute_result"
        }
      ],
      "source": [
        "parser.add_argument('--verbose', action='store_true')  # Флаг\n",
        "parser.add_argument('--append', action='append')  # Многократное использование"
      ]
    },
    {
      "cell_type": "markdown",
      "metadata": {},
      "source": [
        "`type` - тип данных."
      ]
    },
    {
      "cell_type": "code",
      "execution_count": 75,
      "metadata": {},
      "outputs": [
        {
          "data": {
            "text/plain": [
              "_StoreAction(option_strings=['--price'], dest='price', nargs=None, const=None, default=None, type=<class 'float'>, choices=None, required=False, help=None, metavar=None, deprecated=False)"
            ]
          },
          "execution_count": 75,
          "metadata": {},
          "output_type": "execute_result"
        }
      ],
      "source": [
        "parser.add_argument('--number', type=int)\n",
        "parser.add_argument('--price', type=float)"
      ]
    },
    {
      "cell_type": "markdown",
      "metadata": {},
      "source": [
        "`default` - значение по умолчанию."
      ]
    },
    {
      "cell_type": "code",
      "execution_count": 76,
      "metadata": {},
      "outputs": [
        {
          "data": {
            "text/plain": [
              "_StoreAction(option_strings=['--host'], dest='host', nargs=None, const=None, default='localhost', type=None, choices=None, required=False, help=None, metavar=None, deprecated=False)"
            ]
          },
          "execution_count": 76,
          "metadata": {},
          "output_type": "execute_result"
        }
      ],
      "source": [
        "parser.add_argument('--port', type=int, default=8080)\n",
        "parser.add_argument('--host', default='localhost')"
      ]
    },
    {
      "cell_type": "markdown",
      "metadata": {},
      "source": [
        "`choices` - ограничение значений."
      ]
    },
    {
      "cell_type": "code",
      "execution_count": 77,
      "metadata": {},
      "outputs": [
        {
          "data": {
            "text/plain": [
              "_StoreAction(option_strings=['--size'], dest='size', nargs=None, const=None, default=None, type=<class 'int'>, choices=range(1, 11), required=False, help=None, metavar=None, deprecated=False)"
            ]
          },
          "execution_count": 77,
          "metadata": {},
          "output_type": "execute_result"
        }
      ],
      "source": [
        "parser.add_argument('--color', choices=['red', 'green', 'blue'])\n",
        "parser.add_argument('--size', type=int, choices=range(1, 11))"
      ]
    },
    {
      "cell_type": "markdown",
      "metadata": {},
      "source": [
        "`required` - является ли аргумент обязательным."
      ]
    },
    {
      "cell_type": "code",
      "execution_count": 78,
      "metadata": {},
      "outputs": [
        {
          "data": {
            "text/plain": [
              "_StoreAction(option_strings=['--key', '-k'], dest='key', nargs=None, const=None, default=None, type=None, choices=None, required=True, help=None, metavar=None, deprecated=False)"
            ]
          },
          "execution_count": 78,
          "metadata": {},
          "output_type": "execute_result"
        }
      ],
      "source": [
        "parser.add_argument('--key', '-k', required=True)"
      ]
    },
    {
      "cell_type": "markdown",
      "metadata": {},
      "source": [
        "`nargs` - количество значений."
      ]
    },
    {
      "cell_type": "code",
      "execution_count": 79,
      "metadata": {},
      "outputs": [
        {
          "data": {
            "text/plain": [
              "_StoreAction(option_strings=['--items'], dest='items', nargs='*', const=None, default=None, type=None, choices=None, required=False, help=None, metavar=None, deprecated=False)"
            ]
          },
          "execution_count": 79,
          "metadata": {},
          "output_type": "execute_result"
        }
      ],
      "source": [
        "parser.add_argument('--coord', nargs=2)\n",
        "parser.add_argument('files', nargs='+')  # одно или больше\n",
        "parser.add_argument('--items', nargs='*')  # ноль или больше"
      ]
    },
    {
      "cell_type": "markdown",
      "metadata": {
        "id": "xjONRQLahgfl"
      },
      "source": [
        "### **re** - регулярные выражения"
      ]
    },
    {
      "cell_type": "markdown",
      "metadata": {
        "id": "3UB6E5yuh0F1"
      },
      "source": [
        "Регулярные выражения в Python используются для поиска, обработки и манипуляции строками, соответствующими заданным шаблонам. Шаблоном для регулярных выражений может считаться любая строка - в этом случае будет выполнен обычный поиск по подстроке. Если же мы хотим создать более сложный шаблон, то необходимо использовать спецсимволы."
      ]
    },
    {
      "cell_type": "markdown",
      "metadata": {
        "id": "ETnZ7M0uiSCd"
      },
      "source": [
        "#### Шаблоны, соответствующие одному символу:\n",
        "\n",
        "- `.` - Один любой символ, кроме новой строки `\\n`.\n",
        "\n",
        "- `\\d` - Любая цифра\n",
        "- `\\D` - Любой символ, кроме цифры\n",
        "\n",
        "- `\\s` - Любой пробельный символ (пробел, табуляция, конец строки и т.п.)\n",
        "- `\\S` - Любой непробельный символ\n",
        "\n",
        "- `\\w` - Любая буква (то, что может быть частью слова), а также цифры и `_`\n",
        "- `\\W` - Любая не-буква, не-цифра и не подчёркивание\n",
        "\n",
        "- `[..]` - Один из символов в скобках,\n",
        "а также любой символ из диапазона `a-b`\n",
        "- `[^..]` - Любой символ, кроме перечисленных\n",
        "\n",
        "- `[0-5]` - Диапазон символов\n",
        "\n",
        "- `\\b` - Начало или конец слова\n",
        "- `\\B` - Не граница слова"
      ]
    },
    {
      "cell_type": "markdown",
      "metadata": {
        "id": "TuPquWhak6Rn"
      },
      "source": [
        "#### Квантификаторы (указание количества повторений):\n",
        "\n",
        "- `{n}` - Ровно n повторений\n",
        "- `{m,n}` - От m до n повторений включительно\n",
        "- `{m,}` - Не менее m повторений\n",
        "- `{,n}` - \tНе более n повторений\n",
        "- `?` - Ноль или одно вхождение, синоним {0,1}\n",
        "- `*` - Ноль или более, синоним {0,}\n",
        "- `+` - Одно или более, синоним {1,}\n",
        "- `^` - Начало строки\n",
        "- `$` - Конец строки"
      ]
    },
    {
      "cell_type": "markdown",
      "metadata": {},
      "source": [
        "#### Группировка:\n",
        "- `( )` - захватывающая группировка (capturing groups)\n",
        "- `(?: )` - незахватывающая группировка (non-capturing groups)\n",
        "- `|` - или"
      ]
    },
    {
      "cell_type": "markdown",
      "metadata": {
        "id": "ym7reIu67wSa"
      },
      "source": [
        "#### Функции библиотеки `re`"
      ]
    },
    {
      "cell_type": "markdown",
      "metadata": {},
      "source": [
        "`re.search()` - поиск первого совпадения."
      ]
    },
    {
      "cell_type": "code",
      "execution_count": 80,
      "metadata": {
        "colab": {
          "base_uri": "https://localhost:8080/"
        },
        "id": "NUaj7S5Olef8",
        "outputId": "cd7551c4-abb9-4e8b-cc06-a88a482015ae"
      },
      "outputs": [
        {
          "name": "stdout",
          "output_type": "stream",
          "text": [
            "Найденный результат: 20\n",
            "Позиция: 4-6\n"
          ]
        }
      ],
      "source": [
        "import re\n",
        "\n",
        "pattern = r\"\\d+\"\n",
        "string = \"I'm 20 years old.\"\n",
        "\n",
        "# поиск в строке string первой подстроки, подходящей под шаблон pattern\n",
        "match = re.search(pattern, string)\n",
        "\n",
        "if match:\n",
        "    print(f\"Найденный результат: {match.group()}\")\n",
        "    print(f\"Позиция: {match.start()}-{match.end()}\")"
      ]
    },
    {
      "cell_type": "markdown",
      "metadata": {},
      "source": [
        "`re.match()` - поиск с начала строки."
      ]
    },
    {
      "cell_type": "code",
      "execution_count": 81,
      "metadata": {},
      "outputs": [
        {
          "name": "stdout",
          "output_type": "stream",
          "text": [
            "1 hello\n"
          ]
        }
      ],
      "source": [
        "text = \"hello world\"\n",
        "match = re.match(r'hello', text)\n",
        "if match:\n",
        "    print('1', match.group())\n",
        "match = re.match(r'world', text)\n",
        "if match:\n",
        "    print('2', match.group())"
      ]
    },
    {
      "cell_type": "markdown",
      "metadata": {},
      "source": [
        "`re.fullmatch()` - проверка соответствия шаблону."
      ]
    },
    {
      "cell_type": "code",
      "execution_count": 82,
      "metadata": {
        "colab": {
          "base_uri": "https://localhost:8080/"
        },
        "id": "xiS5p62rnuUx",
        "outputId": "e0780c62-f95e-4f4c-bfdc-2ce9ba0e1c9f"
      },
      "outputs": [
        {
          "name": "stdout",
          "output_type": "stream",
          "text": [
            "Big snake\n",
            "Not found\n"
          ]
        }
      ],
      "source": [
        "pattern = r\"\\w+\\s\\w+\"\n",
        "string = \"Big snake\"\n",
        "\n",
        "# Проверка соответствие строки string шаблону pattern\n",
        "match = re.fullmatch(pattern, string)\n",
        "print(match.group() if match else 'Not found')\n",
        "\n",
        "\n",
        "string = \"Big snake.\"\n",
        "\n",
        "match = re.fullmatch(pattern, string)\n",
        "print(match.group() if match else 'Not found')"
      ]
    },
    {
      "cell_type": "markdown",
      "metadata": {},
      "source": [
        "`re.split()` - разделение по шаблону."
      ]
    },
    {
      "cell_type": "code",
      "execution_count": 83,
      "metadata": {
        "colab": {
          "base_uri": "https://localhost:8080/"
        },
        "id": "34LSco6QphS5",
        "outputId": "0bdd7126-f4ea-480c-c778-9e2c65a76b24"
      },
      "outputs": [
        {
          "data": {
            "text/plain": [
              "['один', 'два', 'три', 'четыре', 'пять', 'шесть']"
            ]
          },
          "execution_count": 83,
          "metadata": {},
          "output_type": "execute_result"
        }
      ],
      "source": [
        "pattern = r\"[;,.!\\s]+\"\n",
        "string = \"один, два, три; четыре. пять!    шесть\"\n",
        "\n",
        "# разделение строки string по шаблону pattern\n",
        "parts = re.split(pattern, string)\n",
        "\n",
        "parts"
      ]
    },
    {
      "cell_type": "markdown",
      "metadata": {},
      "source": [
        "`re.findall()` - поиск всех совпадений."
      ]
    },
    {
      "cell_type": "code",
      "execution_count": 84,
      "metadata": {
        "colab": {
          "base_uri": "https://localhost:8080/"
        },
        "id": "KX0DyQ_1qZ_I",
        "outputId": "7a0822ea-d7c9-47d7-f532-8e7332a512b7"
      },
      "outputs": [
        {
          "data": {
            "text/plain": [
              "['123', '456', '789', '123']"
            ]
          },
          "execution_count": 84,
          "metadata": {},
          "output_type": "execute_result"
        }
      ],
      "source": [
        "pattern = r\"\\d+\"\n",
        "string = \"Список чисел: 123, 456, 789 и 123\"\n",
        "\n",
        "# поиск в строке string всх непересекающихся шаблонов pattern\n",
        "numbers = re.findall(pattern, string)\n",
        "\n",
        "numbers"
      ]
    },
    {
      "cell_type": "markdown",
      "metadata": {},
      "source": [
        "`re.finditer()` - итератор по совпадениям."
      ]
    },
    {
      "cell_type": "code",
      "execution_count": 85,
      "metadata": {
        "colab": {
          "base_uri": "https://localhost:8080/"
        },
        "id": "YHdsdEdOq-wT",
        "outputId": "1cb2f171-f32c-4388-f85e-e5421a758d0e"
      },
      "outputs": [
        {
          "name": "stdout",
          "output_type": "stream",
          "text": [
            "123\n",
            "456\n",
            "789\n",
            "123\n"
          ]
        }
      ],
      "source": [
        "pattern = r\"\\d+\"\n",
        "string = \"Список чисел: 123, 456, 789 и 123\"\n",
        "\n",
        "# итератор по всем непересекающимся шаблонам pattern в строке string\n",
        "for m in re.finditer(pattern, string):\n",
        "    print(m.group())"
      ]
    },
    {
      "cell_type": "markdown",
      "metadata": {},
      "source": [
        "`re.sub()` - замена подстроки."
      ]
    },
    {
      "cell_type": "code",
      "execution_count": 86,
      "metadata": {
        "colab": {
          "base_uri": "https://localhost:8080/"
        },
        "id": "wFbgIE-Ur5E1",
        "outputId": "1e4c0b76-fafa-4721-dd76-b3abfb34cb8e"
      },
      "outputs": [
        {
          "data": {
            "text/plain": [
              "'Это текст с лишними пробелами.'"
            ]
          },
          "execution_count": 86,
          "metadata": {},
          "output_type": "execute_result"
        }
      ],
      "source": [
        "pattern = r\"\\s+\"\n",
        "string = \"Это    текст   с  лишними    пробелами.\"\n",
        "repl = \" \"\n",
        "\n",
        "# замена в строке string всех непересекающихся шаблонов pattern на repl\n",
        "res = re.sub(pattern, repl, string)\n",
        "res"
      ]
    },
    {
      "cell_type": "markdown",
      "metadata": {},
      "source": [
        "`re.compile()` - компиляция регулярного выражения (для повторного использования)."
      ]
    },
    {
      "cell_type": "code",
      "execution_count": 87,
      "metadata": {},
      "outputs": [
        {
          "data": {
            "text/plain": [
              "'123-45-67'"
            ]
          },
          "execution_count": 87,
          "metadata": {},
          "output_type": "execute_result"
        }
      ],
      "source": [
        "pattern = re.compile(r'\\d{3}-\\d{2}-\\d{2}')\n",
        "text = \"Номер: 123-45-67\"\n",
        "match = pattern.search(text)\n",
        "match.group()"
      ]
    },
    {
      "cell_type": "markdown",
      "metadata": {},
      "source": [
        "### Группировка"
      ]
    },
    {
      "cell_type": "markdown",
      "metadata": {},
      "source": [
        "Группировка позволяет объединять части регулярного выражения и работать с ними как с единым целым. Группы обозначаются круглыми скобками `( )`."
      ]
    },
    {
      "cell_type": "markdown",
      "metadata": {},
      "source": [
        "Захватывающие группы - сохраняют найденный текст (в скобках)"
      ]
    },
    {
      "cell_type": "code",
      "execution_count": 88,
      "metadata": {},
      "outputs": [
        {
          "data": {
            "text/plain": [
              "[('First', 'group'), ('second', 'group')]"
            ]
          },
          "execution_count": 88,
          "metadata": {},
          "output_type": "execute_result"
        }
      ],
      "source": [
        "text = \"First group, second group\"\n",
        "pattern = r'(\\w+) (\\w+)'  # две захватывающие группы\n",
        "\n",
        "matches = re.findall(pattern, text)\n",
        "matches"
      ]
    },
    {
      "cell_type": "code",
      "execution_count": 89,
      "metadata": {},
      "outputs": [
        {
          "data": {
            "text/plain": [
              "['24', '25']"
            ]
          },
          "execution_count": 89,
          "metadata": {},
          "output_type": "execute_result"
        }
      ],
      "source": [
        "text = \"\"\"Name: Alan\n",
        "          Age:    24\n",
        "          Name: Maksim\n",
        "          Age:    25\"\"\"\n",
        "pattern = r'Age:\\s*(\\d+)'\n",
        "\n",
        "matches = re.findall(pattern, text)\n",
        "matches"
      ]
    },
    {
      "cell_type": "markdown",
      "metadata": {},
      "source": [
        "Незахватывающие группы - не сохраняют найденный текст. Обозначаются `(?: )`"
      ]
    },
    {
      "cell_type": "code",
      "execution_count": 91,
      "metadata": {},
      "outputs": [
        {
          "data": {
            "text/plain": [
              "['orange', 'banana']"
            ]
          },
          "execution_count": 91,
          "metadata": {},
          "output_type": "execute_result"
        }
      ],
      "source": [
        "text = \"apple orange 123 banana\"\n",
        "pattern = r'(?:\\w+|\\d+) (\\w+)'\n",
        "\n",
        "matches = re.findall(pattern, text)\n",
        "matches"
      ]
    },
    {
      "cell_type": "markdown",
      "metadata": {},
      "source": [
        "Именованные группы - дают группам имена для удобства доступа. Обозначаются `(?P<name>...)`"
      ]
    },
    {
      "cell_type": "code",
      "execution_count": 92,
      "metadata": {},
      "outputs": [
        {
          "name": "stdout",
          "output_type": "stream",
          "text": [
            "2023\n",
            "12\n",
            "25\n"
          ]
        }
      ],
      "source": [
        "text = \"Date: 2023-12-25\"\n",
        "pattern = r'(?P<year>\\d{4})-(?P<month>\\d{2})-(?P<day>\\d{2})'\n",
        "\n",
        "match = re.search(pattern, text)\n",
        "if match:\n",
        "    print(match.group('year'))\n",
        "    print(match.group('month'))\n",
        "    print(match.group('day'))"
      ]
    }
  ],
  "metadata": {
    "colab": {
      "provenance": []
    },
    "kernelspec": {
      "display_name": "Python 3",
      "name": "python3"
    },
    "language_info": {
      "codemirror_mode": {
        "name": "ipython",
        "version": 3
      },
      "file_extension": ".py",
      "mimetype": "text/x-python",
      "name": "python",
      "nbconvert_exporter": "python",
      "pygments_lexer": "ipython3",
      "version": "3.13.5"
    }
  },
  "nbformat": 4,
  "nbformat_minor": 0
}
