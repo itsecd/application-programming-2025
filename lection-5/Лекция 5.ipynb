{
  "cells": [
    {
      "cell_type": "markdown",
      "metadata": {
        "id": "JIl7ARX7a0lI"
      },
      "source": [
        "# Объектно ориентированное программирование"
      ]
    },
    {
      "cell_type": "code",
      "execution_count": null,
      "metadata": {},
      "outputs": [],
      "source": [
        "!python -m venv .venv "
      ]
    },
    {
      "cell_type": "code",
      "execution_count": 1,
      "metadata": {},
      "outputs": [],
      "source": [
        "!.venv\\Scripts\\activate"
      ]
    },
    {
      "cell_type": "code",
      "execution_count": null,
      "metadata": {},
      "outputs": [],
      "source": [
        "!.venv\\Scripts\\deactivate"
      ]
    },
    {
      "cell_type": "markdown",
      "metadata": {
        "id": "mLUFq6EKa9Km"
      },
      "source": [
        "## Создание классов"
      ]
    },
    {
      "cell_type": "markdown",
      "metadata": {},
      "source": [
        "Базовое создание класса:"
      ]
    },
    {
      "cell_type": "code",
      "execution_count": 2,
      "metadata": {},
      "outputs": [],
      "source": [
        "class MyClass:\n",
        "    pass  # пропуск тела класса"
      ]
    },
    {
      "cell_type": "markdown",
      "metadata": {},
      "source": [
        "Создание объекта:"
      ]
    },
    {
      "cell_type": "code",
      "execution_count": 3,
      "metadata": {},
      "outputs": [
        {
          "data": {
            "text/plain": [
              "<__main__.MyClass at 0x1152682c6e0>"
            ]
          },
          "execution_count": 3,
          "metadata": {},
          "output_type": "execute_result"
        }
      ],
      "source": [
        "obj = MyClass()\n",
        "obj"
      ]
    },
    {
      "cell_type": "markdown",
      "metadata": {},
      "source": [
        "Описание класса:"
      ]
    },
    {
      "cell_type": "code",
      "execution_count": 4,
      "metadata": {},
      "outputs": [],
      "source": [
        "class MyClass:\n",
        "    \"\"\"Docstring класса - описание его назначения\"\"\"\n",
        "    pass"
      ]
    },
    {
      "cell_type": "markdown",
      "metadata": {},
      "source": [
        "**Конструктор класса** - метод `__init__(self)`"
      ]
    },
    {
      "cell_type": "code",
      "execution_count": null,
      "metadata": {},
      "outputs": [],
      "source": [
        "class MyClass:\n",
        "    def __init__(self):\n",
        "        pass"
      ]
    },
    {
      "cell_type": "markdown",
      "metadata": {},
      "source": [
        "`self` - первый обязательный аргумент всех методов класса, указывающий на текущий объект."
      ]
    },
    {
      "cell_type": "markdown",
      "metadata": {},
      "source": [
        "**Атрибуты экземпляра класса (поля)** добавляются в конструкторе или методах (не рекомендуется, за исключением сеттеров) через `self`. Атрибуты экземпляра класса уникальны для каждого объекта."
      ]
    },
    {
      "cell_type": "code",
      "execution_count": 5,
      "metadata": {},
      "outputs": [
        {
          "data": {
            "text/plain": [
              "('Ivan', 18)"
            ]
          },
          "execution_count": 5,
          "metadata": {},
          "output_type": "execute_result"
        }
      ],
      "source": [
        "class Person:\n",
        "    def __init__(self, name: str, age: int):\n",
        "        # атрибуты экземпляра класса\n",
        "        self.name = name\n",
        "        self.age = age\n",
        "\n",
        "p = Person(\"Ivan\", 18)\n",
        "p.name, p.age"
      ]
    },
    {
      "cell_type": "markdown",
      "metadata": {},
      "source": [
        "**Атрибуты класса** создаются в теле класса и являются общими для всех экземпляров. Доступ к ним можно получить как из экземпляра, так и из самого класса."
      ]
    },
    {
      "cell_type": "code",
      "execution_count": 6,
      "metadata": {},
      "outputs": [
        {
          "data": {
            "text/plain": [
              "('Person', 'Person')"
            ]
          },
          "execution_count": 6,
          "metadata": {},
          "output_type": "execute_result"
        }
      ],
      "source": [
        "class Person:\n",
        "    # атрибут класса\n",
        "    class_name = \"Person\"\n",
        "\n",
        "    def __init__(self, name: str, age: int):\n",
        "        self.name = name\n",
        "        self.age = age\n",
        "\n",
        "p = Person(\"Ivan\", 18)\n",
        "p.class_name, Person.class_name"
      ]
    },
    {
      "cell_type": "markdown",
      "metadata": {},
      "source": [
        "**Методы экземпляра класса** также имеют первый аргумент `self`"
      ]
    },
    {
      "cell_type": "code",
      "execution_count": 7,
      "metadata": {},
      "outputs": [
        {
          "data": {
            "text/plain": [
              "'Name: Ivan, age: 18'"
            ]
          },
          "execution_count": 7,
          "metadata": {},
          "output_type": "execute_result"
        }
      ],
      "source": [
        "class Person:\n",
        "    class_name = \"Person\"\n",
        "\n",
        "    def __init__(self, name: str, age: int):\n",
        "        self.name = name\n",
        "        self.age = age\n",
        "\n",
        "    # метод экземпляра класса\n",
        "    def to_string(self) -> str:\n",
        "        return f\"Name: {self.name}, age: {self.age}\"\n",
        "    \n",
        "p = Person(\"Ivan\", 18)\n",
        "p.to_string()"
      ]
    },
    {
      "cell_type": "markdown",
      "metadata": {},
      "source": [
        "Доступ к методам и атрибутам внутри класса также осуществляется через `self`:"
      ]
    },
    {
      "cell_type": "code",
      "execution_count": 8,
      "metadata": {},
      "outputs": [
        {
          "name": "stdout",
          "output_type": "stream",
          "text": [
            "Name: Ivan, age: 18\n"
          ]
        }
      ],
      "source": [
        "class Person:\n",
        "    class_name = \"Person\"\n",
        "\n",
        "    def __init__(self, name: str, age: int):\n",
        "        self.name = name\n",
        "        self.age = age\n",
        "\n",
        "    def to_string(self) -> str:\n",
        "        return f\"Name: {self.name}, age: {self.age}\"\n",
        "    \n",
        "    def print_person(self) -> None:\n",
        "        print(self.to_string())\n",
        "    \n",
        "p = Person(\"Ivan\", 18)\n",
        "p.print_person()"
      ]
    },
    {
      "cell_type": "markdown",
      "metadata": {},
      "source": [
        "В **статических методах** первый аргумент `self` отсутствует. Для статических методов используется декоратор `@staticmethod`:"
      ]
    },
    {
      "cell_type": "code",
      "execution_count": null,
      "metadata": {},
      "outputs": [
        {
          "name": "stdout",
          "output_type": "stream",
          "text": [
            "Person\n"
          ]
        }
      ],
      "source": [
        "class Person:\n",
        "    class_name = \"Person\"\n",
        "\n",
        "    def __init__(self, name: str, age: int):\n",
        "        self.name = name\n",
        "        self.age = age\n",
        "\n",
        "    def to_string(self) -> str:\n",
        "        return f\"Name: {self.name}, age: {self.age}\"\n",
        "    \n",
        "    def print_person(self) -> None:\n",
        "        print(self.to_string())\n",
        "\n",
        "    # статический метод\n",
        "    @staticmethod\n",
        "    def print_class_name() -> None:\n",
        "        print(Person.class_name)\n",
        "    \n",
        "Person.print_class_name()"
      ]
    },
    {
      "cell_type": "markdown",
      "metadata": {},
      "source": [
        "## Инкапсуляция"
      ]
    },
    {
      "cell_type": "markdown",
      "metadata": {},
      "source": [
        "**Инкапсуляция** — это принцип ООП, который означает скрытие внутренней реализации и предоставление контролируемого доступа к данным класса.\n",
        "\n",
        "В языке python нет строгой инкапсуляции как, например, в C++, для разделения приватных, защищённых и публичных методов и атрибутов используются разные форматы названий:\n",
        "\n",
        "- `method()` - публичный метод (доступ вне класса)\n",
        "- `_method()` - защищённый метод (доступ внутри класса в классах наследниках)\n",
        "- `__method()` - приватный метод (доступ только внутри класса)"
      ]
    },
    {
      "cell_type": "code",
      "execution_count": 10,
      "metadata": {},
      "outputs": [
        {
          "name": "stdout",
          "output_type": "stream",
          "text": [
            "1\n",
            "'Point' object has no attribute '__y'\n",
            "2\n"
          ]
        }
      ],
      "source": [
        "class Point:\n",
        "    def __init__(self, x: float, y: float):\n",
        "        # защищённый атрибут\n",
        "        self._x = x\n",
        "        # приватный атрибут\n",
        "        self.__y = y\n",
        "\n",
        "point = Point(1, 2)\n",
        "try:\n",
        "    # при этом, к защищенному члену класса всё ещё можно обратиться\n",
        "    print(point._x)\n",
        "    # а к приватному нет\n",
        "    print(point.__y)\n",
        "except Exception as exc:\n",
        "    print(exc)\n",
        "\n",
        "# однако, если добавить _названиекласса перед приватным членом класса,\n",
        "# то к нему тоже можно обратиться (нежелательно)\n",
        "print(point._Point__y)"
      ]
    },
    {
      "cell_type": "markdown",
      "metadata": {},
      "source": [
        "**Свойства** класса позволяют безопасно работать с атрибутами через геттеры и сеттеры, при этом, внешне использование не отличается от работы с атрибутами напрямую. Для геттеров используется декоратор `@property`, а для сеттеров `название_свойства.setter`."
      ]
    },
    {
      "cell_type": "code",
      "execution_count": 12,
      "metadata": {},
      "outputs": [
        {
          "name": "stdout",
          "output_type": "stream",
          "text": [
            "Name: Kirill, age: 18\n"
          ]
        }
      ],
      "source": [
        "class Person:\n",
        "    def __init__(self, name: str, age: int):\n",
        "        self.name = name\n",
        "        self.age = age\n",
        "\n",
        "    # геттер\n",
        "    @property\n",
        "    def name(self) -> str:\n",
        "        return self.__name\n",
        "    \n",
        "    @name.setter\n",
        "    def name(self, new_name: str):\n",
        "        if new_name:\n",
        "            self.__name = new_name\n",
        "\n",
        "    # сеттер\n",
        "    @property\n",
        "    def age(self) -> int:\n",
        "        return self.__age\n",
        "    \n",
        "    @age.setter\n",
        "    def age(self, new_age: int):\n",
        "        if new_age > 0:\n",
        "            self.__age = new_age\n",
        "\n",
        "    def to_string(self) -> str:\n",
        "        return f\"Name: {self.name}, age: {self.age}\"\n",
        "    \n",
        "    def print_person(self) -> None:\n",
        "        print(self.to_string())\n",
        "\n",
        "\n",
        "p = Person(\"Ivan\", 18)\n",
        "# использование свойств\n",
        "p.name = \"Kirill\"\n",
        "p.age = -20\n",
        "p.print_person()"
      ]
    },
    {
      "cell_type": "markdown",
      "metadata": {
        "id": "vMZDRg1rWNV7"
      },
      "source": [
        "## Наследование"
      ]
    },
    {
      "cell_type": "markdown",
      "metadata": {},
      "source": [
        "**Наследование** — это принцип ООП, который позволяет создавать новый класс на основе существующего, повторно используя и расширяя его функциональность."
      ]
    },
    {
      "cell_type": "markdown",
      "metadata": {},
      "source": [
        "Базовый синтаксис:"
      ]
    },
    {
      "cell_type": "code",
      "execution_count": 13,
      "metadata": {},
      "outputs": [
        {
          "data": {
            "text/plain": [
              "True"
            ]
          },
          "execution_count": 13,
          "metadata": {},
          "output_type": "execute_result"
        }
      ],
      "source": [
        "# родительский класса\n",
        "class Person:\n",
        "    pass\n",
        "\n",
        "# класс-наследник\n",
        "class Employee(Person):\n",
        "    pass\n",
        "\n",
        "p = Employee()\n",
        "isinstance(p, Person)"
      ]
    },
    {
      "cell_type": "markdown",
      "metadata": {},
      "source": [
        "Для вызова методов родительского класса используется функция `super()`:"
      ]
    },
    {
      "cell_type": "code",
      "execution_count": 14,
      "metadata": {},
      "outputs": [],
      "source": [
        "class Person:\n",
        "    def __init__(self, name: str):\n",
        "        self.name = name\n",
        "\n",
        "\n",
        "class Employee(Person):\n",
        "    def __init__(self, name: str, position: str):\n",
        "        # вызываем конструктор родительского класса\n",
        "        super().__init__(name)\n",
        "        self.position = position"
      ]
    },
    {
      "cell_type": "markdown",
      "metadata": {},
      "source": [
        "Переопределение методов:"
      ]
    },
    {
      "cell_type": "code",
      "execution_count": 15,
      "metadata": {
        "colab": {
          "base_uri": "https://localhost:8080/"
        },
        "id": "3Ls1Qa8gWPGu",
        "outputId": "40578b38-c7a6-4de7-c586-47469d30cb0e"
      },
      "outputs": [
        {
          "name": "stdout",
          "output_type": "stream",
          "text": [
            "Name: Oleg\n",
            "Name: Ivan\n",
            "Position: Programmer\n"
          ]
        }
      ],
      "source": [
        "class Person:\n",
        "    def __init__(self, name: str):\n",
        "        self.name = name\n",
        "\n",
        "    @property\n",
        "    def name(self) -> str:\n",
        "        return self.__name\n",
        "\n",
        "    @name.setter\n",
        "    def name(self, name: str):\n",
        "        self.__name = name\n",
        "\n",
        "    def print(self):\n",
        "        print(f\"Name: {self.name}\")\n",
        "\n",
        "\n",
        "class Employee(Person):\n",
        "    def __init__(self, name: str, position: str):\n",
        "        super().__init__(name)\n",
        "        self.position = position\n",
        "\n",
        "    # добавление нового атрибута\n",
        "    @property\n",
        "    def position(self) -> str:\n",
        "        return self.__position\n",
        "\n",
        "    @position.setter\n",
        "    def position(self, position: str):\n",
        "        self.__position = position\n",
        "\n",
        "    # переопределение метода родительского класса\n",
        "    def print(self):\n",
        "        super().print()\n",
        "        print(f\"Position: {self.position}\")\n",
        "\n",
        "\n",
        "p = Person(\"Oleg\")\n",
        "p.print()\n",
        "e = Employee(\"Ivan\", \"Programmer\")\n",
        "e.print()"
      ]
    },
    {
      "cell_type": "markdown",
      "metadata": {},
      "source": [
        "Множественное наследование:"
      ]
    },
    {
      "cell_type": "code",
      "execution_count": 16,
      "metadata": {},
      "outputs": [
        {
          "name": "stdout",
          "output_type": "stream",
          "text": [
            "Class1\n",
            "Class3\n"
          ]
        }
      ],
      "source": [
        "class Class1:\n",
        "    def print(self):\n",
        "        print(\"Class1\")\n",
        "\n",
        "class Class2:\n",
        "    def print(self):\n",
        "        print(\"Class2\")\n",
        "\n",
        "# родительские классы записываются в скобках через запятую\n",
        "class Class3(Class1, Class2):\n",
        "    def print(self):\n",
        "        super().print()\n",
        "        print(\"Class3\")\n",
        "\n",
        "c = Class3()\n",
        "c.print()"
      ]
    },
    {
      "cell_type": "markdown",
      "metadata": {},
      "source": [
        "Несмотря на то, что в python допустимо множественное наследование, рекомендуется использовать его только для **классов-интерфейсов**!"
      ]
    },
    {
      "cell_type": "markdown",
      "metadata": {},
      "source": [
        "## Абстрактные классы и интерфейсы"
      ]
    },
    {
      "cell_type": "markdown",
      "metadata": {},
      "source": [
        "Неявный абстрактный класс:"
      ]
    },
    {
      "cell_type": "code",
      "execution_count": 17,
      "metadata": {},
      "outputs": [],
      "source": [
        "class Shape:\n",
        "    def area(self):\n",
        "        # пропуск реализации метода\n",
        "        pass\n",
        "\n",
        "# возможно создать экземпляр класса\n",
        "sh = Shape()\n",
        "# и даже вызвать метод\n",
        "sh.area()"
      ]
    },
    {
      "cell_type": "markdown",
      "metadata": {},
      "source": [
        "Явные абстрактные классы и интерфейсы создаются с помощью модуля `abc`"
      ]
    },
    {
      "cell_type": "code",
      "execution_count": 18,
      "metadata": {},
      "outputs": [
        {
          "name": "stdout",
          "output_type": "stream",
          "text": [
            "Can't instantiate abstract class Shape without an implementation for abstract method 'area'\n"
          ]
        }
      ],
      "source": [
        "import abc\n",
        "\n",
        "# наследование от класса ABC из модуля abc\n",
        "class Shape(abc.ABC):\n",
        "    # добавление аннотации, что этот метод абстрактный\n",
        "    @abc.abstractmethod\n",
        "    def area(self):\n",
        "        pass\n",
        "\n",
        "try:\n",
        "    # экземпляр абстрактного класса создать невозможно\n",
        "    sh = Shape()\n",
        "    sh.area()\n",
        "except Exception as exc:\n",
        "    print(exc)"
      ]
    },
    {
      "cell_type": "markdown",
      "metadata": {},
      "source": [
        "В абстрактный класс можно добавить метод с реализацией, однако, создать экземпляр класса всё ещё невозможно:"
      ]
    },
    {
      "cell_type": "code",
      "execution_count": 19,
      "metadata": {},
      "outputs": [
        {
          "name": "stdout",
          "output_type": "stream",
          "text": [
            "Can't instantiate abstract class Shape without an implementation for abstract method 'area'\n"
          ]
        }
      ],
      "source": [
        "import abc\n",
        "\n",
        "class Shape(abc.ABC):\n",
        "    @abc.abstractmethod\n",
        "    def area(self):\n",
        "        pass\n",
        "\n",
        "    def not_abs_method(self):\n",
        "        print(\"not abstract method\")\n",
        "\n",
        "try:\n",
        "    sh = Shape()\n",
        "    sh.not_abs_method()\n",
        "except Exception as exc:\n",
        "    print(exc)"
      ]
    },
    {
      "cell_type": "markdown",
      "metadata": {},
      "source": [
        "Наследование от абстрактного класса:"
      ]
    },
    {
      "cell_type": "code",
      "execution_count": 20,
      "metadata": {},
      "outputs": [
        {
          "name": "stdout",
          "output_type": "stream",
          "text": [
            "25\n",
            "not abstract method\n"
          ]
        }
      ],
      "source": [
        "class Square(Shape):\n",
        "    def __init__(self, length: float):\n",
        "        self.length = length\n",
        "\n",
        "    # перегрузка метода\n",
        "    def area(self):\n",
        "        return self.length ** 2\n",
        "    \n",
        "sc = Square(5)\n",
        "print(sc.area())\n",
        "# вызов метода абстрактного класса\n",
        "sc.not_abs_method()"
      ]
    },
    {
      "cell_type": "markdown",
      "metadata": {
        "id": "HCGPuUoaqd24"
      },
      "source": [
        "## Полиморфизм"
      ]
    },
    {
      "cell_type": "markdown",
      "metadata": {},
      "source": [
        "**Полиморфизм** — это возможность одного интерфейса работать с разными типами данных. В Python полиморфизм реализуется через единый интерфейс для различных объектов."
      ]
    },
    {
      "cell_type": "code",
      "execution_count": 21,
      "metadata": {
        "colab": {
          "base_uri": "https://localhost:8080/"
        },
        "id": "z6to0TmJqhTR",
        "outputId": "15f83ef9-c42f-496a-95b9-a718ff468740"
      },
      "outputs": [
        {
          "name": "stdout",
          "output_type": "stream",
          "text": [
            "Name: Oleg\n",
            "\n",
            "Name: Ivan\n",
            "Position: Programmer\n",
            "\n",
            "Name: Irina\n",
            "\n",
            "Name: Alan\n",
            "Position: Teacher\n",
            "\n"
          ]
        }
      ],
      "source": [
        "persons = [Person(\"Oleg\"),\n",
        "           Employee(\"Ivan\", \"Programmer\"),\n",
        "           Person(\"Irina\"),\n",
        "           Employee(\"Alan\", \"Teacher\")]\n",
        "\n",
        "for person in persons:\n",
        "    person.print()\n",
        "    print()"
      ]
    },
    {
      "cell_type": "markdown",
      "metadata": {},
      "source": [
        "Поскольку Python - язык с динамической типизацией, то принцип полиморфизма в нём реализуется очень легко, однако, без дополнительных проверок можно совершить ошибку:"
      ]
    },
    {
      "cell_type": "code",
      "execution_count": 22,
      "metadata": {},
      "outputs": [
        {
          "name": "stdout",
          "output_type": "stream",
          "text": [
            "Name: Oleg\n",
            "\n",
            "Name: Ivan\n",
            "Position: Programmer\n",
            "\n"
          ]
        },
        {
          "ename": "AttributeError",
          "evalue": "'str' object has no attribute 'print'",
          "output_type": "error",
          "traceback": [
            "\u001b[31m---------------------------------------------------------------------------\u001b[39m",
            "\u001b[31mAttributeError\u001b[39m                            Traceback (most recent call last)",
            "\u001b[36mCell\u001b[39m\u001b[36m \u001b[39m\u001b[32mIn[22]\u001b[39m\u001b[32m, line 6\u001b[39m\n\u001b[32m      1\u001b[39m persons = [Person(\u001b[33m\"\u001b[39m\u001b[33mOleg\u001b[39m\u001b[33m\"\u001b[39m),\n\u001b[32m      2\u001b[39m            Employee(\u001b[33m\"\u001b[39m\u001b[33mIvan\u001b[39m\u001b[33m\"\u001b[39m, \u001b[33m\"\u001b[39m\u001b[33mProgrammer\u001b[39m\u001b[33m\"\u001b[39m),\n\u001b[32m      3\u001b[39m            \u001b[33m\"\u001b[39m\u001b[33mIrina\u001b[39m\u001b[33m\"\u001b[39m]\n\u001b[32m      5\u001b[39m \u001b[38;5;28;01mfor\u001b[39;00m person \u001b[38;5;129;01min\u001b[39;00m persons:\n\u001b[32m----> \u001b[39m\u001b[32m6\u001b[39m     \u001b[43mperson\u001b[49m\u001b[43m.\u001b[49m\u001b[43mprint\u001b[49m()\n\u001b[32m      7\u001b[39m     \u001b[38;5;28mprint\u001b[39m()\n",
            "\u001b[31mAttributeError\u001b[39m: 'str' object has no attribute 'print'"
          ]
        }
      ],
      "source": [
        "persons = [Person(\"Oleg\"),\n",
        "           Employee(\"Ivan\", \"Programmer\"),\n",
        "           \"Irina\"]\n",
        "\n",
        "for person in persons:\n",
        "    person.print()\n",
        "    print()"
      ]
    },
    {
      "cell_type": "markdown",
      "metadata": {},
      "source": [
        "Несколько способов избежать ошибок с вызываемыми методами:"
      ]
    },
    {
      "cell_type": "markdown",
      "metadata": {},
      "source": [
        "1. Указание типов данных (даёт подсказку, но не запрещает передавать другие значения):"
      ]
    },
    {
      "cell_type": "code",
      "execution_count": 23,
      "metadata": {},
      "outputs": [
        {
          "name": "stdout",
          "output_type": "stream",
          "text": [
            "Name: Oleg\n",
            "\n",
            "Name: Ivan\n",
            "Position: Programmer\n",
            "\n",
            "'str' object has no attribute 'print'\n"
          ]
        }
      ],
      "source": [
        "# в ipynb подсказку увидеть нельзя\n",
        "def print_persons(persons: list[Person]):\n",
        "    for person in persons:\n",
        "        person.print()\n",
        "        print()\n",
        "\n",
        "persons1 = [Person(\"Oleg\"),\n",
        "           Employee(\"Ivan\", \"Programmer\")]\n",
        "\n",
        "print_persons(persons1)\n",
        "\n",
        "persons2 = ['AAA', 'BBB']\n",
        "\n",
        "try:\n",
        "    print_persons(persons2)\n",
        "except Exception as exc:\n",
        "    print(exc)"
      ]
    },
    {
      "cell_type": "markdown",
      "metadata": {},
      "source": [
        "2. Проверка типа данных через `isinstance` (обычно достаточно, если мы работаем с конкретным типом данных):"
      ]
    },
    {
      "cell_type": "code",
      "execution_count": 24,
      "metadata": {},
      "outputs": [
        {
          "name": "stdout",
          "output_type": "stream",
          "text": [
            "Name: Oleg\n",
            "\n",
            "Name: Ivan\n",
            "Position: Programmer\n",
            "\n",
            "Not a Person\n"
          ]
        }
      ],
      "source": [
        "def print_persons(persons: list[Person]):\n",
        "    for person in persons:\n",
        "        if isinstance(person, Person):\n",
        "            person.print()\n",
        "            print()\n",
        "        else:\n",
        "            raise TypeError(\"Not a Person\")\n",
        "\n",
        "persons1 = [Person(\"Oleg\"),\n",
        "           Employee(\"Ivan\", \"Programmer\")]\n",
        "\n",
        "print_persons(persons1)\n",
        "\n",
        "persons2 = ['AAA', 'BBB']\n",
        "\n",
        "try:\n",
        "    print_persons(persons2)\n",
        "except Exception as exc:\n",
        "    print(exc)"
      ]
    },
    {
      "cell_type": "markdown",
      "metadata": {},
      "source": [
        "3. Проверка на существование метода и возможность его вызова через `hasattr()` и `callable()` (как правило, избыточна):"
      ]
    },
    {
      "cell_type": "code",
      "execution_count": 25,
      "metadata": {},
      "outputs": [
        {
          "name": "stdout",
          "output_type": "stream",
          "text": [
            "Name: Oleg\n",
            "\n",
            "Name: Ivan\n",
            "Position: Programmer\n",
            "\n",
            "Object doesn't have a 'print' method\n"
          ]
        }
      ],
      "source": [
        "def print_persons(persons: list[Person]):\n",
        "    for person in persons:\n",
        "        if hasattr(person, 'print') and callable(getattr(person, 'print')):\n",
        "            person.print()\n",
        "            print()\n",
        "        else:\n",
        "            raise TypeError(\"Object doesn't have a 'print' method\")\n",
        "\n",
        "persons1 = [Person(\"Oleg\"),\n",
        "           Employee(\"Ivan\", \"Programmer\")]\n",
        "\n",
        "print_persons(persons1)\n",
        "\n",
        "persons2 = ['AAA', 'BBB']\n",
        "\n",
        "try:\n",
        "    print_persons(persons2)\n",
        "except Exception as exc:\n",
        "    print(exc)"
      ]
    },
    {
      "cell_type": "markdown",
      "metadata": {},
      "source": [
        "## Специальные методы (magic methods)"
      ]
    },
    {
      "cell_type": "markdown",
      "metadata": {},
      "source": [
        "**Специальные методы** (также называемые \"магическими\" или \"dunder\" (double underscore) методами) — это методы с двойными подчеркиваниями в начале и конце, которые позволяют классам определять поведение для встроенных операций и функций.\n",
        "\n",
        "Встроенные классы реализуют часть этих методов, например, классы `str` и `list` реализуют метод `__len__()`, благодаря чему оба могут использовать встроенную функцию `len()`:"
      ]
    },
    {
      "cell_type": "code",
      "execution_count": 26,
      "metadata": {},
      "outputs": [
        {
          "data": {
            "text/plain": [
              "(3, 4)"
            ]
          },
          "execution_count": 26,
          "metadata": {},
          "output_type": "execute_result"
        }
      ],
      "source": [
        "s = 'abc'\n",
        "l = [1, 2, 3, 4]\n",
        "len(s), len(l)"
      ]
    },
    {
      "cell_type": "markdown",
      "metadata": {},
      "source": [
        "### Основные методы инициализации и представления"
      ]
    },
    {
      "cell_type": "markdown",
      "metadata": {},
      "source": [
        "`__new__` - статический метод, который создает и возвращает новый экземпляр класса.\n",
        "\n",
        " Особенности:\n",
        "- Статический метод (но не нужно объявлять `@staticmethod`)\n",
        "- Первый параметр - `cls` (класс, а не экземпляр)\n",
        "- Должен возвращать экземпляр класса\n",
        "- Вызывается перед `__init__`\n",
        "- Может возвращать объект другого типа\n",
        "\n",
        "\n",
        "`__init__` - инициализатор объекта. Вызывается при создании нового экземпляра класса. Он инициализирует состояние объекта.\n",
        "\n",
        "Особенности:\n",
        "- Не создает объект, только инициализирует\n",
        "- Первый параметр - `self` (экземпляр)\n",
        "- Не должен возвращать значение\n",
        "- Вызывается после `__new__`\n",
        "\n",
        "\n",
        "`__del__` - деструктор объекта. Вызывается при уничтожении объекта (когда объект выходит из области видимости, при явном удалении через `del` и при сборке мусора).\n",
        "\n",
        "Особенности:\n",
        "- Ненадежный - время вызова не гарантировано\n",
        "- Не рекомендуется для критически важных операций\n",
        "- Может быть вызван в непредсказуемый момент\n",
        "\n",
        "Как правило, в классах реализуется только метод `__init__`."
      ]
    },
    {
      "cell_type": "code",
      "execution_count": 27,
      "metadata": {},
      "outputs": [
        {
          "name": "stdout",
          "output_type": "stream",
          "text": [
            "__new__ вызван для <class '__main__.Person'>\n",
            "__init__ вызван для <__main__.Person object at 0x000001152682EBA0>\n",
            "__del__ вызван для <__main__.Person object at 0x000001152682EBA0>\n"
          ]
        }
      ],
      "source": [
        "class Person:\n",
        "    def __new__(cls, name, age):\n",
        "        \"\"\"Создает новый экземпляр. Вызывается ДО __init__\"\"\"\n",
        "        print(f\"__new__ вызван для {cls}\")\n",
        "        instance = super().__new__(cls)\n",
        "        return instance\n",
        "    \n",
        "    def __init__(self, name, age):\n",
        "        \"\"\"Инициализирует экземпляр. Вызывается ПОСЛЕ __new__\"\"\"\n",
        "        print(f\"__init__ вызван для {self}\")\n",
        "        self.name = name\n",
        "        self.age = age\n",
        "    \n",
        "    def __del__(self):\n",
        "        \"\"\"Вызывается при удалении объекта\"\"\"\n",
        "        print(f\"__del__ вызван для {self}\")\n",
        "\n",
        "\n",
        "person = Person(\"Иван\", 25)\n",
        "del person"
      ]
    },
    {
      "cell_type": "markdown",
      "metadata": {},
      "source": [
        "`__str__` - возвращает \"красивое\", читаемое строковое представление объекта для конечных пользователей.\n",
        "\n",
        "\n",
        "`__repr__` - возвращает однозначное строковое представление объекта для разработчиков. Идеально, если по нему можно воссоздать объект."
      ]
    },
    {
      "cell_type": "code",
      "execution_count": 28,
      "metadata": {},
      "outputs": [
        {
          "name": "stdout",
          "output_type": "stream",
          "text": [
            "Человек: Анна, 25 лет\n",
            "Person('Анна', 25)\n",
            "Человек: Анна, 25 лет\n"
          ]
        }
      ],
      "source": [
        "class Person:\n",
        "    def __init__(self, name, age):\n",
        "        self.name = name\n",
        "        self.age = age\n",
        "    \n",
        "    def __str__(self):\n",
        "        return f\"Человек: {self.name}, {self.age} лет\"\n",
        "    \n",
        "    def __repr__(self):\n",
        "        return f\"Person('{self.name}', {self.age})\"\n",
        "\n",
        "# Использование\n",
        "person = Person(\"Анна\", 25)\n",
        "\n",
        "print(str(person))\n",
        "print(repr(person))\n",
        "print(person)"
      ]
    },
    {
      "cell_type": "markdown",
      "metadata": {},
      "source": [
        "### Методы сравнения (операторы)"
      ]
    },
    {
      "cell_type": "code",
      "execution_count": 29,
      "metadata": {},
      "outputs": [
        {
          "name": "stdout",
          "output_type": "stream",
          "text": [
            "Петр: 78\n",
            "Анна: 85\n",
            "Мария: 85\n",
            "Иван: 92\n",
            "Анна == Мария: True\n",
            "Иван > Петр: True\n",
            "Петр <= Анна: True\n"
          ]
        }
      ],
      "source": [
        "class Student:\n",
        "    def __init__(self, name, grade):\n",
        "        self.name = name\n",
        "        self.grade = grade\n",
        "    \n",
        "    def __eq__(self, other):\n",
        "        \"\"\" == \"\"\"\n",
        "        return self.grade == other.grade\n",
        "    \n",
        "    def __ne__(self, other):\n",
        "        \"\"\" != \"\"\"\n",
        "        return not self.__eq__(other)\n",
        "    \n",
        "    def __lt__(self, other):\n",
        "        \"\"\" < \"\"\"\n",
        "        return self.grade < other.grade\n",
        "    \n",
        "    def __le__(self, other):\n",
        "        \"\"\" <= \"\"\"\n",
        "        return self.grade <= other.grade\n",
        "    \n",
        "    def __gt__(self, other):\n",
        "        \"\"\" > \"\"\"\n",
        "        return self.grade > other.grade\n",
        "    \n",
        "    def __ge__(self, other):\n",
        "        \"\"\" >= \"\"\"\n",
        "        return self.grade >= other.grade\n",
        "    \n",
        "    def __str__(self):\n",
        "        return f\"{self.name}: {self.grade}\"\n",
        "\n",
        "students = [\n",
        "    Student(\"Анна\", 85),\n",
        "    Student(\"Иван\", 92),\n",
        "    Student(\"Мария\", 85),\n",
        "    Student(\"Петр\", 78)\n",
        "]\n",
        "\n",
        "# Сортировка использует __lt__\n",
        "sorted_students = sorted(students)\n",
        "for student in sorted_students:\n",
        "    print(student)\n",
        "\n",
        "print(f\"Анна == Мария: {students[0] == students[2]}\")\n",
        "print(f\"Иван > Петр: {students[1] > students[3]}\")\n",
        "print(f\"Петр <= Анна: {students[3] <= students[0]}\")"
      ]
    },
    {
      "cell_type": "markdown",
      "metadata": {},
      "source": [
        "### Арифметические операции"
      ]
    },
    {
      "cell_type": "markdown",
      "metadata": {},
      "source": [
        "#### Базовые арифметические методы"
      ]
    },
    {
      "cell_type": "code",
      "execution_count": 30,
      "metadata": {},
      "outputs": [
        {
          "name": "stdout",
          "output_type": "stream",
          "text": [
            "Vector(3, 4)\n",
            "Vector(1, 2)\n",
            "Vector(6, 9)\n",
            "5\n",
            "Vector(1.0, 1.5)\n",
            "Vector(4, 9)\n"
          ]
        }
      ],
      "source": [
        "class Vector:\n",
        "    def __init__(self, x, y):\n",
        "        self.x = x\n",
        "        self.y = y\n",
        "    \n",
        "    def __add__(self, other):\n",
        "        \"\"\" + \"\"\"\n",
        "        return Vector(self.x + other.x, self.y + other.y)\n",
        "    \n",
        "    def __sub__(self, other):\n",
        "        \"\"\" - \"\"\"\n",
        "        return Vector(self.x - other.x, self.y - other.y)\n",
        "    \n",
        "    def __mul__(self, other):\n",
        "        \"\"\" * \"\"\"\n",
        "        if isinstance(other, (int, float)):\n",
        "            # Умножение на скаляр\n",
        "            return Vector(self.x * other, self.y * other)\n",
        "        else:\n",
        "            # Скалярное произведение\n",
        "            return self.x * other.x + self.y * other.y\n",
        "    \n",
        "    def __truediv__(self, scalar):\n",
        "        \"\"\" / \"\"\"\n",
        "        return Vector(self.x / scalar, self.y / scalar)\n",
        "    \n",
        "    def __floordiv__(self, scalar):\n",
        "        \"\"\" // \"\"\"\n",
        "        return Vector(self.x // scalar, self.y // scalar)\n",
        "    \n",
        "    def __mod__(self, scalar):\n",
        "        \"\"\" % \"\"\"\n",
        "        return Vector(self.x % scalar, self.y % scalar)\n",
        "    \n",
        "    def __pow__(self, exponent):\n",
        "        \"\"\" ** \"\"\"\n",
        "        return Vector(self.x ** exponent, self.y ** exponent)\n",
        "    \n",
        "    def __str__(self):\n",
        "        return f\"Vector({self.x}, {self.y})\"\n",
        "\n",
        "v1 = Vector(2, 3)\n",
        "v2 = Vector(1, 1)\n",
        "\n",
        "print(v1 + v2)\n",
        "print(v1 - v2)\n",
        "print(v1 * 3)\n",
        "print(v1 * v2)\n",
        "print(v1 / 2)\n",
        "print(v1 ** 2)"
      ]
    },
    {
      "cell_type": "markdown",
      "metadata": {},
      "source": [
        "#### Операторы с присваиванием"
      ]
    },
    {
      "cell_type": "code",
      "execution_count": 31,
      "metadata": {},
      "outputs": [
        {
          "name": "stdout",
          "output_type": "stream",
          "text": [
            "Баланс: 1500\n",
            "Баланс: 1300\n",
            "Баланс: 1430.0000000000002\n",
            "Баланс: 715.0000000000001\n"
          ]
        }
      ],
      "source": [
        "class BankAccount:\n",
        "    def __init__(self, balance=0):\n",
        "        self.balance = balance\n",
        "    \n",
        "    def __iadd__(self, amount):\n",
        "        \"\"\" += \"\"\"\n",
        "        self.balance += amount\n",
        "        return self\n",
        "    \n",
        "    def __isub__(self, amount):\n",
        "        \"\"\" -= \"\"\"\n",
        "        self.balance -= amount\n",
        "        return self\n",
        "    \n",
        "    def __imul__(self, factor):\n",
        "        \"\"\" *= \"\"\"\n",
        "        self.balance *= factor\n",
        "        return self\n",
        "    \n",
        "    def __itruediv__(self, divisor):\n",
        "        \"\"\" /= \"\"\"\n",
        "        self.balance /= divisor\n",
        "        return self\n",
        "    \n",
        "    def __str__(self):\n",
        "        return f\"Баланс: {self.balance}\"\n",
        "\n",
        "account = BankAccount(1000)\n",
        "account += 500\n",
        "print(account)\n",
        "\n",
        "account -= 200\n",
        "print(account)\n",
        "\n",
        "account *= 1.1\n",
        "print(account)\n",
        "\n",
        "account /= 2\n",
        "print(account)"
      ]
    },
    {
      "cell_type": "markdown",
      "metadata": {},
      "source": [
        "#### Унарные операторы"
      ]
    },
    {
      "cell_type": "code",
      "execution_count": 32,
      "metadata": {},
      "outputs": [
        {
          "name": "stdout",
          "output_type": "stream",
          "text": [
            "Number(5)\n",
            "Number(-5)\n",
            "Number(5)\n",
            "Number(-6)\n"
          ]
        }
      ],
      "source": [
        "class Number:\n",
        "    def __init__(self, value):\n",
        "        self.value = value\n",
        "    \n",
        "    def __pos__(self):\n",
        "        \"\"\" + \"\"\"\n",
        "        return Number(+self.value)\n",
        "    \n",
        "    def __neg__(self):\n",
        "        \"\"\" - \"\"\"\n",
        "        return Number(-self.value)\n",
        "    \n",
        "    def __abs__(self):\n",
        "        \"\"\" abs() \"\"\"\n",
        "        return Number(abs(self.value))\n",
        "    \n",
        "    def __invert__(self):\n",
        "        \"\"\" ~ (побитовое НЕ)\"\"\"\n",
        "        return Number(~self.value)\n",
        "    \n",
        "    def __str__(self):\n",
        "        return f\"Number({self.value})\"\n",
        "\n",
        "num = Number(5)\n",
        "print(+num)\n",
        "print(-num)\n",
        "print(abs(num))\n",
        "print(~num)"
      ]
    },
    {
      "cell_type": "markdown",
      "metadata": {},
      "source": [
        "### Методы для эмуляции контейнеров"
      ]
    },
    {
      "cell_type": "markdown",
      "metadata": {},
      "source": [
        "#### Последовательности (списки, строки)"
      ]
    },
    {
      "cell_type": "code",
      "execution_count": 33,
      "metadata": {},
      "outputs": [
        {
          "name": "stdout",
          "output_type": "stream",
          "text": [
            "Song2\n",
            "4\n",
            "True\n",
            "Song1 New-Song Song4 \n",
            "Song4 New-Song Song1 "
          ]
        }
      ],
      "source": [
        "class Playlist:\n",
        "    def __init__(self, songs):\n",
        "        self.songs = list(songs)\n",
        "        self.current = 0\n",
        "    \n",
        "    def __getitem__(self, index):\n",
        "        \"\"\"Доступ по индексу: playlist[index]\"\"\"\n",
        "        return self.songs[index]\n",
        "    \n",
        "    def __setitem__(self, index, value):\n",
        "        \"\"\"Присвоение по индексу: playlist[index] = value\"\"\"\n",
        "        self.songs[index] = value\n",
        "    \n",
        "    def __delitem__(self, index):\n",
        "        \"\"\"Удаление по индексу: del playlist[index]\"\"\"\n",
        "        del self.songs[index]\n",
        "    \n",
        "    def __len__(self):\n",
        "        \"\"\"len(playlist)\"\"\"\n",
        "        return len(self.songs)\n",
        "    \n",
        "    def __contains__(self, item):\n",
        "        \"\"\"item in playlist\"\"\"\n",
        "        return item in self.songs\n",
        "    \n",
        "    def __reversed__(self):\n",
        "        \"\"\"reversed(playlist)\"\"\"\n",
        "        return Playlist(reversed(self.songs))\n",
        "    \n",
        "    def __iter__(self):\n",
        "        \"\"\"Итерация: for song in playlist\"\"\"\n",
        "        return iter(self.songs)\n",
        "    \n",
        "    def __str__(self):\n",
        "        return f\"Playlist({self.songs})\"\n",
        "\n",
        "playlist = Playlist([\"Song1\", \"Song2\", \"Song3\", \"Song4\"])\n",
        "\n",
        "print(playlist[1])\n",
        "print(len(playlist))\n",
        "print(\"Song2\" in playlist)\n",
        "\n",
        "playlist[1] = \"New-Song\"\n",
        "del playlist[2]\n",
        "\n",
        "for song in playlist:\n",
        "    print(song, end=\" \")\n",
        "\n",
        "print()\n",
        "\n",
        "for song in reversed(playlist):\n",
        "    print(song, end=\" \")"
      ]
    },
    {
      "cell_type": "markdown",
      "metadata": {},
      "source": [
        "#### Словари"
      ]
    },
    {
      "cell_type": "code",
      "execution_count": 34,
      "metadata": {},
      "outputs": [
        {
          "name": "stdout",
          "output_type": "stream",
          "text": [
            "localhost\n",
            "True\n",
            "2\n",
            "host: localhost\n",
            "port: 8080\n",
            "{'host': 'localhost'}\n"
          ]
        }
      ],
      "source": [
        "class Config:\n",
        "    def __init__(self):\n",
        "        self._data = {}\n",
        "    \n",
        "    def __getitem__(self, key):\n",
        "        \"\"\"Доступ по ключу: config['key']\"\"\"\n",
        "        return self._data[key]\n",
        "    \n",
        "    def __setitem__(self, key, value):\n",
        "        \"\"\"Присвоение по ключу: config['key'] = value\"\"\"\n",
        "        self._data[key] = value\n",
        "    \n",
        "    def __delitem__(self, key):\n",
        "        \"\"\"Удаление по ключу: del config['key']\"\"\"\n",
        "        del self._data[key]\n",
        "    \n",
        "    def __len__(self):\n",
        "        return len(self._data)\n",
        "    \n",
        "    def __iter__(self):\n",
        "        return iter(self._data)\n",
        "    \n",
        "    def __contains__(self, key):\n",
        "        return key in self._data\n",
        "    \n",
        "    def keys(self):\n",
        "        return self._data.keys()\n",
        "    \n",
        "    def values(self):\n",
        "        return self._data.values()\n",
        "    \n",
        "    def items(self):\n",
        "        return self._data.items()\n",
        "    \n",
        "    def __str__(self):\n",
        "        return str(self._data)\n",
        "\n",
        "config = Config()\n",
        "config[\"host\"] = \"localhost\"\n",
        "config[\"port\"] = 8080\n",
        "\n",
        "print(config[\"host\"])\n",
        "print(\"port\" in config)\n",
        "print(len(config))\n",
        "\n",
        "for key in config:\n",
        "    print(f\"{key}: {config[key]}\")\n",
        "\n",
        "del config[\"port\"]\n",
        "\n",
        "print(config)"
      ]
    },
    {
      "cell_type": "markdown",
      "metadata": {},
      "source": [
        "### Вызываемые объекты"
      ]
    },
    {
      "cell_type": "markdown",
      "metadata": {},
      "source": [
        "`__call__` - Позволяет использовать объект как функцию."
      ]
    },
    {
      "cell_type": "code",
      "execution_count": 35,
      "metadata": {},
      "outputs": [
        {
          "name": "stdout",
          "output_type": "stream",
          "text": [
            "36\n",
            "4\n"
          ]
        }
      ],
      "source": [
        "class Function:\n",
        "    def __init__(self, a, b, c):\n",
        "        self.a = a\n",
        "        self.b = b\n",
        "        self.c = c\n",
        "\n",
        "    def __call__(self, x):\n",
        "        return self.a * x ** 2 + 2 * self.b * x + self.c ** 2\n",
        "\n",
        "\n",
        "mul = Function(1, 1, 1)\n",
        "print(mul(5))\n",
        "print(mul(1))"
      ]
    },
    {
      "cell_type": "markdown",
      "metadata": {},
      "source": [
        "### Методы преобразования типов"
      ]
    },
    {
      "cell_type": "code",
      "execution_count": 36,
      "metadata": {},
      "outputs": [
        {
          "name": "stdout",
          "output_type": "stream",
          "text": [
            "2\n",
            "2.5\n",
            "True\n",
            "(2.5+0j)\n",
            "2\n",
            "0b10\n"
          ]
        }
      ],
      "source": [
        "class Fraction:\n",
        "    def __init__(self, numerator, denominator=1):\n",
        "        self.numerator = numerator\n",
        "        self.denominator = denominator\n",
        "    \n",
        "    def __int__(self):\n",
        "        \"\"\"int(fraction)\"\"\"\n",
        "        return self.numerator // self.denominator\n",
        "    \n",
        "    def __float__(self):\n",
        "        \"\"\"float(fraction)\"\"\"\n",
        "        return self.numerator / self.denominator\n",
        "    \n",
        "    def __bool__(self):\n",
        "        \"\"\"bool(fraction)\"\"\"\n",
        "        return self.numerator != 0\n",
        "    \n",
        "    def __complex__(self):\n",
        "        \"\"\"complex(fraction)\"\"\"\n",
        "        return complex(float(self))\n",
        "    \n",
        "    def __index__(self):\n",
        "        \"\"\"Для использования в срезах и bin(), hex(), oct()\"\"\"\n",
        "        return int(self)\n",
        "    \n",
        "    def __str__(self):\n",
        "        return f\"{self.numerator}/{self.denominator}\"\n",
        "    \n",
        "    \n",
        "fraction = Fraction(5, 2)\n",
        "\n",
        "print(int(fraction))\n",
        "print(float(fraction))\n",
        "print(bool(fraction))\n",
        "print(complex(fraction))\n",
        "\n",
        "# __index__ используется в срезах\n",
        "arr = [0, 1, 2, 3, 4, 5]\n",
        "print(arr[fraction])\n",
        "print(bin(fraction))"
      ]
    },
    {
      "cell_type": "markdown",
      "metadata": {},
      "source": [
        "Помимо рассмотренных выше существует множество других методов для переопрделения поведения встроенных функций."
      ]
    },
    {
      "cell_type": "markdown",
      "metadata": {
        "id": "7yYR81ljer0n"
      },
      "source": [
        "## Класс object"
      ]
    },
    {
      "cell_type": "markdown",
      "metadata": {
        "id": "7Fo6_4sNwnJf"
      },
      "source": [
        "Класс `object` является базовым классом для всех классов в Python."
      ]
    },
    {
      "cell_type": "code",
      "execution_count": 37,
      "metadata": {},
      "outputs": [
        {
          "name": "stdout",
          "output_type": "stream",
          "text": [
            "True\n",
            "True\n"
          ]
        }
      ],
      "source": [
        "# Явное наследование\n",
        "class MyClass(object):\n",
        "    pass\n",
        "\n",
        "# Неявное наследование (то же самое)\n",
        "class MyClass:\n",
        "    pass\n",
        "\n",
        "print(issubclass(MyClass, object))\n",
        "print(isinstance(MyClass(), object))"
      ]
    },
    {
      "cell_type": "markdown",
      "metadata": {},
      "source": [
        "Все встроенные типы также наследуются от `object`"
      ]
    },
    {
      "cell_type": "code",
      "execution_count": 38,
      "metadata": {},
      "outputs": [
        {
          "name": "stdout",
          "output_type": "stream",
          "text": [
            "True\n",
            "True\n",
            "True\n",
            "True\n"
          ]
        }
      ],
      "source": [
        "print(issubclass(int, object))\n",
        "print(issubclass(str, object))\n",
        "print(issubclass(list, object))\n",
        "print(issubclass(dict, object))"
      ]
    },
    {
      "cell_type": "markdown",
      "metadata": {},
      "source": [
        "Специальные методы класса `object`:\n",
        "\n",
        "- `__str__(self)` - Возвращает строковое представление объекта для пользователя. \n",
        "  - По умолчанию: `<__main__.ClassName object at 0x...>`\n",
        "- `__repr__(self)` - Возвращает однозначное строковое представление для отладки.\n",
        "  - По умолчанию: `<__main__.ClassName object at 0x...>`\n",
        "- `__format__(self, format_spec)` - Возвращает форматированное строковое представление.\n",
        "  - По умолчанию: Вызывает `__str__`\n",
        "- `__bytes__(self)` - Возвращает байтовое представление объекта.\n",
        "  - По умолчанию: Не реализован (вызывает `TypeError`)\n",
        "\n",
        "- `__eq__(self, other)` - Проверка равенства `==`.\n",
        "  - По умолчанию: Сравнение по идентичности (`is`)\n",
        "- `__ne__(self, other)` - Проверка неравенства `!=`.\n",
        "  - По умолчанию: Отрицание `__eq__`\n",
        "- `__hash__(self)` - Возвращает хеш-значение объекта.\n",
        "  - По умолчанию: На основе `id(obj)`\n",
        "- `__bool__(self)` - Логическое представление объекта\n",
        "  - По умолчанию: Всегда `True`\n",
        "\n",
        "- `__getattribute__(self, name)` - Вызывается при любом доступе к атрибуту\n",
        "  - По умолчанию: Ищет атрибут в `__dict__` и через MRO\n",
        "- `__getattr__(self, name)` - Вызывается когда атрибут не найден обычным способом\n",
        "  - По умолчанию: Вызывает `AttributeError`\n",
        "- `__setattr__(self, name, value)` - Вызывается при установке атрибута\n",
        "  - По умолчанию: Устанавливает значение в `__dict__`\n",
        "- `__delattr__(self, name)` - Вызывается при удалении атрибута\n",
        "  - По умолчанию: Удаляет атрибут из `__dict__`\n",
        "- `__dir__(self)` - Возвращает список атрибутов и методов\n",
        "  - По умолчанию: Список атрибутов из `__dict__` и классов MRO\n",
        "\n",
        "- `__get__(self, instance, owner)` - Получить значение дескриптора\n",
        "  - По умолчанию: Не реализован\n",
        "- `__set__(self, instance, value)` - Установить значение дескриптора\n",
        "  - По умолчанию: Не реализован\n",
        "- `__delete__(self, instance)` - Удалить дескриптор\n",
        "  - По умолчанию: Не реализован\n",
        "- `__set_name__(self, owner, name)` - Вызывается когда дескриптор присваивается классу\n",
        "  - По умолчанию: Ничего не делает\n",
        "\n",
        "- `__call__(self, *args, **kwargs)` - Позволяет вызывать объект как функцию\n",
        "  - По умолчанию: Не реализован (вызывает TypeError)\n",
        "- `__init__(self, *args, **kwargs)` - Инициализирует объект после создания\n",
        "  - По умолчанию: Ничего не делает\n",
        "- `__new__(cls, *args, **kwargs)` - Создает новый экземпляр класса\n",
        "  - По умолчанию: Создает экземпляр класса\n",
        "- `__init_subclass__(cls)` - Вызывается когда класс наследуется\n",
        "  - По умолчанию: Ничего не делает\n",
        "\n",
        "- `__del__(self)` - Финализатор (вызывается при удалении объекта)\n",
        "  - По умолчанию: Ничего не делает\n",
        "\n",
        "- `__enter__(self)` - Вход в контекст\n",
        "  - По умолчанию: Не реализован\n",
        "- `__exit__(self, exc_type, exc_val, exc_tb)` - Выход из контекста\n",
        "  - По умолчанию: Не реализован\n",
        "\n",
        "- `__getstate__(self)` - Возвращает состояние для pickle\n",
        "  - По умолчанию: Возвращает `__dict__`\n",
        "- `__setstate__(self, state)` - Восстанавливает состояние из pickle\n",
        "  - По умолчанию: Устанавливает `__dict__ = state`\n",
        "- `__reduce__(self)` - Возвращает информацию для pickle\n",
        "  - По умолчанию: Использует `__getstate__` и `__setstate__`\n",
        "- `__reduce_ex__(self, protocol)` - То же что `__reduce__` но с указанием протокола\n",
        "  - По умолчанию: Вызывает `__reduce__`\n",
        "\n",
        "- `__subclasshook__(cls, subclass)` - Проверка является ли класс подклассом\n",
        "  - По умолчанию: Не реализован\n",
        "- `__instancecheck__(cls, instance)` - Проверка является ли объект экземпляром\n",
        "  - По умолчанию: Не реализован\n",
        "\n",
        "- `__aawait__(self)` - Возвращает итератор для await\n",
        "  - По умолчанию: Не реализован\n",
        "- `__aiter__(self)` - Возвращает асинхронный итератор\n",
        "  - По умолчанию: Не реализован\n",
        "- `__anext__(self)` - Возвращает следующий элемент асинхронного итератора\n",
        "  - По умолчанию: Не реализован\n",
        "- `__aenter__(self)` - Асинхронный вход в контекст\n",
        "  - По умолчанию: Не реализован\n",
        "- `__aexit__(self, exc_type, exc_val, exc_tb)` - Асинхронный выход из контекста\n",
        "  - По умолчанию: Не реализован"
      ]
    },
    {
      "cell_type": "code",
      "execution_count": 39,
      "metadata": {},
      "outputs": [
        {
          "name": "stdout",
          "output_type": "stream",
          "text": [
            "<__main__.MyClass object at 0x000001152682F770>\n",
            "<__main__.MyClass object at 0x000001152682F770>\n",
            "True\n",
            "74397003639\n",
            "False\n"
          ]
        }
      ],
      "source": [
        "class MyClass:\n",
        "    pass\n",
        "\n",
        "my_class = MyClass()\n",
        "\n",
        "print(my_class)\n",
        "print(repr(my_class))\n",
        "print(bool(my_class))\n",
        "print(hash(my_class))\n",
        "print(my_class == MyClass())"
      ]
    }
  ],
  "metadata": {
    "colab": {
      "provenance": []
    },
    "kernelspec": {
      "display_name": "Python 3",
      "name": "python3"
    },
    "language_info": {
      "codemirror_mode": {
        "name": "ipython",
        "version": 3
      },
      "file_extension": ".py",
      "mimetype": "text/x-python",
      "name": "python",
      "nbconvert_exporter": "python",
      "pygments_lexer": "ipython3",
      "version": "3.13.5"
    }
  },
  "nbformat": 4,
  "nbformat_minor": 0
}
